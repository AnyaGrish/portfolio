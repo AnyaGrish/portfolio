{
 "cells": [
  {
   "cell_type": "markdown",
   "metadata": {},
   "source": [
    "# Исследование объявлений о продаже квартир\n",
    "\n",
    "В вашем распоряжении данные сервиса Яндекс.Недвижимость — архив объявлений о продаже квартир в Санкт-Петербурге и соседних населённых пунктов за несколько лет. Нужно научиться определять рыночную стоимость объектов недвижимости. Ваша задача — установить параметры. Это позволит построить автоматизированную систему: она отследит аномалии и мошенническую деятельность. \n",
    "\n",
    "По каждой квартире на продажу доступны два вида данных. Первые вписаны пользователем, вторые — получены автоматически на основе картографических данных. Например, расстояние до центра, аэропорта, ближайшего парка и водоёма. "
   ]
  },
  {
   "cell_type": "markdown",
   "metadata": {},
   "source": [
    "### Откройте файл с данными и изучите общую информацию. "
   ]
  },
  {
   "cell_type": "markdown",
   "metadata": {},
   "source": [
    "#### Импортируем библиотеку pandas, прочитаем файл и сохраним его в перменной data. Изучим данные: выведем первые 10 строк таблицы. "
   ]
  },
  {
   "cell_type": "code",
   "execution_count": 1,
   "metadata": {},
   "outputs": [],
   "source": [
    "import pandas as pd\n",
    "import numpy as np\n",
    "import matplotlib.pyplot as plt"
   ]
  },
  {
   "cell_type": "code",
   "execution_count": 2,
   "metadata": {},
   "outputs": [],
   "source": [
    "data = pd.read_csv('/datasets/real_estate_data.csv', delimiter='\\t')"
   ]
  },
  {
   "cell_type": "markdown",
   "metadata": {},
   "source": [
    "#### Изучим данные: выведем первые 10 строк. "
   ]
  },
  {
   "cell_type": "code",
   "execution_count": 3,
   "metadata": {},
   "outputs": [
    {
     "data": {
      "text/html": [
       "<div>\n",
       "<style scoped>\n",
       "    .dataframe tbody tr th:only-of-type {\n",
       "        vertical-align: middle;\n",
       "    }\n",
       "\n",
       "    .dataframe tbody tr th {\n",
       "        vertical-align: top;\n",
       "    }\n",
       "\n",
       "    .dataframe thead th {\n",
       "        text-align: right;\n",
       "    }\n",
       "</style>\n",
       "<table border=\"1\" class=\"dataframe\">\n",
       "  <thead>\n",
       "    <tr style=\"text-align: right;\">\n",
       "      <th></th>\n",
       "      <th>total_images</th>\n",
       "      <th>last_price</th>\n",
       "      <th>total_area</th>\n",
       "      <th>first_day_exposition</th>\n",
       "      <th>rooms</th>\n",
       "      <th>ceiling_height</th>\n",
       "      <th>floors_total</th>\n",
       "      <th>living_area</th>\n",
       "      <th>floor</th>\n",
       "      <th>is_apartment</th>\n",
       "      <th>studio</th>\n",
       "      <th>open_plan</th>\n",
       "      <th>kitchen_area</th>\n",
       "      <th>balcony</th>\n",
       "      <th>locality_name</th>\n",
       "      <th>airports_nearest</th>\n",
       "      <th>cityCenters_nearest</th>\n",
       "      <th>parks_around3000</th>\n",
       "      <th>parks_nearest</th>\n",
       "      <th>ponds_around3000</th>\n",
       "      <th>ponds_nearest</th>\n",
       "      <th>days_exposition</th>\n",
       "    </tr>\n",
       "  </thead>\n",
       "  <tbody>\n",
       "    <tr>\n",
       "      <th>0</th>\n",
       "      <td>20</td>\n",
       "      <td>13000000.0</td>\n",
       "      <td>108.00</td>\n",
       "      <td>2019-03-07T00:00:00</td>\n",
       "      <td>3</td>\n",
       "      <td>2.70</td>\n",
       "      <td>16.0</td>\n",
       "      <td>51.00</td>\n",
       "      <td>8</td>\n",
       "      <td>NaN</td>\n",
       "      <td>False</td>\n",
       "      <td>False</td>\n",
       "      <td>25.00</td>\n",
       "      <td>NaN</td>\n",
       "      <td>Санкт-Петербург</td>\n",
       "      <td>18863.0</td>\n",
       "      <td>16028.0</td>\n",
       "      <td>1.0</td>\n",
       "      <td>482.0</td>\n",
       "      <td>2.0</td>\n",
       "      <td>755.0</td>\n",
       "      <td>NaN</td>\n",
       "    </tr>\n",
       "    <tr>\n",
       "      <th>1</th>\n",
       "      <td>7</td>\n",
       "      <td>3350000.0</td>\n",
       "      <td>40.40</td>\n",
       "      <td>2018-12-04T00:00:00</td>\n",
       "      <td>1</td>\n",
       "      <td>NaN</td>\n",
       "      <td>11.0</td>\n",
       "      <td>18.60</td>\n",
       "      <td>1</td>\n",
       "      <td>NaN</td>\n",
       "      <td>False</td>\n",
       "      <td>False</td>\n",
       "      <td>11.00</td>\n",
       "      <td>2.0</td>\n",
       "      <td>посёлок Шушары</td>\n",
       "      <td>12817.0</td>\n",
       "      <td>18603.0</td>\n",
       "      <td>0.0</td>\n",
       "      <td>NaN</td>\n",
       "      <td>0.0</td>\n",
       "      <td>NaN</td>\n",
       "      <td>81.0</td>\n",
       "    </tr>\n",
       "    <tr>\n",
       "      <th>2</th>\n",
       "      <td>10</td>\n",
       "      <td>5196000.0</td>\n",
       "      <td>56.00</td>\n",
       "      <td>2015-08-20T00:00:00</td>\n",
       "      <td>2</td>\n",
       "      <td>NaN</td>\n",
       "      <td>5.0</td>\n",
       "      <td>34.30</td>\n",
       "      <td>4</td>\n",
       "      <td>NaN</td>\n",
       "      <td>False</td>\n",
       "      <td>False</td>\n",
       "      <td>8.30</td>\n",
       "      <td>0.0</td>\n",
       "      <td>Санкт-Петербург</td>\n",
       "      <td>21741.0</td>\n",
       "      <td>13933.0</td>\n",
       "      <td>1.0</td>\n",
       "      <td>90.0</td>\n",
       "      <td>2.0</td>\n",
       "      <td>574.0</td>\n",
       "      <td>558.0</td>\n",
       "    </tr>\n",
       "    <tr>\n",
       "      <th>3</th>\n",
       "      <td>0</td>\n",
       "      <td>64900000.0</td>\n",
       "      <td>159.00</td>\n",
       "      <td>2015-07-24T00:00:00</td>\n",
       "      <td>3</td>\n",
       "      <td>NaN</td>\n",
       "      <td>14.0</td>\n",
       "      <td>NaN</td>\n",
       "      <td>9</td>\n",
       "      <td>NaN</td>\n",
       "      <td>False</td>\n",
       "      <td>False</td>\n",
       "      <td>NaN</td>\n",
       "      <td>0.0</td>\n",
       "      <td>Санкт-Петербург</td>\n",
       "      <td>28098.0</td>\n",
       "      <td>6800.0</td>\n",
       "      <td>2.0</td>\n",
       "      <td>84.0</td>\n",
       "      <td>3.0</td>\n",
       "      <td>234.0</td>\n",
       "      <td>424.0</td>\n",
       "    </tr>\n",
       "    <tr>\n",
       "      <th>4</th>\n",
       "      <td>2</td>\n",
       "      <td>10000000.0</td>\n",
       "      <td>100.00</td>\n",
       "      <td>2018-06-19T00:00:00</td>\n",
       "      <td>2</td>\n",
       "      <td>3.03</td>\n",
       "      <td>14.0</td>\n",
       "      <td>32.00</td>\n",
       "      <td>13</td>\n",
       "      <td>NaN</td>\n",
       "      <td>False</td>\n",
       "      <td>False</td>\n",
       "      <td>41.00</td>\n",
       "      <td>NaN</td>\n",
       "      <td>Санкт-Петербург</td>\n",
       "      <td>31856.0</td>\n",
       "      <td>8098.0</td>\n",
       "      <td>2.0</td>\n",
       "      <td>112.0</td>\n",
       "      <td>1.0</td>\n",
       "      <td>48.0</td>\n",
       "      <td>121.0</td>\n",
       "    </tr>\n",
       "    <tr>\n",
       "      <th>5</th>\n",
       "      <td>10</td>\n",
       "      <td>2890000.0</td>\n",
       "      <td>30.40</td>\n",
       "      <td>2018-09-10T00:00:00</td>\n",
       "      <td>1</td>\n",
       "      <td>NaN</td>\n",
       "      <td>12.0</td>\n",
       "      <td>14.40</td>\n",
       "      <td>5</td>\n",
       "      <td>NaN</td>\n",
       "      <td>False</td>\n",
       "      <td>False</td>\n",
       "      <td>9.10</td>\n",
       "      <td>NaN</td>\n",
       "      <td>городской посёлок Янино-1</td>\n",
       "      <td>NaN</td>\n",
       "      <td>NaN</td>\n",
       "      <td>NaN</td>\n",
       "      <td>NaN</td>\n",
       "      <td>NaN</td>\n",
       "      <td>NaN</td>\n",
       "      <td>55.0</td>\n",
       "    </tr>\n",
       "    <tr>\n",
       "      <th>6</th>\n",
       "      <td>6</td>\n",
       "      <td>3700000.0</td>\n",
       "      <td>37.30</td>\n",
       "      <td>2017-11-02T00:00:00</td>\n",
       "      <td>1</td>\n",
       "      <td>NaN</td>\n",
       "      <td>26.0</td>\n",
       "      <td>10.60</td>\n",
       "      <td>6</td>\n",
       "      <td>NaN</td>\n",
       "      <td>False</td>\n",
       "      <td>False</td>\n",
       "      <td>14.40</td>\n",
       "      <td>1.0</td>\n",
       "      <td>посёлок Парголово</td>\n",
       "      <td>52996.0</td>\n",
       "      <td>19143.0</td>\n",
       "      <td>0.0</td>\n",
       "      <td>NaN</td>\n",
       "      <td>0.0</td>\n",
       "      <td>NaN</td>\n",
       "      <td>155.0</td>\n",
       "    </tr>\n",
       "    <tr>\n",
       "      <th>7</th>\n",
       "      <td>5</td>\n",
       "      <td>7915000.0</td>\n",
       "      <td>71.60</td>\n",
       "      <td>2019-04-18T00:00:00</td>\n",
       "      <td>2</td>\n",
       "      <td>NaN</td>\n",
       "      <td>24.0</td>\n",
       "      <td>NaN</td>\n",
       "      <td>22</td>\n",
       "      <td>NaN</td>\n",
       "      <td>False</td>\n",
       "      <td>False</td>\n",
       "      <td>18.90</td>\n",
       "      <td>2.0</td>\n",
       "      <td>Санкт-Петербург</td>\n",
       "      <td>23982.0</td>\n",
       "      <td>11634.0</td>\n",
       "      <td>0.0</td>\n",
       "      <td>NaN</td>\n",
       "      <td>0.0</td>\n",
       "      <td>NaN</td>\n",
       "      <td>NaN</td>\n",
       "    </tr>\n",
       "    <tr>\n",
       "      <th>8</th>\n",
       "      <td>20</td>\n",
       "      <td>2900000.0</td>\n",
       "      <td>33.16</td>\n",
       "      <td>2018-05-23T00:00:00</td>\n",
       "      <td>1</td>\n",
       "      <td>NaN</td>\n",
       "      <td>27.0</td>\n",
       "      <td>15.43</td>\n",
       "      <td>26</td>\n",
       "      <td>NaN</td>\n",
       "      <td>False</td>\n",
       "      <td>False</td>\n",
       "      <td>8.81</td>\n",
       "      <td>NaN</td>\n",
       "      <td>посёлок Мурино</td>\n",
       "      <td>NaN</td>\n",
       "      <td>NaN</td>\n",
       "      <td>NaN</td>\n",
       "      <td>NaN</td>\n",
       "      <td>NaN</td>\n",
       "      <td>NaN</td>\n",
       "      <td>189.0</td>\n",
       "    </tr>\n",
       "    <tr>\n",
       "      <th>9</th>\n",
       "      <td>18</td>\n",
       "      <td>5400000.0</td>\n",
       "      <td>61.00</td>\n",
       "      <td>2017-02-26T00:00:00</td>\n",
       "      <td>3</td>\n",
       "      <td>2.50</td>\n",
       "      <td>9.0</td>\n",
       "      <td>43.60</td>\n",
       "      <td>7</td>\n",
       "      <td>NaN</td>\n",
       "      <td>False</td>\n",
       "      <td>False</td>\n",
       "      <td>6.50</td>\n",
       "      <td>2.0</td>\n",
       "      <td>Санкт-Петербург</td>\n",
       "      <td>50898.0</td>\n",
       "      <td>15008.0</td>\n",
       "      <td>0.0</td>\n",
       "      <td>NaN</td>\n",
       "      <td>0.0</td>\n",
       "      <td>NaN</td>\n",
       "      <td>289.0</td>\n",
       "    </tr>\n",
       "  </tbody>\n",
       "</table>\n",
       "</div>"
      ],
      "text/plain": [
       "   total_images  last_price  total_area first_day_exposition  rooms  \\\n",
       "0            20  13000000.0      108.00  2019-03-07T00:00:00      3   \n",
       "1             7   3350000.0       40.40  2018-12-04T00:00:00      1   \n",
       "2            10   5196000.0       56.00  2015-08-20T00:00:00      2   \n",
       "3             0  64900000.0      159.00  2015-07-24T00:00:00      3   \n",
       "4             2  10000000.0      100.00  2018-06-19T00:00:00      2   \n",
       "5            10   2890000.0       30.40  2018-09-10T00:00:00      1   \n",
       "6             6   3700000.0       37.30  2017-11-02T00:00:00      1   \n",
       "7             5   7915000.0       71.60  2019-04-18T00:00:00      2   \n",
       "8            20   2900000.0       33.16  2018-05-23T00:00:00      1   \n",
       "9            18   5400000.0       61.00  2017-02-26T00:00:00      3   \n",
       "\n",
       "   ceiling_height  floors_total  living_area  floor is_apartment  studio  \\\n",
       "0            2.70          16.0        51.00      8          NaN   False   \n",
       "1             NaN          11.0        18.60      1          NaN   False   \n",
       "2             NaN           5.0        34.30      4          NaN   False   \n",
       "3             NaN          14.0          NaN      9          NaN   False   \n",
       "4            3.03          14.0        32.00     13          NaN   False   \n",
       "5             NaN          12.0        14.40      5          NaN   False   \n",
       "6             NaN          26.0        10.60      6          NaN   False   \n",
       "7             NaN          24.0          NaN     22          NaN   False   \n",
       "8             NaN          27.0        15.43     26          NaN   False   \n",
       "9            2.50           9.0        43.60      7          NaN   False   \n",
       "\n",
       "   open_plan  kitchen_area  balcony              locality_name  \\\n",
       "0      False         25.00      NaN            Санкт-Петербург   \n",
       "1      False         11.00      2.0             посёлок Шушары   \n",
       "2      False          8.30      0.0            Санкт-Петербург   \n",
       "3      False           NaN      0.0            Санкт-Петербург   \n",
       "4      False         41.00      NaN            Санкт-Петербург   \n",
       "5      False          9.10      NaN  городской посёлок Янино-1   \n",
       "6      False         14.40      1.0          посёлок Парголово   \n",
       "7      False         18.90      2.0            Санкт-Петербург   \n",
       "8      False          8.81      NaN             посёлок Мурино   \n",
       "9      False          6.50      2.0            Санкт-Петербург   \n",
       "\n",
       "   airports_nearest  cityCenters_nearest  parks_around3000  parks_nearest  \\\n",
       "0           18863.0              16028.0               1.0          482.0   \n",
       "1           12817.0              18603.0               0.0            NaN   \n",
       "2           21741.0              13933.0               1.0           90.0   \n",
       "3           28098.0               6800.0               2.0           84.0   \n",
       "4           31856.0               8098.0               2.0          112.0   \n",
       "5               NaN                  NaN               NaN            NaN   \n",
       "6           52996.0              19143.0               0.0            NaN   \n",
       "7           23982.0              11634.0               0.0            NaN   \n",
       "8               NaN                  NaN               NaN            NaN   \n",
       "9           50898.0              15008.0               0.0            NaN   \n",
       "\n",
       "   ponds_around3000  ponds_nearest  days_exposition  \n",
       "0               2.0          755.0              NaN  \n",
       "1               0.0            NaN             81.0  \n",
       "2               2.0          574.0            558.0  \n",
       "3               3.0          234.0            424.0  \n",
       "4               1.0           48.0            121.0  \n",
       "5               NaN            NaN             55.0  \n",
       "6               0.0            NaN            155.0  \n",
       "7               0.0            NaN              NaN  \n",
       "8               NaN            NaN            189.0  \n",
       "9               0.0            NaN            289.0  "
      ]
     },
     "execution_count": 3,
     "metadata": {},
     "output_type": "execute_result"
    }
   ],
   "source": [
    "pd.set_option('display.max_columns', None)\n",
    "data.head(10)"
   ]
  },
  {
   "cell_type": "markdown",
   "metadata": {},
   "source": [
    "Выведем 10 рандомных строк."
   ]
  },
  {
   "cell_type": "code",
   "execution_count": 4,
   "metadata": {},
   "outputs": [
    {
     "data": {
      "text/html": [
       "<div>\n",
       "<style scoped>\n",
       "    .dataframe tbody tr th:only-of-type {\n",
       "        vertical-align: middle;\n",
       "    }\n",
       "\n",
       "    .dataframe tbody tr th {\n",
       "        vertical-align: top;\n",
       "    }\n",
       "\n",
       "    .dataframe thead th {\n",
       "        text-align: right;\n",
       "    }\n",
       "</style>\n",
       "<table border=\"1\" class=\"dataframe\">\n",
       "  <thead>\n",
       "    <tr style=\"text-align: right;\">\n",
       "      <th></th>\n",
       "      <th>total_images</th>\n",
       "      <th>last_price</th>\n",
       "      <th>total_area</th>\n",
       "      <th>first_day_exposition</th>\n",
       "      <th>rooms</th>\n",
       "      <th>ceiling_height</th>\n",
       "      <th>floors_total</th>\n",
       "      <th>living_area</th>\n",
       "      <th>floor</th>\n",
       "      <th>is_apartment</th>\n",
       "      <th>studio</th>\n",
       "      <th>open_plan</th>\n",
       "      <th>kitchen_area</th>\n",
       "      <th>balcony</th>\n",
       "      <th>locality_name</th>\n",
       "      <th>airports_nearest</th>\n",
       "      <th>cityCenters_nearest</th>\n",
       "      <th>parks_around3000</th>\n",
       "      <th>parks_nearest</th>\n",
       "      <th>ponds_around3000</th>\n",
       "      <th>ponds_nearest</th>\n",
       "      <th>days_exposition</th>\n",
       "    </tr>\n",
       "  </thead>\n",
       "  <tbody>\n",
       "    <tr>\n",
       "      <th>5576</th>\n",
       "      <td>0</td>\n",
       "      <td>6680000.0</td>\n",
       "      <td>47.0</td>\n",
       "      <td>2017-12-11T00:00:00</td>\n",
       "      <td>1</td>\n",
       "      <td>2.80</td>\n",
       "      <td>25.0</td>\n",
       "      <td>29.0</td>\n",
       "      <td>3</td>\n",
       "      <td>NaN</td>\n",
       "      <td>False</td>\n",
       "      <td>False</td>\n",
       "      <td>10.0</td>\n",
       "      <td>1.0</td>\n",
       "      <td>Санкт-Петербург</td>\n",
       "      <td>36421.0</td>\n",
       "      <td>9176.0</td>\n",
       "      <td>1.0</td>\n",
       "      <td>805.0</td>\n",
       "      <td>0.0</td>\n",
       "      <td>NaN</td>\n",
       "      <td>199.0</td>\n",
       "    </tr>\n",
       "    <tr>\n",
       "      <th>15081</th>\n",
       "      <td>20</td>\n",
       "      <td>9500000.0</td>\n",
       "      <td>79.0</td>\n",
       "      <td>2019-03-21T00:00:00</td>\n",
       "      <td>3</td>\n",
       "      <td>2.65</td>\n",
       "      <td>16.0</td>\n",
       "      <td>50.0</td>\n",
       "      <td>8</td>\n",
       "      <td>NaN</td>\n",
       "      <td>False</td>\n",
       "      <td>False</td>\n",
       "      <td>16.0</td>\n",
       "      <td>1.0</td>\n",
       "      <td>Санкт-Петербург</td>\n",
       "      <td>29724.0</td>\n",
       "      <td>11493.0</td>\n",
       "      <td>2.0</td>\n",
       "      <td>464.0</td>\n",
       "      <td>1.0</td>\n",
       "      <td>577.0</td>\n",
       "      <td>NaN</td>\n",
       "    </tr>\n",
       "    <tr>\n",
       "      <th>17862</th>\n",
       "      <td>13</td>\n",
       "      <td>7800000.0</td>\n",
       "      <td>57.0</td>\n",
       "      <td>2017-07-27T00:00:00</td>\n",
       "      <td>2</td>\n",
       "      <td>2.50</td>\n",
       "      <td>4.0</td>\n",
       "      <td>28.3</td>\n",
       "      <td>2</td>\n",
       "      <td>NaN</td>\n",
       "      <td>False</td>\n",
       "      <td>False</td>\n",
       "      <td>8.9</td>\n",
       "      <td>4.0</td>\n",
       "      <td>Санкт-Петербург</td>\n",
       "      <td>40329.0</td>\n",
       "      <td>12032.0</td>\n",
       "      <td>2.0</td>\n",
       "      <td>363.0</td>\n",
       "      <td>0.0</td>\n",
       "      <td>NaN</td>\n",
       "      <td>197.0</td>\n",
       "    </tr>\n",
       "    <tr>\n",
       "      <th>19231</th>\n",
       "      <td>15</td>\n",
       "      <td>6550000.0</td>\n",
       "      <td>78.0</td>\n",
       "      <td>2017-01-30T00:00:00</td>\n",
       "      <td>3</td>\n",
       "      <td>2.60</td>\n",
       "      <td>16.0</td>\n",
       "      <td>47.0</td>\n",
       "      <td>2</td>\n",
       "      <td>NaN</td>\n",
       "      <td>False</td>\n",
       "      <td>False</td>\n",
       "      <td>14.0</td>\n",
       "      <td>NaN</td>\n",
       "      <td>Санкт-Петербург</td>\n",
       "      <td>16403.0</td>\n",
       "      <td>11646.0</td>\n",
       "      <td>0.0</td>\n",
       "      <td>NaN</td>\n",
       "      <td>1.0</td>\n",
       "      <td>1219.0</td>\n",
       "      <td>660.0</td>\n",
       "    </tr>\n",
       "    <tr>\n",
       "      <th>53</th>\n",
       "      <td>7</td>\n",
       "      <td>4300000.0</td>\n",
       "      <td>39.1</td>\n",
       "      <td>2017-11-10T00:00:00</td>\n",
       "      <td>1</td>\n",
       "      <td>NaN</td>\n",
       "      <td>25.0</td>\n",
       "      <td>15.4</td>\n",
       "      <td>13</td>\n",
       "      <td>NaN</td>\n",
       "      <td>False</td>\n",
       "      <td>False</td>\n",
       "      <td>15.5</td>\n",
       "      <td>2.0</td>\n",
       "      <td>посёлок Парголово</td>\n",
       "      <td>52611.0</td>\n",
       "      <td>18783.0</td>\n",
       "      <td>0.0</td>\n",
       "      <td>NaN</td>\n",
       "      <td>0.0</td>\n",
       "      <td>NaN</td>\n",
       "      <td>6.0</td>\n",
       "    </tr>\n",
       "    <tr>\n",
       "      <th>14921</th>\n",
       "      <td>5</td>\n",
       "      <td>9000000.0</td>\n",
       "      <td>141.3</td>\n",
       "      <td>2017-06-09T00:00:00</td>\n",
       "      <td>5</td>\n",
       "      <td>NaN</td>\n",
       "      <td>6.0</td>\n",
       "      <td>94.1</td>\n",
       "      <td>5</td>\n",
       "      <td>NaN</td>\n",
       "      <td>False</td>\n",
       "      <td>False</td>\n",
       "      <td>22.4</td>\n",
       "      <td>0.0</td>\n",
       "      <td>Санкт-Петербург</td>\n",
       "      <td>20835.0</td>\n",
       "      <td>3576.0</td>\n",
       "      <td>1.0</td>\n",
       "      <td>653.0</td>\n",
       "      <td>1.0</td>\n",
       "      <td>374.0</td>\n",
       "      <td>4.0</td>\n",
       "    </tr>\n",
       "    <tr>\n",
       "      <th>11645</th>\n",
       "      <td>14</td>\n",
       "      <td>5100000.0</td>\n",
       "      <td>42.2</td>\n",
       "      <td>2015-09-07T00:00:00</td>\n",
       "      <td>1</td>\n",
       "      <td>NaN</td>\n",
       "      <td>23.0</td>\n",
       "      <td>18.3</td>\n",
       "      <td>21</td>\n",
       "      <td>False</td>\n",
       "      <td>False</td>\n",
       "      <td>False</td>\n",
       "      <td>11.2</td>\n",
       "      <td>0.0</td>\n",
       "      <td>Санкт-Петербург</td>\n",
       "      <td>37625.0</td>\n",
       "      <td>14153.0</td>\n",
       "      <td>0.0</td>\n",
       "      <td>NaN</td>\n",
       "      <td>0.0</td>\n",
       "      <td>NaN</td>\n",
       "      <td>300.0</td>\n",
       "    </tr>\n",
       "    <tr>\n",
       "      <th>729</th>\n",
       "      <td>12</td>\n",
       "      <td>2800000.0</td>\n",
       "      <td>44.0</td>\n",
       "      <td>2019-01-24T00:00:00</td>\n",
       "      <td>2</td>\n",
       "      <td>2.60</td>\n",
       "      <td>4.0</td>\n",
       "      <td>29.0</td>\n",
       "      <td>4</td>\n",
       "      <td>NaN</td>\n",
       "      <td>False</td>\n",
       "      <td>False</td>\n",
       "      <td>5.0</td>\n",
       "      <td>1.0</td>\n",
       "      <td>Гатчина</td>\n",
       "      <td>NaN</td>\n",
       "      <td>NaN</td>\n",
       "      <td>NaN</td>\n",
       "      <td>NaN</td>\n",
       "      <td>NaN</td>\n",
       "      <td>NaN</td>\n",
       "      <td>64.0</td>\n",
       "    </tr>\n",
       "    <tr>\n",
       "      <th>8774</th>\n",
       "      <td>15</td>\n",
       "      <td>4380000.0</td>\n",
       "      <td>39.4</td>\n",
       "      <td>2017-12-20T00:00:00</td>\n",
       "      <td>1</td>\n",
       "      <td>2.60</td>\n",
       "      <td>10.0</td>\n",
       "      <td>16.9</td>\n",
       "      <td>6</td>\n",
       "      <td>NaN</td>\n",
       "      <td>False</td>\n",
       "      <td>False</td>\n",
       "      <td>10.2</td>\n",
       "      <td>2.0</td>\n",
       "      <td>Санкт-Петербург</td>\n",
       "      <td>20504.0</td>\n",
       "      <td>22216.0</td>\n",
       "      <td>0.0</td>\n",
       "      <td>NaN</td>\n",
       "      <td>0.0</td>\n",
       "      <td>NaN</td>\n",
       "      <td>45.0</td>\n",
       "    </tr>\n",
       "    <tr>\n",
       "      <th>19526</th>\n",
       "      <td>15</td>\n",
       "      <td>3400000.0</td>\n",
       "      <td>42.6</td>\n",
       "      <td>2018-11-25T00:00:00</td>\n",
       "      <td>1</td>\n",
       "      <td>2.60</td>\n",
       "      <td>10.0</td>\n",
       "      <td>17.6</td>\n",
       "      <td>4</td>\n",
       "      <td>NaN</td>\n",
       "      <td>False</td>\n",
       "      <td>False</td>\n",
       "      <td>8.6</td>\n",
       "      <td>NaN</td>\n",
       "      <td>Колпино</td>\n",
       "      <td>28052.0</td>\n",
       "      <td>33839.0</td>\n",
       "      <td>0.0</td>\n",
       "      <td>NaN</td>\n",
       "      <td>0.0</td>\n",
       "      <td>NaN</td>\n",
       "      <td>12.0</td>\n",
       "    </tr>\n",
       "  </tbody>\n",
       "</table>\n",
       "</div>"
      ],
      "text/plain": [
       "       total_images  last_price  total_area first_day_exposition  rooms  \\\n",
       "5576              0   6680000.0        47.0  2017-12-11T00:00:00      1   \n",
       "15081            20   9500000.0        79.0  2019-03-21T00:00:00      3   \n",
       "17862            13   7800000.0        57.0  2017-07-27T00:00:00      2   \n",
       "19231            15   6550000.0        78.0  2017-01-30T00:00:00      3   \n",
       "53                7   4300000.0        39.1  2017-11-10T00:00:00      1   \n",
       "14921             5   9000000.0       141.3  2017-06-09T00:00:00      5   \n",
       "11645            14   5100000.0        42.2  2015-09-07T00:00:00      1   \n",
       "729              12   2800000.0        44.0  2019-01-24T00:00:00      2   \n",
       "8774             15   4380000.0        39.4  2017-12-20T00:00:00      1   \n",
       "19526            15   3400000.0        42.6  2018-11-25T00:00:00      1   \n",
       "\n",
       "       ceiling_height  floors_total  living_area  floor is_apartment  studio  \\\n",
       "5576             2.80          25.0         29.0      3          NaN   False   \n",
       "15081            2.65          16.0         50.0      8          NaN   False   \n",
       "17862            2.50           4.0         28.3      2          NaN   False   \n",
       "19231            2.60          16.0         47.0      2          NaN   False   \n",
       "53                NaN          25.0         15.4     13          NaN   False   \n",
       "14921             NaN           6.0         94.1      5          NaN   False   \n",
       "11645             NaN          23.0         18.3     21        False   False   \n",
       "729              2.60           4.0         29.0      4          NaN   False   \n",
       "8774             2.60          10.0         16.9      6          NaN   False   \n",
       "19526            2.60          10.0         17.6      4          NaN   False   \n",
       "\n",
       "       open_plan  kitchen_area  balcony      locality_name  airports_nearest  \\\n",
       "5576       False          10.0      1.0    Санкт-Петербург           36421.0   \n",
       "15081      False          16.0      1.0    Санкт-Петербург           29724.0   \n",
       "17862      False           8.9      4.0    Санкт-Петербург           40329.0   \n",
       "19231      False          14.0      NaN    Санкт-Петербург           16403.0   \n",
       "53         False          15.5      2.0  посёлок Парголово           52611.0   \n",
       "14921      False          22.4      0.0    Санкт-Петербург           20835.0   \n",
       "11645      False          11.2      0.0    Санкт-Петербург           37625.0   \n",
       "729        False           5.0      1.0            Гатчина               NaN   \n",
       "8774       False          10.2      2.0    Санкт-Петербург           20504.0   \n",
       "19526      False           8.6      NaN            Колпино           28052.0   \n",
       "\n",
       "       cityCenters_nearest  parks_around3000  parks_nearest  ponds_around3000  \\\n",
       "5576                9176.0               1.0          805.0               0.0   \n",
       "15081              11493.0               2.0          464.0               1.0   \n",
       "17862              12032.0               2.0          363.0               0.0   \n",
       "19231              11646.0               0.0            NaN               1.0   \n",
       "53                 18783.0               0.0            NaN               0.0   \n",
       "14921               3576.0               1.0          653.0               1.0   \n",
       "11645              14153.0               0.0            NaN               0.0   \n",
       "729                    NaN               NaN            NaN               NaN   \n",
       "8774               22216.0               0.0            NaN               0.0   \n",
       "19526              33839.0               0.0            NaN               0.0   \n",
       "\n",
       "       ponds_nearest  days_exposition  \n",
       "5576             NaN            199.0  \n",
       "15081          577.0              NaN  \n",
       "17862            NaN            197.0  \n",
       "19231         1219.0            660.0  \n",
       "53               NaN              6.0  \n",
       "14921          374.0              4.0  \n",
       "11645            NaN            300.0  \n",
       "729              NaN             64.0  \n",
       "8774             NaN             45.0  \n",
       "19526            NaN             12.0  "
      ]
     },
     "execution_count": 4,
     "metadata": {},
     "output_type": "execute_result"
    }
   ],
   "source": [
    "data.sample(10)"
   ]
  },
  {
   "cell_type": "markdown",
   "metadata": {},
   "source": [
    "После изучения первых и рандомных 10 строк из таблицы видно, что много пропусков в столбце is_apartment, balcony, ceiling_height, parks_nearest, ponds_nearest."
   ]
  },
  {
   "cell_type": "markdown",
   "metadata": {},
   "source": [
    "Выведем основную информацию о датафрейме."
   ]
  },
  {
   "cell_type": "code",
   "execution_count": 5,
   "metadata": {},
   "outputs": [
    {
     "name": "stdout",
     "output_type": "stream",
     "text": [
      "<class 'pandas.core.frame.DataFrame'>\n",
      "RangeIndex: 23699 entries, 0 to 23698\n",
      "Data columns (total 22 columns):\n",
      " #   Column                Non-Null Count  Dtype  \n",
      "---  ------                --------------  -----  \n",
      " 0   total_images          23699 non-null  int64  \n",
      " 1   last_price            23699 non-null  float64\n",
      " 2   total_area            23699 non-null  float64\n",
      " 3   first_day_exposition  23699 non-null  object \n",
      " 4   rooms                 23699 non-null  int64  \n",
      " 5   ceiling_height        14504 non-null  float64\n",
      " 6   floors_total          23613 non-null  float64\n",
      " 7   living_area           21796 non-null  float64\n",
      " 8   floor                 23699 non-null  int64  \n",
      " 9   is_apartment          2775 non-null   object \n",
      " 10  studio                23699 non-null  bool   \n",
      " 11  open_plan             23699 non-null  bool   \n",
      " 12  kitchen_area          21421 non-null  float64\n",
      " 13  balcony               12180 non-null  float64\n",
      " 14  locality_name         23650 non-null  object \n",
      " 15  airports_nearest      18157 non-null  float64\n",
      " 16  cityCenters_nearest   18180 non-null  float64\n",
      " 17  parks_around3000      18181 non-null  float64\n",
      " 18  parks_nearest         8079 non-null   float64\n",
      " 19  ponds_around3000      18181 non-null  float64\n",
      " 20  ponds_nearest         9110 non-null   float64\n",
      " 21  days_exposition       20518 non-null  float64\n",
      "dtypes: bool(2), float64(14), int64(3), object(3)\n",
      "memory usage: 3.7+ MB\n"
     ]
    }
   ],
   "source": [
    "data.info()"
   ]
  },
  {
   "cell_type": "markdown",
   "metadata": {},
   "source": [
    "Итак, в таблице 22 столбца с разными типами данных. Количество значений в столбцах различается. Значит, в данных есть пропущенные значения."
   ]
  },
  {
   "cell_type": "markdown",
   "metadata": {},
   "source": [
    "#### Построим общую гистограмму для всех числовых столбцов таблицы"
   ]
  },
  {
   "cell_type": "code",
   "execution_count": 6,
   "metadata": {},
   "outputs": [
    {
     "data": {
      "image/png": "[encoded data removed]",
      "text/plain": [
       "<Figure size 1080x1440 with 20 Axes>"
      ]
     },
     "metadata": {
      "needs_background": "light"
     },
     "output_type": "display_data"
    }
   ],
   "source": [
    "data.hist(figsize=(15, 20));"
   ]
  },
  {
   "cell_type": "markdown",
   "metadata": {},
   "source": [
    "### Предобработка данных"
   ]
  },
  {
   "cell_type": "markdown",
   "metadata": {},
   "source": [
    "####  Найдем и изучим пропущенные значения в столбцах"
   ]
  },
  {
   "cell_type": "markdown",
   "metadata": {},
   "source": [
    "##### Определим, в каких столбцах есть пропуски"
   ]
  },
  {
   "cell_type": "markdown",
   "metadata": {},
   "source": [
    "Выведем отсортированное по убыванию количество пропущенных значений для каждого столбца. "
   ]
  },
  {
   "cell_type": "code",
   "execution_count": 7,
   "metadata": {},
   "outputs": [
    {
     "data": {
      "text/plain": [
       "is_apartment            20924\n",
       "parks_nearest           15620\n",
       "ponds_nearest           14589\n",
       "balcony                 11519\n",
       "ceiling_height           9195\n",
       "airports_nearest         5542\n",
       "cityCenters_nearest      5519\n",
       "ponds_around3000         5518\n",
       "parks_around3000         5518\n",
       "days_exposition          3181\n",
       "kitchen_area             2278\n",
       "living_area              1903\n",
       "floors_total               86\n",
       "locality_name              49\n",
       "total_images                0\n",
       "last_price                  0\n",
       "studio                      0\n",
       "floor                       0\n",
       "rooms                       0\n",
       "first_day_exposition        0\n",
       "total_area                  0\n",
       "open_plan                   0\n",
       "dtype: int64"
      ]
     },
     "execution_count": 7,
     "metadata": {},
     "output_type": "execute_result"
    }
   ],
   "source": [
    "data.isna().sum().sort_values(ascending=False)"
   ]
  },
  {
   "cell_type": "code",
   "execution_count": 8,
   "metadata": {},
   "outputs": [
    {
     "data": {
      "text/html": [
       "<div>\n",
       "<style scoped>\n",
       "    .dataframe tbody tr th:only-of-type {\n",
       "        vertical-align: middle;\n",
       "    }\n",
       "\n",
       "    .dataframe tbody tr th {\n",
       "        vertical-align: top;\n",
       "    }\n",
       "\n",
       "    .dataframe thead th {\n",
       "        text-align: right;\n",
       "    }\n",
       "</style>\n",
       "<table border=\"1\" class=\"dataframe\">\n",
       "  <thead>\n",
       "    <tr style=\"text-align: right;\">\n",
       "      <th></th>\n",
       "      <th>total_images</th>\n",
       "      <th>last_price</th>\n",
       "      <th>total_area</th>\n",
       "      <th>first_day_exposition</th>\n",
       "      <th>rooms</th>\n",
       "      <th>ceiling_height</th>\n",
       "      <th>floors_total</th>\n",
       "      <th>living_area</th>\n",
       "      <th>floor</th>\n",
       "      <th>is_apartment</th>\n",
       "      <th>studio</th>\n",
       "      <th>open_plan</th>\n",
       "      <th>kitchen_area</th>\n",
       "      <th>balcony</th>\n",
       "      <th>locality_name</th>\n",
       "      <th>airports_nearest</th>\n",
       "      <th>cityCenters_nearest</th>\n",
       "      <th>parks_around3000</th>\n",
       "      <th>parks_nearest</th>\n",
       "      <th>ponds_around3000</th>\n",
       "      <th>ponds_nearest</th>\n",
       "      <th>days_exposition</th>\n",
       "    </tr>\n",
       "  </thead>\n",
       "  <tbody>\n",
       "    <tr>\n",
       "      <th>0</th>\n",
       "      <td>20</td>\n",
       "      <td>13000000.0</td>\n",
       "      <td>108.00</td>\n",
       "      <td>2019-03-07T00:00:00</td>\n",
       "      <td>3</td>\n",
       "      <td>2.70</td>\n",
       "      <td>16.0</td>\n",
       "      <td>51.00</td>\n",
       "      <td>8</td>\n",
       "      <td>NaN</td>\n",
       "      <td>False</td>\n",
       "      <td>False</td>\n",
       "      <td>25.00</td>\n",
       "      <td>NaN</td>\n",
       "      <td>Санкт-Петербург</td>\n",
       "      <td>18863.0</td>\n",
       "      <td>16028.0</td>\n",
       "      <td>1.0</td>\n",
       "      <td>482.0</td>\n",
       "      <td>2.0</td>\n",
       "      <td>755.0</td>\n",
       "      <td>NaN</td>\n",
       "    </tr>\n",
       "    <tr>\n",
       "      <th>1</th>\n",
       "      <td>7</td>\n",
       "      <td>3350000.0</td>\n",
       "      <td>40.40</td>\n",
       "      <td>2018-12-04T00:00:00</td>\n",
       "      <td>1</td>\n",
       "      <td>NaN</td>\n",
       "      <td>11.0</td>\n",
       "      <td>18.60</td>\n",
       "      <td>1</td>\n",
       "      <td>NaN</td>\n",
       "      <td>False</td>\n",
       "      <td>False</td>\n",
       "      <td>11.00</td>\n",
       "      <td>2.0</td>\n",
       "      <td>посёлок Шушары</td>\n",
       "      <td>12817.0</td>\n",
       "      <td>18603.0</td>\n",
       "      <td>0.0</td>\n",
       "      <td>NaN</td>\n",
       "      <td>0.0</td>\n",
       "      <td>NaN</td>\n",
       "      <td>81.0</td>\n",
       "    </tr>\n",
       "    <tr>\n",
       "      <th>2</th>\n",
       "      <td>10</td>\n",
       "      <td>5196000.0</td>\n",
       "      <td>56.00</td>\n",
       "      <td>2015-08-20T00:00:00</td>\n",
       "      <td>2</td>\n",
       "      <td>NaN</td>\n",
       "      <td>5.0</td>\n",
       "      <td>34.30</td>\n",
       "      <td>4</td>\n",
       "      <td>NaN</td>\n",
       "      <td>False</td>\n",
       "      <td>False</td>\n",
       "      <td>8.30</td>\n",
       "      <td>0.0</td>\n",
       "      <td>Санкт-Петербург</td>\n",
       "      <td>21741.0</td>\n",
       "      <td>13933.0</td>\n",
       "      <td>1.0</td>\n",
       "      <td>90.0</td>\n",
       "      <td>2.0</td>\n",
       "      <td>574.0</td>\n",
       "      <td>558.0</td>\n",
       "    </tr>\n",
       "    <tr>\n",
       "      <th>3</th>\n",
       "      <td>0</td>\n",
       "      <td>64900000.0</td>\n",
       "      <td>159.00</td>\n",
       "      <td>2015-07-24T00:00:00</td>\n",
       "      <td>3</td>\n",
       "      <td>NaN</td>\n",
       "      <td>14.0</td>\n",
       "      <td>NaN</td>\n",
       "      <td>9</td>\n",
       "      <td>NaN</td>\n",
       "      <td>False</td>\n",
       "      <td>False</td>\n",
       "      <td>NaN</td>\n",
       "      <td>0.0</td>\n",
       "      <td>Санкт-Петербург</td>\n",
       "      <td>28098.0</td>\n",
       "      <td>6800.0</td>\n",
       "      <td>2.0</td>\n",
       "      <td>84.0</td>\n",
       "      <td>3.0</td>\n",
       "      <td>234.0</td>\n",
       "      <td>424.0</td>\n",
       "    </tr>\n",
       "    <tr>\n",
       "      <th>4</th>\n",
       "      <td>2</td>\n",
       "      <td>10000000.0</td>\n",
       "      <td>100.00</td>\n",
       "      <td>2018-06-19T00:00:00</td>\n",
       "      <td>2</td>\n",
       "      <td>3.03</td>\n",
       "      <td>14.0</td>\n",
       "      <td>32.00</td>\n",
       "      <td>13</td>\n",
       "      <td>NaN</td>\n",
       "      <td>False</td>\n",
       "      <td>False</td>\n",
       "      <td>41.00</td>\n",
       "      <td>NaN</td>\n",
       "      <td>Санкт-Петербург</td>\n",
       "      <td>31856.0</td>\n",
       "      <td>8098.0</td>\n",
       "      <td>2.0</td>\n",
       "      <td>112.0</td>\n",
       "      <td>1.0</td>\n",
       "      <td>48.0</td>\n",
       "      <td>121.0</td>\n",
       "    </tr>\n",
       "    <tr>\n",
       "      <th>5</th>\n",
       "      <td>10</td>\n",
       "      <td>2890000.0</td>\n",
       "      <td>30.40</td>\n",
       "      <td>2018-09-10T00:00:00</td>\n",
       "      <td>1</td>\n",
       "      <td>NaN</td>\n",
       "      <td>12.0</td>\n",
       "      <td>14.40</td>\n",
       "      <td>5</td>\n",
       "      <td>NaN</td>\n",
       "      <td>False</td>\n",
       "      <td>False</td>\n",
       "      <td>9.10</td>\n",
       "      <td>NaN</td>\n",
       "      <td>городской посёлок Янино-1</td>\n",
       "      <td>NaN</td>\n",
       "      <td>NaN</td>\n",
       "      <td>NaN</td>\n",
       "      <td>NaN</td>\n",
       "      <td>NaN</td>\n",
       "      <td>NaN</td>\n",
       "      <td>55.0</td>\n",
       "    </tr>\n",
       "    <tr>\n",
       "      <th>6</th>\n",
       "      <td>6</td>\n",
       "      <td>3700000.0</td>\n",
       "      <td>37.30</td>\n",
       "      <td>2017-11-02T00:00:00</td>\n",
       "      <td>1</td>\n",
       "      <td>NaN</td>\n",
       "      <td>26.0</td>\n",
       "      <td>10.60</td>\n",
       "      <td>6</td>\n",
       "      <td>NaN</td>\n",
       "      <td>False</td>\n",
       "      <td>False</td>\n",
       "      <td>14.40</td>\n",
       "      <td>1.0</td>\n",
       "      <td>посёлок Парголово</td>\n",
       "      <td>52996.0</td>\n",
       "      <td>19143.0</td>\n",
       "      <td>0.0</td>\n",
       "      <td>NaN</td>\n",
       "      <td>0.0</td>\n",
       "      <td>NaN</td>\n",
       "      <td>155.0</td>\n",
       "    </tr>\n",
       "    <tr>\n",
       "      <th>7</th>\n",
       "      <td>5</td>\n",
       "      <td>7915000.0</td>\n",
       "      <td>71.60</td>\n",
       "      <td>2019-04-18T00:00:00</td>\n",
       "      <td>2</td>\n",
       "      <td>NaN</td>\n",
       "      <td>24.0</td>\n",
       "      <td>NaN</td>\n",
       "      <td>22</td>\n",
       "      <td>NaN</td>\n",
       "      <td>False</td>\n",
       "      <td>False</td>\n",
       "      <td>18.90</td>\n",
       "      <td>2.0</td>\n",
       "      <td>Санкт-Петербург</td>\n",
       "      <td>23982.0</td>\n",
       "      <td>11634.0</td>\n",
       "      <td>0.0</td>\n",
       "      <td>NaN</td>\n",
       "      <td>0.0</td>\n",
       "      <td>NaN</td>\n",
       "      <td>NaN</td>\n",
       "    </tr>\n",
       "    <tr>\n",
       "      <th>8</th>\n",
       "      <td>20</td>\n",
       "      <td>2900000.0</td>\n",
       "      <td>33.16</td>\n",
       "      <td>2018-05-23T00:00:00</td>\n",
       "      <td>1</td>\n",
       "      <td>NaN</td>\n",
       "      <td>27.0</td>\n",
       "      <td>15.43</td>\n",
       "      <td>26</td>\n",
       "      <td>NaN</td>\n",
       "      <td>False</td>\n",
       "      <td>False</td>\n",
       "      <td>8.81</td>\n",
       "      <td>NaN</td>\n",
       "      <td>посёлок Мурино</td>\n",
       "      <td>NaN</td>\n",
       "      <td>NaN</td>\n",
       "      <td>NaN</td>\n",
       "      <td>NaN</td>\n",
       "      <td>NaN</td>\n",
       "      <td>NaN</td>\n",
       "      <td>189.0</td>\n",
       "    </tr>\n",
       "    <tr>\n",
       "      <th>9</th>\n",
       "      <td>18</td>\n",
       "      <td>5400000.0</td>\n",
       "      <td>61.00</td>\n",
       "      <td>2017-02-26T00:00:00</td>\n",
       "      <td>3</td>\n",
       "      <td>2.50</td>\n",
       "      <td>9.0</td>\n",
       "      <td>43.60</td>\n",
       "      <td>7</td>\n",
       "      <td>NaN</td>\n",
       "      <td>False</td>\n",
       "      <td>False</td>\n",
       "      <td>6.50</td>\n",
       "      <td>2.0</td>\n",
       "      <td>Санкт-Петербург</td>\n",
       "      <td>50898.0</td>\n",
       "      <td>15008.0</td>\n",
       "      <td>0.0</td>\n",
       "      <td>NaN</td>\n",
       "      <td>0.0</td>\n",
       "      <td>NaN</td>\n",
       "      <td>289.0</td>\n",
       "    </tr>\n",
       "  </tbody>\n",
       "</table>\n",
       "</div>"
      ],
      "text/plain": [
       "   total_images  last_price  total_area first_day_exposition  rooms  \\\n",
       "0            20  13000000.0      108.00  2019-03-07T00:00:00      3   \n",
       "1             7   3350000.0       40.40  2018-12-04T00:00:00      1   \n",
       "2            10   5196000.0       56.00  2015-08-20T00:00:00      2   \n",
       "3             0  64900000.0      159.00  2015-07-24T00:00:00      3   \n",
       "4             2  10000000.0      100.00  2018-06-19T00:00:00      2   \n",
       "5            10   2890000.0       30.40  2018-09-10T00:00:00      1   \n",
       "6             6   3700000.0       37.30  2017-11-02T00:00:00      1   \n",
       "7             5   7915000.0       71.60  2019-04-18T00:00:00      2   \n",
       "8            20   2900000.0       33.16  2018-05-23T00:00:00      1   \n",
       "9            18   5400000.0       61.00  2017-02-26T00:00:00      3   \n",
       "\n",
       "   ceiling_height  floors_total  living_area  floor is_apartment  studio  \\\n",
       "0            2.70          16.0        51.00      8          NaN   False   \n",
       "1             NaN          11.0        18.60      1          NaN   False   \n",
       "2             NaN           5.0        34.30      4          NaN   False   \n",
       "3             NaN          14.0          NaN      9          NaN   False   \n",
       "4            3.03          14.0        32.00     13          NaN   False   \n",
       "5             NaN          12.0        14.40      5          NaN   False   \n",
       "6             NaN          26.0        10.60      6          NaN   False   \n",
       "7             NaN          24.0          NaN     22          NaN   False   \n",
       "8             NaN          27.0        15.43     26          NaN   False   \n",
       "9            2.50           9.0        43.60      7          NaN   False   \n",
       "\n",
       "   open_plan  kitchen_area  balcony              locality_name  \\\n",
       "0      False         25.00      NaN            Санкт-Петербург   \n",
       "1      False         11.00      2.0             посёлок Шушары   \n",
       "2      False          8.30      0.0            Санкт-Петербург   \n",
       "3      False           NaN      0.0            Санкт-Петербург   \n",
       "4      False         41.00      NaN            Санкт-Петербург   \n",
       "5      False          9.10      NaN  городской посёлок Янино-1   \n",
       "6      False         14.40      1.0          посёлок Парголово   \n",
       "7      False         18.90      2.0            Санкт-Петербург   \n",
       "8      False          8.81      NaN             посёлок Мурино   \n",
       "9      False          6.50      2.0            Санкт-Петербург   \n",
       "\n",
       "   airports_nearest  cityCenters_nearest  parks_around3000  parks_nearest  \\\n",
       "0           18863.0              16028.0               1.0          482.0   \n",
       "1           12817.0              18603.0               0.0            NaN   \n",
       "2           21741.0              13933.0               1.0           90.0   \n",
       "3           28098.0               6800.0               2.0           84.0   \n",
       "4           31856.0               8098.0               2.0          112.0   \n",
       "5               NaN                  NaN               NaN            NaN   \n",
       "6           52996.0              19143.0               0.0            NaN   \n",
       "7           23982.0              11634.0               0.0            NaN   \n",
       "8               NaN                  NaN               NaN            NaN   \n",
       "9           50898.0              15008.0               0.0            NaN   \n",
       "\n",
       "   ponds_around3000  ponds_nearest  days_exposition  \n",
       "0               2.0          755.0              NaN  \n",
       "1               0.0            NaN             81.0  \n",
       "2               2.0          574.0            558.0  \n",
       "3               3.0          234.0            424.0  \n",
       "4               1.0           48.0            121.0  \n",
       "5               NaN            NaN             55.0  \n",
       "6               0.0            NaN            155.0  \n",
       "7               0.0            NaN              NaN  \n",
       "8               NaN            NaN            189.0  \n",
       "9               0.0            NaN            289.0  "
      ]
     },
     "execution_count": 8,
     "metadata": {},
     "output_type": "execute_result"
    }
   ],
   "source": [
    "data.head(10)"
   ]
  },
  {
   "cell_type": "markdown",
   "metadata": {},
   "source": [
    "Во многих столбцах есть пропуски. В следующих стобцах заменить пропуск на 0 нет возможности. В некоторых столбцах продовец скорее всего не знает эту информацию:<br>\n",
    "<b>ceiling_height(высота потолков)</b> - высота потолка не может быть равна нулю. <br>\n",
    "<b>floors_total(всего этажей в доме)</b> - этажей не может быть 0. <br>\n",
    "<b>living_area(жилая площадь в кв.м.)</b> - площадь не может быть 0.  <br>\n",
    "<b>days_exposition(сколько дней было размещено объявление (от публикации до снятия))</b><br>\n",
    "<b>airports_nearest(растояние до близжайшего аэропорта)</b> - растояние не может быть нулевым. <br>\n",
    "<b>parks_nearest(растояние до парка)</b>- расстояние не может быть 0, т.к. квартира навряд ли находится в парке.<br>\n",
    "<b>kitchen_area(площадь кухни)</b> - можно заменить на 0, т.к. квартира может быть студией, в которой кухня не выделена в отдельное помещение. <br>\n",
    "<b>cityCenters_nearest(растояние до центра города)</b> - теоритически квартира может находится в центре, но скорее можно предположить, что продавец не знает эту информацию. Заменить на 0 нельзя. <br>\n",
    "\n",
    "Что касается остальных столбцов: <br>\n",
    "<b>balcony(число балконов)</b> - можно заменить на 0, т.к. отсутствие информации скорее всего говорит о том, что балкон в квартире отсутствует. <br>\n",
    "<b>parks_around3000(число парков в радиусе 3км) и ponds_around3000(число водоёмов в радиусе 3 км)</b> - пропуск скорее всего говорит о том, что парков в радиусе 3 км нет. <br>\n",
    "\n",
    "Кроме того, обратим внимание, что чаще всего пропуски встречаются именно в столбцах с картографическими данными, а не заполненными пользователями(parks_nearest, ponds_nearest, airports_nearest, cityCenters_nearest). Возможно есть какая-то проблема с вычислением и добавлением этих данных. Думаю, следовало бы обратиться с этой информацией в отдел разработки. \n"
   ]
  },
  {
   "cell_type": "markdown",
   "metadata": {},
   "source": [
    "Проверим наличие явных дубликатов:"
   ]
  },
  {
   "cell_type": "code",
   "execution_count": null,
   "metadata": {},
   "outputs": [],
   "source": []
  },
  {
   "cell_type": "markdown",
   "metadata": {},
   "source": [
    "Явных дубликатов нет. "
   ]
  },
  {
   "cell_type": "markdown",
   "metadata": {},
   "source": [
    "##### Заполним пропущенные значения"
   ]
  },
  {
   "cell_type": "markdown",
   "metadata": {},
   "source": [
    "Посмотрим сколько пропущенных значений в каждом столбце в процентом соотношении: "
   ]
  },
  {
   "cell_type": "code",
   "execution_count": 9,
   "metadata": {},
   "outputs": [
    {
     "data": {
      "text/plain": [
       "is_apartment            88.290645\n",
       "parks_nearest           65.909954\n",
       "ponds_nearest           61.559559\n",
       "balcony                 48.605426\n",
       "ceiling_height          38.799105\n",
       "airports_nearest        23.384953\n",
       "cityCenters_nearest     23.287902\n",
       "ponds_around3000        23.283683\n",
       "parks_around3000        23.283683\n",
       "days_exposition         13.422507\n",
       "kitchen_area             9.612220\n",
       "living_area              8.029875\n",
       "floors_total             0.362885\n",
       "locality_name            0.206760\n",
       "total_images             0.000000\n",
       "last_price               0.000000\n",
       "studio                   0.000000\n",
       "floor                    0.000000\n",
       "rooms                    0.000000\n",
       "first_day_exposition     0.000000\n",
       "total_area               0.000000\n",
       "open_plan                0.000000\n",
       "dtype: float64"
      ]
     },
     "execution_count": 9,
     "metadata": {},
     "output_type": "execute_result"
    }
   ],
   "source": [
    "data.isna().sum().sort_values(ascending=False)/data.shape[0]*100"
   ]
  },
  {
   "cell_type": "markdown",
   "metadata": {},
   "source": [
    "<b>Вывод</b>: в столбце locality_name процент пропусков всего 0,2%. Удалим эти строки, т.к. у данных объектов нет информации по местоположению и они будут мешать в анализе. Также поступим с пропущенными данным в столбце floors_total. "
   ]
  },
  {
   "cell_type": "code",
   "execution_count": 10,
   "metadata": {},
   "outputs": [
    {
     "data": {
      "text/plain": [
       "is_apartment            20805\n",
       "parks_nearest           15535\n",
       "ponds_nearest           14529\n",
       "balcony                 11475\n",
       "ceiling_height           9084\n",
       "airports_nearest         5524\n",
       "cityCenters_nearest      5501\n",
       "ponds_around3000         5500\n",
       "parks_around3000         5500\n",
       "days_exposition          3171\n",
       "kitchen_area             2222\n",
       "living_area              1865\n",
       "locality_name               0\n",
       "total_images                0\n",
       "last_price                  0\n",
       "studio                      0\n",
       "floor                       0\n",
       "floors_total                0\n",
       "rooms                       0\n",
       "first_day_exposition        0\n",
       "total_area                  0\n",
       "open_plan                   0\n",
       "dtype: int64"
      ]
     },
     "execution_count": 10,
     "metadata": {},
     "output_type": "execute_result"
    }
   ],
   "source": [
    "data = data.dropna(subset=['locality_name', 'floors_total']) #удалим пропуски \n",
    "data.isna().sum().sort_values(ascending=False) #проверим себя "
   ]
  },
  {
   "cell_type": "markdown",
   "metadata": {},
   "source": [
    "Произведем замену пропусков нужно в столбцах balcony, parks_around3000, ponds_around3000. "
   ]
  },
  {
   "cell_type": "code",
   "execution_count": 11,
   "metadata": {},
   "outputs": [
    {
     "data": {
      "text/plain": [
       "is_apartment            20805\n",
       "parks_nearest           15535\n",
       "ponds_nearest           14529\n",
       "ceiling_height           9084\n",
       "airports_nearest         5524\n",
       "cityCenters_nearest      5501\n",
       "days_exposition          3171\n",
       "kitchen_area             2222\n",
       "living_area              1865\n",
       "balcony                     0\n",
       "ponds_around3000            0\n",
       "parks_around3000            0\n",
       "locality_name               0\n",
       "total_images                0\n",
       "last_price                  0\n",
       "studio                      0\n",
       "floor                       0\n",
       "floors_total                0\n",
       "rooms                       0\n",
       "first_day_exposition        0\n",
       "total_area                  0\n",
       "open_plan                   0\n",
       "dtype: int64"
      ]
     },
     "execution_count": 11,
     "metadata": {},
     "output_type": "execute_result"
    }
   ],
   "source": [
    "data['balcony'] = data['balcony'].fillna(0) \n",
    "data['parks_around3000'] = data['parks_around3000'].fillna('0')\n",
    "data['ponds_around3000'] = data['ponds_around3000'].fillna('0')\n",
    "data.isna().sum().sort_values(ascending=False)#проверим себя"
   ]
  },
  {
   "cell_type": "markdown",
   "metadata": {},
   "source": [
    "Теперь в столбцах balcony(float64), parks_around3000(float64) нет пропусков. "
   ]
  },
  {
   "cell_type": "markdown",
   "metadata": {},
   "source": [
    "Больше всего пропусков содержится в столбце is_apartment. Вероятнее всего пропуск в данном столбце означает, что объект не относится к апартоментам. "
   ]
  },
  {
   "cell_type": "code",
   "execution_count": 12,
   "metadata": {},
   "outputs": [
    {
     "data": {
      "text/plain": [
       "parks_nearest           15535\n",
       "ponds_nearest           14529\n",
       "ceiling_height           9084\n",
       "airports_nearest         5524\n",
       "cityCenters_nearest      5501\n",
       "days_exposition          3171\n",
       "kitchen_area             2222\n",
       "living_area              1865\n",
       "ponds_around3000            0\n",
       "parks_around3000            0\n",
       "locality_name               0\n",
       "balcony                     0\n",
       "total_images                0\n",
       "last_price                  0\n",
       "studio                      0\n",
       "is_apartment                0\n",
       "floor                       0\n",
       "floors_total                0\n",
       "rooms                       0\n",
       "first_day_exposition        0\n",
       "total_area                  0\n",
       "open_plan                   0\n",
       "dtype: int64"
      ]
     },
     "execution_count": 12,
     "metadata": {},
     "output_type": "execute_result"
    }
   ],
   "source": [
    "data['is_apartment'] = data['is_apartment'].fillna(value=False)#заменим пропуск на False\n",
    "data.isna().sum().sort_values(ascending=False)#проверим себя"
   ]
  },
  {
   "cell_type": "markdown",
   "metadata": {},
   "source": [
    "Также много пропусков в столбце ceiling_height. Заменим на медианное значение по всему датасету. Для этого сначала распечатаем медиану и посмотрим корректное ли это значение. "
   ]
  },
  {
   "cell_type": "code",
   "execution_count": 13,
   "metadata": {},
   "outputs": [
    {
     "name": "stdout",
     "output_type": "stream",
     "text": [
      "2.65\n"
     ]
    }
   ],
   "source": [
    "print(data['ceiling_height'].median())"
   ]
  },
  {
   "cell_type": "markdown",
   "metadata": {},
   "source": [
    "Значение отражает реальность, поэтому произведем замену. "
   ]
  },
  {
   "cell_type": "code",
   "execution_count": 14,
   "metadata": {},
   "outputs": [
    {
     "name": "stdout",
     "output_type": "stream",
     "text": [
      "<class 'pandas.core.frame.DataFrame'>\n",
      "Int64Index: 23565 entries, 0 to 23698\n",
      "Data columns (total 22 columns):\n",
      " #   Column                Non-Null Count  Dtype  \n",
      "---  ------                --------------  -----  \n",
      " 0   total_images          23565 non-null  int64  \n",
      " 1   last_price            23565 non-null  float64\n",
      " 2   total_area            23565 non-null  float64\n",
      " 3   first_day_exposition  23565 non-null  object \n",
      " 4   rooms                 23565 non-null  int64  \n",
      " 5   ceiling_height        23565 non-null  float64\n",
      " 6   floors_total          23565 non-null  float64\n",
      " 7   living_area           21700 non-null  float64\n",
      " 8   floor                 23565 non-null  int64  \n",
      " 9   is_apartment          23565 non-null  bool   \n",
      " 10  studio                23565 non-null  bool   \n",
      " 11  open_plan             23565 non-null  bool   \n",
      " 12  kitchen_area          21343 non-null  float64\n",
      " 13  balcony               23565 non-null  float64\n",
      " 14  locality_name         23565 non-null  object \n",
      " 15  airports_nearest      18041 non-null  float64\n",
      " 16  cityCenters_nearest   18064 non-null  float64\n",
      " 17  parks_around3000      23565 non-null  object \n",
      " 18  parks_nearest         8030 non-null   float64\n",
      " 19  ponds_around3000      23565 non-null  object \n",
      " 20  ponds_nearest         9036 non-null   float64\n",
      " 21  days_exposition       20394 non-null  float64\n",
      "dtypes: bool(3), float64(12), int64(3), object(4)\n",
      "memory usage: 3.7+ MB\n"
     ]
    }
   ],
   "source": [
    "data['ceiling_height'] = data['ceiling_height'].fillna(data['ceiling_height'].median())\n",
    "data.info()"
   ]
  },
  {
   "cell_type": "code",
   "execution_count": 15,
   "metadata": {},
   "outputs": [
    {
     "data": {
      "text/html": [
       "<div>\n",
       "<style scoped>\n",
       "    .dataframe tbody tr th:only-of-type {\n",
       "        vertical-align: middle;\n",
       "    }\n",
       "\n",
       "    .dataframe tbody tr th {\n",
       "        vertical-align: top;\n",
       "    }\n",
       "\n",
       "    .dataframe thead th {\n",
       "        text-align: right;\n",
       "    }\n",
       "</style>\n",
       "<table border=\"1\" class=\"dataframe\">\n",
       "  <thead>\n",
       "    <tr style=\"text-align: right;\">\n",
       "      <th></th>\n",
       "      <th>total_images</th>\n",
       "      <th>last_price</th>\n",
       "      <th>total_area</th>\n",
       "      <th>first_day_exposition</th>\n",
       "      <th>rooms</th>\n",
       "      <th>ceiling_height</th>\n",
       "      <th>floors_total</th>\n",
       "      <th>living_area</th>\n",
       "      <th>floor</th>\n",
       "      <th>is_apartment</th>\n",
       "      <th>studio</th>\n",
       "      <th>open_plan</th>\n",
       "      <th>kitchen_area</th>\n",
       "      <th>balcony</th>\n",
       "      <th>locality_name</th>\n",
       "      <th>airports_nearest</th>\n",
       "      <th>cityCenters_nearest</th>\n",
       "      <th>parks_around3000</th>\n",
       "      <th>parks_nearest</th>\n",
       "      <th>ponds_around3000</th>\n",
       "      <th>ponds_nearest</th>\n",
       "      <th>days_exposition</th>\n",
       "    </tr>\n",
       "  </thead>\n",
       "  <tbody>\n",
       "    <tr>\n",
       "      <th>0</th>\n",
       "      <td>20</td>\n",
       "      <td>13000000.0</td>\n",
       "      <td>108.00</td>\n",
       "      <td>2019-03-07T00:00:00</td>\n",
       "      <td>3</td>\n",
       "      <td>2.70</td>\n",
       "      <td>16.0</td>\n",
       "      <td>51.00</td>\n",
       "      <td>8</td>\n",
       "      <td>False</td>\n",
       "      <td>False</td>\n",
       "      <td>False</td>\n",
       "      <td>25.00</td>\n",
       "      <td>0.0</td>\n",
       "      <td>Санкт-Петербург</td>\n",
       "      <td>18863.0</td>\n",
       "      <td>16028.0</td>\n",
       "      <td>1.0</td>\n",
       "      <td>482.0</td>\n",
       "      <td>2.0</td>\n",
       "      <td>755.0</td>\n",
       "      <td>NaN</td>\n",
       "    </tr>\n",
       "    <tr>\n",
       "      <th>1</th>\n",
       "      <td>7</td>\n",
       "      <td>3350000.0</td>\n",
       "      <td>40.40</td>\n",
       "      <td>2018-12-04T00:00:00</td>\n",
       "      <td>1</td>\n",
       "      <td>2.65</td>\n",
       "      <td>11.0</td>\n",
       "      <td>18.60</td>\n",
       "      <td>1</td>\n",
       "      <td>False</td>\n",
       "      <td>False</td>\n",
       "      <td>False</td>\n",
       "      <td>11.00</td>\n",
       "      <td>2.0</td>\n",
       "      <td>посёлок Шушары</td>\n",
       "      <td>12817.0</td>\n",
       "      <td>18603.0</td>\n",
       "      <td>0.0</td>\n",
       "      <td>NaN</td>\n",
       "      <td>0.0</td>\n",
       "      <td>NaN</td>\n",
       "      <td>81.0</td>\n",
       "    </tr>\n",
       "    <tr>\n",
       "      <th>2</th>\n",
       "      <td>10</td>\n",
       "      <td>5196000.0</td>\n",
       "      <td>56.00</td>\n",
       "      <td>2015-08-20T00:00:00</td>\n",
       "      <td>2</td>\n",
       "      <td>2.65</td>\n",
       "      <td>5.0</td>\n",
       "      <td>34.30</td>\n",
       "      <td>4</td>\n",
       "      <td>False</td>\n",
       "      <td>False</td>\n",
       "      <td>False</td>\n",
       "      <td>8.30</td>\n",
       "      <td>0.0</td>\n",
       "      <td>Санкт-Петербург</td>\n",
       "      <td>21741.0</td>\n",
       "      <td>13933.0</td>\n",
       "      <td>1.0</td>\n",
       "      <td>90.0</td>\n",
       "      <td>2.0</td>\n",
       "      <td>574.0</td>\n",
       "      <td>558.0</td>\n",
       "    </tr>\n",
       "    <tr>\n",
       "      <th>3</th>\n",
       "      <td>0</td>\n",
       "      <td>64900000.0</td>\n",
       "      <td>159.00</td>\n",
       "      <td>2015-07-24T00:00:00</td>\n",
       "      <td>3</td>\n",
       "      <td>2.65</td>\n",
       "      <td>14.0</td>\n",
       "      <td>NaN</td>\n",
       "      <td>9</td>\n",
       "      <td>False</td>\n",
       "      <td>False</td>\n",
       "      <td>False</td>\n",
       "      <td>NaN</td>\n",
       "      <td>0.0</td>\n",
       "      <td>Санкт-Петербург</td>\n",
       "      <td>28098.0</td>\n",
       "      <td>6800.0</td>\n",
       "      <td>2.0</td>\n",
       "      <td>84.0</td>\n",
       "      <td>3.0</td>\n",
       "      <td>234.0</td>\n",
       "      <td>424.0</td>\n",
       "    </tr>\n",
       "    <tr>\n",
       "      <th>4</th>\n",
       "      <td>2</td>\n",
       "      <td>10000000.0</td>\n",
       "      <td>100.00</td>\n",
       "      <td>2018-06-19T00:00:00</td>\n",
       "      <td>2</td>\n",
       "      <td>3.03</td>\n",
       "      <td>14.0</td>\n",
       "      <td>32.00</td>\n",
       "      <td>13</td>\n",
       "      <td>False</td>\n",
       "      <td>False</td>\n",
       "      <td>False</td>\n",
       "      <td>41.00</td>\n",
       "      <td>0.0</td>\n",
       "      <td>Санкт-Петербург</td>\n",
       "      <td>31856.0</td>\n",
       "      <td>8098.0</td>\n",
       "      <td>2.0</td>\n",
       "      <td>112.0</td>\n",
       "      <td>1.0</td>\n",
       "      <td>48.0</td>\n",
       "      <td>121.0</td>\n",
       "    </tr>\n",
       "    <tr>\n",
       "      <th>5</th>\n",
       "      <td>10</td>\n",
       "      <td>2890000.0</td>\n",
       "      <td>30.40</td>\n",
       "      <td>2018-09-10T00:00:00</td>\n",
       "      <td>1</td>\n",
       "      <td>2.65</td>\n",
       "      <td>12.0</td>\n",
       "      <td>14.40</td>\n",
       "      <td>5</td>\n",
       "      <td>False</td>\n",
       "      <td>False</td>\n",
       "      <td>False</td>\n",
       "      <td>9.10</td>\n",
       "      <td>0.0</td>\n",
       "      <td>городской посёлок Янино-1</td>\n",
       "      <td>NaN</td>\n",
       "      <td>NaN</td>\n",
       "      <td>0</td>\n",
       "      <td>NaN</td>\n",
       "      <td>0</td>\n",
       "      <td>NaN</td>\n",
       "      <td>55.0</td>\n",
       "    </tr>\n",
       "    <tr>\n",
       "      <th>6</th>\n",
       "      <td>6</td>\n",
       "      <td>3700000.0</td>\n",
       "      <td>37.30</td>\n",
       "      <td>2017-11-02T00:00:00</td>\n",
       "      <td>1</td>\n",
       "      <td>2.65</td>\n",
       "      <td>26.0</td>\n",
       "      <td>10.60</td>\n",
       "      <td>6</td>\n",
       "      <td>False</td>\n",
       "      <td>False</td>\n",
       "      <td>False</td>\n",
       "      <td>14.40</td>\n",
       "      <td>1.0</td>\n",
       "      <td>посёлок Парголово</td>\n",
       "      <td>52996.0</td>\n",
       "      <td>19143.0</td>\n",
       "      <td>0.0</td>\n",
       "      <td>NaN</td>\n",
       "      <td>0.0</td>\n",
       "      <td>NaN</td>\n",
       "      <td>155.0</td>\n",
       "    </tr>\n",
       "    <tr>\n",
       "      <th>7</th>\n",
       "      <td>5</td>\n",
       "      <td>7915000.0</td>\n",
       "      <td>71.60</td>\n",
       "      <td>2019-04-18T00:00:00</td>\n",
       "      <td>2</td>\n",
       "      <td>2.65</td>\n",
       "      <td>24.0</td>\n",
       "      <td>NaN</td>\n",
       "      <td>22</td>\n",
       "      <td>False</td>\n",
       "      <td>False</td>\n",
       "      <td>False</td>\n",
       "      <td>18.90</td>\n",
       "      <td>2.0</td>\n",
       "      <td>Санкт-Петербург</td>\n",
       "      <td>23982.0</td>\n",
       "      <td>11634.0</td>\n",
       "      <td>0.0</td>\n",
       "      <td>NaN</td>\n",
       "      <td>0.0</td>\n",
       "      <td>NaN</td>\n",
       "      <td>NaN</td>\n",
       "    </tr>\n",
       "    <tr>\n",
       "      <th>8</th>\n",
       "      <td>20</td>\n",
       "      <td>2900000.0</td>\n",
       "      <td>33.16</td>\n",
       "      <td>2018-05-23T00:00:00</td>\n",
       "      <td>1</td>\n",
       "      <td>2.65</td>\n",
       "      <td>27.0</td>\n",
       "      <td>15.43</td>\n",
       "      <td>26</td>\n",
       "      <td>False</td>\n",
       "      <td>False</td>\n",
       "      <td>False</td>\n",
       "      <td>8.81</td>\n",
       "      <td>0.0</td>\n",
       "      <td>посёлок Мурино</td>\n",
       "      <td>NaN</td>\n",
       "      <td>NaN</td>\n",
       "      <td>0</td>\n",
       "      <td>NaN</td>\n",
       "      <td>0</td>\n",
       "      <td>NaN</td>\n",
       "      <td>189.0</td>\n",
       "    </tr>\n",
       "    <tr>\n",
       "      <th>9</th>\n",
       "      <td>18</td>\n",
       "      <td>5400000.0</td>\n",
       "      <td>61.00</td>\n",
       "      <td>2017-02-26T00:00:00</td>\n",
       "      <td>3</td>\n",
       "      <td>2.50</td>\n",
       "      <td>9.0</td>\n",
       "      <td>43.60</td>\n",
       "      <td>7</td>\n",
       "      <td>False</td>\n",
       "      <td>False</td>\n",
       "      <td>False</td>\n",
       "      <td>6.50</td>\n",
       "      <td>2.0</td>\n",
       "      <td>Санкт-Петербург</td>\n",
       "      <td>50898.0</td>\n",
       "      <td>15008.0</td>\n",
       "      <td>0.0</td>\n",
       "      <td>NaN</td>\n",
       "      <td>0.0</td>\n",
       "      <td>NaN</td>\n",
       "      <td>289.0</td>\n",
       "    </tr>\n",
       "  </tbody>\n",
       "</table>\n",
       "</div>"
      ],
      "text/plain": [
       "   total_images  last_price  total_area first_day_exposition  rooms  \\\n",
       "0            20  13000000.0      108.00  2019-03-07T00:00:00      3   \n",
       "1             7   3350000.0       40.40  2018-12-04T00:00:00      1   \n",
       "2            10   5196000.0       56.00  2015-08-20T00:00:00      2   \n",
       "3             0  64900000.0      159.00  2015-07-24T00:00:00      3   \n",
       "4             2  10000000.0      100.00  2018-06-19T00:00:00      2   \n",
       "5            10   2890000.0       30.40  2018-09-10T00:00:00      1   \n",
       "6             6   3700000.0       37.30  2017-11-02T00:00:00      1   \n",
       "7             5   7915000.0       71.60  2019-04-18T00:00:00      2   \n",
       "8            20   2900000.0       33.16  2018-05-23T00:00:00      1   \n",
       "9            18   5400000.0       61.00  2017-02-26T00:00:00      3   \n",
       "\n",
       "   ceiling_height  floors_total  living_area  floor  is_apartment  studio  \\\n",
       "0            2.70          16.0        51.00      8         False   False   \n",
       "1            2.65          11.0        18.60      1         False   False   \n",
       "2            2.65           5.0        34.30      4         False   False   \n",
       "3            2.65          14.0          NaN      9         False   False   \n",
       "4            3.03          14.0        32.00     13         False   False   \n",
       "5            2.65          12.0        14.40      5         False   False   \n",
       "6            2.65          26.0        10.60      6         False   False   \n",
       "7            2.65          24.0          NaN     22         False   False   \n",
       "8            2.65          27.0        15.43     26         False   False   \n",
       "9            2.50           9.0        43.60      7         False   False   \n",
       "\n",
       "   open_plan  kitchen_area  balcony              locality_name  \\\n",
       "0      False         25.00      0.0            Санкт-Петербург   \n",
       "1      False         11.00      2.0             посёлок Шушары   \n",
       "2      False          8.30      0.0            Санкт-Петербург   \n",
       "3      False           NaN      0.0            Санкт-Петербург   \n",
       "4      False         41.00      0.0            Санкт-Петербург   \n",
       "5      False          9.10      0.0  городской посёлок Янино-1   \n",
       "6      False         14.40      1.0          посёлок Парголово   \n",
       "7      False         18.90      2.0            Санкт-Петербург   \n",
       "8      False          8.81      0.0             посёлок Мурино   \n",
       "9      False          6.50      2.0            Санкт-Петербург   \n",
       "\n",
       "   airports_nearest  cityCenters_nearest parks_around3000  parks_nearest  \\\n",
       "0           18863.0              16028.0              1.0          482.0   \n",
       "1           12817.0              18603.0              0.0            NaN   \n",
       "2           21741.0              13933.0              1.0           90.0   \n",
       "3           28098.0               6800.0              2.0           84.0   \n",
       "4           31856.0               8098.0              2.0          112.0   \n",
       "5               NaN                  NaN                0            NaN   \n",
       "6           52996.0              19143.0              0.0            NaN   \n",
       "7           23982.0              11634.0              0.0            NaN   \n",
       "8               NaN                  NaN                0            NaN   \n",
       "9           50898.0              15008.0              0.0            NaN   \n",
       "\n",
       "  ponds_around3000  ponds_nearest  days_exposition  \n",
       "0              2.0          755.0              NaN  \n",
       "1              0.0            NaN             81.0  \n",
       "2              2.0          574.0            558.0  \n",
       "3              3.0          234.0            424.0  \n",
       "4              1.0           48.0            121.0  \n",
       "5                0            NaN             55.0  \n",
       "6              0.0            NaN            155.0  \n",
       "7              0.0            NaN              NaN  \n",
       "8                0            NaN            189.0  \n",
       "9              0.0            NaN            289.0  "
      ]
     },
     "execution_count": 15,
     "metadata": {},
     "output_type": "execute_result"
    }
   ],
   "source": [
    "data.head(10)"
   ]
  },
  {
   "cell_type": "markdown",
   "metadata": {},
   "source": [
    "##### Причины, которые могли привести к пропускам в данных."
   ]
  },
  {
   "cell_type": "markdown",
   "metadata": {},
   "source": [
    "<b>Вывод:</b><br>\n",
    " Пропуски данных по большей части обусловлены неполноценным заполнением всех полей в форме объявления. Если данная информация принципиальна, то, возможно, стоит сделать эти поля обязательными для заполнения. "
   ]
  },
  {
   "cell_type": "markdown",
   "metadata": {},
   "source": [
    "#### Рассмотрим типы данных в каждом столбце."
   ]
  },
  {
   "cell_type": "markdown",
   "metadata": {},
   "source": [
    "##### Найдем столбцы, в которых нужно изменить тип данных"
   ]
  },
  {
   "cell_type": "markdown",
   "metadata": {},
   "source": [
    "Повторно вызовем всю информацию по таблице. "
   ]
  },
  {
   "cell_type": "code",
   "execution_count": 16,
   "metadata": {},
   "outputs": [
    {
     "name": "stdout",
     "output_type": "stream",
     "text": [
      "<class 'pandas.core.frame.DataFrame'>\n",
      "Int64Index: 23565 entries, 0 to 23698\n",
      "Data columns (total 22 columns):\n",
      " #   Column                Non-Null Count  Dtype  \n",
      "---  ------                --------------  -----  \n",
      " 0   total_images          23565 non-null  int64  \n",
      " 1   last_price            23565 non-null  float64\n",
      " 2   total_area            23565 non-null  float64\n",
      " 3   first_day_exposition  23565 non-null  object \n",
      " 4   rooms                 23565 non-null  int64  \n",
      " 5   ceiling_height        23565 non-null  float64\n",
      " 6   floors_total          23565 non-null  float64\n",
      " 7   living_area           21700 non-null  float64\n",
      " 8   floor                 23565 non-null  int64  \n",
      " 9   is_apartment          23565 non-null  bool   \n",
      " 10  studio                23565 non-null  bool   \n",
      " 11  open_plan             23565 non-null  bool   \n",
      " 12  kitchen_area          21343 non-null  float64\n",
      " 13  balcony               23565 non-null  float64\n",
      " 14  locality_name         23565 non-null  object \n",
      " 15  airports_nearest      18041 non-null  float64\n",
      " 16  cityCenters_nearest   18064 non-null  float64\n",
      " 17  parks_around3000      23565 non-null  object \n",
      " 18  parks_nearest         8030 non-null   float64\n",
      " 19  ponds_around3000      23565 non-null  object \n",
      " 20  ponds_nearest         9036 non-null   float64\n",
      " 21  days_exposition       20394 non-null  float64\n",
      "dtypes: bool(3), float64(12), int64(3), object(4)\n",
      "memory usage: 3.7+ MB\n"
     ]
    }
   ],
   "source": [
    "data.info()"
   ]
  },
  {
   "cell_type": "markdown",
   "metadata": {},
   "source": [
    "<b>Вывод:</b> видим, что типы данных некорректные: <br>\n",
    "first_day_exposition - дата публикации имеет тип данных object, а должен datetime.<br>\n",
    "is_apartment - должен быть bool, сейчас object.<br>\n",
    "balcony - должен быть int, сейчас object.<br>\n",
    "parks_around3000 -должен быть int, сейчас object.<br>"
   ]
  },
  {
   "cell_type": "markdown",
   "metadata": {},
   "source": [
    "##### Преобразуем тип данных в выбранных столбцах."
   ]
  },
  {
   "cell_type": "code",
   "execution_count": 17,
   "metadata": {},
   "outputs": [
    {
     "name": "stdout",
     "output_type": "stream",
     "text": [
      "<class 'pandas.core.frame.DataFrame'>\n",
      "Int64Index: 23565 entries, 0 to 23698\n",
      "Data columns (total 22 columns):\n",
      " #   Column                Non-Null Count  Dtype         \n",
      "---  ------                --------------  -----         \n",
      " 0   total_images          23565 non-null  int64         \n",
      " 1   last_price            23565 non-null  float64       \n",
      " 2   total_area            23565 non-null  float64       \n",
      " 3   first_day_exposition  23565 non-null  datetime64[ns]\n",
      " 4   rooms                 23565 non-null  int64         \n",
      " 5   ceiling_height        23565 non-null  float64       \n",
      " 6   floors_total          23565 non-null  float64       \n",
      " 7   living_area           21700 non-null  float64       \n",
      " 8   floor                 23565 non-null  int64         \n",
      " 9   is_apartment          23565 non-null  bool          \n",
      " 10  studio                23565 non-null  bool          \n",
      " 11  open_plan             23565 non-null  bool          \n",
      " 12  kitchen_area          21343 non-null  float64       \n",
      " 13  balcony               23565 non-null  float64       \n",
      " 14  locality_name         23565 non-null  object        \n",
      " 15  airports_nearest      18041 non-null  float64       \n",
      " 16  cityCenters_nearest   18064 non-null  float64       \n",
      " 17  parks_around3000      23565 non-null  object        \n",
      " 18  parks_nearest         8030 non-null   float64       \n",
      " 19  ponds_around3000      23565 non-null  object        \n",
      " 20  ponds_nearest         9036 non-null   float64       \n",
      " 21  days_exposition       20394 non-null  float64       \n",
      "dtypes: bool(3), datetime64[ns](1), float64(12), int64(3), object(3)\n",
      "memory usage: 3.7+ MB\n"
     ]
    }
   ],
   "source": [
    "data.astype({ 'balcony': 'int', 'parks_around3000': 'int', 'floors_total': 'int'})\n",
    "data['is_apartment'] = data['is_apartment'].astype('bool')#изменин на булевый тип\n",
    "data['first_day_exposition'] = pd.to_datetime(data['first_day_exposition'], format='%Y.%m.%d %H:%M:%S')\n",
    "data.info()"
   ]
  },
  {
   "cell_type": "markdown",
   "metadata": {},
   "source": [
    "##### Почему нужно изменить тип данных."
   ]
  },
  {
   "cell_type": "markdown",
   "metadata": {},
   "source": [
    "<b>Вывод:</b> Для того, чтобы провести качественный анализ, нужно проводить различные манипуляции с данными. Без изменения типа данных можно в определенный момент столкнуться с ошибками."
   ]
  },
  {
   "cell_type": "markdown",
   "metadata": {},
   "source": [
    "#### Изучим уникальные значения в столбце с названиями и устраните неявные дубликаты."
   ]
  },
  {
   "cell_type": "markdown",
   "metadata": {},
   "source": [
    "Выведем перечень уникальных значений столбца locality_name, отсротированный по алфавиту. "
   ]
  },
  {
   "cell_type": "code",
   "execution_count": 18,
   "metadata": {
    "scrolled": false
   },
   "outputs": [
    {
     "data": {
      "text/plain": [
       "array(['Бокситогорск', 'Волосово', 'Волхов', 'Всеволожск', 'Выборг',\n",
       "       'Высоцк', 'Гатчина', 'Зеленогорск', 'Ивангород', 'Каменногорск',\n",
       "       'Кингисепп', 'Кириши', 'Кировск', 'Колпино', 'Коммунар',\n",
       "       'Красное Село', 'Кронштадт', 'Кудрово', 'Лодейное Поле',\n",
       "       'Ломоносов', 'Луга', 'Любань', 'Мурино', 'Никольское',\n",
       "       'Новая Ладога', 'Отрадное', 'Павловск', 'Петергоф', 'Пикалёво',\n",
       "       'Подпорожье', 'Приморск', 'Приозерск', 'Пушкин', 'Санкт-Петербург',\n",
       "       'Светогорск', 'Сертолово', 'Сестрорецк', 'Сланцы', 'Сосновый Бор',\n",
       "       'Сясьстрой', 'Тихвин', 'Тосно', 'Шлиссельбург',\n",
       "       'городской поселок Большая Ижора', 'городской поселок Янино-1',\n",
       "       'городской посёлок Будогощь', 'городской посёлок Виллози',\n",
       "       'городской посёлок Лесогорский', 'городской посёлок Мга',\n",
       "       'городской посёлок Назия', 'городской посёлок Новоселье',\n",
       "       'городской посёлок Павлово', 'городской посёлок Рощино',\n",
       "       'городской посёлок Свирьстрой', 'городской посёлок Советский',\n",
       "       'городской посёлок Фёдоровское', 'городской посёлок Янино-1',\n",
       "       'деревня Агалатово', 'деревня Аро', 'деревня Батово',\n",
       "       'деревня Бегуницы', 'деревня Белогорка', 'деревня Большая Вруда',\n",
       "       'деревня Большая Пустомержа', 'деревня Большие Колпаны',\n",
       "       'деревня Большое Рейзино', 'деревня Большой Сабск', 'деревня Бор',\n",
       "       'деревня Борисова Грива', 'деревня Ваганово', 'деревня Вартемяги',\n",
       "       'деревня Вахнова Кара', 'деревня Выскатка', 'деревня Гарболово',\n",
       "       'деревня Глинка', 'деревня Горбунки', 'деревня Гостилицы',\n",
       "       'деревня Заклинье', 'деревня Заневка', 'деревня Зимитицы',\n",
       "       'деревня Извара', 'деревня Иссад', 'деревня Калитино',\n",
       "       'деревня Кальтино', 'деревня Камышовка', 'деревня Каськово',\n",
       "       'деревня Келози', 'деревня Кипень', 'деревня Кисельня',\n",
       "       'деревня Колтуши', 'деревня Коркино', 'деревня Котлы',\n",
       "       'деревня Кривко', 'деревня Кудрово', 'деревня Кузьмолово',\n",
       "       'деревня Курковицы', 'деревня Куровицы', 'деревня Куттузи',\n",
       "       'деревня Лаврики', 'деревня Лаголово', 'деревня Лампово',\n",
       "       'деревня Лесколово', 'деревня Лопухинка', 'деревня Лупполово',\n",
       "       'деревня Малая Романовка', 'деревня Малое Верево',\n",
       "       'деревня Малое Карлино', 'деревня Малые Колпаны',\n",
       "       'деревня Мануйлово', 'деревня Меньково', 'деревня Мины',\n",
       "       'деревня Мистолово', 'деревня Ненимяки', 'деревня Нижние Осельки',\n",
       "       'деревня Нижняя', 'деревня Низино', 'деревня Новое Девяткино',\n",
       "       'деревня Новолисино', 'деревня Нурма', 'деревня Оржицы',\n",
       "       'деревня Парицы', 'деревня Пельгора', 'деревня Пеники',\n",
       "       'деревня Пижма', 'деревня Пикколово', 'деревня Пудомяги',\n",
       "       'деревня Пустынка', 'деревня Пчева', 'деревня Рабитицы',\n",
       "       'деревня Разбегаево', 'деревня Раздолье', 'деревня Разметелево',\n",
       "       'деревня Рапполово', 'деревня Реброво', 'деревня Русско',\n",
       "       'деревня Сижно', 'деревня Снегирёвка', 'деревня Старая',\n",
       "       'деревня Старая Пустошь', 'деревня Старое Хинколово',\n",
       "       'деревня Старополье', 'деревня Старосиверская',\n",
       "       'деревня Старые Бегуницы', 'деревня Суоранда',\n",
       "       'деревня Сяськелево', 'деревня Тарасово', 'деревня Терпилицы',\n",
       "       'деревня Тихковицы', 'деревня Тойворово', 'деревня Торосово',\n",
       "       'деревня Торошковичи', 'деревня Трубников Бор',\n",
       "       'деревня Фалилеево', 'деревня Фёдоровское', 'деревня Хапо-Ое',\n",
       "       'деревня Хязельки', 'деревня Чудской Бор', 'деревня Шпаньково',\n",
       "       'деревня Щеглово', 'деревня Юкки', 'деревня Ялгино',\n",
       "       'деревня Яльгелево', 'деревня Ям-Тесово',\n",
       "       'коттеджный поселок Кивеннапа Север', 'коттеджный поселок Счастье',\n",
       "       'коттеджный посёлок Лесное', 'поселок Аннино', 'поселок Барышево',\n",
       "       'поселок Бугры', 'поселок Возрождение', 'поселок Войсковицы',\n",
       "       'поселок Володарское', 'поселок Гаврилово', 'поселок Гарболово',\n",
       "       'поселок Гладкое', 'поселок Глажево', 'поселок Глебычево',\n",
       "       'поселок Гончарово', 'поселок Громово', 'поселок Дружноселье',\n",
       "       'поселок Елизаветино', 'поселок Жилгородок', 'поселок Жилпосёлок',\n",
       "       'поселок Житково', 'поселок Заводской', 'поселок Запорожское',\n",
       "       'поселок Зимитицы', 'поселок Ильичёво', 'поселок Калитино',\n",
       "       'поселок Каложицы', 'поселок Кингисеппский', 'поселок Кирпичное',\n",
       "       'поселок Кобралово', 'поселок Кобринское', 'поселок Коммунары',\n",
       "       'поселок Коробицыно', 'поселок Котельский',\n",
       "       'поселок Красная Долина', 'поселок Красносельское',\n",
       "       'поселок Лесное', 'поселок Лисий Нос', 'поселок Лукаши',\n",
       "       'поселок Любань', 'поселок Мельниково', 'поселок Мичуринское',\n",
       "       'поселок Молодцово', 'поселок Мурино', 'поселок Новый Свет',\n",
       "       'поселок Новый Учхоз', 'поселок Оредеж',\n",
       "       'поселок Пансионат Зелёный Бор', 'поселок Первомайское',\n",
       "       'поселок Перово', 'поселок Петровское', 'поселок Победа',\n",
       "       'поселок Поляны', 'поселок Почап', 'поселок Починок',\n",
       "       'поселок Пушное', 'поселок Пчевжа', 'поселок Рабитицы',\n",
       "       'поселок Романовка', 'поселок Ромашки', 'поселок Рябово',\n",
       "       'поселок Севастьяново', 'поселок Селезнёво', 'поселок Сельцо',\n",
       "       'поселок Семиозерье', 'поселок Семрино', 'поселок Серебрянский',\n",
       "       'поселок Совхозный', 'поселок Старая Малукса',\n",
       "       'поселок Стеклянный', 'поселок Сумино', 'поселок Суходолье',\n",
       "       'поселок Тельмана', 'поселок Терволово', 'поселок Торковичи',\n",
       "       'поселок Тёсово-4', 'поселок Углово', 'поселок Усть-Луга',\n",
       "       'поселок Ушаки', 'поселок Цвелодубово', 'поселок Цвылёво',\n",
       "       'поселок городского типа Большая Ижора',\n",
       "       'поселок городского типа Вырица',\n",
       "       'поселок городского типа Дружная Горка',\n",
       "       'поселок городского типа Дубровка',\n",
       "       'поселок городского типа Ефимовский',\n",
       "       'поселок городского типа Кондратьево',\n",
       "       'поселок городского типа Красный Бор',\n",
       "       'поселок городского типа Кузьмоловский',\n",
       "       'поселок городского типа Лебяжье',\n",
       "       'поселок городского типа Лесогорский',\n",
       "       'поселок городского типа Назия',\n",
       "       'поселок городского типа Никольский',\n",
       "       'поселок городского типа Приладожский',\n",
       "       'поселок городского типа Рахья', 'поселок городского типа Рощино',\n",
       "       'поселок городского типа Рябово',\n",
       "       'поселок городского типа Синявино',\n",
       "       'поселок городского типа Советский',\n",
       "       'поселок городского типа Токсово',\n",
       "       'поселок городского типа Форносово',\n",
       "       'поселок городского типа имени Свердлова',\n",
       "       'поселок станции Вещево', 'поселок станции Корнево',\n",
       "       'поселок станции Лужайка', 'поселок станции Приветнинское',\n",
       "       'посёлок Александровская', 'посёлок Алексеевка', 'посёлок Аннино',\n",
       "       'посёлок Белоостров', 'посёлок Бугры', 'посёлок Возрождение',\n",
       "       'посёлок Войскорово', 'посёлок Высокоключевой',\n",
       "       'посёлок Гаврилово', 'посёлок Дзержинского', 'посёлок Жилгородок',\n",
       "       'посёлок Ильичёво', 'посёлок Кикерино', 'посёлок Кобралово',\n",
       "       'посёлок Коробицыно', 'посёлок Левашово', 'посёлок Ленинское',\n",
       "       'посёлок Лисий Нос', 'посёлок Мельниково', 'посёлок Металлострой',\n",
       "       'посёлок Мичуринское', 'посёлок Молодёжное', 'посёлок Мурино',\n",
       "       'посёлок Мыза-Ивановка', 'посёлок Новогорелово',\n",
       "       'посёлок Новый Свет', 'посёлок Пансионат Зелёный Бор',\n",
       "       'посёлок Парголово', 'посёлок Перово', 'посёлок Песочный',\n",
       "       'посёлок Петро-Славянка', 'посёлок Петровское',\n",
       "       'посёлок Платформа 69-й километр', 'посёлок Плодовое',\n",
       "       'посёлок Плоское', 'посёлок Победа', 'посёлок Поляны',\n",
       "       'посёлок Понтонный', 'посёлок Пригородный', 'посёлок Пудость',\n",
       "       'посёлок Репино', 'посёлок Ропша', 'посёлок Сапёрное',\n",
       "       'посёлок Сапёрный', 'посёлок Сосново', 'посёлок Старая Малукса',\n",
       "       'посёлок Стеклянный', 'посёлок Стрельна', 'посёлок Суйда',\n",
       "       'посёлок Сумино', 'посёлок Тельмана', 'посёлок Терволово',\n",
       "       'посёлок Торфяное', 'посёлок Усть-Ижора', 'посёлок Усть-Луга',\n",
       "       'посёлок Форт Красная Горка', 'посёлок Шугозеро', 'посёлок Шушары',\n",
       "       'посёлок Щеглово', 'посёлок городского типа Важины',\n",
       "       'посёлок городского типа Вознесенье',\n",
       "       'посёлок городского типа Вырица',\n",
       "       'посёлок городского типа Красный Бор',\n",
       "       'посёлок городского типа Кузнечное',\n",
       "       'посёлок городского типа Кузьмоловский',\n",
       "       'посёлок городского типа Лебяжье', 'посёлок городского типа Мга',\n",
       "       'посёлок городского типа Павлово',\n",
       "       'посёлок городского типа Рощино', 'посёлок городского типа Рябово',\n",
       "       'посёлок городского типа Сиверский',\n",
       "       'посёлок городского типа Тайцы', 'посёлок городского типа Токсово',\n",
       "       'посёлок городского типа Ульяновка',\n",
       "       'посёлок городского типа Форносово',\n",
       "       'посёлок городского типа имени Морозова',\n",
       "       'посёлок городского типа имени Свердлова',\n",
       "       'посёлок при железнодорожной станции Вещево',\n",
       "       'посёлок при железнодорожной станции Приветнинское',\n",
       "       'посёлок станции Громово', 'посёлок станции Свирь',\n",
       "       'садоводческое некоммерческое товарищество Лесная Поляна',\n",
       "       'садовое товарищество Новая Ропша',\n",
       "       'садовое товарищество Приладожский', 'садовое товарищество Рахья',\n",
       "       'садовое товарищество Садко', 'село Копорье', 'село Никольское',\n",
       "       'село Павлово', 'село Паша', 'село Путилово', 'село Рождествено',\n",
       "       'село Русско-Высоцкое', 'село Старая Ладога', 'село Шум'],\n",
       "      dtype=object)"
      ]
     },
     "execution_count": 18,
     "metadata": {},
     "output_type": "execute_result"
    }
   ],
   "source": [
    "data['locality_name'].sort_values().unique()"
   ]
  },
  {
   "cell_type": "markdown",
   "metadata": {},
   "source": [
    "Посчитаем сколько уникальных значений сейчас: "
   ]
  },
  {
   "cell_type": "code",
   "execution_count": 19,
   "metadata": {},
   "outputs": [
    {
     "data": {
      "text/plain": [
       "364"
      ]
     },
     "execution_count": 19,
     "metadata": {},
     "output_type": "execute_result"
    }
   ],
   "source": [
    "len(data['locality_name'].sort_values().unique())"
   ]
  },
  {
   "cell_type": "code",
   "execution_count": 20,
   "metadata": {},
   "outputs": [
    {
     "data": {
      "text/plain": [
       "array(['Бокситогорск', 'Волосово', 'Волхов', 'Всеволожск', 'Выборг',\n",
       "       'Высоцк', 'Гатчина', 'Зеленогорск', 'Ивангород', 'Каменногорск',\n",
       "       'Кингисепп', 'Кириши', 'Кировск', 'Колпино', 'Коммунар',\n",
       "       'Красное Село', 'Кронштадт', 'Кудрово', 'Лодейное Поле',\n",
       "       'Ломоносов', 'Луга', 'Любань', 'Мурино', 'Никольское',\n",
       "       'Новая Ладога', 'Отрадное', 'Павловск', 'Петергоф', 'Пикалево',\n",
       "       'Подпорожье', 'Приморск', 'Приозерск', 'Пушкин', 'Санкт-Петербург',\n",
       "       'Светогорск', 'Сертолово', 'Сестрорецк', 'Сланцы', 'Сосновый Бор',\n",
       "       'Сясьстрой', 'Тихвин', 'Тосно', 'Шлиссельбург',\n",
       "       'городской поселок Большая Ижора', 'городской поселок Будогощь',\n",
       "       'городской поселок Виллози', 'городской поселок Лесогорский',\n",
       "       'городской поселок Мга', 'городской поселок Назия',\n",
       "       'городской поселок Новоселье', 'городской поселок Павлово',\n",
       "       'городской поселок Рощино', 'городской поселок Свирьстрой',\n",
       "       'городской поселок Советский', 'городской поселок Федоровское',\n",
       "       'городской поселок Янино-1', 'деревня Агалатово', 'деревня Аро',\n",
       "       'деревня Батово', 'деревня Бегуницы', 'деревня Белогорка',\n",
       "       'деревня Большая Вруда', 'деревня Большая Пустомержа',\n",
       "       'деревня Большие Колпаны', 'деревня Большое Рейзино',\n",
       "       'деревня Большой Сабск', 'деревня Бор', 'деревня Борисова Грива',\n",
       "       'деревня Ваганово', 'деревня Вартемяги', 'деревня Вахнова Кара',\n",
       "       'деревня Выскатка', 'деревня Гарболово', 'деревня Глинка',\n",
       "       'деревня Горбунки', 'деревня Гостилицы', 'деревня Заклинье',\n",
       "       'деревня Заневка', 'деревня Зимитицы', 'деревня Извара',\n",
       "       'деревня Иссад', 'деревня Калитино', 'деревня Кальтино',\n",
       "       'деревня Камышовка', 'деревня Каськово', 'деревня Келози',\n",
       "       'деревня Кипень', 'деревня Кисельня', 'деревня Колтуши',\n",
       "       'деревня Коркино', 'деревня Котлы', 'деревня Кривко',\n",
       "       'деревня Кудрово', 'деревня Кузьмолово', 'деревня Курковицы',\n",
       "       'деревня Куровицы', 'деревня Куттузи', 'деревня Лаврики',\n",
       "       'деревня Лаголово', 'деревня Лампово', 'деревня Лесколово',\n",
       "       'деревня Лопухинка', 'деревня Лупполово',\n",
       "       'деревня Малая Романовка', 'деревня Малое Верево',\n",
       "       'деревня Малое Карлино', 'деревня Малые Колпаны',\n",
       "       'деревня Мануйлово', 'деревня Меньково', 'деревня Мины',\n",
       "       'деревня Мистолово', 'деревня Ненимяки', 'деревня Нижние Осельки',\n",
       "       'деревня Нижняя', 'деревня Низино', 'деревня Новое Девяткино',\n",
       "       'деревня Новолисино', 'деревня Нурма', 'деревня Оржицы',\n",
       "       'деревня Парицы', 'деревня Пельгора', 'деревня Пеники',\n",
       "       'деревня Пижма', 'деревня Пикколово', 'деревня Пудомяги',\n",
       "       'деревня Пустынка', 'деревня Пчева', 'деревня Рабитицы',\n",
       "       'деревня Разбегаево', 'деревня Раздолье', 'деревня Разметелево',\n",
       "       'деревня Рапполово', 'деревня Реброво', 'деревня Русско',\n",
       "       'деревня Сижно', 'деревня Снегиревка', 'деревня Старая',\n",
       "       'деревня Старая Пустошь', 'деревня Старое Хинколово',\n",
       "       'деревня Старополье', 'деревня Старосиверская',\n",
       "       'деревня Старые Бегуницы', 'деревня Суоранда',\n",
       "       'деревня Сяськелево', 'деревня Тарасово', 'деревня Терпилицы',\n",
       "       'деревня Тихковицы', 'деревня Тойворово', 'деревня Торосово',\n",
       "       'деревня Торошковичи', 'деревня Трубников Бор',\n",
       "       'деревня Фалилеево', 'деревня Федоровское', 'деревня Хапо-Ое',\n",
       "       'деревня Хязельки', 'деревня Чудской Бор', 'деревня Шпаньково',\n",
       "       'деревня Щеглово', 'деревня Юкки', 'деревня Ялгино',\n",
       "       'деревня Яльгелево', 'деревня Ям-Тесово',\n",
       "       'коттеджный поселок Кивеннапа Север', 'коттеджный поселок Лесное',\n",
       "       'коттеджный поселок Счастье', 'поселок Александровская',\n",
       "       'поселок Алексеевка', 'поселок Аннино', 'поселок Барышево',\n",
       "       'поселок Белоостров', 'поселок Бугры', 'поселок Возрождение',\n",
       "       'поселок Войсковицы', 'поселок Войскорово', 'поселок Володарское',\n",
       "       'поселок Высокоключевой', 'поселок Гаврилово', 'поселок Гарболово',\n",
       "       'поселок Гладкое', 'поселок Глажево', 'поселок Глебычево',\n",
       "       'поселок Гончарово', 'поселок Громово', 'поселок Дзержинского',\n",
       "       'поселок Дружноселье', 'поселок Елизаветино', 'поселок Жилгородок',\n",
       "       'поселок Жилпоселок', 'поселок Житково', 'поселок Заводской',\n",
       "       'поселок Запорожское', 'поселок Зимитицы', 'поселок Ильичево',\n",
       "       'поселок Калитино', 'поселок Каложицы', 'поселок Кикерино',\n",
       "       'поселок Кингисеппский', 'поселок Кирпичное', 'поселок Кобралово',\n",
       "       'поселок Кобринское', 'поселок Коммунары', 'поселок Коробицыно',\n",
       "       'поселок Котельский', 'поселок Красная Долина',\n",
       "       'поселок Красносельское', 'поселок Левашово', 'поселок Ленинское',\n",
       "       'поселок Лесное', 'поселок Лисий Нос', 'поселок Лукаши',\n",
       "       'поселок Любань', 'поселок Мельниково', 'поселок Металлострой',\n",
       "       'поселок Мичуринское', 'поселок Молодежное', 'поселок Молодцово',\n",
       "       'поселок Мурино', 'поселок Мыза-Ивановка', 'поселок Новогорелово',\n",
       "       'поселок Новый Свет', 'поселок Новый Учхоз', 'поселок Оредеж',\n",
       "       'поселок Пансионат Зеленый Бор', 'поселок Парголово',\n",
       "       'поселок Первомайское', 'поселок Перово', 'поселок Песочный',\n",
       "       'поселок Петро-Славянка', 'поселок Петровское',\n",
       "       'поселок Платформа 69-й километр', 'поселок Плодовое',\n",
       "       'поселок Плоское', 'поселок Победа', 'поселок Поляны',\n",
       "       'поселок Понтонный', 'поселок Почап', 'поселок Починок',\n",
       "       'поселок Пригородный', 'поселок Пудость', 'поселок Пушное',\n",
       "       'поселок Пчевжа', 'поселок Рабитицы', 'поселок Репино',\n",
       "       'поселок Романовка', 'поселок Ромашки', 'поселок Ропша',\n",
       "       'поселок Рябово', 'поселок Саперное', 'поселок Саперный',\n",
       "       'поселок Севастьяново', 'поселок Селезнево', 'поселок Сельцо',\n",
       "       'поселок Семиозерье', 'поселок Семрино', 'поселок Серебрянский',\n",
       "       'поселок Совхозный', 'поселок Сосново', 'поселок Старая Малукса',\n",
       "       'поселок Стеклянный', 'поселок Стрельна', 'поселок Суйда',\n",
       "       'поселок Сумино', 'поселок Суходолье', 'поселок Тельмана',\n",
       "       'поселок Терволово', 'поселок Тесово-4', 'поселок Торковичи',\n",
       "       'поселок Торфяное', 'поселок Углово', 'поселок Усть-Ижора',\n",
       "       'поселок Усть-Луга', 'поселок Ушаки', 'поселок Форт Красная Горка',\n",
       "       'поселок Цвелодубово', 'поселок Цвылево', 'поселок Шугозеро',\n",
       "       'поселок Шушары', 'поселок Щеглово',\n",
       "       'поселок городского типа Большая Ижора',\n",
       "       'поселок городского типа Важины',\n",
       "       'поселок городского типа Вознесенье',\n",
       "       'поселок городского типа Вырица',\n",
       "       'поселок городского типа Дружная Горка',\n",
       "       'поселок городского типа Дубровка',\n",
       "       'поселок городского типа Ефимовский',\n",
       "       'поселок городского типа Кондратьево',\n",
       "       'поселок городского типа Красный Бор',\n",
       "       'поселок городского типа Кузнечное',\n",
       "       'поселок городского типа Кузьмоловский',\n",
       "       'поселок городского типа Лебяжье',\n",
       "       'поселок городского типа Лесогорский',\n",
       "       'поселок городского типа Мга', 'поселок городского типа Назия',\n",
       "       'поселок городского типа Никольский',\n",
       "       'поселок городского типа Павлово',\n",
       "       'поселок городского типа Приладожский',\n",
       "       'поселок городского типа Рахья', 'поселок городского типа Рощино',\n",
       "       'поселок городского типа Рябово',\n",
       "       'поселок городского типа Сиверский',\n",
       "       'поселок городского типа Синявино',\n",
       "       'поселок городского типа Советский',\n",
       "       'поселок городского типа Тайцы', 'поселок городского типа Токсово',\n",
       "       'поселок городского типа Ульяновка',\n",
       "       'поселок городского типа Форносово',\n",
       "       'поселок городского типа имени Морозова',\n",
       "       'поселок городского типа имени Свердлова',\n",
       "       'поселок при железнодорожной станции Вещево',\n",
       "       'поселок при железнодорожной станции Приветнинское',\n",
       "       'поселок станции Вещево', 'поселок станции Громово',\n",
       "       'поселок станции Корнево', 'поселок станции Лужайка',\n",
       "       'поселок станции Приветнинское', 'поселок станции Свирь',\n",
       "       'садоводческое некоммерческое товарищество Лесная Поляна',\n",
       "       'садовое товарищество Новая Ропша',\n",
       "       'садовое товарищество Приладожский', 'садовое товарищество Рахья',\n",
       "       'садовое товарищество Садко', 'село Копорье', 'село Никольское',\n",
       "       'село Павлово', 'село Паша', 'село Путилово', 'село Рождествено',\n",
       "       'село Русско-Высоцкое', 'село Старая Ладога', 'село Шум'],\n",
       "      dtype=object)"
      ]
     },
     "execution_count": 20,
     "metadata": {},
     "output_type": "execute_result"
    }
   ],
   "source": [
    "#Чаще всего встречается неявные дубликаты с буквами е и ё. Избавимся от этого. \n",
    "data['locality_name'] = data['locality_name'].str.replace('ё', 'е', regex=True)\n",
    "data['locality_name'].sort_values().unique()"
   ]
  },
  {
   "cell_type": "code",
   "execution_count": 21,
   "metadata": {},
   "outputs": [
    {
     "data": {
      "text/plain": [
       "330"
      ]
     },
     "execution_count": 21,
     "metadata": {},
     "output_type": "execute_result"
    }
   ],
   "source": [
    "# Столько уникальных значений сейчас\n",
    "len(data['locality_name'].sort_values().unique())"
   ]
  },
  {
   "cell_type": "markdown",
   "metadata": {},
   "source": [
    "Итог: избавились от 34 неявных дубликатов. "
   ]
  },
  {
   "cell_type": "code",
   "execution_count": 22,
   "metadata": {},
   "outputs": [
    {
     "data": {
      "text/plain": [
       "329"
      ]
     },
     "execution_count": 22,
     "metadata": {},
     "output_type": "execute_result"
    }
   ],
   "source": [
    "#Встречается поселок Рябово и поселок городского типа Рябово. Скорее всего это один и тот же населенный пункт. Избавимся от него. \n",
    "data = data.loc[data['locality_name'] != 'поселок Рябово']\n",
    "len(data['locality_name'].sort_values().unique())"
   ]
  },
  {
   "cell_type": "markdown",
   "metadata": {},
   "source": [
    "Избавились от еще одного неявного дубликата. \n",
    "Могут встречаться и другие повторы в названиях, но так как нет достоверной информации о том, что это действительно один и тот же населеный пункт, то не будем вносить изменения. "
   ]
  },
  {
   "cell_type": "markdown",
   "metadata": {},
   "source": [
    "#### Найдем и устраним редкие и выбивающиеся значения."
   ]
  },
  {
   "cell_type": "markdown",
   "metadata": {},
   "source": [
    "Изучим столбцы data  данными, вводимыми пользователями, напредмет редких и выбивающихся значений. "
   ]
  },
  {
   "cell_type": "markdown",
   "metadata": {},
   "source": [
    "##### Столбец total_images"
   ]
  },
  {
   "cell_type": "code",
   "execution_count": 23,
   "metadata": {},
   "outputs": [
    {
     "data": {
      "text/plain": [
       "array([20,  7, 10,  0,  2,  6,  5, 18,  9,  1, 16, 11,  8, 12, 13,  3, 15,\n",
       "       17, 14, 19, 32,  4, 35, 39, 23, 21, 27, 30, 24, 25, 28, 31, 22, 29,\n",
       "       26, 50, 42, 37])"
      ]
     },
     "execution_count": 23,
     "metadata": {},
     "output_type": "execute_result"
    }
   ],
   "source": [
    "data['total_images'].unique()"
   ]
  },
  {
   "cell_type": "markdown",
   "metadata": {},
   "source": [
    "<b>Вывод:</b> необычных значений не вижу. В тех. задании нет упоминания о том, какое количество изображений может быть добавленно максимально, поэтому количество 50 не принимаю за выбивающееся."
   ]
  },
  {
   "cell_type": "markdown",
   "metadata": {},
   "source": [
    "##### Столбец last_price"
   ]
  },
  {
   "cell_type": "code",
   "execution_count": 24,
   "metadata": {},
   "outputs": [
    {
     "name": "stdout",
     "output_type": "stream",
     "text": [
      "[13000000.  3350000.  5196000. ...  6151120. 21400000. 11475000.]\n",
      "минимальная цена:  12190.0\n",
      "максимальная цена:  763000000.0\n"
     ]
    }
   ],
   "source": [
    "print(data['last_price'].unique())\n",
    "print('минимальная цена: ', data['last_price'].min())\n",
    "print('максимальная цена: ', data['last_price'].max())"
   ]
  },
  {
   "cell_type": "markdown",
   "metadata": {},
   "source": [
    "Видим, что минимальная цена в квартиру выставлена 12190, что не представляется реальным. Удалим строки с данным значением. "
   ]
  },
  {
   "cell_type": "code",
   "execution_count": 25,
   "metadata": {},
   "outputs": [
    {
     "name": "stdout",
     "output_type": "stream",
     "text": [
      "минимальная цена:  430000.0\n"
     ]
    }
   ],
   "source": [
    "data = data.loc[data['last_price'] != 12190]\n",
    "print('минимальная цена: ', data['last_price'].min())"
   ]
  },
  {
   "cell_type": "markdown",
   "metadata": {},
   "source": [
    "Теперь минимальная цена составляет 430 000 рублей. Что больше похоже на реальность - в небольшом населенном пункте недвижимость вполне может столько стоить. \n",
    "Максимальная же цена 763 000 000 рублей, что много, но тоже реально."
   ]
  },
  {
   "cell_type": "markdown",
   "metadata": {},
   "source": [
    "##### Столбец total_area"
   ]
  },
  {
   "cell_type": "code",
   "execution_count": 26,
   "metadata": {},
   "outputs": [
    {
     "name": "stdout",
     "output_type": "stream",
     "text": [
      "[108.    40.4   56.   ...  66.86 133.81  76.75]\n",
      "минимальная общая площадь:  12.0\n",
      "максимальная общая площадь:  900.0\n"
     ]
    }
   ],
   "source": [
    "print(data['total_area'].unique())\n",
    "print('минимальная общая площадь: ', data['total_area'].min())\n",
    "print('максимальная общая площадь: ', data['total_area'].max())"
   ]
  },
  {
   "cell_type": "markdown",
   "metadata": {},
   "source": [
    "<b>Вывод:</b> если говорить о студии, то площадь в 12 кв.м. представляется реальной. Также и квартира может быть 900 кв.м. Значения не считаю выбивающимися. "
   ]
  },
  {
   "cell_type": "markdown",
   "metadata": {},
   "source": [
    "##### Столбец rooms"
   ]
  },
  {
   "cell_type": "code",
   "execution_count": 27,
   "metadata": {},
   "outputs": [
    {
     "name": "stdout",
     "output_type": "stream",
     "text": [
      "[ 3  1  2  4  5  6  0  7 11  8 14 10 15  9 19 16 12]\n",
      "минимальное кол. комнат:  0\n",
      "максимальное кол. комнат:  19\n"
     ]
    }
   ],
   "source": [
    "print(data['rooms'].unique())\n",
    "print('минимальное кол. комнат: ', data['rooms'].min())\n",
    "print('максимальное кол. комнат: ', data['rooms'].max())"
   ]
  },
  {
   "cell_type": "code",
   "execution_count": 28,
   "metadata": {},
   "outputs": [
    {
     "name": "stdout",
     "output_type": "stream",
     "text": [
      "минимальное кол. комнат:  1\n"
     ]
    }
   ],
   "source": [
    "#нулевое количество комнат быть не может. Избавимся от некоректных значений\n",
    "data = data.loc[data['rooms'] != 0]\n",
    "print('минимальное кол. комнат: ', data['rooms'].min())"
   ]
  },
  {
   "cell_type": "markdown",
   "metadata": {},
   "source": [
    "<b>Вывод:</b> избавились от некорректного значения 0 комнат. Минимальное стало 1. Максимальное 19 комант, что тоже может быть возможным. "
   ]
  },
  {
   "cell_type": "markdown",
   "metadata": {},
   "source": [
    "##### Столбец ceiling_height"
   ]
  },
  {
   "cell_type": "code",
   "execution_count": 29,
   "metadata": {},
   "outputs": [
    {
     "name": "stdout",
     "output_type": "stream",
     "text": [
      "[  2.7    2.65   3.03   2.5    2.67   2.56   3.05   2.75   2.6    2.9\n",
      "   2.8    2.55   3.     3.2    2.61   3.25   3.45   2.77   2.85   2.64\n",
      "   2.57   4.15   3.5    3.3    2.71   4.     2.47   2.73   2.84   3.1\n",
      "   2.34   3.4    3.06   2.72   2.54   2.51   2.78   2.76  25.     2.58\n",
      "   3.7    2.52   5.2    2.87   2.66   2.59   2.     2.45   3.6    2.92\n",
      "   3.11   3.13   3.8    3.15   3.55   3.16   3.62   3.12   2.53   2.74\n",
      "   2.96   2.46   5.3    5.     2.79   2.95   4.06   2.94   3.82   3.54\n",
      "   3.53   2.83   4.7    2.4    3.38   3.01   5.6    3.65   3.9    3.18\n",
      "   3.35   2.3    3.57   2.48   2.62   2.82   3.98   2.63   3.83   3.52\n",
      "   3.95   3.75   2.88   3.67   3.87   3.66   3.85   3.86   4.19   3.24\n",
      "   4.8    4.5    4.2    3.36  32.     3.08   3.68   3.07   3.37   3.09\n",
      "   8.     3.26   3.34   2.81   3.44   2.97   3.14   4.37   2.68   3.22\n",
      "   3.27   4.1    2.93   3.46  24.     3.47   3.33  27.     3.63   3.32\n",
      "  26.     1.2    8.3    2.98   2.86   3.17   4.4    3.28   3.04   4.45\n",
      "   5.5    3.84   3.23   3.02   3.21   3.43   3.78   4.3    3.39   2.69\n",
      "   3.31   4.65   3.56   2.2    3.51   3.93   3.42   2.99   3.49  14.\n",
      "   4.14   2.91   3.88   1.75   4.25   3.29  20.     2.25   3.76   3.69\n",
      "   6.    22.6    2.89   3.58  27.5    2.49   4.9    3.48  10.3    1.\n",
      " 100.     3.59]\n"
     ]
    },
    {
     "data": {
      "text/plain": [
       "182"
      ]
     },
     "execution_count": 29,
     "metadata": {},
     "output_type": "execute_result"
    }
   ],
   "source": [
    "print(data['ceiling_height'].unique())\n",
    "len(data['ceiling_height'].unique())"
   ]
  },
  {
   "cell_type": "markdown",
   "metadata": {},
   "source": [
    "Видно, что имеют место некорректные значения, например 27,5 м. Высота потолков навряд ли может составлять 27,5 м. Логично предположить, что пользователь имел ввиду 2,75 м. "
   ]
  },
  {
   "cell_type": "code",
   "execution_count": 30,
   "metadata": {},
   "outputs": [],
   "source": [
    "#data = data.replace({'ceiling_height' : { 25 : 2.5, 32 : 3.2, 27 : 2.7, 24 : 2.4, 26 : 2.6, 22.6 : 2.6, 27.5 : 2.75}})\n",
    "#print(data['ceiling_height'].unique())\n",
    "#len(data['ceiling_height'].unique())"
   ]
  },
  {
   "cell_type": "markdown",
   "metadata": {},
   "source": [
    "Природа таких значений как 14.85, 15, 1.2, 14, 20, 1, 100 не совсем ясна. Поэтому удалим эти данные. "
   ]
  },
  {
   "cell_type": "code",
   "execution_count": 31,
   "metadata": {},
   "outputs": [],
   "source": [
    "#data = data.loc[data['ceiling_height'] != 14.85]\n",
    "#data = data.loc[data['ceiling_height'] != 15]\n",
    "#data = data.loc[data['ceiling_height'] != 1.2]\n",
    "#data = data.loc[data['ceiling_height'] != 14]\n",
    "#data = data.loc[data['ceiling_height'] != 20]\n",
    "#data = data.loc[data['ceiling_height'] != 1]\n",
    "#data = data.loc[data['ceiling_height'] != 100]\n",
    "#data = data.loc[data['ceiling_height'] != 10.3]\n",
    "#print(data['ceiling_height'].unique())\n",
    "#len(data['ceiling_height'].unique())"
   ]
  },
  {
   "cell_type": "markdown",
   "metadata": {},
   "source": [
    "##### Столбец rooms floors_total"
   ]
  },
  {
   "cell_type": "code",
   "execution_count": 32,
   "metadata": {},
   "outputs": [
    {
     "data": {
      "text/plain": [
       "array([16., 11.,  5., 14., 12., 26., 24., 27.,  9.,  6., 17., 25.,  3.,\n",
       "       23., 19., 18.,  4., 22.,  8.,  2., 10.,  7., 13., 15., 20., 28.,\n",
       "       36., 21., 35., 34., 60.,  1., 29., 33., 52., 37.])"
      ]
     },
     "execution_count": 32,
     "metadata": {},
     "output_type": "execute_result"
    }
   ],
   "source": [
    "data['floors_total'].unique()"
   ]
  },
  {
   "cell_type": "markdown",
   "metadata": {},
   "source": [
    "<b>Вывод:</b>теоритически все значения являются реальными. Изменения не вносим."
   ]
  },
  {
   "cell_type": "markdown",
   "metadata": {},
   "source": [
    "##### Столбец floor"
   ]
  },
  {
   "cell_type": "code",
   "execution_count": 33,
   "metadata": {},
   "outputs": [
    {
     "name": "stdout",
     "output_type": "stream",
     "text": [
      "[ 8  1  4  9 13  5  6 22 26  7  3  2 11 15 18 10 19 16 20 27 25 17 14 12\n",
      " 21 28 24 23 30 29 32 33 31]\n",
      "минимальный этаж:  1\n",
      "максимальный этаж:  33\n"
     ]
    }
   ],
   "source": [
    "print(data['floor'].unique())\n",
    "print('минимальный этаж: ', data['floor'].min())\n",
    "print('максимальный этаж: ', data['floor'].max())"
   ]
  },
  {
   "cell_type": "markdown",
   "metadata": {},
   "source": [
    "<b>Вывод:</b>Числа отвечают реальности. "
   ]
  },
  {
   "cell_type": "markdown",
   "metadata": {},
   "source": [
    "##### Столбец kitchen_area"
   ]
  },
  {
   "cell_type": "code",
   "execution_count": 34,
   "metadata": {},
   "outputs": [
    {
     "name": "stdout",
     "output_type": "stream",
     "text": [
      "[ 25.    11.     8.3     nan  41.     9.1   14.4   18.9    8.81   6.5\n",
      "   8.5    6.     9.     5.2    8.     7.6    5.6   12.     5.7    6.1\n",
      "  19.6   15.     7.     9.2   11.7   13.4   17.     6.3   11.6    8.8\n",
      "  10.    17.6    7.5    9.5   50.    15.5   10.7   11.1   20.    11.9\n",
      "  16.     5.3   11.5    7.2    6.2   10.4    7.1    4.9    7.3   11.95\n",
      "  10.2    6.4    5.5   13.     8.4   23.6   10.8   18.3    5.     8.2\n",
      "  24.    23.8    6.6   26.85  15.4    7.8   33.8    5.4   12.72  12.2\n",
      "  19.    12.4    7.9   10.3    9.8   17.5   14.7   20.91  21.3   10.6\n",
      "  10.9    9.7    7.7   12.5   11.4    8.6   11.24  14.1   15.7   13.29\n",
      "  14.    12.9   12.7   16.5    9.36  21.5   35.    10.5    8.7   19.3\n",
      "  21.4   40.    49.2   11.52   8.9    9.6   30.    14.2    8.1   10.44\n",
      "   4.5   16.3   11.2   18.4    7.4   11.3    9.4   13.1   10.19   7.06\n",
      "  22.    36.     5.1   18.7    9.9   14.3   18.    23.    19.4   11.8\n",
      "  13.3   17.7   23.1   21.1   11.33  13.5   19.5   13.2   17.2   77.\n",
      "  13.8   12.3    9.3    5.8   26.1   12.88   9.28  16.1   14.5   31.\n",
      "   5.9   10.1   23.4   16.2   19.2   28.6   15.1   26.4    8.98  10.59\n",
      "  17.9   11.27  16.74   9.57  23.43  15.2    8.07  12.24  13.39  36.6\n",
      "  10.84  15.3   18.5   23.9   19.7   19.9   22.1   10.35  10.69  16.9\n",
      "   5.49  31.2    6.8    8.29   6.7   13.6   16.6   10.75  18.8   17.8\n",
      "   2.     6.77  11.06  12.6    7.71  27.    11.35  13.31  63.    21.\n",
      "  20.6   11.78  20.5   13.79  20.52   5.75  66.    18.78  23.5   24.3\n",
      "   6.9   14.8    8.87  14.9    8.71   9.95  17.53  42.6   25.2    8.31\n",
      "   9.67  16.7   14.61  32.    22.4   16.4    6.36  17.1   13.14  18.2\n",
      "   9.18  13.7   15.61  22.31   9.45  29.    14.49   5.35  29.9   25.1\n",
      "   8.08  13.11   6.25  26.    35.35  12.8   30.2   10.09  46.    32.1\n",
      "  11.29  14.56  11.11  11.49  13.67  16.72  24.5   11.14  20.9   11.05\n",
      "   4.    14.84   8.21  12.18  25.34   9.25   8.65  13.9   13.53  15.09\n",
      "   9.39  15.9   24.7   12.35  20.8   27.4    7.17   3.     8.23  24.03\n",
      "   9.17  43.    10.45  11.39  19.92  18.6   20.2   10.72  20.07  11.81\n",
      "  18.45  10.51  39.    10.91   6.73  11.85  37.8    4.8  100.7   21.6\n",
      "   5.78  12.1   11.28   9.97  10.68  21.2   10.56   9.68   8.25   4.7\n",
      "  17.4   10.02  40.2   11.62  14.6   11.71  13.69  18.1   22.22  17.3\n",
      "   6.35  23.3   10.88   6.76  16.8   28.    10.29  11.63  25.6   19.1\n",
      "  15.6   21.87   3.2   12.27  10.39  10.89  60.    11.53   5.68  10.55\n",
      "  33.     3.8   36.2    9.22   5.62  38.    21.9   12.17  19.8   37.\n",
      "   4.2   21.7   12.38  11.46   7.89  31.7   24.4   14.57  30.9   10.15\n",
      "  12.05   9.27  15.33   6.58   9.93  35.05  25.3   28.8   13.05  29.4\n",
      "  36.5    7.92  15.8   15.69  42.     7.85  13.16  12.86  48.    30.5\n",
      "  29.3   45.     9.32  44.     5.74  11.26  14.31  26.6    6.55  10.52\n",
      "   6.72  13.02  11.17  56.2   12.52  28.2   12.29  11.59   8.38   5.47\n",
      "  10.18  10.64  18.88   9.89  36.3   12.92  23.53  37.7   10.36  14.05\n",
      "   9.04  10.78  14.24  13.42  32.8   20.16  10.12   7.12  17.64  23.25\n",
      "  11.41  11.42  40.4   31.47  13.55  13.28  14.55   9.38   8.32  11.55\n",
      "  13.81  24.1   11.51   7.65   9.91  16.83  11.34 100.    11.16  18.34\n",
      "  34.19   6.02  18.07  20.1   12.08   7.18   8.11   8.05   8.06  12.96\n",
      "  42.4    8.93  44.9   10.62   9.72  22.5   11.18  10.22  51.    21.8\n",
      "  10.94  13.49  31.73  70.    25.7    5.86   7.63  11.47  13.25  22.2\n",
      "  19.35  17.28  14.04  39.9   21.76   4.3   10.06   8.19  28.4   22.7\n",
      "  14.74  11.12  25.11  14.02  13.06   8.01  20.38   5.53  46.8   11.31\n",
      "  17.85  20.7   34.78   9.46   6.31  42.5    9.48  43.4   11.57  12.44\n",
      "  14.46  12.58  12.47   7.95  16.32  15.26  12.23  11.37  27.9    8.58\n",
      "  19.51  12.39   9.65   9.05   6.84  20.3   26.5   63.4   41.9    6.82\n",
      "  11.36  10.08  10.54   9.16  14.95  12.84  22.9    8.76  10.03   9.35\n",
      "   7.87   2.89  45.5    7.36  24.9    9.59   7.97   9.85  33.9   42.8\n",
      "   7.86   5.25  10.26   5.33  12.85   9.51  58.4   10.34  23.71  19.42\n",
      "   6.83  11.92  13.17  11.84  12.56  53.1   20.56  41.3    9.01   8.73\n",
      "   5.82   3.7    2.4   31.8   42.7   12.02   8.57  12.76   8.66  11.04\n",
      "  40.3   15.83  18.59   9.37  23.38  10.42  13.93   7.54  23.42  13.64\n",
      "   5.61  19.45  17.59  29.1    5.65  15.42  11.09  11.73  15.72  25.4\n",
      "  10.25  10.38  13.41   5.23   9.09  11.45  11.74  14.64  12.14   8.84\n",
      "  16.66  10.27  12.55  32.55  16.26   6.62  10.33  13.26  32.3   23.2\n",
      "  14.14   9.62  34.    10.92  10.58  22.8   15.85   7.78   8.94   9.82\n",
      "  34.7    8.45  15.62  22.3   14.17  15.39  56.     8.43  87.2   12.66\n",
      "   8.35   8.47  22.72   9.52  28.1   14.97   4.6    5.29  10.49  15.07\n",
      "  20.31  23.28   8.54  30.59  27.57   9.71  28.63   9.98  37.9    6.91\n",
      "  25.9   47.    51.8   14.27  40.7   19.61   9.44  27.76  25.86  36.4\n",
      "  15.78  10.05  26.2   10.32  19.39   9.77  29.5   13.73  10.71  10.73\n",
      "   3.5   13.84   6.19  28.5   16.25  13.47   4.4   43.2   27.5   11.67\n",
      "  44.7   12.57  16.27   6.28  12.01  37.6   13.35   3.4    8.61   8.96\n",
      "  34.8   27.3   10.24   8.15  35.5    4.1   10.43  16.46   7.19  62.\n",
      "  34.3   48.5   30.6   17.55  10.74  13.24   5.91   9.43  20.92   8.13\n",
      "  33.1   10.37  16.77   6.27  26.8   12.37  22.6   33.6   16.92  15.54\n",
      "   6.23  15.35  37.5   21.82   7.94  34.1    9.76   6.03  15.55   8.44\n",
      "  43.8   29.09  18.93  12.75   6.33  24.8    5.64  22.43  39.1   27.6\n",
      "   7.48  32.7    5.44   6.22   7.41  27.1   17.06  75.    34.51   6.26\n",
      "  35.6    9.83  54.3   28.7    3.3   13.63  62.5   10.47  11.87  28.3\n",
      "  11.25   5.42  18.25   8.82   9.58   5.04  13.52  11.44   8.48  13.21\n",
      "   8.03  16.89  26.9   35.4   13.95  14.72   9.34  64.    37.78  23.7\n",
      "  29.8    6.95  16.05  11.65  38.1   10.99  10.86   8.85  14.65   9.24\n",
      "  16.45   7.84  93.2    9.79   7.03  17.12   5.28  12.53  14.51   9.31\n",
      "  31.6   72.     6.86  11.07  14.06  93.     6.93  15.15  32.9    8.34\n",
      "  55.7   24.89  35.9   22.78  16.47  38.86  18.16   8.69  25.5   22.46\n",
      "  13.74  54.2   19.21  31.5   12.11  11.98  10.17  10.63  35.7   12.71\n",
      "   2.3   16.07   9.42  20.77  28.64  13.86  10.01  24.2   12.45  12.87\n",
      "  14.33  12.15  39.7   65.     5.06  14.29  14.43  25.02   8.52  11.56\n",
      "  12.89   8.63  13.32  16.42   5.31  27.2    9.26  14.93  31.4    9.06\n",
      "   6.61  20.4    6.65  19.19  20.24  13.77   6.37  53.    14.58   9.19\n",
      "   8.67  21.22 112.    13.58  12.03  10.87  19.28  16.48  32.6    9.08\n",
      "  12.69   8.09  13.38   5.21  12.83  54.    11.64 107.     1.3   55.5\n",
      "  48.3    9.11  21.53  29.86  28.52  15.43  15.57  13.43  19.94   8.77\n",
      "  50.2   15.03  16.38  13.33  12.43  17.61   9.66  12.32  58.    24.6\n",
      "   6.47  41.1    8.12  21.25  49.4   12.25  28.56  11.69  14.85  15.18\n",
      "   8.02  11.22   8.95  34.6    9.73  10.46  26.7   32.4   12.93  12.63\n",
      "  15.24   8.18  22.15  11.43   7.02  11.93   7.09   6.16   7.15  13.65\n",
      "  10.79  14.98  34.4    5.14   9.75   5.59  35.1   13.04  10.95  16.03\n",
      "   9.13  17.44  40.1    5.85   6.24  21.74  31.3   30.8   16.88  21.55\n",
      "  18.55  17.87  13.83]\n",
      "минимальная площадь кухни:  1.3\n",
      "максимальная площадь кухни:  112.0\n"
     ]
    }
   ],
   "source": [
    "print(data['kitchen_area'].unique())\n",
    "print('минимальная площадь кухни: ', data['kitchen_area'].min())\n",
    "print('максимальная площадь кухни: ', data['kitchen_area'].max())"
   ]
  },
  {
   "cell_type": "markdown",
   "metadata": {},
   "source": [
    "<b>Вывод:</b> хоть минимальное значение и вызывает вопросы, однако в небольших квартирах-студиях площадь кухни может быть 1,3 кв.м. Поэтому не вносим измнения в данные. "
   ]
  },
  {
   "cell_type": "markdown",
   "metadata": {},
   "source": [
    "##### Столбец balcony"
   ]
  },
  {
   "cell_type": "code",
   "execution_count": 35,
   "metadata": {},
   "outputs": [
    {
     "name": "stdout",
     "output_type": "stream",
     "text": [
      "[0. 2. 1. 5. 4. 3.]\n",
      "минимальное кол. балконов:  0.0\n",
      "максимальное кол. балконов:  5.0\n"
     ]
    }
   ],
   "source": [
    "print(data['balcony'].unique())\n",
    "print('минимальное кол. балконов: ', data['balcony'].min())\n",
    "print('максимальное кол. балконов: ', data['balcony'].max())"
   ]
  },
  {
   "cell_type": "markdown",
   "metadata": {},
   "source": [
    "<b>Вывод:</b> Значения отвечают реальности: в квартире может не быть балкона, а может быть их и 5. "
   ]
  },
  {
   "cell_type": "markdown",
   "metadata": {},
   "source": [
    "##### Столбец days_exposition"
   ]
  },
  {
   "cell_type": "code",
   "execution_count": 36,
   "metadata": {},
   "outputs": [
    {
     "name": "stdout",
     "output_type": "stream",
     "text": [
      "[  nan   81.  558. ... 1360. 1007.  971.]\n",
      "минимальное кол. дней размещения:  1.0\n",
      "максимальное кол. дней размещения:  1580.0\n"
     ]
    }
   ],
   "source": [
    "print(data['days_exposition'].unique())\n",
    "print('минимальное кол. дней размещения: ', data['days_exposition'].min())\n",
    "print('максимальное кол. дней размещения: ', data['days_exposition'].max())"
   ]
  },
  {
   "cell_type": "markdown",
   "metadata": {},
   "source": [
    "##### Обработаем редкие и выбивающиеся значения "
   ]
  },
  {
   "cell_type": "code",
   "execution_count": 37,
   "metadata": {},
   "outputs": [
    {
     "data": {
      "text/html": [
       "<div>\n",
       "<style scoped>\n",
       "    .dataframe tbody tr th:only-of-type {\n",
       "        vertical-align: middle;\n",
       "    }\n",
       "\n",
       "    .dataframe tbody tr th {\n",
       "        vertical-align: top;\n",
       "    }\n",
       "\n",
       "    .dataframe thead th {\n",
       "        text-align: right;\n",
       "    }\n",
       "</style>\n",
       "<table border=\"1\" class=\"dataframe\">\n",
       "  <thead>\n",
       "    <tr style=\"text-align: right;\">\n",
       "      <th></th>\n",
       "      <th>total_images</th>\n",
       "      <th>last_price</th>\n",
       "      <th>total_area</th>\n",
       "      <th>rooms</th>\n",
       "      <th>ceiling_height</th>\n",
       "      <th>floors_total</th>\n",
       "      <th>living_area</th>\n",
       "      <th>floor</th>\n",
       "      <th>kitchen_area</th>\n",
       "      <th>balcony</th>\n",
       "      <th>airports_nearest</th>\n",
       "      <th>cityCenters_nearest</th>\n",
       "      <th>parks_nearest</th>\n",
       "      <th>ponds_nearest</th>\n",
       "      <th>days_exposition</th>\n",
       "    </tr>\n",
       "  </thead>\n",
       "  <tbody>\n",
       "    <tr>\n",
       "      <th>count</th>\n",
       "      <td>23368.000000</td>\n",
       "      <td>2.336800e+04</td>\n",
       "      <td>22137.000000</td>\n",
       "      <td>23368.000000</td>\n",
       "      <td>20417.000000</td>\n",
       "      <td>23368.000000</td>\n",
       "      <td>20744.000000</td>\n",
       "      <td>23368.000000</td>\n",
       "      <td>20147.000000</td>\n",
       "      <td>23368.000000</td>\n",
       "      <td>17923.000000</td>\n",
       "      <td>17946.000000</td>\n",
       "      <td>8001.000000</td>\n",
       "      <td>8968.000000</td>\n",
       "      <td>18562.000000</td>\n",
       "    </tr>\n",
       "    <tr>\n",
       "      <th>mean</th>\n",
       "      <td>9.895498</td>\n",
       "      <td>6.567268e+06</td>\n",
       "      <td>54.568011</td>\n",
       "      <td>2.030127</td>\n",
       "      <td>2.630727</td>\n",
       "      <td>10.624101</td>\n",
       "      <td>31.655350</td>\n",
       "      <td>5.855486</td>\n",
       "      <td>9.499128</td>\n",
       "      <td>0.590166</td>\n",
       "      <td>28824.501702</td>\n",
       "      <td>14198.078959</td>\n",
       "      <td>490.206224</td>\n",
       "      <td>518.244759</td>\n",
       "      <td>129.034264</td>\n",
       "    </tr>\n",
       "    <tr>\n",
       "      <th>std</th>\n",
       "      <td>5.683048</td>\n",
       "      <td>1.094301e+07</td>\n",
       "      <td>19.259651</td>\n",
       "      <td>0.973584</td>\n",
       "      <td>0.081581</td>\n",
       "      <td>6.567087</td>\n",
       "      <td>13.931751</td>\n",
       "      <td>4.850453</td>\n",
       "      <td>3.123933</td>\n",
       "      <td>0.960200</td>\n",
       "      <td>12629.586930</td>\n",
       "      <td>8631.769137</td>\n",
       "      <td>341.667939</td>\n",
       "      <td>278.036420</td>\n",
       "      <td>121.640084</td>\n",
       "    </tr>\n",
       "    <tr>\n",
       "      <th>min</th>\n",
       "      <td>0.000000</td>\n",
       "      <td>4.300000e+05</td>\n",
       "      <td>12.000000</td>\n",
       "      <td>0.000000</td>\n",
       "      <td>2.460000</td>\n",
       "      <td>1.000000</td>\n",
       "      <td>2.000000</td>\n",
       "      <td>1.000000</td>\n",
       "      <td>1.300000</td>\n",
       "      <td>0.000000</td>\n",
       "      <td>0.000000</td>\n",
       "      <td>181.000000</td>\n",
       "      <td>1.000000</td>\n",
       "      <td>13.000000</td>\n",
       "      <td>1.000000</td>\n",
       "    </tr>\n",
       "    <tr>\n",
       "      <th>25%</th>\n",
       "      <td>6.000000</td>\n",
       "      <td>3.450000e+06</td>\n",
       "      <td>40.000000</td>\n",
       "      <td>1.000000</td>\n",
       "      <td>2.600000</td>\n",
       "      <td>5.000000</td>\n",
       "      <td>18.500000</td>\n",
       "      <td>2.000000</td>\n",
       "      <td>7.000000</td>\n",
       "      <td>0.000000</td>\n",
       "      <td>18583.500000</td>\n",
       "      <td>9238.000000</td>\n",
       "      <td>288.000000</td>\n",
       "      <td>293.000000</td>\n",
       "      <td>42.000000</td>\n",
       "    </tr>\n",
       "    <tr>\n",
       "      <th>50%</th>\n",
       "      <td>9.000000</td>\n",
       "      <td>4.650000e+06</td>\n",
       "      <td>50.410000</td>\n",
       "      <td>2.000000</td>\n",
       "      <td>2.650000</td>\n",
       "      <td>9.000000</td>\n",
       "      <td>30.000000</td>\n",
       "      <td>4.000000</td>\n",
       "      <td>9.000000</td>\n",
       "      <td>0.000000</td>\n",
       "      <td>26770.000000</td>\n",
       "      <td>13092.000000</td>\n",
       "      <td>454.000000</td>\n",
       "      <td>503.000000</td>\n",
       "      <td>85.000000</td>\n",
       "    </tr>\n",
       "    <tr>\n",
       "      <th>75%</th>\n",
       "      <td>14.000000</td>\n",
       "      <td>6.800000e+06</td>\n",
       "      <td>65.700000</td>\n",
       "      <td>3.000000</td>\n",
       "      <td>2.650000</td>\n",
       "      <td>16.000000</td>\n",
       "      <td>41.000000</td>\n",
       "      <td>8.000000</td>\n",
       "      <td>11.100000</td>\n",
       "      <td>1.000000</td>\n",
       "      <td>37291.000000</td>\n",
       "      <td>16285.000000</td>\n",
       "      <td>612.000000</td>\n",
       "      <td>730.000000</td>\n",
       "      <td>183.000000</td>\n",
       "    </tr>\n",
       "    <tr>\n",
       "      <th>max</th>\n",
       "      <td>50.000000</td>\n",
       "      <td>7.630000e+08</td>\n",
       "      <td>114.600000</td>\n",
       "      <td>5.000000</td>\n",
       "      <td>2.850000</td>\n",
       "      <td>60.000000</td>\n",
       "      <td>77.800000</td>\n",
       "      <td>33.000000</td>\n",
       "      <td>19.450000</td>\n",
       "      <td>5.000000</td>\n",
       "      <td>84869.000000</td>\n",
       "      <td>65968.000000</td>\n",
       "      <td>3190.000000</td>\n",
       "      <td>1344.000000</td>\n",
       "      <td>512.000000</td>\n",
       "    </tr>\n",
       "  </tbody>\n",
       "</table>\n",
       "</div>"
      ],
      "text/plain": [
       "       total_images    last_price    total_area         rooms  ceiling_height  \\\n",
       "count  23368.000000  2.336800e+04  22137.000000  23368.000000    20417.000000   \n",
       "mean       9.895498  6.567268e+06     54.568011      2.030127        2.630727   \n",
       "std        5.683048  1.094301e+07     19.259651      0.973584        0.081581   \n",
       "min        0.000000  4.300000e+05     12.000000      0.000000        2.460000   \n",
       "25%        6.000000  3.450000e+06     40.000000      1.000000        2.600000   \n",
       "50%        9.000000  4.650000e+06     50.410000      2.000000        2.650000   \n",
       "75%       14.000000  6.800000e+06     65.700000      3.000000        2.650000   \n",
       "max       50.000000  7.630000e+08    114.600000      5.000000        2.850000   \n",
       "\n",
       "       floors_total   living_area         floor  kitchen_area       balcony  \\\n",
       "count  23368.000000  20744.000000  23368.000000  20147.000000  23368.000000   \n",
       "mean      10.624101     31.655350      5.855486      9.499128      0.590166   \n",
       "std        6.567087     13.931751      4.850453      3.123933      0.960200   \n",
       "min        1.000000      2.000000      1.000000      1.300000      0.000000   \n",
       "25%        5.000000     18.500000      2.000000      7.000000      0.000000   \n",
       "50%        9.000000     30.000000      4.000000      9.000000      0.000000   \n",
       "75%       16.000000     41.000000      8.000000     11.100000      1.000000   \n",
       "max       60.000000     77.800000     33.000000     19.450000      5.000000   \n",
       "\n",
       "       airports_nearest  cityCenters_nearest  parks_nearest  ponds_nearest  \\\n",
       "count      17923.000000         17946.000000    8001.000000    8968.000000   \n",
       "mean       28824.501702         14198.078959     490.206224     518.244759   \n",
       "std        12629.586930          8631.769137     341.667939     278.036420   \n",
       "min            0.000000           181.000000       1.000000      13.000000   \n",
       "25%        18583.500000          9238.000000     288.000000     293.000000   \n",
       "50%        26770.000000         13092.000000     454.000000     503.000000   \n",
       "75%        37291.000000         16285.000000     612.000000     730.000000   \n",
       "max        84869.000000         65968.000000    3190.000000    1344.000000   \n",
       "\n",
       "       days_exposition  \n",
       "count     18562.000000  \n",
       "mean        129.034264  \n",
       "std         121.640084  \n",
       "min           1.000000  \n",
       "25%          42.000000  \n",
       "50%          85.000000  \n",
       "75%         183.000000  \n",
       "max         512.000000  "
      ]
     },
     "execution_count": 37,
     "metadata": {},
     "output_type": "execute_result"
    }
   ],
   "source": [
    "# Функция для подсчёта границ с учетом 1.5 размаха\n",
    "def quartile_range(df, column):\n",
    "    q1 = df[column].quantile(0.25)\n",
    "    q3 = df[column].quantile(0.75)\n",
    "    iqr = q3 - q1\n",
    "    dfq = df.loc[(df[column] < q3 + 1.5*iqr) & (df[column] > q1 - 1.5*iqr), column]\n",
    "    return dfq\n",
    "# Столбцы с выбросами\n",
    "list_features = ['total_area', 'kitchen_area', 'living_area', 'days_exposition', 'ceiling_height', 'rooms']\n",
    "for col in list_features:\n",
    "    data[col] = quartile_range(data, col)\n",
    "\n",
    "# Возвращаем в целочисленный тип число комнат\n",
    "data['rooms'] = data['rooms'].fillna(0).astype(int)\n",
    "\n",
    "# Изучаем, есть ли выбивающиеся значения\n",
    "data.describe()"
   ]
  },
  {
   "cell_type": "markdown",
   "metadata": {},
   "source": [
    "<b>Вывод:</b> минимальное значение не вызывает вопросов, а вот максимальное... Однако, вполне возможно, что дорогостоящий объект может продаваться достаточно продолжительное время. Так, не имеяя информации опровергающей это, вносить измнения в данные н будем. "
   ]
  },
  {
   "cell_type": "markdown",
   "metadata": {},
   "source": [
    "### Посчитайте и добавьте в таблицу новые столбцы"
   ]
  },
  {
   "cell_type": "markdown",
   "metadata": {},
   "source": [
    "#### Добавим столбец с ценой одного квадратного метра"
   ]
  },
  {
   "cell_type": "code",
   "execution_count": 38,
   "metadata": {},
   "outputs": [
    {
     "data": {
      "text/html": [
       "<div>\n",
       "<style scoped>\n",
       "    .dataframe tbody tr th:only-of-type {\n",
       "        vertical-align: middle;\n",
       "    }\n",
       "\n",
       "    .dataframe tbody tr th {\n",
       "        vertical-align: top;\n",
       "    }\n",
       "\n",
       "    .dataframe thead th {\n",
       "        text-align: right;\n",
       "    }\n",
       "</style>\n",
       "<table border=\"1\" class=\"dataframe\">\n",
       "  <thead>\n",
       "    <tr style=\"text-align: right;\">\n",
       "      <th></th>\n",
       "      <th>total_images</th>\n",
       "      <th>last_price</th>\n",
       "      <th>total_area</th>\n",
       "      <th>first_day_exposition</th>\n",
       "      <th>rooms</th>\n",
       "      <th>ceiling_height</th>\n",
       "      <th>floors_total</th>\n",
       "      <th>living_area</th>\n",
       "      <th>floor</th>\n",
       "      <th>is_apartment</th>\n",
       "      <th>studio</th>\n",
       "      <th>open_plan</th>\n",
       "      <th>kitchen_area</th>\n",
       "      <th>balcony</th>\n",
       "      <th>locality_name</th>\n",
       "      <th>airports_nearest</th>\n",
       "      <th>cityCenters_nearest</th>\n",
       "      <th>parks_around3000</th>\n",
       "      <th>parks_nearest</th>\n",
       "      <th>ponds_around3000</th>\n",
       "      <th>ponds_nearest</th>\n",
       "      <th>days_exposition</th>\n",
       "      <th>price_per_meter</th>\n",
       "    </tr>\n",
       "  </thead>\n",
       "  <tbody>\n",
       "    <tr>\n",
       "      <th>0</th>\n",
       "      <td>20</td>\n",
       "      <td>13000000.0</td>\n",
       "      <td>108.00</td>\n",
       "      <td>2019-03-07</td>\n",
       "      <td>3</td>\n",
       "      <td>2.70</td>\n",
       "      <td>16.0</td>\n",
       "      <td>51.00</td>\n",
       "      <td>8</td>\n",
       "      <td>False</td>\n",
       "      <td>False</td>\n",
       "      <td>False</td>\n",
       "      <td>NaN</td>\n",
       "      <td>0.0</td>\n",
       "      <td>Санкт-Петербург</td>\n",
       "      <td>18863.0</td>\n",
       "      <td>16028.0</td>\n",
       "      <td>1.0</td>\n",
       "      <td>482.0</td>\n",
       "      <td>2.0</td>\n",
       "      <td>755.0</td>\n",
       "      <td>NaN</td>\n",
       "      <td>120370.37</td>\n",
       "    </tr>\n",
       "    <tr>\n",
       "      <th>1</th>\n",
       "      <td>7</td>\n",
       "      <td>3350000.0</td>\n",
       "      <td>40.40</td>\n",
       "      <td>2018-12-04</td>\n",
       "      <td>1</td>\n",
       "      <td>2.65</td>\n",
       "      <td>11.0</td>\n",
       "      <td>18.60</td>\n",
       "      <td>1</td>\n",
       "      <td>False</td>\n",
       "      <td>False</td>\n",
       "      <td>False</td>\n",
       "      <td>11.00</td>\n",
       "      <td>2.0</td>\n",
       "      <td>поселок Шушары</td>\n",
       "      <td>12817.0</td>\n",
       "      <td>18603.0</td>\n",
       "      <td>0.0</td>\n",
       "      <td>NaN</td>\n",
       "      <td>0.0</td>\n",
       "      <td>NaN</td>\n",
       "      <td>81.0</td>\n",
       "      <td>82920.79</td>\n",
       "    </tr>\n",
       "    <tr>\n",
       "      <th>2</th>\n",
       "      <td>10</td>\n",
       "      <td>5196000.0</td>\n",
       "      <td>56.00</td>\n",
       "      <td>2015-08-20</td>\n",
       "      <td>2</td>\n",
       "      <td>2.65</td>\n",
       "      <td>5.0</td>\n",
       "      <td>34.30</td>\n",
       "      <td>4</td>\n",
       "      <td>False</td>\n",
       "      <td>False</td>\n",
       "      <td>False</td>\n",
       "      <td>8.30</td>\n",
       "      <td>0.0</td>\n",
       "      <td>Санкт-Петербург</td>\n",
       "      <td>21741.0</td>\n",
       "      <td>13933.0</td>\n",
       "      <td>1.0</td>\n",
       "      <td>90.0</td>\n",
       "      <td>2.0</td>\n",
       "      <td>574.0</td>\n",
       "      <td>NaN</td>\n",
       "      <td>92785.71</td>\n",
       "    </tr>\n",
       "    <tr>\n",
       "      <th>3</th>\n",
       "      <td>0</td>\n",
       "      <td>64900000.0</td>\n",
       "      <td>NaN</td>\n",
       "      <td>2015-07-24</td>\n",
       "      <td>3</td>\n",
       "      <td>2.65</td>\n",
       "      <td>14.0</td>\n",
       "      <td>NaN</td>\n",
       "      <td>9</td>\n",
       "      <td>False</td>\n",
       "      <td>False</td>\n",
       "      <td>False</td>\n",
       "      <td>NaN</td>\n",
       "      <td>0.0</td>\n",
       "      <td>Санкт-Петербург</td>\n",
       "      <td>28098.0</td>\n",
       "      <td>6800.0</td>\n",
       "      <td>2.0</td>\n",
       "      <td>84.0</td>\n",
       "      <td>3.0</td>\n",
       "      <td>234.0</td>\n",
       "      <td>424.0</td>\n",
       "      <td>NaN</td>\n",
       "    </tr>\n",
       "    <tr>\n",
       "      <th>4</th>\n",
       "      <td>2</td>\n",
       "      <td>10000000.0</td>\n",
       "      <td>100.00</td>\n",
       "      <td>2018-06-19</td>\n",
       "      <td>2</td>\n",
       "      <td>NaN</td>\n",
       "      <td>14.0</td>\n",
       "      <td>32.00</td>\n",
       "      <td>13</td>\n",
       "      <td>False</td>\n",
       "      <td>False</td>\n",
       "      <td>False</td>\n",
       "      <td>NaN</td>\n",
       "      <td>0.0</td>\n",
       "      <td>Санкт-Петербург</td>\n",
       "      <td>31856.0</td>\n",
       "      <td>8098.0</td>\n",
       "      <td>2.0</td>\n",
       "      <td>112.0</td>\n",
       "      <td>1.0</td>\n",
       "      <td>48.0</td>\n",
       "      <td>121.0</td>\n",
       "      <td>100000.00</td>\n",
       "    </tr>\n",
       "    <tr>\n",
       "      <th>5</th>\n",
       "      <td>10</td>\n",
       "      <td>2890000.0</td>\n",
       "      <td>30.40</td>\n",
       "      <td>2018-09-10</td>\n",
       "      <td>1</td>\n",
       "      <td>2.65</td>\n",
       "      <td>12.0</td>\n",
       "      <td>14.40</td>\n",
       "      <td>5</td>\n",
       "      <td>False</td>\n",
       "      <td>False</td>\n",
       "      <td>False</td>\n",
       "      <td>9.10</td>\n",
       "      <td>0.0</td>\n",
       "      <td>городской поселок Янино-1</td>\n",
       "      <td>NaN</td>\n",
       "      <td>NaN</td>\n",
       "      <td>0</td>\n",
       "      <td>NaN</td>\n",
       "      <td>0</td>\n",
       "      <td>NaN</td>\n",
       "      <td>55.0</td>\n",
       "      <td>95065.79</td>\n",
       "    </tr>\n",
       "    <tr>\n",
       "      <th>6</th>\n",
       "      <td>6</td>\n",
       "      <td>3700000.0</td>\n",
       "      <td>37.30</td>\n",
       "      <td>2017-11-02</td>\n",
       "      <td>1</td>\n",
       "      <td>2.65</td>\n",
       "      <td>26.0</td>\n",
       "      <td>10.60</td>\n",
       "      <td>6</td>\n",
       "      <td>False</td>\n",
       "      <td>False</td>\n",
       "      <td>False</td>\n",
       "      <td>14.40</td>\n",
       "      <td>1.0</td>\n",
       "      <td>поселок Парголово</td>\n",
       "      <td>52996.0</td>\n",
       "      <td>19143.0</td>\n",
       "      <td>0.0</td>\n",
       "      <td>NaN</td>\n",
       "      <td>0.0</td>\n",
       "      <td>NaN</td>\n",
       "      <td>155.0</td>\n",
       "      <td>99195.71</td>\n",
       "    </tr>\n",
       "    <tr>\n",
       "      <th>7</th>\n",
       "      <td>5</td>\n",
       "      <td>7915000.0</td>\n",
       "      <td>71.60</td>\n",
       "      <td>2019-04-18</td>\n",
       "      <td>2</td>\n",
       "      <td>2.65</td>\n",
       "      <td>24.0</td>\n",
       "      <td>NaN</td>\n",
       "      <td>22</td>\n",
       "      <td>False</td>\n",
       "      <td>False</td>\n",
       "      <td>False</td>\n",
       "      <td>18.90</td>\n",
       "      <td>2.0</td>\n",
       "      <td>Санкт-Петербург</td>\n",
       "      <td>23982.0</td>\n",
       "      <td>11634.0</td>\n",
       "      <td>0.0</td>\n",
       "      <td>NaN</td>\n",
       "      <td>0.0</td>\n",
       "      <td>NaN</td>\n",
       "      <td>NaN</td>\n",
       "      <td>110544.69</td>\n",
       "    </tr>\n",
       "    <tr>\n",
       "      <th>8</th>\n",
       "      <td>20</td>\n",
       "      <td>2900000.0</td>\n",
       "      <td>33.16</td>\n",
       "      <td>2018-05-23</td>\n",
       "      <td>1</td>\n",
       "      <td>2.65</td>\n",
       "      <td>27.0</td>\n",
       "      <td>15.43</td>\n",
       "      <td>26</td>\n",
       "      <td>False</td>\n",
       "      <td>False</td>\n",
       "      <td>False</td>\n",
       "      <td>8.81</td>\n",
       "      <td>0.0</td>\n",
       "      <td>поселок Мурино</td>\n",
       "      <td>NaN</td>\n",
       "      <td>NaN</td>\n",
       "      <td>0</td>\n",
       "      <td>NaN</td>\n",
       "      <td>0</td>\n",
       "      <td>NaN</td>\n",
       "      <td>189.0</td>\n",
       "      <td>87454.76</td>\n",
       "    </tr>\n",
       "    <tr>\n",
       "      <th>9</th>\n",
       "      <td>18</td>\n",
       "      <td>5400000.0</td>\n",
       "      <td>61.00</td>\n",
       "      <td>2017-02-26</td>\n",
       "      <td>3</td>\n",
       "      <td>2.50</td>\n",
       "      <td>9.0</td>\n",
       "      <td>43.60</td>\n",
       "      <td>7</td>\n",
       "      <td>False</td>\n",
       "      <td>False</td>\n",
       "      <td>False</td>\n",
       "      <td>6.50</td>\n",
       "      <td>2.0</td>\n",
       "      <td>Санкт-Петербург</td>\n",
       "      <td>50898.0</td>\n",
       "      <td>15008.0</td>\n",
       "      <td>0.0</td>\n",
       "      <td>NaN</td>\n",
       "      <td>0.0</td>\n",
       "      <td>NaN</td>\n",
       "      <td>289.0</td>\n",
       "      <td>88524.59</td>\n",
       "    </tr>\n",
       "  </tbody>\n",
       "</table>\n",
       "</div>"
      ],
      "text/plain": [
       "   total_images  last_price  total_area first_day_exposition  rooms  \\\n",
       "0            20  13000000.0      108.00           2019-03-07      3   \n",
       "1             7   3350000.0       40.40           2018-12-04      1   \n",
       "2            10   5196000.0       56.00           2015-08-20      2   \n",
       "3             0  64900000.0         NaN           2015-07-24      3   \n",
       "4             2  10000000.0      100.00           2018-06-19      2   \n",
       "5            10   2890000.0       30.40           2018-09-10      1   \n",
       "6             6   3700000.0       37.30           2017-11-02      1   \n",
       "7             5   7915000.0       71.60           2019-04-18      2   \n",
       "8            20   2900000.0       33.16           2018-05-23      1   \n",
       "9            18   5400000.0       61.00           2017-02-26      3   \n",
       "\n",
       "   ceiling_height  floors_total  living_area  floor  is_apartment  studio  \\\n",
       "0            2.70          16.0        51.00      8         False   False   \n",
       "1            2.65          11.0        18.60      1         False   False   \n",
       "2            2.65           5.0        34.30      4         False   False   \n",
       "3            2.65          14.0          NaN      9         False   False   \n",
       "4             NaN          14.0        32.00     13         False   False   \n",
       "5            2.65          12.0        14.40      5         False   False   \n",
       "6            2.65          26.0        10.60      6         False   False   \n",
       "7            2.65          24.0          NaN     22         False   False   \n",
       "8            2.65          27.0        15.43     26         False   False   \n",
       "9            2.50           9.0        43.60      7         False   False   \n",
       "\n",
       "   open_plan  kitchen_area  balcony              locality_name  \\\n",
       "0      False           NaN      0.0            Санкт-Петербург   \n",
       "1      False         11.00      2.0             поселок Шушары   \n",
       "2      False          8.30      0.0            Санкт-Петербург   \n",
       "3      False           NaN      0.0            Санкт-Петербург   \n",
       "4      False           NaN      0.0            Санкт-Петербург   \n",
       "5      False          9.10      0.0  городской поселок Янино-1   \n",
       "6      False         14.40      1.0          поселок Парголово   \n",
       "7      False         18.90      2.0            Санкт-Петербург   \n",
       "8      False          8.81      0.0             поселок Мурино   \n",
       "9      False          6.50      2.0            Санкт-Петербург   \n",
       "\n",
       "   airports_nearest  cityCenters_nearest parks_around3000  parks_nearest  \\\n",
       "0           18863.0              16028.0              1.0          482.0   \n",
       "1           12817.0              18603.0              0.0            NaN   \n",
       "2           21741.0              13933.0              1.0           90.0   \n",
       "3           28098.0               6800.0              2.0           84.0   \n",
       "4           31856.0               8098.0              2.0          112.0   \n",
       "5               NaN                  NaN                0            NaN   \n",
       "6           52996.0              19143.0              0.0            NaN   \n",
       "7           23982.0              11634.0              0.0            NaN   \n",
       "8               NaN                  NaN                0            NaN   \n",
       "9           50898.0              15008.0              0.0            NaN   \n",
       "\n",
       "  ponds_around3000  ponds_nearest  days_exposition  price_per_meter  \n",
       "0              2.0          755.0              NaN        120370.37  \n",
       "1              0.0            NaN             81.0         82920.79  \n",
       "2              2.0          574.0              NaN         92785.71  \n",
       "3              3.0          234.0            424.0              NaN  \n",
       "4              1.0           48.0            121.0        100000.00  \n",
       "5                0            NaN             55.0         95065.79  \n",
       "6              0.0            NaN            155.0         99195.71  \n",
       "7              0.0            NaN              NaN        110544.69  \n",
       "8                0            NaN            189.0         87454.76  \n",
       "9              0.0            NaN            289.0         88524.59  "
      ]
     },
     "execution_count": 38,
     "metadata": {},
     "output_type": "execute_result"
    }
   ],
   "source": [
    "data['price_per_meter'] = data['last_price'] / data['total_area']\n",
    "data['price_per_meter'] = data['price_per_meter'].round(decimals=2)\n",
    "data.head(10)"
   ]
  },
  {
   "cell_type": "markdown",
   "metadata": {},
   "source": [
    "#### Добавим столбец с денем недели публикации объявления"
   ]
  },
  {
   "cell_type": "code",
   "execution_count": 39,
   "metadata": {},
   "outputs": [
    {
     "data": {
      "text/html": [
       "<div>\n",
       "<style scoped>\n",
       "    .dataframe tbody tr th:only-of-type {\n",
       "        vertical-align: middle;\n",
       "    }\n",
       "\n",
       "    .dataframe tbody tr th {\n",
       "        vertical-align: top;\n",
       "    }\n",
       "\n",
       "    .dataframe thead th {\n",
       "        text-align: right;\n",
       "    }\n",
       "</style>\n",
       "<table border=\"1\" class=\"dataframe\">\n",
       "  <thead>\n",
       "    <tr style=\"text-align: right;\">\n",
       "      <th></th>\n",
       "      <th>total_images</th>\n",
       "      <th>last_price</th>\n",
       "      <th>total_area</th>\n",
       "      <th>first_day_exposition</th>\n",
       "      <th>rooms</th>\n",
       "      <th>ceiling_height</th>\n",
       "      <th>floors_total</th>\n",
       "      <th>living_area</th>\n",
       "      <th>floor</th>\n",
       "      <th>is_apartment</th>\n",
       "      <th>studio</th>\n",
       "      <th>open_plan</th>\n",
       "      <th>kitchen_area</th>\n",
       "      <th>balcony</th>\n",
       "      <th>locality_name</th>\n",
       "      <th>airports_nearest</th>\n",
       "      <th>cityCenters_nearest</th>\n",
       "      <th>parks_around3000</th>\n",
       "      <th>parks_nearest</th>\n",
       "      <th>ponds_around3000</th>\n",
       "      <th>ponds_nearest</th>\n",
       "      <th>days_exposition</th>\n",
       "      <th>price_per_meter</th>\n",
       "      <th>day_of_week_exposition</th>\n",
       "      <th>day_of_week_exposition_number</th>\n",
       "      <th>month_exposition</th>\n",
       "      <th>year_exposition</th>\n",
       "    </tr>\n",
       "  </thead>\n",
       "  <tbody>\n",
       "    <tr>\n",
       "      <th>0</th>\n",
       "      <td>20</td>\n",
       "      <td>13000000.0</td>\n",
       "      <td>108.00</td>\n",
       "      <td>2019-03-07</td>\n",
       "      <td>3</td>\n",
       "      <td>2.70</td>\n",
       "      <td>16.0</td>\n",
       "      <td>51.00</td>\n",
       "      <td>8</td>\n",
       "      <td>False</td>\n",
       "      <td>False</td>\n",
       "      <td>False</td>\n",
       "      <td>NaN</td>\n",
       "      <td>0.0</td>\n",
       "      <td>Санкт-Петербург</td>\n",
       "      <td>18863.0</td>\n",
       "      <td>16028.0</td>\n",
       "      <td>1.0</td>\n",
       "      <td>482.0</td>\n",
       "      <td>2.0</td>\n",
       "      <td>755.0</td>\n",
       "      <td>NaN</td>\n",
       "      <td>120370.37</td>\n",
       "      <td>Thursday</td>\n",
       "      <td>3</td>\n",
       "      <td>March</td>\n",
       "      <td>2019</td>\n",
       "    </tr>\n",
       "    <tr>\n",
       "      <th>1</th>\n",
       "      <td>7</td>\n",
       "      <td>3350000.0</td>\n",
       "      <td>40.40</td>\n",
       "      <td>2018-12-04</td>\n",
       "      <td>1</td>\n",
       "      <td>2.65</td>\n",
       "      <td>11.0</td>\n",
       "      <td>18.60</td>\n",
       "      <td>1</td>\n",
       "      <td>False</td>\n",
       "      <td>False</td>\n",
       "      <td>False</td>\n",
       "      <td>11.00</td>\n",
       "      <td>2.0</td>\n",
       "      <td>поселок Шушары</td>\n",
       "      <td>12817.0</td>\n",
       "      <td>18603.0</td>\n",
       "      <td>0.0</td>\n",
       "      <td>NaN</td>\n",
       "      <td>0.0</td>\n",
       "      <td>NaN</td>\n",
       "      <td>81.0</td>\n",
       "      <td>82920.79</td>\n",
       "      <td>Tuesday</td>\n",
       "      <td>1</td>\n",
       "      <td>December</td>\n",
       "      <td>2018</td>\n",
       "    </tr>\n",
       "    <tr>\n",
       "      <th>2</th>\n",
       "      <td>10</td>\n",
       "      <td>5196000.0</td>\n",
       "      <td>56.00</td>\n",
       "      <td>2015-08-20</td>\n",
       "      <td>2</td>\n",
       "      <td>2.65</td>\n",
       "      <td>5.0</td>\n",
       "      <td>34.30</td>\n",
       "      <td>4</td>\n",
       "      <td>False</td>\n",
       "      <td>False</td>\n",
       "      <td>False</td>\n",
       "      <td>8.30</td>\n",
       "      <td>0.0</td>\n",
       "      <td>Санкт-Петербург</td>\n",
       "      <td>21741.0</td>\n",
       "      <td>13933.0</td>\n",
       "      <td>1.0</td>\n",
       "      <td>90.0</td>\n",
       "      <td>2.0</td>\n",
       "      <td>574.0</td>\n",
       "      <td>NaN</td>\n",
       "      <td>92785.71</td>\n",
       "      <td>Thursday</td>\n",
       "      <td>3</td>\n",
       "      <td>August</td>\n",
       "      <td>2015</td>\n",
       "    </tr>\n",
       "    <tr>\n",
       "      <th>3</th>\n",
       "      <td>0</td>\n",
       "      <td>64900000.0</td>\n",
       "      <td>NaN</td>\n",
       "      <td>2015-07-24</td>\n",
       "      <td>3</td>\n",
       "      <td>2.65</td>\n",
       "      <td>14.0</td>\n",
       "      <td>NaN</td>\n",
       "      <td>9</td>\n",
       "      <td>False</td>\n",
       "      <td>False</td>\n",
       "      <td>False</td>\n",
       "      <td>NaN</td>\n",
       "      <td>0.0</td>\n",
       "      <td>Санкт-Петербург</td>\n",
       "      <td>28098.0</td>\n",
       "      <td>6800.0</td>\n",
       "      <td>2.0</td>\n",
       "      <td>84.0</td>\n",
       "      <td>3.0</td>\n",
       "      <td>234.0</td>\n",
       "      <td>424.0</td>\n",
       "      <td>NaN</td>\n",
       "      <td>Friday</td>\n",
       "      <td>4</td>\n",
       "      <td>July</td>\n",
       "      <td>2015</td>\n",
       "    </tr>\n",
       "    <tr>\n",
       "      <th>4</th>\n",
       "      <td>2</td>\n",
       "      <td>10000000.0</td>\n",
       "      <td>100.00</td>\n",
       "      <td>2018-06-19</td>\n",
       "      <td>2</td>\n",
       "      <td>NaN</td>\n",
       "      <td>14.0</td>\n",
       "      <td>32.00</td>\n",
       "      <td>13</td>\n",
       "      <td>False</td>\n",
       "      <td>False</td>\n",
       "      <td>False</td>\n",
       "      <td>NaN</td>\n",
       "      <td>0.0</td>\n",
       "      <td>Санкт-Петербург</td>\n",
       "      <td>31856.0</td>\n",
       "      <td>8098.0</td>\n",
       "      <td>2.0</td>\n",
       "      <td>112.0</td>\n",
       "      <td>1.0</td>\n",
       "      <td>48.0</td>\n",
       "      <td>121.0</td>\n",
       "      <td>100000.00</td>\n",
       "      <td>Tuesday</td>\n",
       "      <td>1</td>\n",
       "      <td>June</td>\n",
       "      <td>2018</td>\n",
       "    </tr>\n",
       "    <tr>\n",
       "      <th>5</th>\n",
       "      <td>10</td>\n",
       "      <td>2890000.0</td>\n",
       "      <td>30.40</td>\n",
       "      <td>2018-09-10</td>\n",
       "      <td>1</td>\n",
       "      <td>2.65</td>\n",
       "      <td>12.0</td>\n",
       "      <td>14.40</td>\n",
       "      <td>5</td>\n",
       "      <td>False</td>\n",
       "      <td>False</td>\n",
       "      <td>False</td>\n",
       "      <td>9.10</td>\n",
       "      <td>0.0</td>\n",
       "      <td>городской поселок Янино-1</td>\n",
       "      <td>NaN</td>\n",
       "      <td>NaN</td>\n",
       "      <td>0</td>\n",
       "      <td>NaN</td>\n",
       "      <td>0</td>\n",
       "      <td>NaN</td>\n",
       "      <td>55.0</td>\n",
       "      <td>95065.79</td>\n",
       "      <td>Monday</td>\n",
       "      <td>0</td>\n",
       "      <td>September</td>\n",
       "      <td>2018</td>\n",
       "    </tr>\n",
       "    <tr>\n",
       "      <th>6</th>\n",
       "      <td>6</td>\n",
       "      <td>3700000.0</td>\n",
       "      <td>37.30</td>\n",
       "      <td>2017-11-02</td>\n",
       "      <td>1</td>\n",
       "      <td>2.65</td>\n",
       "      <td>26.0</td>\n",
       "      <td>10.60</td>\n",
       "      <td>6</td>\n",
       "      <td>False</td>\n",
       "      <td>False</td>\n",
       "      <td>False</td>\n",
       "      <td>14.40</td>\n",
       "      <td>1.0</td>\n",
       "      <td>поселок Парголово</td>\n",
       "      <td>52996.0</td>\n",
       "      <td>19143.0</td>\n",
       "      <td>0.0</td>\n",
       "      <td>NaN</td>\n",
       "      <td>0.0</td>\n",
       "      <td>NaN</td>\n",
       "      <td>155.0</td>\n",
       "      <td>99195.71</td>\n",
       "      <td>Thursday</td>\n",
       "      <td>3</td>\n",
       "      <td>November</td>\n",
       "      <td>2017</td>\n",
       "    </tr>\n",
       "    <tr>\n",
       "      <th>7</th>\n",
       "      <td>5</td>\n",
       "      <td>7915000.0</td>\n",
       "      <td>71.60</td>\n",
       "      <td>2019-04-18</td>\n",
       "      <td>2</td>\n",
       "      <td>2.65</td>\n",
       "      <td>24.0</td>\n",
       "      <td>NaN</td>\n",
       "      <td>22</td>\n",
       "      <td>False</td>\n",
       "      <td>False</td>\n",
       "      <td>False</td>\n",
       "      <td>18.90</td>\n",
       "      <td>2.0</td>\n",
       "      <td>Санкт-Петербург</td>\n",
       "      <td>23982.0</td>\n",
       "      <td>11634.0</td>\n",
       "      <td>0.0</td>\n",
       "      <td>NaN</td>\n",
       "      <td>0.0</td>\n",
       "      <td>NaN</td>\n",
       "      <td>NaN</td>\n",
       "      <td>110544.69</td>\n",
       "      <td>Thursday</td>\n",
       "      <td>3</td>\n",
       "      <td>April</td>\n",
       "      <td>2019</td>\n",
       "    </tr>\n",
       "    <tr>\n",
       "      <th>8</th>\n",
       "      <td>20</td>\n",
       "      <td>2900000.0</td>\n",
       "      <td>33.16</td>\n",
       "      <td>2018-05-23</td>\n",
       "      <td>1</td>\n",
       "      <td>2.65</td>\n",
       "      <td>27.0</td>\n",
       "      <td>15.43</td>\n",
       "      <td>26</td>\n",
       "      <td>False</td>\n",
       "      <td>False</td>\n",
       "      <td>False</td>\n",
       "      <td>8.81</td>\n",
       "      <td>0.0</td>\n",
       "      <td>поселок Мурино</td>\n",
       "      <td>NaN</td>\n",
       "      <td>NaN</td>\n",
       "      <td>0</td>\n",
       "      <td>NaN</td>\n",
       "      <td>0</td>\n",
       "      <td>NaN</td>\n",
       "      <td>189.0</td>\n",
       "      <td>87454.76</td>\n",
       "      <td>Wednesday</td>\n",
       "      <td>2</td>\n",
       "      <td>May</td>\n",
       "      <td>2018</td>\n",
       "    </tr>\n",
       "    <tr>\n",
       "      <th>9</th>\n",
       "      <td>18</td>\n",
       "      <td>5400000.0</td>\n",
       "      <td>61.00</td>\n",
       "      <td>2017-02-26</td>\n",
       "      <td>3</td>\n",
       "      <td>2.50</td>\n",
       "      <td>9.0</td>\n",
       "      <td>43.60</td>\n",
       "      <td>7</td>\n",
       "      <td>False</td>\n",
       "      <td>False</td>\n",
       "      <td>False</td>\n",
       "      <td>6.50</td>\n",
       "      <td>2.0</td>\n",
       "      <td>Санкт-Петербург</td>\n",
       "      <td>50898.0</td>\n",
       "      <td>15008.0</td>\n",
       "      <td>0.0</td>\n",
       "      <td>NaN</td>\n",
       "      <td>0.0</td>\n",
       "      <td>NaN</td>\n",
       "      <td>289.0</td>\n",
       "      <td>88524.59</td>\n",
       "      <td>Sunday</td>\n",
       "      <td>6</td>\n",
       "      <td>February</td>\n",
       "      <td>2017</td>\n",
       "    </tr>\n",
       "  </tbody>\n",
       "</table>\n",
       "</div>"
      ],
      "text/plain": [
       "   total_images  last_price  total_area first_day_exposition  rooms  \\\n",
       "0            20  13000000.0      108.00           2019-03-07      3   \n",
       "1             7   3350000.0       40.40           2018-12-04      1   \n",
       "2            10   5196000.0       56.00           2015-08-20      2   \n",
       "3             0  64900000.0         NaN           2015-07-24      3   \n",
       "4             2  10000000.0      100.00           2018-06-19      2   \n",
       "5            10   2890000.0       30.40           2018-09-10      1   \n",
       "6             6   3700000.0       37.30           2017-11-02      1   \n",
       "7             5   7915000.0       71.60           2019-04-18      2   \n",
       "8            20   2900000.0       33.16           2018-05-23      1   \n",
       "9            18   5400000.0       61.00           2017-02-26      3   \n",
       "\n",
       "   ceiling_height  floors_total  living_area  floor  is_apartment  studio  \\\n",
       "0            2.70          16.0        51.00      8         False   False   \n",
       "1            2.65          11.0        18.60      1         False   False   \n",
       "2            2.65           5.0        34.30      4         False   False   \n",
       "3            2.65          14.0          NaN      9         False   False   \n",
       "4             NaN          14.0        32.00     13         False   False   \n",
       "5            2.65          12.0        14.40      5         False   False   \n",
       "6            2.65          26.0        10.60      6         False   False   \n",
       "7            2.65          24.0          NaN     22         False   False   \n",
       "8            2.65          27.0        15.43     26         False   False   \n",
       "9            2.50           9.0        43.60      7         False   False   \n",
       "\n",
       "   open_plan  kitchen_area  balcony              locality_name  \\\n",
       "0      False           NaN      0.0            Санкт-Петербург   \n",
       "1      False         11.00      2.0             поселок Шушары   \n",
       "2      False          8.30      0.0            Санкт-Петербург   \n",
       "3      False           NaN      0.0            Санкт-Петербург   \n",
       "4      False           NaN      0.0            Санкт-Петербург   \n",
       "5      False          9.10      0.0  городской поселок Янино-1   \n",
       "6      False         14.40      1.0          поселок Парголово   \n",
       "7      False         18.90      2.0            Санкт-Петербург   \n",
       "8      False          8.81      0.0             поселок Мурино   \n",
       "9      False          6.50      2.0            Санкт-Петербург   \n",
       "\n",
       "   airports_nearest  cityCenters_nearest parks_around3000  parks_nearest  \\\n",
       "0           18863.0              16028.0              1.0          482.0   \n",
       "1           12817.0              18603.0              0.0            NaN   \n",
       "2           21741.0              13933.0              1.0           90.0   \n",
       "3           28098.0               6800.0              2.0           84.0   \n",
       "4           31856.0               8098.0              2.0          112.0   \n",
       "5               NaN                  NaN                0            NaN   \n",
       "6           52996.0              19143.0              0.0            NaN   \n",
       "7           23982.0              11634.0              0.0            NaN   \n",
       "8               NaN                  NaN                0            NaN   \n",
       "9           50898.0              15008.0              0.0            NaN   \n",
       "\n",
       "  ponds_around3000  ponds_nearest  days_exposition  price_per_meter  \\\n",
       "0              2.0          755.0              NaN        120370.37   \n",
       "1              0.0            NaN             81.0         82920.79   \n",
       "2              2.0          574.0              NaN         92785.71   \n",
       "3              3.0          234.0            424.0              NaN   \n",
       "4              1.0           48.0            121.0        100000.00   \n",
       "5                0            NaN             55.0         95065.79   \n",
       "6              0.0            NaN            155.0         99195.71   \n",
       "7              0.0            NaN              NaN        110544.69   \n",
       "8                0            NaN            189.0         87454.76   \n",
       "9              0.0            NaN            289.0         88524.59   \n",
       "\n",
       "  day_of_week_exposition  day_of_week_exposition_number month_exposition  \\\n",
       "0               Thursday                              3            March   \n",
       "1                Tuesday                              1         December   \n",
       "2               Thursday                              3           August   \n",
       "3                 Friday                              4             July   \n",
       "4                Tuesday                              1             June   \n",
       "5                 Monday                              0        September   \n",
       "6               Thursday                              3         November   \n",
       "7               Thursday                              3            April   \n",
       "8              Wednesday                              2              May   \n",
       "9                 Sunday                              6         February   \n",
       "\n",
       "   year_exposition  \n",
       "0             2019  \n",
       "1             2018  \n",
       "2             2015  \n",
       "3             2015  \n",
       "4             2018  \n",
       "5             2018  \n",
       "6             2017  \n",
       "7             2019  \n",
       "8             2018  \n",
       "9             2017  "
      ]
     },
     "execution_count": 39,
     "metadata": {},
     "output_type": "execute_result"
    }
   ],
   "source": [
    "data['day_of_week_exposition'] = data['first_day_exposition'].dt.day_name()\n",
    "data['day_of_week_exposition_number'] = data['first_day_exposition'].dt.weekday\n",
    "data['month_exposition'] = data['first_day_exposition'].dt.month_name()\n",
    "data['year_exposition'] = data['first_day_exposition'].dt.year\n",
    "data.head(10)"
   ]
  },
  {
   "cell_type": "markdown",
   "metadata": {},
   "source": [
    "#### Добавим столбец с типом этажа квартиры"
   ]
  },
  {
   "cell_type": "code",
   "execution_count": 40,
   "metadata": {},
   "outputs": [
    {
     "data": {
      "text/html": [
       "<div>\n",
       "<style scoped>\n",
       "    .dataframe tbody tr th:only-of-type {\n",
       "        vertical-align: middle;\n",
       "    }\n",
       "\n",
       "    .dataframe tbody tr th {\n",
       "        vertical-align: top;\n",
       "    }\n",
       "\n",
       "    .dataframe thead th {\n",
       "        text-align: right;\n",
       "    }\n",
       "</style>\n",
       "<table border=\"1\" class=\"dataframe\">\n",
       "  <thead>\n",
       "    <tr style=\"text-align: right;\">\n",
       "      <th></th>\n",
       "      <th>total_images</th>\n",
       "      <th>last_price</th>\n",
       "      <th>total_area</th>\n",
       "      <th>first_day_exposition</th>\n",
       "      <th>rooms</th>\n",
       "      <th>ceiling_height</th>\n",
       "      <th>floors_total</th>\n",
       "      <th>living_area</th>\n",
       "      <th>floor</th>\n",
       "      <th>is_apartment</th>\n",
       "      <th>studio</th>\n",
       "      <th>open_plan</th>\n",
       "      <th>kitchen_area</th>\n",
       "      <th>balcony</th>\n",
       "      <th>locality_name</th>\n",
       "      <th>airports_nearest</th>\n",
       "      <th>cityCenters_nearest</th>\n",
       "      <th>parks_around3000</th>\n",
       "      <th>parks_nearest</th>\n",
       "      <th>ponds_around3000</th>\n",
       "      <th>ponds_nearest</th>\n",
       "      <th>days_exposition</th>\n",
       "      <th>price_per_meter</th>\n",
       "      <th>day_of_week_exposition</th>\n",
       "      <th>day_of_week_exposition_number</th>\n",
       "      <th>month_exposition</th>\n",
       "      <th>year_exposition</th>\n",
       "      <th>floor_status</th>\n",
       "    </tr>\n",
       "  </thead>\n",
       "  <tbody>\n",
       "    <tr>\n",
       "      <th>0</th>\n",
       "      <td>20</td>\n",
       "      <td>13000000.0</td>\n",
       "      <td>108.00</td>\n",
       "      <td>2019-03-07</td>\n",
       "      <td>3</td>\n",
       "      <td>2.70</td>\n",
       "      <td>16.0</td>\n",
       "      <td>51.00</td>\n",
       "      <td>8</td>\n",
       "      <td>False</td>\n",
       "      <td>False</td>\n",
       "      <td>False</td>\n",
       "      <td>NaN</td>\n",
       "      <td>0.0</td>\n",
       "      <td>Санкт-Петербург</td>\n",
       "      <td>18863.0</td>\n",
       "      <td>16028.0</td>\n",
       "      <td>1.0</td>\n",
       "      <td>482.0</td>\n",
       "      <td>2.0</td>\n",
       "      <td>755.0</td>\n",
       "      <td>NaN</td>\n",
       "      <td>120370.37</td>\n",
       "      <td>Thursday</td>\n",
       "      <td>3</td>\n",
       "      <td>March</td>\n",
       "      <td>2019</td>\n",
       "      <td>другой</td>\n",
       "    </tr>\n",
       "    <tr>\n",
       "      <th>1</th>\n",
       "      <td>7</td>\n",
       "      <td>3350000.0</td>\n",
       "      <td>40.40</td>\n",
       "      <td>2018-12-04</td>\n",
       "      <td>1</td>\n",
       "      <td>2.65</td>\n",
       "      <td>11.0</td>\n",
       "      <td>18.60</td>\n",
       "      <td>1</td>\n",
       "      <td>False</td>\n",
       "      <td>False</td>\n",
       "      <td>False</td>\n",
       "      <td>11.00</td>\n",
       "      <td>2.0</td>\n",
       "      <td>поселок Шушары</td>\n",
       "      <td>12817.0</td>\n",
       "      <td>18603.0</td>\n",
       "      <td>0.0</td>\n",
       "      <td>NaN</td>\n",
       "      <td>0.0</td>\n",
       "      <td>NaN</td>\n",
       "      <td>81.0</td>\n",
       "      <td>82920.79</td>\n",
       "      <td>Tuesday</td>\n",
       "      <td>1</td>\n",
       "      <td>December</td>\n",
       "      <td>2018</td>\n",
       "      <td>первый</td>\n",
       "    </tr>\n",
       "    <tr>\n",
       "      <th>2</th>\n",
       "      <td>10</td>\n",
       "      <td>5196000.0</td>\n",
       "      <td>56.00</td>\n",
       "      <td>2015-08-20</td>\n",
       "      <td>2</td>\n",
       "      <td>2.65</td>\n",
       "      <td>5.0</td>\n",
       "      <td>34.30</td>\n",
       "      <td>4</td>\n",
       "      <td>False</td>\n",
       "      <td>False</td>\n",
       "      <td>False</td>\n",
       "      <td>8.30</td>\n",
       "      <td>0.0</td>\n",
       "      <td>Санкт-Петербург</td>\n",
       "      <td>21741.0</td>\n",
       "      <td>13933.0</td>\n",
       "      <td>1.0</td>\n",
       "      <td>90.0</td>\n",
       "      <td>2.0</td>\n",
       "      <td>574.0</td>\n",
       "      <td>NaN</td>\n",
       "      <td>92785.71</td>\n",
       "      <td>Thursday</td>\n",
       "      <td>3</td>\n",
       "      <td>August</td>\n",
       "      <td>2015</td>\n",
       "      <td>другой</td>\n",
       "    </tr>\n",
       "    <tr>\n",
       "      <th>3</th>\n",
       "      <td>0</td>\n",
       "      <td>64900000.0</td>\n",
       "      <td>NaN</td>\n",
       "      <td>2015-07-24</td>\n",
       "      <td>3</td>\n",
       "      <td>2.65</td>\n",
       "      <td>14.0</td>\n",
       "      <td>NaN</td>\n",
       "      <td>9</td>\n",
       "      <td>False</td>\n",
       "      <td>False</td>\n",
       "      <td>False</td>\n",
       "      <td>NaN</td>\n",
       "      <td>0.0</td>\n",
       "      <td>Санкт-Петербург</td>\n",
       "      <td>28098.0</td>\n",
       "      <td>6800.0</td>\n",
       "      <td>2.0</td>\n",
       "      <td>84.0</td>\n",
       "      <td>3.0</td>\n",
       "      <td>234.0</td>\n",
       "      <td>424.0</td>\n",
       "      <td>NaN</td>\n",
       "      <td>Friday</td>\n",
       "      <td>4</td>\n",
       "      <td>July</td>\n",
       "      <td>2015</td>\n",
       "      <td>другой</td>\n",
       "    </tr>\n",
       "    <tr>\n",
       "      <th>4</th>\n",
       "      <td>2</td>\n",
       "      <td>10000000.0</td>\n",
       "      <td>100.00</td>\n",
       "      <td>2018-06-19</td>\n",
       "      <td>2</td>\n",
       "      <td>NaN</td>\n",
       "      <td>14.0</td>\n",
       "      <td>32.00</td>\n",
       "      <td>13</td>\n",
       "      <td>False</td>\n",
       "      <td>False</td>\n",
       "      <td>False</td>\n",
       "      <td>NaN</td>\n",
       "      <td>0.0</td>\n",
       "      <td>Санкт-Петербург</td>\n",
       "      <td>31856.0</td>\n",
       "      <td>8098.0</td>\n",
       "      <td>2.0</td>\n",
       "      <td>112.0</td>\n",
       "      <td>1.0</td>\n",
       "      <td>48.0</td>\n",
       "      <td>121.0</td>\n",
       "      <td>100000.00</td>\n",
       "      <td>Tuesday</td>\n",
       "      <td>1</td>\n",
       "      <td>June</td>\n",
       "      <td>2018</td>\n",
       "      <td>другой</td>\n",
       "    </tr>\n",
       "    <tr>\n",
       "      <th>5</th>\n",
       "      <td>10</td>\n",
       "      <td>2890000.0</td>\n",
       "      <td>30.40</td>\n",
       "      <td>2018-09-10</td>\n",
       "      <td>1</td>\n",
       "      <td>2.65</td>\n",
       "      <td>12.0</td>\n",
       "      <td>14.40</td>\n",
       "      <td>5</td>\n",
       "      <td>False</td>\n",
       "      <td>False</td>\n",
       "      <td>False</td>\n",
       "      <td>9.10</td>\n",
       "      <td>0.0</td>\n",
       "      <td>городской поселок Янино-1</td>\n",
       "      <td>NaN</td>\n",
       "      <td>NaN</td>\n",
       "      <td>0</td>\n",
       "      <td>NaN</td>\n",
       "      <td>0</td>\n",
       "      <td>NaN</td>\n",
       "      <td>55.0</td>\n",
       "      <td>95065.79</td>\n",
       "      <td>Monday</td>\n",
       "      <td>0</td>\n",
       "      <td>September</td>\n",
       "      <td>2018</td>\n",
       "      <td>другой</td>\n",
       "    </tr>\n",
       "    <tr>\n",
       "      <th>6</th>\n",
       "      <td>6</td>\n",
       "      <td>3700000.0</td>\n",
       "      <td>37.30</td>\n",
       "      <td>2017-11-02</td>\n",
       "      <td>1</td>\n",
       "      <td>2.65</td>\n",
       "      <td>26.0</td>\n",
       "      <td>10.60</td>\n",
       "      <td>6</td>\n",
       "      <td>False</td>\n",
       "      <td>False</td>\n",
       "      <td>False</td>\n",
       "      <td>14.40</td>\n",
       "      <td>1.0</td>\n",
       "      <td>поселок Парголово</td>\n",
       "      <td>52996.0</td>\n",
       "      <td>19143.0</td>\n",
       "      <td>0.0</td>\n",
       "      <td>NaN</td>\n",
       "      <td>0.0</td>\n",
       "      <td>NaN</td>\n",
       "      <td>155.0</td>\n",
       "      <td>99195.71</td>\n",
       "      <td>Thursday</td>\n",
       "      <td>3</td>\n",
       "      <td>November</td>\n",
       "      <td>2017</td>\n",
       "      <td>другой</td>\n",
       "    </tr>\n",
       "    <tr>\n",
       "      <th>7</th>\n",
       "      <td>5</td>\n",
       "      <td>7915000.0</td>\n",
       "      <td>71.60</td>\n",
       "      <td>2019-04-18</td>\n",
       "      <td>2</td>\n",
       "      <td>2.65</td>\n",
       "      <td>24.0</td>\n",
       "      <td>NaN</td>\n",
       "      <td>22</td>\n",
       "      <td>False</td>\n",
       "      <td>False</td>\n",
       "      <td>False</td>\n",
       "      <td>18.90</td>\n",
       "      <td>2.0</td>\n",
       "      <td>Санкт-Петербург</td>\n",
       "      <td>23982.0</td>\n",
       "      <td>11634.0</td>\n",
       "      <td>0.0</td>\n",
       "      <td>NaN</td>\n",
       "      <td>0.0</td>\n",
       "      <td>NaN</td>\n",
       "      <td>NaN</td>\n",
       "      <td>110544.69</td>\n",
       "      <td>Thursday</td>\n",
       "      <td>3</td>\n",
       "      <td>April</td>\n",
       "      <td>2019</td>\n",
       "      <td>другой</td>\n",
       "    </tr>\n",
       "    <tr>\n",
       "      <th>8</th>\n",
       "      <td>20</td>\n",
       "      <td>2900000.0</td>\n",
       "      <td>33.16</td>\n",
       "      <td>2018-05-23</td>\n",
       "      <td>1</td>\n",
       "      <td>2.65</td>\n",
       "      <td>27.0</td>\n",
       "      <td>15.43</td>\n",
       "      <td>26</td>\n",
       "      <td>False</td>\n",
       "      <td>False</td>\n",
       "      <td>False</td>\n",
       "      <td>8.81</td>\n",
       "      <td>0.0</td>\n",
       "      <td>поселок Мурино</td>\n",
       "      <td>NaN</td>\n",
       "      <td>NaN</td>\n",
       "      <td>0</td>\n",
       "      <td>NaN</td>\n",
       "      <td>0</td>\n",
       "      <td>NaN</td>\n",
       "      <td>189.0</td>\n",
       "      <td>87454.76</td>\n",
       "      <td>Wednesday</td>\n",
       "      <td>2</td>\n",
       "      <td>May</td>\n",
       "      <td>2018</td>\n",
       "      <td>другой</td>\n",
       "    </tr>\n",
       "    <tr>\n",
       "      <th>9</th>\n",
       "      <td>18</td>\n",
       "      <td>5400000.0</td>\n",
       "      <td>61.00</td>\n",
       "      <td>2017-02-26</td>\n",
       "      <td>3</td>\n",
       "      <td>2.50</td>\n",
       "      <td>9.0</td>\n",
       "      <td>43.60</td>\n",
       "      <td>7</td>\n",
       "      <td>False</td>\n",
       "      <td>False</td>\n",
       "      <td>False</td>\n",
       "      <td>6.50</td>\n",
       "      <td>2.0</td>\n",
       "      <td>Санкт-Петербург</td>\n",
       "      <td>50898.0</td>\n",
       "      <td>15008.0</td>\n",
       "      <td>0.0</td>\n",
       "      <td>NaN</td>\n",
       "      <td>0.0</td>\n",
       "      <td>NaN</td>\n",
       "      <td>289.0</td>\n",
       "      <td>88524.59</td>\n",
       "      <td>Sunday</td>\n",
       "      <td>6</td>\n",
       "      <td>February</td>\n",
       "      <td>2017</td>\n",
       "      <td>другой</td>\n",
       "    </tr>\n",
       "  </tbody>\n",
       "</table>\n",
       "</div>"
      ],
      "text/plain": [
       "   total_images  last_price  total_area first_day_exposition  rooms  \\\n",
       "0            20  13000000.0      108.00           2019-03-07      3   \n",
       "1             7   3350000.0       40.40           2018-12-04      1   \n",
       "2            10   5196000.0       56.00           2015-08-20      2   \n",
       "3             0  64900000.0         NaN           2015-07-24      3   \n",
       "4             2  10000000.0      100.00           2018-06-19      2   \n",
       "5            10   2890000.0       30.40           2018-09-10      1   \n",
       "6             6   3700000.0       37.30           2017-11-02      1   \n",
       "7             5   7915000.0       71.60           2019-04-18      2   \n",
       "8            20   2900000.0       33.16           2018-05-23      1   \n",
       "9            18   5400000.0       61.00           2017-02-26      3   \n",
       "\n",
       "   ceiling_height  floors_total  living_area  floor  is_apartment  studio  \\\n",
       "0            2.70          16.0        51.00      8         False   False   \n",
       "1            2.65          11.0        18.60      1         False   False   \n",
       "2            2.65           5.0        34.30      4         False   False   \n",
       "3            2.65          14.0          NaN      9         False   False   \n",
       "4             NaN          14.0        32.00     13         False   False   \n",
       "5            2.65          12.0        14.40      5         False   False   \n",
       "6            2.65          26.0        10.60      6         False   False   \n",
       "7            2.65          24.0          NaN     22         False   False   \n",
       "8            2.65          27.0        15.43     26         False   False   \n",
       "9            2.50           9.0        43.60      7         False   False   \n",
       "\n",
       "   open_plan  kitchen_area  balcony              locality_name  \\\n",
       "0      False           NaN      0.0            Санкт-Петербург   \n",
       "1      False         11.00      2.0             поселок Шушары   \n",
       "2      False          8.30      0.0            Санкт-Петербург   \n",
       "3      False           NaN      0.0            Санкт-Петербург   \n",
       "4      False           NaN      0.0            Санкт-Петербург   \n",
       "5      False          9.10      0.0  городской поселок Янино-1   \n",
       "6      False         14.40      1.0          поселок Парголово   \n",
       "7      False         18.90      2.0            Санкт-Петербург   \n",
       "8      False          8.81      0.0             поселок Мурино   \n",
       "9      False          6.50      2.0            Санкт-Петербург   \n",
       "\n",
       "   airports_nearest  cityCenters_nearest parks_around3000  parks_nearest  \\\n",
       "0           18863.0              16028.0              1.0          482.0   \n",
       "1           12817.0              18603.0              0.0            NaN   \n",
       "2           21741.0              13933.0              1.0           90.0   \n",
       "3           28098.0               6800.0              2.0           84.0   \n",
       "4           31856.0               8098.0              2.0          112.0   \n",
       "5               NaN                  NaN                0            NaN   \n",
       "6           52996.0              19143.0              0.0            NaN   \n",
       "7           23982.0              11634.0              0.0            NaN   \n",
       "8               NaN                  NaN                0            NaN   \n",
       "9           50898.0              15008.0              0.0            NaN   \n",
       "\n",
       "  ponds_around3000  ponds_nearest  days_exposition  price_per_meter  \\\n",
       "0              2.0          755.0              NaN        120370.37   \n",
       "1              0.0            NaN             81.0         82920.79   \n",
       "2              2.0          574.0              NaN         92785.71   \n",
       "3              3.0          234.0            424.0              NaN   \n",
       "4              1.0           48.0            121.0        100000.00   \n",
       "5                0            NaN             55.0         95065.79   \n",
       "6              0.0            NaN            155.0         99195.71   \n",
       "7              0.0            NaN              NaN        110544.69   \n",
       "8                0            NaN            189.0         87454.76   \n",
       "9              0.0            NaN            289.0         88524.59   \n",
       "\n",
       "  day_of_week_exposition  day_of_week_exposition_number month_exposition  \\\n",
       "0               Thursday                              3            March   \n",
       "1                Tuesday                              1         December   \n",
       "2               Thursday                              3           August   \n",
       "3                 Friday                              4             July   \n",
       "4                Tuesday                              1             June   \n",
       "5                 Monday                              0        September   \n",
       "6               Thursday                              3         November   \n",
       "7               Thursday                              3            April   \n",
       "8              Wednesday                              2              May   \n",
       "9                 Sunday                              6         February   \n",
       "\n",
       "   year_exposition floor_status  \n",
       "0             2019       другой  \n",
       "1             2018       первый  \n",
       "2             2015       другой  \n",
       "3             2015       другой  \n",
       "4             2018       другой  \n",
       "5             2018       другой  \n",
       "6             2017       другой  \n",
       "7             2019       другой  \n",
       "8             2018       другой  \n",
       "9             2017       другой  "
      ]
     },
     "execution_count": 40,
     "metadata": {},
     "output_type": "execute_result"
    }
   ],
   "source": [
    "def floor_status(row):\n",
    "    if row['floor'] == 1:\n",
    "        return 'первый'\n",
    "    elif row['floor'] == row['floors_total']:\n",
    "        return 'последний'\n",
    "    else:\n",
    "        return 'другой'\n",
    "\n",
    "data['floor_status'] = data.apply(floor_status, axis=1)\n",
    "data.head(10)"
   ]
  },
  {
   "cell_type": "code",
   "execution_count": 41,
   "metadata": {},
   "outputs": [
    {
     "data": {
      "text/html": [
       "<div>\n",
       "<style scoped>\n",
       "    .dataframe tbody tr th:only-of-type {\n",
       "        vertical-align: middle;\n",
       "    }\n",
       "\n",
       "    .dataframe tbody tr th {\n",
       "        vertical-align: top;\n",
       "    }\n",
       "\n",
       "    .dataframe thead th {\n",
       "        text-align: right;\n",
       "    }\n",
       "</style>\n",
       "<table border=\"1\" class=\"dataframe\">\n",
       "  <thead>\n",
       "    <tr style=\"text-align: right;\">\n",
       "      <th></th>\n",
       "      <th>total_images</th>\n",
       "      <th>last_price</th>\n",
       "      <th>total_area</th>\n",
       "      <th>first_day_exposition</th>\n",
       "      <th>rooms</th>\n",
       "      <th>ceiling_height</th>\n",
       "      <th>floors_total</th>\n",
       "      <th>living_area</th>\n",
       "      <th>floor</th>\n",
       "      <th>is_apartment</th>\n",
       "      <th>studio</th>\n",
       "      <th>open_plan</th>\n",
       "      <th>kitchen_area</th>\n",
       "      <th>balcony</th>\n",
       "      <th>locality_name</th>\n",
       "      <th>airports_nearest</th>\n",
       "      <th>cityCenters_nearest</th>\n",
       "      <th>parks_around3000</th>\n",
       "      <th>parks_nearest</th>\n",
       "      <th>ponds_around3000</th>\n",
       "      <th>ponds_nearest</th>\n",
       "      <th>days_exposition</th>\n",
       "      <th>price_per_meter</th>\n",
       "      <th>day_of_week_exposition</th>\n",
       "      <th>day_of_week_exposition_number</th>\n",
       "      <th>month_exposition</th>\n",
       "      <th>year_exposition</th>\n",
       "      <th>floor_status</th>\n",
       "    </tr>\n",
       "  </thead>\n",
       "  <tbody>\n",
       "    <tr>\n",
       "      <th>11997</th>\n",
       "      <td>20</td>\n",
       "      <td>4150000.0</td>\n",
       "      <td>40.4</td>\n",
       "      <td>2017-05-01</td>\n",
       "      <td>1</td>\n",
       "      <td>2.65</td>\n",
       "      <td>5.0</td>\n",
       "      <td>17.04</td>\n",
       "      <td>5</td>\n",
       "      <td>False</td>\n",
       "      <td>False</td>\n",
       "      <td>False</td>\n",
       "      <td>NaN</td>\n",
       "      <td>0.0</td>\n",
       "      <td>Пушкин</td>\n",
       "      <td>20562.0</td>\n",
       "      <td>30937.0</td>\n",
       "      <td>0.0</td>\n",
       "      <td>NaN</td>\n",
       "      <td>1.0</td>\n",
       "      <td>349.0</td>\n",
       "      <td>35.0</td>\n",
       "      <td>102722.77</td>\n",
       "      <td>Monday</td>\n",
       "      <td>0</td>\n",
       "      <td>May</td>\n",
       "      <td>2017</td>\n",
       "      <td>последний</td>\n",
       "    </tr>\n",
       "    <tr>\n",
       "      <th>1171</th>\n",
       "      <td>15</td>\n",
       "      <td>7800000.0</td>\n",
       "      <td>62.6</td>\n",
       "      <td>2017-04-21</td>\n",
       "      <td>2</td>\n",
       "      <td>2.65</td>\n",
       "      <td>17.0</td>\n",
       "      <td>39.50</td>\n",
       "      <td>15</td>\n",
       "      <td>False</td>\n",
       "      <td>False</td>\n",
       "      <td>False</td>\n",
       "      <td>10.0</td>\n",
       "      <td>0.0</td>\n",
       "      <td>Санкт-Петербург</td>\n",
       "      <td>34519.0</td>\n",
       "      <td>12100.0</td>\n",
       "      <td>0.0</td>\n",
       "      <td>NaN</td>\n",
       "      <td>0.0</td>\n",
       "      <td>NaN</td>\n",
       "      <td>20.0</td>\n",
       "      <td>124600.64</td>\n",
       "      <td>Friday</td>\n",
       "      <td>4</td>\n",
       "      <td>April</td>\n",
       "      <td>2017</td>\n",
       "      <td>другой</td>\n",
       "    </tr>\n",
       "    <tr>\n",
       "      <th>3724</th>\n",
       "      <td>13</td>\n",
       "      <td>3150000.0</td>\n",
       "      <td>32.8</td>\n",
       "      <td>2017-05-17</td>\n",
       "      <td>1</td>\n",
       "      <td>2.65</td>\n",
       "      <td>15.0</td>\n",
       "      <td>18.00</td>\n",
       "      <td>11</td>\n",
       "      <td>False</td>\n",
       "      <td>False</td>\n",
       "      <td>False</td>\n",
       "      <td>NaN</td>\n",
       "      <td>0.0</td>\n",
       "      <td>Санкт-Петербург</td>\n",
       "      <td>33972.0</td>\n",
       "      <td>11746.0</td>\n",
       "      <td>1.0</td>\n",
       "      <td>520.0</td>\n",
       "      <td>1.0</td>\n",
       "      <td>949.0</td>\n",
       "      <td>61.0</td>\n",
       "      <td>96036.59</td>\n",
       "      <td>Wednesday</td>\n",
       "      <td>2</td>\n",
       "      <td>May</td>\n",
       "      <td>2017</td>\n",
       "      <td>другой</td>\n",
       "    </tr>\n",
       "    <tr>\n",
       "      <th>14005</th>\n",
       "      <td>4</td>\n",
       "      <td>2000000.0</td>\n",
       "      <td>48.5</td>\n",
       "      <td>2017-05-26</td>\n",
       "      <td>2</td>\n",
       "      <td>2.50</td>\n",
       "      <td>5.0</td>\n",
       "      <td>29.60</td>\n",
       "      <td>1</td>\n",
       "      <td>False</td>\n",
       "      <td>False</td>\n",
       "      <td>False</td>\n",
       "      <td>7.0</td>\n",
       "      <td>0.0</td>\n",
       "      <td>село Путилово</td>\n",
       "      <td>NaN</td>\n",
       "      <td>NaN</td>\n",
       "      <td>0</td>\n",
       "      <td>NaN</td>\n",
       "      <td>0</td>\n",
       "      <td>NaN</td>\n",
       "      <td>75.0</td>\n",
       "      <td>41237.11</td>\n",
       "      <td>Friday</td>\n",
       "      <td>4</td>\n",
       "      <td>May</td>\n",
       "      <td>2017</td>\n",
       "      <td>первый</td>\n",
       "    </tr>\n",
       "    <tr>\n",
       "      <th>8154</th>\n",
       "      <td>9</td>\n",
       "      <td>2500000.0</td>\n",
       "      <td>65.4</td>\n",
       "      <td>2019-02-23</td>\n",
       "      <td>3</td>\n",
       "      <td>2.65</td>\n",
       "      <td>9.0</td>\n",
       "      <td>33.00</td>\n",
       "      <td>1</td>\n",
       "      <td>False</td>\n",
       "      <td>False</td>\n",
       "      <td>False</td>\n",
       "      <td>10.0</td>\n",
       "      <td>0.0</td>\n",
       "      <td>Всеволожск</td>\n",
       "      <td>NaN</td>\n",
       "      <td>NaN</td>\n",
       "      <td>0</td>\n",
       "      <td>NaN</td>\n",
       "      <td>0</td>\n",
       "      <td>NaN</td>\n",
       "      <td>NaN</td>\n",
       "      <td>38226.30</td>\n",
       "      <td>Saturday</td>\n",
       "      <td>5</td>\n",
       "      <td>February</td>\n",
       "      <td>2019</td>\n",
       "      <td>первый</td>\n",
       "    </tr>\n",
       "    <tr>\n",
       "      <th>2870</th>\n",
       "      <td>10</td>\n",
       "      <td>2150000.0</td>\n",
       "      <td>54.0</td>\n",
       "      <td>2019-03-05</td>\n",
       "      <td>2</td>\n",
       "      <td>2.50</td>\n",
       "      <td>5.0</td>\n",
       "      <td>29.00</td>\n",
       "      <td>2</td>\n",
       "      <td>False</td>\n",
       "      <td>False</td>\n",
       "      <td>False</td>\n",
       "      <td>8.5</td>\n",
       "      <td>2.0</td>\n",
       "      <td>поселок Молодцово</td>\n",
       "      <td>NaN</td>\n",
       "      <td>NaN</td>\n",
       "      <td>0</td>\n",
       "      <td>NaN</td>\n",
       "      <td>0</td>\n",
       "      <td>NaN</td>\n",
       "      <td>45.0</td>\n",
       "      <td>39814.81</td>\n",
       "      <td>Tuesday</td>\n",
       "      <td>1</td>\n",
       "      <td>March</td>\n",
       "      <td>2019</td>\n",
       "      <td>другой</td>\n",
       "    </tr>\n",
       "    <tr>\n",
       "      <th>19788</th>\n",
       "      <td>0</td>\n",
       "      <td>7900000.0</td>\n",
       "      <td>69.0</td>\n",
       "      <td>2016-06-16</td>\n",
       "      <td>2</td>\n",
       "      <td>2.70</td>\n",
       "      <td>12.0</td>\n",
       "      <td>37.00</td>\n",
       "      <td>8</td>\n",
       "      <td>False</td>\n",
       "      <td>False</td>\n",
       "      <td>False</td>\n",
       "      <td>11.0</td>\n",
       "      <td>2.0</td>\n",
       "      <td>Санкт-Петербург</td>\n",
       "      <td>34939.0</td>\n",
       "      <td>10841.0</td>\n",
       "      <td>0.0</td>\n",
       "      <td>NaN</td>\n",
       "      <td>3.0</td>\n",
       "      <td>616.0</td>\n",
       "      <td>7.0</td>\n",
       "      <td>114492.75</td>\n",
       "      <td>Thursday</td>\n",
       "      <td>3</td>\n",
       "      <td>June</td>\n",
       "      <td>2016</td>\n",
       "      <td>другой</td>\n",
       "    </tr>\n",
       "    <tr>\n",
       "      <th>15691</th>\n",
       "      <td>4</td>\n",
       "      <td>1800000.0</td>\n",
       "      <td>53.5</td>\n",
       "      <td>2017-11-24</td>\n",
       "      <td>2</td>\n",
       "      <td>2.50</td>\n",
       "      <td>5.0</td>\n",
       "      <td>29.70</td>\n",
       "      <td>1</td>\n",
       "      <td>False</td>\n",
       "      <td>False</td>\n",
       "      <td>False</td>\n",
       "      <td>8.1</td>\n",
       "      <td>0.0</td>\n",
       "      <td>Волосово</td>\n",
       "      <td>NaN</td>\n",
       "      <td>NaN</td>\n",
       "      <td>0</td>\n",
       "      <td>NaN</td>\n",
       "      <td>0</td>\n",
       "      <td>NaN</td>\n",
       "      <td>90.0</td>\n",
       "      <td>33644.86</td>\n",
       "      <td>Friday</td>\n",
       "      <td>4</td>\n",
       "      <td>November</td>\n",
       "      <td>2017</td>\n",
       "      <td>первый</td>\n",
       "    </tr>\n",
       "    <tr>\n",
       "      <th>20602</th>\n",
       "      <td>9</td>\n",
       "      <td>5200000.0</td>\n",
       "      <td>59.7</td>\n",
       "      <td>2017-04-30</td>\n",
       "      <td>3</td>\n",
       "      <td>2.60</td>\n",
       "      <td>9.0</td>\n",
       "      <td>35.00</td>\n",
       "      <td>6</td>\n",
       "      <td>False</td>\n",
       "      <td>False</td>\n",
       "      <td>False</td>\n",
       "      <td>7.0</td>\n",
       "      <td>2.0</td>\n",
       "      <td>Санкт-Петербург</td>\n",
       "      <td>12407.0</td>\n",
       "      <td>14998.0</td>\n",
       "      <td>0.0</td>\n",
       "      <td>NaN</td>\n",
       "      <td>1.0</td>\n",
       "      <td>1016.0</td>\n",
       "      <td>296.0</td>\n",
       "      <td>87102.18</td>\n",
       "      <td>Sunday</td>\n",
       "      <td>6</td>\n",
       "      <td>April</td>\n",
       "      <td>2017</td>\n",
       "      <td>другой</td>\n",
       "    </tr>\n",
       "    <tr>\n",
       "      <th>22711</th>\n",
       "      <td>10</td>\n",
       "      <td>3950000.0</td>\n",
       "      <td>37.9</td>\n",
       "      <td>2019-03-07</td>\n",
       "      <td>1</td>\n",
       "      <td>2.78</td>\n",
       "      <td>17.0</td>\n",
       "      <td>16.40</td>\n",
       "      <td>3</td>\n",
       "      <td>False</td>\n",
       "      <td>False</td>\n",
       "      <td>False</td>\n",
       "      <td>9.1</td>\n",
       "      <td>0.0</td>\n",
       "      <td>Санкт-Петербург</td>\n",
       "      <td>17209.0</td>\n",
       "      <td>16005.0</td>\n",
       "      <td>1.0</td>\n",
       "      <td>557.0</td>\n",
       "      <td>2.0</td>\n",
       "      <td>830.0</td>\n",
       "      <td>37.0</td>\n",
       "      <td>104221.64</td>\n",
       "      <td>Thursday</td>\n",
       "      <td>3</td>\n",
       "      <td>March</td>\n",
       "      <td>2019</td>\n",
       "      <td>другой</td>\n",
       "    </tr>\n",
       "  </tbody>\n",
       "</table>\n",
       "</div>"
      ],
      "text/plain": [
       "       total_images  last_price  total_area first_day_exposition  rooms  \\\n",
       "11997            20   4150000.0        40.4           2017-05-01      1   \n",
       "1171             15   7800000.0        62.6           2017-04-21      2   \n",
       "3724             13   3150000.0        32.8           2017-05-17      1   \n",
       "14005             4   2000000.0        48.5           2017-05-26      2   \n",
       "8154              9   2500000.0        65.4           2019-02-23      3   \n",
       "2870             10   2150000.0        54.0           2019-03-05      2   \n",
       "19788             0   7900000.0        69.0           2016-06-16      2   \n",
       "15691             4   1800000.0        53.5           2017-11-24      2   \n",
       "20602             9   5200000.0        59.7           2017-04-30      3   \n",
       "22711            10   3950000.0        37.9           2019-03-07      1   \n",
       "\n",
       "       ceiling_height  floors_total  living_area  floor  is_apartment  studio  \\\n",
       "11997            2.65           5.0        17.04      5         False   False   \n",
       "1171             2.65          17.0        39.50     15         False   False   \n",
       "3724             2.65          15.0        18.00     11         False   False   \n",
       "14005            2.50           5.0        29.60      1         False   False   \n",
       "8154             2.65           9.0        33.00      1         False   False   \n",
       "2870             2.50           5.0        29.00      2         False   False   \n",
       "19788            2.70          12.0        37.00      8         False   False   \n",
       "15691            2.50           5.0        29.70      1         False   False   \n",
       "20602            2.60           9.0        35.00      6         False   False   \n",
       "22711            2.78          17.0        16.40      3         False   False   \n",
       "\n",
       "       open_plan  kitchen_area  balcony      locality_name  airports_nearest  \\\n",
       "11997      False           NaN      0.0             Пушкин           20562.0   \n",
       "1171       False          10.0      0.0    Санкт-Петербург           34519.0   \n",
       "3724       False           NaN      0.0    Санкт-Петербург           33972.0   \n",
       "14005      False           7.0      0.0      село Путилово               NaN   \n",
       "8154       False          10.0      0.0         Всеволожск               NaN   \n",
       "2870       False           8.5      2.0  поселок Молодцово               NaN   \n",
       "19788      False          11.0      2.0    Санкт-Петербург           34939.0   \n",
       "15691      False           8.1      0.0           Волосово               NaN   \n",
       "20602      False           7.0      2.0    Санкт-Петербург           12407.0   \n",
       "22711      False           9.1      0.0    Санкт-Петербург           17209.0   \n",
       "\n",
       "       cityCenters_nearest parks_around3000  parks_nearest ponds_around3000  \\\n",
       "11997              30937.0              0.0            NaN              1.0   \n",
       "1171               12100.0              0.0            NaN              0.0   \n",
       "3724               11746.0              1.0          520.0              1.0   \n",
       "14005                  NaN                0            NaN                0   \n",
       "8154                   NaN                0            NaN                0   \n",
       "2870                   NaN                0            NaN                0   \n",
       "19788              10841.0              0.0            NaN              3.0   \n",
       "15691                  NaN                0            NaN                0   \n",
       "20602              14998.0              0.0            NaN              1.0   \n",
       "22711              16005.0              1.0          557.0              2.0   \n",
       "\n",
       "       ponds_nearest  days_exposition  price_per_meter day_of_week_exposition  \\\n",
       "11997          349.0             35.0        102722.77                 Monday   \n",
       "1171             NaN             20.0        124600.64                 Friday   \n",
       "3724           949.0             61.0         96036.59              Wednesday   \n",
       "14005            NaN             75.0         41237.11                 Friday   \n",
       "8154             NaN              NaN         38226.30               Saturday   \n",
       "2870             NaN             45.0         39814.81                Tuesday   \n",
       "19788          616.0              7.0        114492.75               Thursday   \n",
       "15691            NaN             90.0         33644.86                 Friday   \n",
       "20602         1016.0            296.0         87102.18                 Sunday   \n",
       "22711          830.0             37.0        104221.64               Thursday   \n",
       "\n",
       "       day_of_week_exposition_number month_exposition  year_exposition  \\\n",
       "11997                              0              May             2017   \n",
       "1171                               4            April             2017   \n",
       "3724                               2              May             2017   \n",
       "14005                              4              May             2017   \n",
       "8154                               5         February             2019   \n",
       "2870                               1            March             2019   \n",
       "19788                              3             June             2016   \n",
       "15691                              4         November             2017   \n",
       "20602                              6            April             2017   \n",
       "22711                              3            March             2019   \n",
       "\n",
       "      floor_status  \n",
       "11997    последний  \n",
       "1171        другой  \n",
       "3724        другой  \n",
       "14005       первый  \n",
       "8154        первый  \n",
       "2870        другой  \n",
       "19788       другой  \n",
       "15691       первый  \n",
       "20602       другой  \n",
       "22711       другой  "
      ]
     },
     "execution_count": 41,
     "metadata": {},
     "output_type": "execute_result"
    }
   ],
   "source": [
    "#Провери себя: последний этаж дейстивтельно послений! \n",
    "data.sample(10)"
   ]
  },
  {
   "cell_type": "markdown",
   "metadata": {},
   "source": [
    "#### Добавим в таблицу столбец с расстояниями в километрах"
   ]
  },
  {
   "cell_type": "code",
   "execution_count": 42,
   "metadata": {},
   "outputs": [
    {
     "data": {
      "text/html": [
       "<div>\n",
       "<style scoped>\n",
       "    .dataframe tbody tr th:only-of-type {\n",
       "        vertical-align: middle;\n",
       "    }\n",
       "\n",
       "    .dataframe tbody tr th {\n",
       "        vertical-align: top;\n",
       "    }\n",
       "\n",
       "    .dataframe thead th {\n",
       "        text-align: right;\n",
       "    }\n",
       "</style>\n",
       "<table border=\"1\" class=\"dataframe\">\n",
       "  <thead>\n",
       "    <tr style=\"text-align: right;\">\n",
       "      <th></th>\n",
       "      <th>total_images</th>\n",
       "      <th>last_price</th>\n",
       "      <th>total_area</th>\n",
       "      <th>first_day_exposition</th>\n",
       "      <th>rooms</th>\n",
       "      <th>ceiling_height</th>\n",
       "      <th>floors_total</th>\n",
       "      <th>living_area</th>\n",
       "      <th>floor</th>\n",
       "      <th>is_apartment</th>\n",
       "      <th>studio</th>\n",
       "      <th>open_plan</th>\n",
       "      <th>kitchen_area</th>\n",
       "      <th>balcony</th>\n",
       "      <th>locality_name</th>\n",
       "      <th>airports_nearest</th>\n",
       "      <th>cityCenters_nearest</th>\n",
       "      <th>parks_around3000</th>\n",
       "      <th>parks_nearest</th>\n",
       "      <th>ponds_around3000</th>\n",
       "      <th>ponds_nearest</th>\n",
       "      <th>days_exposition</th>\n",
       "      <th>price_per_meter</th>\n",
       "      <th>day_of_week_exposition</th>\n",
       "      <th>day_of_week_exposition_number</th>\n",
       "      <th>month_exposition</th>\n",
       "      <th>year_exposition</th>\n",
       "      <th>floor_status</th>\n",
       "      <th>city_center_distance_km</th>\n",
       "      <th>nearest_airport_distance_km</th>\n",
       "      <th>nearest_park_distance_km</th>\n",
       "      <th>nearest_pond_distance_km</th>\n",
       "    </tr>\n",
       "  </thead>\n",
       "  <tbody>\n",
       "    <tr>\n",
       "      <th>0</th>\n",
       "      <td>20</td>\n",
       "      <td>13000000.0</td>\n",
       "      <td>108.00</td>\n",
       "      <td>2019-03-07</td>\n",
       "      <td>3</td>\n",
       "      <td>2.70</td>\n",
       "      <td>16.0</td>\n",
       "      <td>51.00</td>\n",
       "      <td>8</td>\n",
       "      <td>False</td>\n",
       "      <td>False</td>\n",
       "      <td>False</td>\n",
       "      <td>NaN</td>\n",
       "      <td>0.0</td>\n",
       "      <td>Санкт-Петербург</td>\n",
       "      <td>18863.0</td>\n",
       "      <td>16028.0</td>\n",
       "      <td>1.0</td>\n",
       "      <td>482.0</td>\n",
       "      <td>2.0</td>\n",
       "      <td>755.0</td>\n",
       "      <td>NaN</td>\n",
       "      <td>120370.37</td>\n",
       "      <td>Thursday</td>\n",
       "      <td>3</td>\n",
       "      <td>March</td>\n",
       "      <td>2019</td>\n",
       "      <td>другой</td>\n",
       "      <td>16.028</td>\n",
       "      <td>18.863</td>\n",
       "      <td>0.482</td>\n",
       "      <td>0.755</td>\n",
       "    </tr>\n",
       "    <tr>\n",
       "      <th>1</th>\n",
       "      <td>7</td>\n",
       "      <td>3350000.0</td>\n",
       "      <td>40.40</td>\n",
       "      <td>2018-12-04</td>\n",
       "      <td>1</td>\n",
       "      <td>2.65</td>\n",
       "      <td>11.0</td>\n",
       "      <td>18.60</td>\n",
       "      <td>1</td>\n",
       "      <td>False</td>\n",
       "      <td>False</td>\n",
       "      <td>False</td>\n",
       "      <td>11.00</td>\n",
       "      <td>2.0</td>\n",
       "      <td>поселок Шушары</td>\n",
       "      <td>12817.0</td>\n",
       "      <td>18603.0</td>\n",
       "      <td>0.0</td>\n",
       "      <td>NaN</td>\n",
       "      <td>0.0</td>\n",
       "      <td>NaN</td>\n",
       "      <td>81.0</td>\n",
       "      <td>82920.79</td>\n",
       "      <td>Tuesday</td>\n",
       "      <td>1</td>\n",
       "      <td>December</td>\n",
       "      <td>2018</td>\n",
       "      <td>первый</td>\n",
       "      <td>18.603</td>\n",
       "      <td>12.817</td>\n",
       "      <td>NaN</td>\n",
       "      <td>NaN</td>\n",
       "    </tr>\n",
       "    <tr>\n",
       "      <th>2</th>\n",
       "      <td>10</td>\n",
       "      <td>5196000.0</td>\n",
       "      <td>56.00</td>\n",
       "      <td>2015-08-20</td>\n",
       "      <td>2</td>\n",
       "      <td>2.65</td>\n",
       "      <td>5.0</td>\n",
       "      <td>34.30</td>\n",
       "      <td>4</td>\n",
       "      <td>False</td>\n",
       "      <td>False</td>\n",
       "      <td>False</td>\n",
       "      <td>8.30</td>\n",
       "      <td>0.0</td>\n",
       "      <td>Санкт-Петербург</td>\n",
       "      <td>21741.0</td>\n",
       "      <td>13933.0</td>\n",
       "      <td>1.0</td>\n",
       "      <td>90.0</td>\n",
       "      <td>2.0</td>\n",
       "      <td>574.0</td>\n",
       "      <td>NaN</td>\n",
       "      <td>92785.71</td>\n",
       "      <td>Thursday</td>\n",
       "      <td>3</td>\n",
       "      <td>August</td>\n",
       "      <td>2015</td>\n",
       "      <td>другой</td>\n",
       "      <td>13.933</td>\n",
       "      <td>21.741</td>\n",
       "      <td>0.090</td>\n",
       "      <td>0.574</td>\n",
       "    </tr>\n",
       "    <tr>\n",
       "      <th>3</th>\n",
       "      <td>0</td>\n",
       "      <td>64900000.0</td>\n",
       "      <td>NaN</td>\n",
       "      <td>2015-07-24</td>\n",
       "      <td>3</td>\n",
       "      <td>2.65</td>\n",
       "      <td>14.0</td>\n",
       "      <td>NaN</td>\n",
       "      <td>9</td>\n",
       "      <td>False</td>\n",
       "      <td>False</td>\n",
       "      <td>False</td>\n",
       "      <td>NaN</td>\n",
       "      <td>0.0</td>\n",
       "      <td>Санкт-Петербург</td>\n",
       "      <td>28098.0</td>\n",
       "      <td>6800.0</td>\n",
       "      <td>2.0</td>\n",
       "      <td>84.0</td>\n",
       "      <td>3.0</td>\n",
       "      <td>234.0</td>\n",
       "      <td>424.0</td>\n",
       "      <td>NaN</td>\n",
       "      <td>Friday</td>\n",
       "      <td>4</td>\n",
       "      <td>July</td>\n",
       "      <td>2015</td>\n",
       "      <td>другой</td>\n",
       "      <td>6.800</td>\n",
       "      <td>28.098</td>\n",
       "      <td>0.084</td>\n",
       "      <td>0.234</td>\n",
       "    </tr>\n",
       "    <tr>\n",
       "      <th>4</th>\n",
       "      <td>2</td>\n",
       "      <td>10000000.0</td>\n",
       "      <td>100.00</td>\n",
       "      <td>2018-06-19</td>\n",
       "      <td>2</td>\n",
       "      <td>NaN</td>\n",
       "      <td>14.0</td>\n",
       "      <td>32.00</td>\n",
       "      <td>13</td>\n",
       "      <td>False</td>\n",
       "      <td>False</td>\n",
       "      <td>False</td>\n",
       "      <td>NaN</td>\n",
       "      <td>0.0</td>\n",
       "      <td>Санкт-Петербург</td>\n",
       "      <td>31856.0</td>\n",
       "      <td>8098.0</td>\n",
       "      <td>2.0</td>\n",
       "      <td>112.0</td>\n",
       "      <td>1.0</td>\n",
       "      <td>48.0</td>\n",
       "      <td>121.0</td>\n",
       "      <td>100000.00</td>\n",
       "      <td>Tuesday</td>\n",
       "      <td>1</td>\n",
       "      <td>June</td>\n",
       "      <td>2018</td>\n",
       "      <td>другой</td>\n",
       "      <td>8.098</td>\n",
       "      <td>31.856</td>\n",
       "      <td>0.112</td>\n",
       "      <td>0.048</td>\n",
       "    </tr>\n",
       "    <tr>\n",
       "      <th>5</th>\n",
       "      <td>10</td>\n",
       "      <td>2890000.0</td>\n",
       "      <td>30.40</td>\n",
       "      <td>2018-09-10</td>\n",
       "      <td>1</td>\n",
       "      <td>2.65</td>\n",
       "      <td>12.0</td>\n",
       "      <td>14.40</td>\n",
       "      <td>5</td>\n",
       "      <td>False</td>\n",
       "      <td>False</td>\n",
       "      <td>False</td>\n",
       "      <td>9.10</td>\n",
       "      <td>0.0</td>\n",
       "      <td>городской поселок Янино-1</td>\n",
       "      <td>NaN</td>\n",
       "      <td>NaN</td>\n",
       "      <td>0</td>\n",
       "      <td>NaN</td>\n",
       "      <td>0</td>\n",
       "      <td>NaN</td>\n",
       "      <td>55.0</td>\n",
       "      <td>95065.79</td>\n",
       "      <td>Monday</td>\n",
       "      <td>0</td>\n",
       "      <td>September</td>\n",
       "      <td>2018</td>\n",
       "      <td>другой</td>\n",
       "      <td>NaN</td>\n",
       "      <td>NaN</td>\n",
       "      <td>NaN</td>\n",
       "      <td>NaN</td>\n",
       "    </tr>\n",
       "    <tr>\n",
       "      <th>6</th>\n",
       "      <td>6</td>\n",
       "      <td>3700000.0</td>\n",
       "      <td>37.30</td>\n",
       "      <td>2017-11-02</td>\n",
       "      <td>1</td>\n",
       "      <td>2.65</td>\n",
       "      <td>26.0</td>\n",
       "      <td>10.60</td>\n",
       "      <td>6</td>\n",
       "      <td>False</td>\n",
       "      <td>False</td>\n",
       "      <td>False</td>\n",
       "      <td>14.40</td>\n",
       "      <td>1.0</td>\n",
       "      <td>поселок Парголово</td>\n",
       "      <td>52996.0</td>\n",
       "      <td>19143.0</td>\n",
       "      <td>0.0</td>\n",
       "      <td>NaN</td>\n",
       "      <td>0.0</td>\n",
       "      <td>NaN</td>\n",
       "      <td>155.0</td>\n",
       "      <td>99195.71</td>\n",
       "      <td>Thursday</td>\n",
       "      <td>3</td>\n",
       "      <td>November</td>\n",
       "      <td>2017</td>\n",
       "      <td>другой</td>\n",
       "      <td>19.143</td>\n",
       "      <td>52.996</td>\n",
       "      <td>NaN</td>\n",
       "      <td>NaN</td>\n",
       "    </tr>\n",
       "    <tr>\n",
       "      <th>7</th>\n",
       "      <td>5</td>\n",
       "      <td>7915000.0</td>\n",
       "      <td>71.60</td>\n",
       "      <td>2019-04-18</td>\n",
       "      <td>2</td>\n",
       "      <td>2.65</td>\n",
       "      <td>24.0</td>\n",
       "      <td>NaN</td>\n",
       "      <td>22</td>\n",
       "      <td>False</td>\n",
       "      <td>False</td>\n",
       "      <td>False</td>\n",
       "      <td>18.90</td>\n",
       "      <td>2.0</td>\n",
       "      <td>Санкт-Петербург</td>\n",
       "      <td>23982.0</td>\n",
       "      <td>11634.0</td>\n",
       "      <td>0.0</td>\n",
       "      <td>NaN</td>\n",
       "      <td>0.0</td>\n",
       "      <td>NaN</td>\n",
       "      <td>NaN</td>\n",
       "      <td>110544.69</td>\n",
       "      <td>Thursday</td>\n",
       "      <td>3</td>\n",
       "      <td>April</td>\n",
       "      <td>2019</td>\n",
       "      <td>другой</td>\n",
       "      <td>11.634</td>\n",
       "      <td>23.982</td>\n",
       "      <td>NaN</td>\n",
       "      <td>NaN</td>\n",
       "    </tr>\n",
       "    <tr>\n",
       "      <th>8</th>\n",
       "      <td>20</td>\n",
       "      <td>2900000.0</td>\n",
       "      <td>33.16</td>\n",
       "      <td>2018-05-23</td>\n",
       "      <td>1</td>\n",
       "      <td>2.65</td>\n",
       "      <td>27.0</td>\n",
       "      <td>15.43</td>\n",
       "      <td>26</td>\n",
       "      <td>False</td>\n",
       "      <td>False</td>\n",
       "      <td>False</td>\n",
       "      <td>8.81</td>\n",
       "      <td>0.0</td>\n",
       "      <td>поселок Мурино</td>\n",
       "      <td>NaN</td>\n",
       "      <td>NaN</td>\n",
       "      <td>0</td>\n",
       "      <td>NaN</td>\n",
       "      <td>0</td>\n",
       "      <td>NaN</td>\n",
       "      <td>189.0</td>\n",
       "      <td>87454.76</td>\n",
       "      <td>Wednesday</td>\n",
       "      <td>2</td>\n",
       "      <td>May</td>\n",
       "      <td>2018</td>\n",
       "      <td>другой</td>\n",
       "      <td>NaN</td>\n",
       "      <td>NaN</td>\n",
       "      <td>NaN</td>\n",
       "      <td>NaN</td>\n",
       "    </tr>\n",
       "    <tr>\n",
       "      <th>9</th>\n",
       "      <td>18</td>\n",
       "      <td>5400000.0</td>\n",
       "      <td>61.00</td>\n",
       "      <td>2017-02-26</td>\n",
       "      <td>3</td>\n",
       "      <td>2.50</td>\n",
       "      <td>9.0</td>\n",
       "      <td>43.60</td>\n",
       "      <td>7</td>\n",
       "      <td>False</td>\n",
       "      <td>False</td>\n",
       "      <td>False</td>\n",
       "      <td>6.50</td>\n",
       "      <td>2.0</td>\n",
       "      <td>Санкт-Петербург</td>\n",
       "      <td>50898.0</td>\n",
       "      <td>15008.0</td>\n",
       "      <td>0.0</td>\n",
       "      <td>NaN</td>\n",
       "      <td>0.0</td>\n",
       "      <td>NaN</td>\n",
       "      <td>289.0</td>\n",
       "      <td>88524.59</td>\n",
       "      <td>Sunday</td>\n",
       "      <td>6</td>\n",
       "      <td>February</td>\n",
       "      <td>2017</td>\n",
       "      <td>другой</td>\n",
       "      <td>15.008</td>\n",
       "      <td>50.898</td>\n",
       "      <td>NaN</td>\n",
       "      <td>NaN</td>\n",
       "    </tr>\n",
       "  </tbody>\n",
       "</table>\n",
       "</div>"
      ],
      "text/plain": [
       "   total_images  last_price  total_area first_day_exposition  rooms  \\\n",
       "0            20  13000000.0      108.00           2019-03-07      3   \n",
       "1             7   3350000.0       40.40           2018-12-04      1   \n",
       "2            10   5196000.0       56.00           2015-08-20      2   \n",
       "3             0  64900000.0         NaN           2015-07-24      3   \n",
       "4             2  10000000.0      100.00           2018-06-19      2   \n",
       "5            10   2890000.0       30.40           2018-09-10      1   \n",
       "6             6   3700000.0       37.30           2017-11-02      1   \n",
       "7             5   7915000.0       71.60           2019-04-18      2   \n",
       "8            20   2900000.0       33.16           2018-05-23      1   \n",
       "9            18   5400000.0       61.00           2017-02-26      3   \n",
       "\n",
       "   ceiling_height  floors_total  living_area  floor  is_apartment  studio  \\\n",
       "0            2.70          16.0        51.00      8         False   False   \n",
       "1            2.65          11.0        18.60      1         False   False   \n",
       "2            2.65           5.0        34.30      4         False   False   \n",
       "3            2.65          14.0          NaN      9         False   False   \n",
       "4             NaN          14.0        32.00     13         False   False   \n",
       "5            2.65          12.0        14.40      5         False   False   \n",
       "6            2.65          26.0        10.60      6         False   False   \n",
       "7            2.65          24.0          NaN     22         False   False   \n",
       "8            2.65          27.0        15.43     26         False   False   \n",
       "9            2.50           9.0        43.60      7         False   False   \n",
       "\n",
       "   open_plan  kitchen_area  balcony              locality_name  \\\n",
       "0      False           NaN      0.0            Санкт-Петербург   \n",
       "1      False         11.00      2.0             поселок Шушары   \n",
       "2      False          8.30      0.0            Санкт-Петербург   \n",
       "3      False           NaN      0.0            Санкт-Петербург   \n",
       "4      False           NaN      0.0            Санкт-Петербург   \n",
       "5      False          9.10      0.0  городской поселок Янино-1   \n",
       "6      False         14.40      1.0          поселок Парголово   \n",
       "7      False         18.90      2.0            Санкт-Петербург   \n",
       "8      False          8.81      0.0             поселок Мурино   \n",
       "9      False          6.50      2.0            Санкт-Петербург   \n",
       "\n",
       "   airports_nearest  cityCenters_nearest parks_around3000  parks_nearest  \\\n",
       "0           18863.0              16028.0              1.0          482.0   \n",
       "1           12817.0              18603.0              0.0            NaN   \n",
       "2           21741.0              13933.0              1.0           90.0   \n",
       "3           28098.0               6800.0              2.0           84.0   \n",
       "4           31856.0               8098.0              2.0          112.0   \n",
       "5               NaN                  NaN                0            NaN   \n",
       "6           52996.0              19143.0              0.0            NaN   \n",
       "7           23982.0              11634.0              0.0            NaN   \n",
       "8               NaN                  NaN                0            NaN   \n",
       "9           50898.0              15008.0              0.0            NaN   \n",
       "\n",
       "  ponds_around3000  ponds_nearest  days_exposition  price_per_meter  \\\n",
       "0              2.0          755.0              NaN        120370.37   \n",
       "1              0.0            NaN             81.0         82920.79   \n",
       "2              2.0          574.0              NaN         92785.71   \n",
       "3              3.0          234.0            424.0              NaN   \n",
       "4              1.0           48.0            121.0        100000.00   \n",
       "5                0            NaN             55.0         95065.79   \n",
       "6              0.0            NaN            155.0         99195.71   \n",
       "7              0.0            NaN              NaN        110544.69   \n",
       "8                0            NaN            189.0         87454.76   \n",
       "9              0.0            NaN            289.0         88524.59   \n",
       "\n",
       "  day_of_week_exposition  day_of_week_exposition_number month_exposition  \\\n",
       "0               Thursday                              3            March   \n",
       "1                Tuesday                              1         December   \n",
       "2               Thursday                              3           August   \n",
       "3                 Friday                              4             July   \n",
       "4                Tuesday                              1             June   \n",
       "5                 Monday                              0        September   \n",
       "6               Thursday                              3         November   \n",
       "7               Thursday                              3            April   \n",
       "8              Wednesday                              2              May   \n",
       "9                 Sunday                              6         February   \n",
       "\n",
       "   year_exposition floor_status  city_center_distance_km  \\\n",
       "0             2019       другой                   16.028   \n",
       "1             2018       первый                   18.603   \n",
       "2             2015       другой                   13.933   \n",
       "3             2015       другой                    6.800   \n",
       "4             2018       другой                    8.098   \n",
       "5             2018       другой                      NaN   \n",
       "6             2017       другой                   19.143   \n",
       "7             2019       другой                   11.634   \n",
       "8             2018       другой                      NaN   \n",
       "9             2017       другой                   15.008   \n",
       "\n",
       "   nearest_airport_distance_km  nearest_park_distance_km  \\\n",
       "0                       18.863                     0.482   \n",
       "1                       12.817                       NaN   \n",
       "2                       21.741                     0.090   \n",
       "3                       28.098                     0.084   \n",
       "4                       31.856                     0.112   \n",
       "5                          NaN                       NaN   \n",
       "6                       52.996                       NaN   \n",
       "7                       23.982                       NaN   \n",
       "8                          NaN                       NaN   \n",
       "9                       50.898                       NaN   \n",
       "\n",
       "   nearest_pond_distance_km  \n",
       "0                     0.755  \n",
       "1                       NaN  \n",
       "2                     0.574  \n",
       "3                     0.234  \n",
       "4                     0.048  \n",
       "5                       NaN  \n",
       "6                       NaN  \n",
       "7                       NaN  \n",
       "8                       NaN  \n",
       "9                       NaN  "
      ]
     },
     "execution_count": 42,
     "metadata": {},
     "output_type": "execute_result"
    }
   ],
   "source": [
    "#По заданию нужно перевести расстояние до центра города, но для однородности данных переведем и остальные расстояния в км\n",
    "data['city_center_distance_km'] = data['cityCenters_nearest'] / 1000\n",
    "data['nearest_airport_distance_km'] = data['airports_nearest'] / 1000\n",
    "data['nearest_park_distance_km'] = data['parks_nearest'] / 1000\n",
    "data['nearest_pond_distance_km'] = data['ponds_nearest'] / 1000\n",
    "data.head(10)"
   ]
  },
  {
   "cell_type": "markdown",
   "metadata": {},
   "source": [
    "### Проведите исследовательский анализ данных"
   ]
  },
  {
   "cell_type": "markdown",
   "metadata": {},
   "source": [
    "#### Изучим параметры объектов"
   ]
  },
  {
   "cell_type": "markdown",
   "metadata": {},
   "source": [
    "##### Общая площадь "
   ]
  },
  {
   "cell_type": "code",
   "execution_count": 43,
   "metadata": {
    "scrolled": true
   },
   "outputs": [
    {
     "data": {
      "image/png": "[encoded data removed]",
      "text/plain": [
       "<Figure size 432x288 with 1 Axes>"
      ]
     },
     "metadata": {
      "needs_background": "light"
     },
     "output_type": "display_data"
    }
   ],
   "source": [
    "plt.hist(data['total_area'], bins=30, range=(10,200))\n",
    "plt.title('Площадь квартир')\n",
    "plt.xlabel('Квадратные метры')\n",
    "plt.ylabel('Количество квартир')\n",
    "plt.show()"
   ]
  },
  {
   "cell_type": "markdown",
   "metadata": {},
   "source": [
    "Основная масса данных лежит в диапазоне до 100 кв.м. Чаще всего встречается 40-50 кв.м."
   ]
  },
  {
   "cell_type": "markdown",
   "metadata": {},
   "source": [
    "##### Жилая площадь"
   ]
  },
  {
   "cell_type": "code",
   "execution_count": 44,
   "metadata": {
    "scrolled": false
   },
   "outputs": [
    {
     "data": {
      "image/png": "[encoded data removed]",
      "text/plain": [
       "<Figure size 432x288 with 1 Axes>"
      ]
     },
     "metadata": {
      "needs_background": "light"
     },
     "output_type": "display_data"
    }
   ],
   "source": [
    "plt.hist(data['living_area'], bins=30, range=(0,100))\n",
    "plt.title('Жилая площадь')\n",
    "plt.xlabel('Квадратные метры')\n",
    "plt.ylabel('Количество квартир')\n",
    "plt.show()"
   ]
  },
  {
   "cell_type": "markdown",
   "metadata": {},
   "source": [
    "Основная масса данных лежит в диапазоне от 10 до 80 кв.м. Три пика обсуловлены, вероятно тем, что это данные для однокомнатной, 2-конатной и 3-контаных квартир соответственно. "
   ]
  },
  {
   "cell_type": "markdown",
   "metadata": {},
   "source": [
    "##### Площадь кухни"
   ]
  },
  {
   "cell_type": "code",
   "execution_count": 45,
   "metadata": {
    "scrolled": false
   },
   "outputs": [
    {
     "data": {
      "image/png": "[encoded data removed]",
      "text/plain": [
       "<Figure size 432x288 with 1 Axes>"
      ]
     },
     "metadata": {
      "needs_background": "light"
     },
     "output_type": "display_data"
    }
   ],
   "source": [
    "plt.hist(data['kitchen_area'], bins=30, range=(0,112))\n",
    "plt.title('Площадь кухни')\n",
    "plt.xlabel('Квадратные метры')\n",
    "plt.ylabel('Количество квартир')\n",
    "plt.show()"
   ]
  },
  {
   "cell_type": "markdown",
   "metadata": {},
   "source": [
    "Основная масса данных лежит в диапазоне от 0 до 20 кв.м. Чаще всего встречаются кухни в районе 10 кв.м."
   ]
  },
  {
   "cell_type": "markdown",
   "metadata": {},
   "source": [
    "##### Цена объекта"
   ]
  },
  {
   "cell_type": "code",
   "execution_count": 46,
   "metadata": {
    "scrolled": false
   },
   "outputs": [
    {
     "data": {
      "image/png": "[encoded data removed]",
      "text/plain": [
       "<Figure size 432x288 with 1 Axes>"
      ]
     },
     "metadata": {
      "needs_background": "light"
     },
     "output_type": "display_data"
    }
   ],
   "source": [
    "data['last_price'] = data['last_price']/1000000 # Для удобства переведу цену за квартиру в млн.руб \n",
    "plt.hist(data['last_price'], bins=200, range=(0,100))\n",
    "plt.title('Стоимость квартир')\n",
    "plt.xlabel('Стоимость')\n",
    "plt.ylabel('Количество квартир')\n",
    "plt.show()"
   ]
  },
  {
   "cell_type": "markdown",
   "metadata": {},
   "source": [
    "Основная масса данных лежит в диапазоне от 0 до 20 млн.руб. Чаще всего встречается 5-10 млн.руб. "
   ]
  },
  {
   "cell_type": "markdown",
   "metadata": {},
   "source": [
    "##### Количество комнат"
   ]
  },
  {
   "cell_type": "code",
   "execution_count": 47,
   "metadata": {
    "scrolled": false
   },
   "outputs": [
    {
     "data": {
      "image/png": "[encoded data removed]",
      "text/plain": [
       "<Figure size 432x288 with 1 Axes>"
      ]
     },
     "metadata": {
      "needs_background": "light"
     },
     "output_type": "display_data"
    }
   ],
   "source": [
    "plt.hist(data['rooms'], bins=7, range=(1,7))\n",
    "plt.title('Комнаты')\n",
    "plt.xlabel('Количество комнат')\n",
    "plt.ylabel('Количество квартир')\n",
    "plt.show()"
   ]
  },
  {
   "cell_type": "markdown",
   "metadata": {},
   "source": [
    "Чаще всего встречаются однокомнатные и двухкомнатные квартиры. Значительно меньше 4-конатных вариантов, а объекты с 5 комнатами и больше встречаются редко."
   ]
  },
  {
   "cell_type": "markdown",
   "metadata": {},
   "source": [
    "##### Высота потолков"
   ]
  },
  {
   "cell_type": "code",
   "execution_count": 48,
   "metadata": {
    "scrolled": false
   },
   "outputs": [
    {
     "data": {
      "image/png": "[encoded data removed]",
      "text/plain": [
       "<Figure size 432x288 with 1 Axes>"
      ]
     },
     "metadata": {
      "needs_background": "light"
     },
     "output_type": "display_data"
    }
   ],
   "source": [
    "plt.hist(data.query('(ceiling_height > 2) & (ceiling_height < 4)')['ceiling_height'], bins=20)\n",
    "plt.title('Высота потолков')\n",
    "plt.xlabel('Метры')\n",
    "plt.ylabel('Количество квартир')\n",
    "plt.show()"
   ]
  },
  {
   "cell_type": "markdown",
   "metadata": {},
   "source": [
    "Высота потолков основной массы объектов укладывается в диапазон от 2,5 до 3 метров. Более 3 метров - редкие случаи. Чаще всего встречается 2,6-2,75 м. "
   ]
  },
  {
   "cell_type": "markdown",
   "metadata": {},
   "source": [
    "##### Этаж квартиры"
   ]
  },
  {
   "cell_type": "code",
   "execution_count": 49,
   "metadata": {
    "scrolled": false
   },
   "outputs": [
    {
     "data": {
      "image/png": "[encoded data removed]",
      "text/plain": [
       "<Figure size 432x288 with 1 Axes>"
      ]
     },
     "metadata": {
      "needs_background": "light"
     },
     "output_type": "display_data"
    }
   ],
   "source": [
    "plt.hist(data['floor'], bins=30, range=(1,30))\n",
    "plt.title('Этаж квартиры')\n",
    "plt.xlabel('Этаж')\n",
    "plt.ylabel('Количество квартир')\n",
    "plt.show()"
   ]
  },
  {
   "cell_type": "markdown",
   "metadata": {},
   "source": [
    "Основная масса данных лежит в диапазоне от 1 до 20 этажа. Объекты быши 25 этажа встречаются редко. Чаще всего встречается 2 и 3 этажи."
   ]
  },
  {
   "cell_type": "markdown",
   "metadata": {},
   "source": [
    "##### Тип этажа квартиры"
   ]
  },
  {
   "cell_type": "code",
   "execution_count": 50,
   "metadata": {
    "scrolled": false
   },
   "outputs": [
    {
     "data": {
      "text/html": [
       "<div>\n",
       "<style scoped>\n",
       "    .dataframe tbody tr th:only-of-type {\n",
       "        vertical-align: middle;\n",
       "    }\n",
       "\n",
       "    .dataframe tbody tr th {\n",
       "        vertical-align: top;\n",
       "    }\n",
       "\n",
       "    .dataframe thead th {\n",
       "        text-align: right;\n",
       "    }\n",
       "</style>\n",
       "<table border=\"1\" class=\"dataframe\">\n",
       "  <thead>\n",
       "    <tr style=\"text-align: right;\">\n",
       "      <th></th>\n",
       "      <th>total_images</th>\n",
       "      <th>last_price</th>\n",
       "      <th>total_area</th>\n",
       "      <th>first_day_exposition</th>\n",
       "      <th>rooms</th>\n",
       "      <th>ceiling_height</th>\n",
       "      <th>floors_total</th>\n",
       "      <th>living_area</th>\n",
       "      <th>floor</th>\n",
       "      <th>is_apartment</th>\n",
       "      <th>studio</th>\n",
       "      <th>open_plan</th>\n",
       "      <th>kitchen_area</th>\n",
       "      <th>balcony</th>\n",
       "      <th>locality_name</th>\n",
       "      <th>airports_nearest</th>\n",
       "      <th>cityCenters_nearest</th>\n",
       "      <th>parks_around3000</th>\n",
       "      <th>parks_nearest</th>\n",
       "      <th>ponds_around3000</th>\n",
       "      <th>ponds_nearest</th>\n",
       "      <th>days_exposition</th>\n",
       "      <th>price_per_meter</th>\n",
       "      <th>day_of_week_exposition</th>\n",
       "      <th>day_of_week_exposition_number</th>\n",
       "      <th>month_exposition</th>\n",
       "      <th>year_exposition</th>\n",
       "      <th>floor_status</th>\n",
       "      <th>city_center_distance_km</th>\n",
       "      <th>nearest_airport_distance_km</th>\n",
       "      <th>nearest_park_distance_km</th>\n",
       "      <th>nearest_pond_distance_km</th>\n",
       "      <th>floor_status_number</th>\n",
       "    </tr>\n",
       "  </thead>\n",
       "  <tbody>\n",
       "    <tr>\n",
       "      <th>0</th>\n",
       "      <td>20</td>\n",
       "      <td>13.000</td>\n",
       "      <td>108.00</td>\n",
       "      <td>2019-03-07</td>\n",
       "      <td>3</td>\n",
       "      <td>2.70</td>\n",
       "      <td>16.0</td>\n",
       "      <td>51.00</td>\n",
       "      <td>8</td>\n",
       "      <td>False</td>\n",
       "      <td>False</td>\n",
       "      <td>False</td>\n",
       "      <td>NaN</td>\n",
       "      <td>0.0</td>\n",
       "      <td>Санкт-Петербург</td>\n",
       "      <td>18863.0</td>\n",
       "      <td>16028.0</td>\n",
       "      <td>1.0</td>\n",
       "      <td>482.0</td>\n",
       "      <td>2.0</td>\n",
       "      <td>755.0</td>\n",
       "      <td>NaN</td>\n",
       "      <td>120370.37</td>\n",
       "      <td>Thursday</td>\n",
       "      <td>3</td>\n",
       "      <td>March</td>\n",
       "      <td>2019</td>\n",
       "      <td>другой</td>\n",
       "      <td>16.028</td>\n",
       "      <td>18.863</td>\n",
       "      <td>0.482</td>\n",
       "      <td>0.755</td>\n",
       "      <td>0</td>\n",
       "    </tr>\n",
       "    <tr>\n",
       "      <th>1</th>\n",
       "      <td>7</td>\n",
       "      <td>3.350</td>\n",
       "      <td>40.40</td>\n",
       "      <td>2018-12-04</td>\n",
       "      <td>1</td>\n",
       "      <td>2.65</td>\n",
       "      <td>11.0</td>\n",
       "      <td>18.60</td>\n",
       "      <td>1</td>\n",
       "      <td>False</td>\n",
       "      <td>False</td>\n",
       "      <td>False</td>\n",
       "      <td>11.00</td>\n",
       "      <td>2.0</td>\n",
       "      <td>поселок Шушары</td>\n",
       "      <td>12817.0</td>\n",
       "      <td>18603.0</td>\n",
       "      <td>0.0</td>\n",
       "      <td>NaN</td>\n",
       "      <td>0.0</td>\n",
       "      <td>NaN</td>\n",
       "      <td>81.0</td>\n",
       "      <td>82920.79</td>\n",
       "      <td>Tuesday</td>\n",
       "      <td>1</td>\n",
       "      <td>December</td>\n",
       "      <td>2018</td>\n",
       "      <td>первый</td>\n",
       "      <td>18.603</td>\n",
       "      <td>12.817</td>\n",
       "      <td>NaN</td>\n",
       "      <td>NaN</td>\n",
       "      <td>1</td>\n",
       "    </tr>\n",
       "    <tr>\n",
       "      <th>2</th>\n",
       "      <td>10</td>\n",
       "      <td>5.196</td>\n",
       "      <td>56.00</td>\n",
       "      <td>2015-08-20</td>\n",
       "      <td>2</td>\n",
       "      <td>2.65</td>\n",
       "      <td>5.0</td>\n",
       "      <td>34.30</td>\n",
       "      <td>4</td>\n",
       "      <td>False</td>\n",
       "      <td>False</td>\n",
       "      <td>False</td>\n",
       "      <td>8.30</td>\n",
       "      <td>0.0</td>\n",
       "      <td>Санкт-Петербург</td>\n",
       "      <td>21741.0</td>\n",
       "      <td>13933.0</td>\n",
       "      <td>1.0</td>\n",
       "      <td>90.0</td>\n",
       "      <td>2.0</td>\n",
       "      <td>574.0</td>\n",
       "      <td>NaN</td>\n",
       "      <td>92785.71</td>\n",
       "      <td>Thursday</td>\n",
       "      <td>3</td>\n",
       "      <td>August</td>\n",
       "      <td>2015</td>\n",
       "      <td>другой</td>\n",
       "      <td>13.933</td>\n",
       "      <td>21.741</td>\n",
       "      <td>0.090</td>\n",
       "      <td>0.574</td>\n",
       "      <td>0</td>\n",
       "    </tr>\n",
       "    <tr>\n",
       "      <th>3</th>\n",
       "      <td>0</td>\n",
       "      <td>64.900</td>\n",
       "      <td>NaN</td>\n",
       "      <td>2015-07-24</td>\n",
       "      <td>3</td>\n",
       "      <td>2.65</td>\n",
       "      <td>14.0</td>\n",
       "      <td>NaN</td>\n",
       "      <td>9</td>\n",
       "      <td>False</td>\n",
       "      <td>False</td>\n",
       "      <td>False</td>\n",
       "      <td>NaN</td>\n",
       "      <td>0.0</td>\n",
       "      <td>Санкт-Петербург</td>\n",
       "      <td>28098.0</td>\n",
       "      <td>6800.0</td>\n",
       "      <td>2.0</td>\n",
       "      <td>84.0</td>\n",
       "      <td>3.0</td>\n",
       "      <td>234.0</td>\n",
       "      <td>424.0</td>\n",
       "      <td>NaN</td>\n",
       "      <td>Friday</td>\n",
       "      <td>4</td>\n",
       "      <td>July</td>\n",
       "      <td>2015</td>\n",
       "      <td>другой</td>\n",
       "      <td>6.800</td>\n",
       "      <td>28.098</td>\n",
       "      <td>0.084</td>\n",
       "      <td>0.234</td>\n",
       "      <td>0</td>\n",
       "    </tr>\n",
       "    <tr>\n",
       "      <th>4</th>\n",
       "      <td>2</td>\n",
       "      <td>10.000</td>\n",
       "      <td>100.00</td>\n",
       "      <td>2018-06-19</td>\n",
       "      <td>2</td>\n",
       "      <td>NaN</td>\n",
       "      <td>14.0</td>\n",
       "      <td>32.00</td>\n",
       "      <td>13</td>\n",
       "      <td>False</td>\n",
       "      <td>False</td>\n",
       "      <td>False</td>\n",
       "      <td>NaN</td>\n",
       "      <td>0.0</td>\n",
       "      <td>Санкт-Петербург</td>\n",
       "      <td>31856.0</td>\n",
       "      <td>8098.0</td>\n",
       "      <td>2.0</td>\n",
       "      <td>112.0</td>\n",
       "      <td>1.0</td>\n",
       "      <td>48.0</td>\n",
       "      <td>121.0</td>\n",
       "      <td>100000.00</td>\n",
       "      <td>Tuesday</td>\n",
       "      <td>1</td>\n",
       "      <td>June</td>\n",
       "      <td>2018</td>\n",
       "      <td>другой</td>\n",
       "      <td>8.098</td>\n",
       "      <td>31.856</td>\n",
       "      <td>0.112</td>\n",
       "      <td>0.048</td>\n",
       "      <td>0</td>\n",
       "    </tr>\n",
       "    <tr>\n",
       "      <th>5</th>\n",
       "      <td>10</td>\n",
       "      <td>2.890</td>\n",
       "      <td>30.40</td>\n",
       "      <td>2018-09-10</td>\n",
       "      <td>1</td>\n",
       "      <td>2.65</td>\n",
       "      <td>12.0</td>\n",
       "      <td>14.40</td>\n",
       "      <td>5</td>\n",
       "      <td>False</td>\n",
       "      <td>False</td>\n",
       "      <td>False</td>\n",
       "      <td>9.10</td>\n",
       "      <td>0.0</td>\n",
       "      <td>городской поселок Янино-1</td>\n",
       "      <td>NaN</td>\n",
       "      <td>NaN</td>\n",
       "      <td>0</td>\n",
       "      <td>NaN</td>\n",
       "      <td>0</td>\n",
       "      <td>NaN</td>\n",
       "      <td>55.0</td>\n",
       "      <td>95065.79</td>\n",
       "      <td>Monday</td>\n",
       "      <td>0</td>\n",
       "      <td>September</td>\n",
       "      <td>2018</td>\n",
       "      <td>другой</td>\n",
       "      <td>NaN</td>\n",
       "      <td>NaN</td>\n",
       "      <td>NaN</td>\n",
       "      <td>NaN</td>\n",
       "      <td>0</td>\n",
       "    </tr>\n",
       "    <tr>\n",
       "      <th>6</th>\n",
       "      <td>6</td>\n",
       "      <td>3.700</td>\n",
       "      <td>37.30</td>\n",
       "      <td>2017-11-02</td>\n",
       "      <td>1</td>\n",
       "      <td>2.65</td>\n",
       "      <td>26.0</td>\n",
       "      <td>10.60</td>\n",
       "      <td>6</td>\n",
       "      <td>False</td>\n",
       "      <td>False</td>\n",
       "      <td>False</td>\n",
       "      <td>14.40</td>\n",
       "      <td>1.0</td>\n",
       "      <td>поселок Парголово</td>\n",
       "      <td>52996.0</td>\n",
       "      <td>19143.0</td>\n",
       "      <td>0.0</td>\n",
       "      <td>NaN</td>\n",
       "      <td>0.0</td>\n",
       "      <td>NaN</td>\n",
       "      <td>155.0</td>\n",
       "      <td>99195.71</td>\n",
       "      <td>Thursday</td>\n",
       "      <td>3</td>\n",
       "      <td>November</td>\n",
       "      <td>2017</td>\n",
       "      <td>другой</td>\n",
       "      <td>19.143</td>\n",
       "      <td>52.996</td>\n",
       "      <td>NaN</td>\n",
       "      <td>NaN</td>\n",
       "      <td>0</td>\n",
       "    </tr>\n",
       "    <tr>\n",
       "      <th>7</th>\n",
       "      <td>5</td>\n",
       "      <td>7.915</td>\n",
       "      <td>71.60</td>\n",
       "      <td>2019-04-18</td>\n",
       "      <td>2</td>\n",
       "      <td>2.65</td>\n",
       "      <td>24.0</td>\n",
       "      <td>NaN</td>\n",
       "      <td>22</td>\n",
       "      <td>False</td>\n",
       "      <td>False</td>\n",
       "      <td>False</td>\n",
       "      <td>18.90</td>\n",
       "      <td>2.0</td>\n",
       "      <td>Санкт-Петербург</td>\n",
       "      <td>23982.0</td>\n",
       "      <td>11634.0</td>\n",
       "      <td>0.0</td>\n",
       "      <td>NaN</td>\n",
       "      <td>0.0</td>\n",
       "      <td>NaN</td>\n",
       "      <td>NaN</td>\n",
       "      <td>110544.69</td>\n",
       "      <td>Thursday</td>\n",
       "      <td>3</td>\n",
       "      <td>April</td>\n",
       "      <td>2019</td>\n",
       "      <td>другой</td>\n",
       "      <td>11.634</td>\n",
       "      <td>23.982</td>\n",
       "      <td>NaN</td>\n",
       "      <td>NaN</td>\n",
       "      <td>0</td>\n",
       "    </tr>\n",
       "    <tr>\n",
       "      <th>8</th>\n",
       "      <td>20</td>\n",
       "      <td>2.900</td>\n",
       "      <td>33.16</td>\n",
       "      <td>2018-05-23</td>\n",
       "      <td>1</td>\n",
       "      <td>2.65</td>\n",
       "      <td>27.0</td>\n",
       "      <td>15.43</td>\n",
       "      <td>26</td>\n",
       "      <td>False</td>\n",
       "      <td>False</td>\n",
       "      <td>False</td>\n",
       "      <td>8.81</td>\n",
       "      <td>0.0</td>\n",
       "      <td>поселок Мурино</td>\n",
       "      <td>NaN</td>\n",
       "      <td>NaN</td>\n",
       "      <td>0</td>\n",
       "      <td>NaN</td>\n",
       "      <td>0</td>\n",
       "      <td>NaN</td>\n",
       "      <td>189.0</td>\n",
       "      <td>87454.76</td>\n",
       "      <td>Wednesday</td>\n",
       "      <td>2</td>\n",
       "      <td>May</td>\n",
       "      <td>2018</td>\n",
       "      <td>другой</td>\n",
       "      <td>NaN</td>\n",
       "      <td>NaN</td>\n",
       "      <td>NaN</td>\n",
       "      <td>NaN</td>\n",
       "      <td>0</td>\n",
       "    </tr>\n",
       "    <tr>\n",
       "      <th>9</th>\n",
       "      <td>18</td>\n",
       "      <td>5.400</td>\n",
       "      <td>61.00</td>\n",
       "      <td>2017-02-26</td>\n",
       "      <td>3</td>\n",
       "      <td>2.50</td>\n",
       "      <td>9.0</td>\n",
       "      <td>43.60</td>\n",
       "      <td>7</td>\n",
       "      <td>False</td>\n",
       "      <td>False</td>\n",
       "      <td>False</td>\n",
       "      <td>6.50</td>\n",
       "      <td>2.0</td>\n",
       "      <td>Санкт-Петербург</td>\n",
       "      <td>50898.0</td>\n",
       "      <td>15008.0</td>\n",
       "      <td>0.0</td>\n",
       "      <td>NaN</td>\n",
       "      <td>0.0</td>\n",
       "      <td>NaN</td>\n",
       "      <td>289.0</td>\n",
       "      <td>88524.59</td>\n",
       "      <td>Sunday</td>\n",
       "      <td>6</td>\n",
       "      <td>February</td>\n",
       "      <td>2017</td>\n",
       "      <td>другой</td>\n",
       "      <td>15.008</td>\n",
       "      <td>50.898</td>\n",
       "      <td>NaN</td>\n",
       "      <td>NaN</td>\n",
       "      <td>0</td>\n",
       "    </tr>\n",
       "  </tbody>\n",
       "</table>\n",
       "</div>"
      ],
      "text/plain": [
       "   total_images  last_price  total_area first_day_exposition  rooms  \\\n",
       "0            20      13.000      108.00           2019-03-07      3   \n",
       "1             7       3.350       40.40           2018-12-04      1   \n",
       "2            10       5.196       56.00           2015-08-20      2   \n",
       "3             0      64.900         NaN           2015-07-24      3   \n",
       "4             2      10.000      100.00           2018-06-19      2   \n",
       "5            10       2.890       30.40           2018-09-10      1   \n",
       "6             6       3.700       37.30           2017-11-02      1   \n",
       "7             5       7.915       71.60           2019-04-18      2   \n",
       "8            20       2.900       33.16           2018-05-23      1   \n",
       "9            18       5.400       61.00           2017-02-26      3   \n",
       "\n",
       "   ceiling_height  floors_total  living_area  floor  is_apartment  studio  \\\n",
       "0            2.70          16.0        51.00      8         False   False   \n",
       "1            2.65          11.0        18.60      1         False   False   \n",
       "2            2.65           5.0        34.30      4         False   False   \n",
       "3            2.65          14.0          NaN      9         False   False   \n",
       "4             NaN          14.0        32.00     13         False   False   \n",
       "5            2.65          12.0        14.40      5         False   False   \n",
       "6            2.65          26.0        10.60      6         False   False   \n",
       "7            2.65          24.0          NaN     22         False   False   \n",
       "8            2.65          27.0        15.43     26         False   False   \n",
       "9            2.50           9.0        43.60      7         False   False   \n",
       "\n",
       "   open_plan  kitchen_area  balcony              locality_name  \\\n",
       "0      False           NaN      0.0            Санкт-Петербург   \n",
       "1      False         11.00      2.0             поселок Шушары   \n",
       "2      False          8.30      0.0            Санкт-Петербург   \n",
       "3      False           NaN      0.0            Санкт-Петербург   \n",
       "4      False           NaN      0.0            Санкт-Петербург   \n",
       "5      False          9.10      0.0  городской поселок Янино-1   \n",
       "6      False         14.40      1.0          поселок Парголово   \n",
       "7      False         18.90      2.0            Санкт-Петербург   \n",
       "8      False          8.81      0.0             поселок Мурино   \n",
       "9      False          6.50      2.0            Санкт-Петербург   \n",
       "\n",
       "   airports_nearest  cityCenters_nearest parks_around3000  parks_nearest  \\\n",
       "0           18863.0              16028.0              1.0          482.0   \n",
       "1           12817.0              18603.0              0.0            NaN   \n",
       "2           21741.0              13933.0              1.0           90.0   \n",
       "3           28098.0               6800.0              2.0           84.0   \n",
       "4           31856.0               8098.0              2.0          112.0   \n",
       "5               NaN                  NaN                0            NaN   \n",
       "6           52996.0              19143.0              0.0            NaN   \n",
       "7           23982.0              11634.0              0.0            NaN   \n",
       "8               NaN                  NaN                0            NaN   \n",
       "9           50898.0              15008.0              0.0            NaN   \n",
       "\n",
       "  ponds_around3000  ponds_nearest  days_exposition  price_per_meter  \\\n",
       "0              2.0          755.0              NaN        120370.37   \n",
       "1              0.0            NaN             81.0         82920.79   \n",
       "2              2.0          574.0              NaN         92785.71   \n",
       "3              3.0          234.0            424.0              NaN   \n",
       "4              1.0           48.0            121.0        100000.00   \n",
       "5                0            NaN             55.0         95065.79   \n",
       "6              0.0            NaN            155.0         99195.71   \n",
       "7              0.0            NaN              NaN        110544.69   \n",
       "8                0            NaN            189.0         87454.76   \n",
       "9              0.0            NaN            289.0         88524.59   \n",
       "\n",
       "  day_of_week_exposition  day_of_week_exposition_number month_exposition  \\\n",
       "0               Thursday                              3            March   \n",
       "1                Tuesday                              1         December   \n",
       "2               Thursday                              3           August   \n",
       "3                 Friday                              4             July   \n",
       "4                Tuesday                              1             June   \n",
       "5                 Monday                              0        September   \n",
       "6               Thursday                              3         November   \n",
       "7               Thursday                              3            April   \n",
       "8              Wednesday                              2              May   \n",
       "9                 Sunday                              6         February   \n",
       "\n",
       "   year_exposition floor_status  city_center_distance_km  \\\n",
       "0             2019       другой                   16.028   \n",
       "1             2018       первый                   18.603   \n",
       "2             2015       другой                   13.933   \n",
       "3             2015       другой                    6.800   \n",
       "4             2018       другой                    8.098   \n",
       "5             2018       другой                      NaN   \n",
       "6             2017       другой                   19.143   \n",
       "7             2019       другой                   11.634   \n",
       "8             2018       другой                      NaN   \n",
       "9             2017       другой                   15.008   \n",
       "\n",
       "   nearest_airport_distance_km  nearest_park_distance_km  \\\n",
       "0                       18.863                     0.482   \n",
       "1                       12.817                       NaN   \n",
       "2                       21.741                     0.090   \n",
       "3                       28.098                     0.084   \n",
       "4                       31.856                     0.112   \n",
       "5                          NaN                       NaN   \n",
       "6                       52.996                       NaN   \n",
       "7                       23.982                       NaN   \n",
       "8                          NaN                       NaN   \n",
       "9                       50.898                       NaN   \n",
       "\n",
       "   nearest_pond_distance_km  floor_status_number  \n",
       "0                     0.755                    0  \n",
       "1                       NaN                    1  \n",
       "2                     0.574                    0  \n",
       "3                     0.234                    0  \n",
       "4                     0.048                    0  \n",
       "5                       NaN                    0  \n",
       "6                       NaN                    0  \n",
       "7                       NaN                    0  \n",
       "8                       NaN                    0  \n",
       "9                       NaN                    0  "
      ]
     },
     "execution_count": 50,
     "metadata": {},
     "output_type": "execute_result"
    }
   ],
   "source": [
    "#Добавим столбец, в котором каждому типу этажа будет присвоено цифровое значение: Первый этаж =1, Послений=2, Другой=0.\n",
    "def translate_in_number(row):\n",
    "    floor_status= row['floor_status']\n",
    "    \n",
    "    if floor_status == 'другой':\n",
    "        return 0\n",
    "    \n",
    "    if floor_status == 'первый':\n",
    "        return 1\n",
    "    \n",
    "    if floor_status == 'последний':\n",
    "        return 2\n",
    "\n",
    "data['floor_status_number'] = data.apply(translate_in_number, axis = 1)\n",
    "data.head(10)#Проверим себя"
   ]
  },
  {
   "cell_type": "code",
   "execution_count": 51,
   "metadata": {},
   "outputs": [
    {
     "data": {
      "image/png": "[encoded data removed]",
      "text/plain": [
       "<Figure size 432x288 with 1 Axes>"
      ]
     },
     "metadata": {
      "needs_background": "light"
     },
     "output_type": "display_data"
    }
   ],
   "source": [
    "plt.hist(data['floor_status_number'], bins=9, range=(0,2))\n",
    "plt.title('Тип этажа квартиры')\n",
    "plt.xlabel('Тип этажа')\n",
    "plt.ylabel('Количество квартир')\n",
    "plt.show()"
   ]
  },
  {
   "cell_type": "markdown",
   "metadata": {},
   "source": [
    "Больше всего объектов расположены не на первом и не на последнем этажах. Если сравнивать первый и последний, то объектов, расположенных на последнем этаже больше. "
   ]
  },
  {
   "cell_type": "markdown",
   "metadata": {},
   "source": [
    "##### Общее количество этажей в доме"
   ]
  },
  {
   "cell_type": "code",
   "execution_count": 52,
   "metadata": {
    "scrolled": false
   },
   "outputs": [
    {
     "data": {
      "image/png": "[encoded data removed]",
      "text/plain": [
       "<Figure size 432x288 with 1 Axes>"
      ]
     },
     "metadata": {
      "needs_background": "light"
     },
     "output_type": "display_data"
    }
   ],
   "source": [
    "plt.hist(data['floors_total'], bins=20, range=(0,30))\n",
    "plt.title('Общее количество этажей в доме')\n",
    "plt.xlabel('Количество этажей')\n",
    "plt.ylabel('Количество квартир')\n",
    "plt.show()"
   ]
  },
  {
   "cell_type": "markdown",
   "metadata": {},
   "source": [
    "Выделяется два пика в 5 жтажей и в 8-10 этажей. Домов с этажностью больше 25 значительно меньше. "
   ]
  },
  {
   "cell_type": "markdown",
   "metadata": {},
   "source": [
    "##### Расстояние до центра города в метрах"
   ]
  },
  {
   "cell_type": "code",
   "execution_count": 53,
   "metadata": {
    "scrolled": false
   },
   "outputs": [
    {
     "data": {
      "image/png": "[encoded data removed]",
      "text/plain": [
       "<Figure size 432x288 with 1 Axes>"
      ]
     },
     "metadata": {
      "needs_background": "light"
     },
     "output_type": "display_data"
    }
   ],
   "source": [
    "plt.hist(data['cityCenters_nearest'], bins=20)\n",
    "plt.title('Расстояние до центра города в метрах')\n",
    "plt.xlabel('Расстояние до центра города')\n",
    "plt.ylabel('Количество квартир')\n",
    "plt.show()"
   ]
  },
  {
   "cell_type": "markdown",
   "metadata": {},
   "source": [
    "Основная масса данных лежит в диапазоне от 0 до 36000 м. Чаще всего объекты распологаются на расстоянии от 10000-17000 м. "
   ]
  },
  {
   "cell_type": "markdown",
   "metadata": {},
   "source": [
    "##### Расстояние до ближайшего аэропорта"
   ]
  },
  {
   "cell_type": "code",
   "execution_count": 54,
   "metadata": {
    "scrolled": false
   },
   "outputs": [
    {
     "data": {
      "image/png": "[encoded data removed]",
      "text/plain": [
       "<Figure size 432x288 with 1 Axes>"
      ]
     },
     "metadata": {
      "needs_background": "light"
     },
     "output_type": "display_data"
    }
   ],
   "source": [
    "plt.hist(data['airports_nearest'], bins=20)\n",
    "plt.title('Расстояние до ближайшего аэропорта')\n",
    "plt.xlabel('Расстояние до ближайшего аэропорта')\n",
    "plt.ylabel('Количество квартир')\n",
    "plt.show()"
   ]
  },
  {
   "cell_type": "markdown",
   "metadata": {},
   "source": [
    "Основная масса данных лежит в диапазоне от 6000 до 55000 м. Чаще всего объекты распологаются на расстоянии, примерно, 19000-20000 м. Объекты на расстоянии от аэропорта больше 60000 м редкие. "
   ]
  },
  {
   "cell_type": "markdown",
   "metadata": {},
   "source": [
    "##### Расстояние до ближайшего парка"
   ]
  },
  {
   "cell_type": "code",
   "execution_count": 55,
   "metadata": {
    "scrolled": false
   },
   "outputs": [
    {
     "data": {
      "image/png": "[encoded data removed]",
      "text/plain": [
       "<Figure size 432x288 with 1 Axes>"
      ]
     },
     "metadata": {
      "needs_background": "light"
     },
     "output_type": "display_data"
    }
   ],
   "source": [
    "plt.hist(data['parks_nearest'], bins=20)\n",
    "plt.title('Расстояние до ближайшего парка')\n",
    "plt.xlabel('Расстояние до ближайшего парка')\n",
    "plt.ylabel('Количество квартир')\n",
    "plt.show()"
   ]
  },
  {
   "cell_type": "markdown",
   "metadata": {},
   "source": [
    "Основная масса данных лежит в диапазоне от 0 до 1000 м. Чаще всего объекты распологаются на расстоянии до парка, примерно, 450-500 м. "
   ]
  },
  {
   "cell_type": "markdown",
   "metadata": {},
   "source": [
    "##### День и Месяц публикации объявления"
   ]
  },
  {
   "cell_type": "code",
   "execution_count": 56,
   "metadata": {
    "scrolled": false
   },
   "outputs": [
    {
     "data": {
      "image/png": "[encoded data removed]",
      "text/plain": [
       "<Figure size 432x288 with 1 Axes>"
      ]
     },
     "metadata": {
      "needs_background": "light"
     },
     "output_type": "display_data"
    }
   ],
   "source": [
    "plt.hist(data['day_of_week_exposition_number'])\n",
    "plt.title('День публикации объявления')\n",
    "plt.xlabel('День недели')\n",
    "plt.ylabel('Количество квартир')\n",
    "plt.show()"
   ]
  },
  {
   "cell_type": "markdown",
   "metadata": {},
   "source": [
    "Больше всего размещали объявлние в четверг, меньше в воскресенье. "
   ]
  },
  {
   "cell_type": "code",
   "execution_count": 57,
   "metadata": {},
   "outputs": [
    {
     "data": {
      "text/html": [
       "<div>\n",
       "<style scoped>\n",
       "    .dataframe tbody tr th:only-of-type {\n",
       "        vertical-align: middle;\n",
       "    }\n",
       "\n",
       "    .dataframe tbody tr th {\n",
       "        vertical-align: top;\n",
       "    }\n",
       "\n",
       "    .dataframe thead th {\n",
       "        text-align: right;\n",
       "    }\n",
       "</style>\n",
       "<table border=\"1\" class=\"dataframe\">\n",
       "  <thead>\n",
       "    <tr style=\"text-align: right;\">\n",
       "      <th></th>\n",
       "      <th>total_images</th>\n",
       "      <th>last_price</th>\n",
       "      <th>total_area</th>\n",
       "      <th>first_day_exposition</th>\n",
       "      <th>rooms</th>\n",
       "      <th>ceiling_height</th>\n",
       "      <th>floors_total</th>\n",
       "      <th>living_area</th>\n",
       "      <th>floor</th>\n",
       "      <th>is_apartment</th>\n",
       "      <th>studio</th>\n",
       "      <th>open_plan</th>\n",
       "      <th>kitchen_area</th>\n",
       "      <th>balcony</th>\n",
       "      <th>locality_name</th>\n",
       "      <th>airports_nearest</th>\n",
       "      <th>cityCenters_nearest</th>\n",
       "      <th>parks_around3000</th>\n",
       "      <th>parks_nearest</th>\n",
       "      <th>ponds_around3000</th>\n",
       "      <th>ponds_nearest</th>\n",
       "      <th>days_exposition</th>\n",
       "      <th>price_per_meter</th>\n",
       "      <th>day_of_week_exposition</th>\n",
       "      <th>day_of_week_exposition_number</th>\n",
       "      <th>month_exposition</th>\n",
       "      <th>year_exposition</th>\n",
       "      <th>floor_status</th>\n",
       "      <th>city_center_distance_km</th>\n",
       "      <th>nearest_airport_distance_km</th>\n",
       "      <th>nearest_park_distance_km</th>\n",
       "      <th>nearest_pond_distance_km</th>\n",
       "      <th>floor_status_number</th>\n",
       "      <th>month_exposition_number</th>\n",
       "    </tr>\n",
       "  </thead>\n",
       "  <tbody>\n",
       "    <tr>\n",
       "      <th>0</th>\n",
       "      <td>20</td>\n",
       "      <td>13.000</td>\n",
       "      <td>108.00</td>\n",
       "      <td>2019-03-07</td>\n",
       "      <td>3</td>\n",
       "      <td>2.70</td>\n",
       "      <td>16.0</td>\n",
       "      <td>51.00</td>\n",
       "      <td>8</td>\n",
       "      <td>False</td>\n",
       "      <td>False</td>\n",
       "      <td>False</td>\n",
       "      <td>NaN</td>\n",
       "      <td>0.0</td>\n",
       "      <td>Санкт-Петербург</td>\n",
       "      <td>18863.0</td>\n",
       "      <td>16028.0</td>\n",
       "      <td>1.0</td>\n",
       "      <td>482.0</td>\n",
       "      <td>2.0</td>\n",
       "      <td>755.0</td>\n",
       "      <td>NaN</td>\n",
       "      <td>120370.37</td>\n",
       "      <td>Thursday</td>\n",
       "      <td>3</td>\n",
       "      <td>March</td>\n",
       "      <td>2019</td>\n",
       "      <td>другой</td>\n",
       "      <td>16.028</td>\n",
       "      <td>18.863</td>\n",
       "      <td>0.482</td>\n",
       "      <td>0.755</td>\n",
       "      <td>0</td>\n",
       "      <td>2</td>\n",
       "    </tr>\n",
       "    <tr>\n",
       "      <th>1</th>\n",
       "      <td>7</td>\n",
       "      <td>3.350</td>\n",
       "      <td>40.40</td>\n",
       "      <td>2018-12-04</td>\n",
       "      <td>1</td>\n",
       "      <td>2.65</td>\n",
       "      <td>11.0</td>\n",
       "      <td>18.60</td>\n",
       "      <td>1</td>\n",
       "      <td>False</td>\n",
       "      <td>False</td>\n",
       "      <td>False</td>\n",
       "      <td>11.00</td>\n",
       "      <td>2.0</td>\n",
       "      <td>поселок Шушары</td>\n",
       "      <td>12817.0</td>\n",
       "      <td>18603.0</td>\n",
       "      <td>0.0</td>\n",
       "      <td>NaN</td>\n",
       "      <td>0.0</td>\n",
       "      <td>NaN</td>\n",
       "      <td>81.0</td>\n",
       "      <td>82920.79</td>\n",
       "      <td>Tuesday</td>\n",
       "      <td>1</td>\n",
       "      <td>December</td>\n",
       "      <td>2018</td>\n",
       "      <td>первый</td>\n",
       "      <td>18.603</td>\n",
       "      <td>12.817</td>\n",
       "      <td>NaN</td>\n",
       "      <td>NaN</td>\n",
       "      <td>1</td>\n",
       "      <td>11</td>\n",
       "    </tr>\n",
       "    <tr>\n",
       "      <th>2</th>\n",
       "      <td>10</td>\n",
       "      <td>5.196</td>\n",
       "      <td>56.00</td>\n",
       "      <td>2015-08-20</td>\n",
       "      <td>2</td>\n",
       "      <td>2.65</td>\n",
       "      <td>5.0</td>\n",
       "      <td>34.30</td>\n",
       "      <td>4</td>\n",
       "      <td>False</td>\n",
       "      <td>False</td>\n",
       "      <td>False</td>\n",
       "      <td>8.30</td>\n",
       "      <td>0.0</td>\n",
       "      <td>Санкт-Петербург</td>\n",
       "      <td>21741.0</td>\n",
       "      <td>13933.0</td>\n",
       "      <td>1.0</td>\n",
       "      <td>90.0</td>\n",
       "      <td>2.0</td>\n",
       "      <td>574.0</td>\n",
       "      <td>NaN</td>\n",
       "      <td>92785.71</td>\n",
       "      <td>Thursday</td>\n",
       "      <td>3</td>\n",
       "      <td>August</td>\n",
       "      <td>2015</td>\n",
       "      <td>другой</td>\n",
       "      <td>13.933</td>\n",
       "      <td>21.741</td>\n",
       "      <td>0.090</td>\n",
       "      <td>0.574</td>\n",
       "      <td>0</td>\n",
       "      <td>7</td>\n",
       "    </tr>\n",
       "    <tr>\n",
       "      <th>3</th>\n",
       "      <td>0</td>\n",
       "      <td>64.900</td>\n",
       "      <td>NaN</td>\n",
       "      <td>2015-07-24</td>\n",
       "      <td>3</td>\n",
       "      <td>2.65</td>\n",
       "      <td>14.0</td>\n",
       "      <td>NaN</td>\n",
       "      <td>9</td>\n",
       "      <td>False</td>\n",
       "      <td>False</td>\n",
       "      <td>False</td>\n",
       "      <td>NaN</td>\n",
       "      <td>0.0</td>\n",
       "      <td>Санкт-Петербург</td>\n",
       "      <td>28098.0</td>\n",
       "      <td>6800.0</td>\n",
       "      <td>2.0</td>\n",
       "      <td>84.0</td>\n",
       "      <td>3.0</td>\n",
       "      <td>234.0</td>\n",
       "      <td>424.0</td>\n",
       "      <td>NaN</td>\n",
       "      <td>Friday</td>\n",
       "      <td>4</td>\n",
       "      <td>July</td>\n",
       "      <td>2015</td>\n",
       "      <td>другой</td>\n",
       "      <td>6.800</td>\n",
       "      <td>28.098</td>\n",
       "      <td>0.084</td>\n",
       "      <td>0.234</td>\n",
       "      <td>0</td>\n",
       "      <td>6</td>\n",
       "    </tr>\n",
       "    <tr>\n",
       "      <th>4</th>\n",
       "      <td>2</td>\n",
       "      <td>10.000</td>\n",
       "      <td>100.00</td>\n",
       "      <td>2018-06-19</td>\n",
       "      <td>2</td>\n",
       "      <td>NaN</td>\n",
       "      <td>14.0</td>\n",
       "      <td>32.00</td>\n",
       "      <td>13</td>\n",
       "      <td>False</td>\n",
       "      <td>False</td>\n",
       "      <td>False</td>\n",
       "      <td>NaN</td>\n",
       "      <td>0.0</td>\n",
       "      <td>Санкт-Петербург</td>\n",
       "      <td>31856.0</td>\n",
       "      <td>8098.0</td>\n",
       "      <td>2.0</td>\n",
       "      <td>112.0</td>\n",
       "      <td>1.0</td>\n",
       "      <td>48.0</td>\n",
       "      <td>121.0</td>\n",
       "      <td>100000.00</td>\n",
       "      <td>Tuesday</td>\n",
       "      <td>1</td>\n",
       "      <td>June</td>\n",
       "      <td>2018</td>\n",
       "      <td>другой</td>\n",
       "      <td>8.098</td>\n",
       "      <td>31.856</td>\n",
       "      <td>0.112</td>\n",
       "      <td>0.048</td>\n",
       "      <td>0</td>\n",
       "      <td>5</td>\n",
       "    </tr>\n",
       "    <tr>\n",
       "      <th>5</th>\n",
       "      <td>10</td>\n",
       "      <td>2.890</td>\n",
       "      <td>30.40</td>\n",
       "      <td>2018-09-10</td>\n",
       "      <td>1</td>\n",
       "      <td>2.65</td>\n",
       "      <td>12.0</td>\n",
       "      <td>14.40</td>\n",
       "      <td>5</td>\n",
       "      <td>False</td>\n",
       "      <td>False</td>\n",
       "      <td>False</td>\n",
       "      <td>9.10</td>\n",
       "      <td>0.0</td>\n",
       "      <td>городской поселок Янино-1</td>\n",
       "      <td>NaN</td>\n",
       "      <td>NaN</td>\n",
       "      <td>0</td>\n",
       "      <td>NaN</td>\n",
       "      <td>0</td>\n",
       "      <td>NaN</td>\n",
       "      <td>55.0</td>\n",
       "      <td>95065.79</td>\n",
       "      <td>Monday</td>\n",
       "      <td>0</td>\n",
       "      <td>September</td>\n",
       "      <td>2018</td>\n",
       "      <td>другой</td>\n",
       "      <td>NaN</td>\n",
       "      <td>NaN</td>\n",
       "      <td>NaN</td>\n",
       "      <td>NaN</td>\n",
       "      <td>0</td>\n",
       "      <td>8</td>\n",
       "    </tr>\n",
       "    <tr>\n",
       "      <th>6</th>\n",
       "      <td>6</td>\n",
       "      <td>3.700</td>\n",
       "      <td>37.30</td>\n",
       "      <td>2017-11-02</td>\n",
       "      <td>1</td>\n",
       "      <td>2.65</td>\n",
       "      <td>26.0</td>\n",
       "      <td>10.60</td>\n",
       "      <td>6</td>\n",
       "      <td>False</td>\n",
       "      <td>False</td>\n",
       "      <td>False</td>\n",
       "      <td>14.40</td>\n",
       "      <td>1.0</td>\n",
       "      <td>поселок Парголово</td>\n",
       "      <td>52996.0</td>\n",
       "      <td>19143.0</td>\n",
       "      <td>0.0</td>\n",
       "      <td>NaN</td>\n",
       "      <td>0.0</td>\n",
       "      <td>NaN</td>\n",
       "      <td>155.0</td>\n",
       "      <td>99195.71</td>\n",
       "      <td>Thursday</td>\n",
       "      <td>3</td>\n",
       "      <td>November</td>\n",
       "      <td>2017</td>\n",
       "      <td>другой</td>\n",
       "      <td>19.143</td>\n",
       "      <td>52.996</td>\n",
       "      <td>NaN</td>\n",
       "      <td>NaN</td>\n",
       "      <td>0</td>\n",
       "      <td>10</td>\n",
       "    </tr>\n",
       "    <tr>\n",
       "      <th>7</th>\n",
       "      <td>5</td>\n",
       "      <td>7.915</td>\n",
       "      <td>71.60</td>\n",
       "      <td>2019-04-18</td>\n",
       "      <td>2</td>\n",
       "      <td>2.65</td>\n",
       "      <td>24.0</td>\n",
       "      <td>NaN</td>\n",
       "      <td>22</td>\n",
       "      <td>False</td>\n",
       "      <td>False</td>\n",
       "      <td>False</td>\n",
       "      <td>18.90</td>\n",
       "      <td>2.0</td>\n",
       "      <td>Санкт-Петербург</td>\n",
       "      <td>23982.0</td>\n",
       "      <td>11634.0</td>\n",
       "      <td>0.0</td>\n",
       "      <td>NaN</td>\n",
       "      <td>0.0</td>\n",
       "      <td>NaN</td>\n",
       "      <td>NaN</td>\n",
       "      <td>110544.69</td>\n",
       "      <td>Thursday</td>\n",
       "      <td>3</td>\n",
       "      <td>April</td>\n",
       "      <td>2019</td>\n",
       "      <td>другой</td>\n",
       "      <td>11.634</td>\n",
       "      <td>23.982</td>\n",
       "      <td>NaN</td>\n",
       "      <td>NaN</td>\n",
       "      <td>0</td>\n",
       "      <td>3</td>\n",
       "    </tr>\n",
       "    <tr>\n",
       "      <th>8</th>\n",
       "      <td>20</td>\n",
       "      <td>2.900</td>\n",
       "      <td>33.16</td>\n",
       "      <td>2018-05-23</td>\n",
       "      <td>1</td>\n",
       "      <td>2.65</td>\n",
       "      <td>27.0</td>\n",
       "      <td>15.43</td>\n",
       "      <td>26</td>\n",
       "      <td>False</td>\n",
       "      <td>False</td>\n",
       "      <td>False</td>\n",
       "      <td>8.81</td>\n",
       "      <td>0.0</td>\n",
       "      <td>поселок Мурино</td>\n",
       "      <td>NaN</td>\n",
       "      <td>NaN</td>\n",
       "      <td>0</td>\n",
       "      <td>NaN</td>\n",
       "      <td>0</td>\n",
       "      <td>NaN</td>\n",
       "      <td>189.0</td>\n",
       "      <td>87454.76</td>\n",
       "      <td>Wednesday</td>\n",
       "      <td>2</td>\n",
       "      <td>May</td>\n",
       "      <td>2018</td>\n",
       "      <td>другой</td>\n",
       "      <td>NaN</td>\n",
       "      <td>NaN</td>\n",
       "      <td>NaN</td>\n",
       "      <td>NaN</td>\n",
       "      <td>0</td>\n",
       "      <td>4</td>\n",
       "    </tr>\n",
       "    <tr>\n",
       "      <th>9</th>\n",
       "      <td>18</td>\n",
       "      <td>5.400</td>\n",
       "      <td>61.00</td>\n",
       "      <td>2017-02-26</td>\n",
       "      <td>3</td>\n",
       "      <td>2.50</td>\n",
       "      <td>9.0</td>\n",
       "      <td>43.60</td>\n",
       "      <td>7</td>\n",
       "      <td>False</td>\n",
       "      <td>False</td>\n",
       "      <td>False</td>\n",
       "      <td>6.50</td>\n",
       "      <td>2.0</td>\n",
       "      <td>Санкт-Петербург</td>\n",
       "      <td>50898.0</td>\n",
       "      <td>15008.0</td>\n",
       "      <td>0.0</td>\n",
       "      <td>NaN</td>\n",
       "      <td>0.0</td>\n",
       "      <td>NaN</td>\n",
       "      <td>289.0</td>\n",
       "      <td>88524.59</td>\n",
       "      <td>Sunday</td>\n",
       "      <td>6</td>\n",
       "      <td>February</td>\n",
       "      <td>2017</td>\n",
       "      <td>другой</td>\n",
       "      <td>15.008</td>\n",
       "      <td>50.898</td>\n",
       "      <td>NaN</td>\n",
       "      <td>NaN</td>\n",
       "      <td>0</td>\n",
       "      <td>1</td>\n",
       "    </tr>\n",
       "  </tbody>\n",
       "</table>\n",
       "</div>"
      ],
      "text/plain": [
       "   total_images  last_price  total_area first_day_exposition  rooms  \\\n",
       "0            20      13.000      108.00           2019-03-07      3   \n",
       "1             7       3.350       40.40           2018-12-04      1   \n",
       "2            10       5.196       56.00           2015-08-20      2   \n",
       "3             0      64.900         NaN           2015-07-24      3   \n",
       "4             2      10.000      100.00           2018-06-19      2   \n",
       "5            10       2.890       30.40           2018-09-10      1   \n",
       "6             6       3.700       37.30           2017-11-02      1   \n",
       "7             5       7.915       71.60           2019-04-18      2   \n",
       "8            20       2.900       33.16           2018-05-23      1   \n",
       "9            18       5.400       61.00           2017-02-26      3   \n",
       "\n",
       "   ceiling_height  floors_total  living_area  floor  is_apartment  studio  \\\n",
       "0            2.70          16.0        51.00      8         False   False   \n",
       "1            2.65          11.0        18.60      1         False   False   \n",
       "2            2.65           5.0        34.30      4         False   False   \n",
       "3            2.65          14.0          NaN      9         False   False   \n",
       "4             NaN          14.0        32.00     13         False   False   \n",
       "5            2.65          12.0        14.40      5         False   False   \n",
       "6            2.65          26.0        10.60      6         False   False   \n",
       "7            2.65          24.0          NaN     22         False   False   \n",
       "8            2.65          27.0        15.43     26         False   False   \n",
       "9            2.50           9.0        43.60      7         False   False   \n",
       "\n",
       "   open_plan  kitchen_area  balcony              locality_name  \\\n",
       "0      False           NaN      0.0            Санкт-Петербург   \n",
       "1      False         11.00      2.0             поселок Шушары   \n",
       "2      False          8.30      0.0            Санкт-Петербург   \n",
       "3      False           NaN      0.0            Санкт-Петербург   \n",
       "4      False           NaN      0.0            Санкт-Петербург   \n",
       "5      False          9.10      0.0  городской поселок Янино-1   \n",
       "6      False         14.40      1.0          поселок Парголово   \n",
       "7      False         18.90      2.0            Санкт-Петербург   \n",
       "8      False          8.81      0.0             поселок Мурино   \n",
       "9      False          6.50      2.0            Санкт-Петербург   \n",
       "\n",
       "   airports_nearest  cityCenters_nearest parks_around3000  parks_nearest  \\\n",
       "0           18863.0              16028.0              1.0          482.0   \n",
       "1           12817.0              18603.0              0.0            NaN   \n",
       "2           21741.0              13933.0              1.0           90.0   \n",
       "3           28098.0               6800.0              2.0           84.0   \n",
       "4           31856.0               8098.0              2.0          112.0   \n",
       "5               NaN                  NaN                0            NaN   \n",
       "6           52996.0              19143.0              0.0            NaN   \n",
       "7           23982.0              11634.0              0.0            NaN   \n",
       "8               NaN                  NaN                0            NaN   \n",
       "9           50898.0              15008.0              0.0            NaN   \n",
       "\n",
       "  ponds_around3000  ponds_nearest  days_exposition  price_per_meter  \\\n",
       "0              2.0          755.0              NaN        120370.37   \n",
       "1              0.0            NaN             81.0         82920.79   \n",
       "2              2.0          574.0              NaN         92785.71   \n",
       "3              3.0          234.0            424.0              NaN   \n",
       "4              1.0           48.0            121.0        100000.00   \n",
       "5                0            NaN             55.0         95065.79   \n",
       "6              0.0            NaN            155.0         99195.71   \n",
       "7              0.0            NaN              NaN        110544.69   \n",
       "8                0            NaN            189.0         87454.76   \n",
       "9              0.0            NaN            289.0         88524.59   \n",
       "\n",
       "  day_of_week_exposition  day_of_week_exposition_number month_exposition  \\\n",
       "0               Thursday                              3            March   \n",
       "1                Tuesday                              1         December   \n",
       "2               Thursday                              3           August   \n",
       "3                 Friday                              4             July   \n",
       "4                Tuesday                              1             June   \n",
       "5                 Monday                              0        September   \n",
       "6               Thursday                              3         November   \n",
       "7               Thursday                              3            April   \n",
       "8              Wednesday                              2              May   \n",
       "9                 Sunday                              6         February   \n",
       "\n",
       "   year_exposition floor_status  city_center_distance_km  \\\n",
       "0             2019       другой                   16.028   \n",
       "1             2018       первый                   18.603   \n",
       "2             2015       другой                   13.933   \n",
       "3             2015       другой                    6.800   \n",
       "4             2018       другой                    8.098   \n",
       "5             2018       другой                      NaN   \n",
       "6             2017       другой                   19.143   \n",
       "7             2019       другой                   11.634   \n",
       "8             2018       другой                      NaN   \n",
       "9             2017       другой                   15.008   \n",
       "\n",
       "   nearest_airport_distance_km  nearest_park_distance_km  \\\n",
       "0                       18.863                     0.482   \n",
       "1                       12.817                       NaN   \n",
       "2                       21.741                     0.090   \n",
       "3                       28.098                     0.084   \n",
       "4                       31.856                     0.112   \n",
       "5                          NaN                       NaN   \n",
       "6                       52.996                       NaN   \n",
       "7                       23.982                       NaN   \n",
       "8                          NaN                       NaN   \n",
       "9                       50.898                       NaN   \n",
       "\n",
       "   nearest_pond_distance_km  floor_status_number  month_exposition_number  \n",
       "0                     0.755                    0                        2  \n",
       "1                       NaN                    1                       11  \n",
       "2                     0.574                    0                        7  \n",
       "3                     0.234                    0                        6  \n",
       "4                     0.048                    0                        5  \n",
       "5                       NaN                    0                        8  \n",
       "6                       NaN                    0                       10  \n",
       "7                       NaN                    0                        3  \n",
       "8                       NaN                    0                        4  \n",
       "9                       NaN                    0                        1  "
      ]
     },
     "execution_count": 57,
     "metadata": {},
     "output_type": "execute_result"
    }
   ],
   "source": [
    "#Для того чтобы построить гистограмму по месяцам, в исходный датафрейм добавим столбец, в котором каждому месяцу будет \n",
    "#соответствовать цивровое значение. Например, январь=0, февраль=1 ...декабрь=11. \n",
    "def translate_in_number_month(row):\n",
    "    month_exposition= row['month_exposition']\n",
    "    \n",
    "    if month_exposition == 'January':\n",
    "        return 0\n",
    "    \n",
    "    if month_exposition == 'February':\n",
    "        return 1\n",
    "    \n",
    "    if month_exposition == 'March':\n",
    "        return 2\n",
    "    \n",
    "    if month_exposition == 'April':\n",
    "        return 3\n",
    "    \n",
    "    if month_exposition == 'May':\n",
    "        return 4\n",
    "    \n",
    "    if month_exposition == 'June':\n",
    "        return 5\n",
    "    \n",
    "    if month_exposition == 'July':\n",
    "        return 6\n",
    "    \n",
    "    if month_exposition == 'August':\n",
    "        return 7\n",
    "    \n",
    "    if month_exposition == 'September':\n",
    "        return 8\n",
    "    \n",
    "    if month_exposition == 'October':\n",
    "        return 9\n",
    "    \n",
    "    if month_exposition == 'November':\n",
    "        return 10\n",
    "    \n",
    "    if month_exposition == 'December':\n",
    "        return 11\n",
    "\n",
    "data['month_exposition_number'] = data.apply(translate_in_number_month, axis = 1)\n",
    "data.head(10)#Проверим себя"
   ]
  },
  {
   "cell_type": "code",
   "execution_count": 58,
   "metadata": {},
   "outputs": [
    {
     "data": {
      "image/png": "[encoded data removed]",
      "text/plain": [
       "<Figure size 432x288 with 1 Axes>"
      ]
     },
     "metadata": {
      "needs_background": "light"
     },
     "output_type": "display_data"
    }
   ],
   "source": [
    "plt.hist(data['month_exposition_number'], bins=50, range=(0,11))\n",
    "plt.title('Месяц публикации объявления')\n",
    "plt.xlabel('Месяц публикации')\n",
    "plt.ylabel('Количество квартир')\n",
    "plt.show()"
   ]
  },
  {
   "cell_type": "markdown",
   "metadata": {},
   "source": [
    "Больше всего публикаций было в феврале, меньше всего в мае. "
   ]
  },
  {
   "cell_type": "markdown",
   "metadata": {},
   "source": [
    "#### Изучение времени продажи квартиры"
   ]
  },
  {
   "cell_type": "code",
   "execution_count": 59,
   "metadata": {},
   "outputs": [
    {
     "data": {
      "image/png": "[encoded data removed]",
      "text/plain": [
       "<Figure size 432x288 with 1 Axes>"
      ]
     },
     "metadata": {
      "needs_background": "light"
     },
     "output_type": "display_data"
    },
    {
     "data": {
      "text/plain": [
       "count    18562.000000\n",
       "mean       129.034264\n",
       "std        121.640084\n",
       "min          1.000000\n",
       "25%         42.000000\n",
       "50%         85.000000\n",
       "75%        183.000000\n",
       "max        512.000000\n",
       "Name: days_exposition, dtype: float64"
      ]
     },
     "execution_count": 59,
     "metadata": {},
     "output_type": "execute_result"
    }
   ],
   "source": [
    "# Гистограма времени продажи\n",
    "plt.hist(data['days_exposition'], bins=100, range=(0,250))\n",
    "plt.title('Время продажи')\n",
    "plt.xlabel('Дни')\n",
    "plt.ylabel('Количество квартир')\n",
    "plt.show()\n",
    "# Изучаем значения срока продажи\n",
    "data.query('days_exposition != 9999')['days_exposition'].describe()"
   ]
  },
  {
   "cell_type": "markdown",
   "metadata": {},
   "source": [
    "<b>Вывод:</b> Медианное время продажи - 85 дней, среднее - 183 день. В основной массе объекты продаются в срок до 100 дней. Есть большое количество объектов, которые продались за несколько дней. Также есть объекты, которые продавались и больше 200 дней. Быстрой продажей можно назвать срок 42 дней и меньше, долгой же - 232 дня и больше. "
   ]
  },
  {
   "cell_type": "markdown",
   "metadata": {},
   "source": [
    "#### Изучение влияния факторов на общую (полную) стоимость объекта?"
   ]
  },
  {
   "cell_type": "markdown",
   "metadata": {},
   "source": [
    "##### Зависимость от общей площади"
   ]
  },
  {
   "cell_type": "code",
   "execution_count": 60,
   "metadata": {},
   "outputs": [
    {
     "data": {
      "image/png": "[encoded data removed]",
      "text/plain": [
       "<Figure size 360x360 with 1 Axes>"
      ]
     },
     "metadata": {
      "needs_background": "light"
     },
     "output_type": "display_data"
    },
    {
     "name": "stdout",
     "output_type": "stream",
     "text": [
      "Корреляция цены и площади: \n",
      "\n",
      "            last_price  total_area\n",
      "last_price     1.00000     0.47191\n",
      "total_area     0.47191     1.00000 \n",
      "\n"
     ]
    }
   ],
   "source": [
    "(\n",
    "    data.pivot_table(index='total_area', values='last_price')\n",
    "    .plot(grid=True, style='o', figsize=(5, 5))\n",
    ")\n",
    "plt.show()\n",
    "print('Корреляция цены и площади:','\\n')\n",
    "print(data.pivot_table(index='floor', values=['total_area', 'last_price']).corr(),'\\n')"
   ]
  },
  {
   "cell_type": "markdown",
   "metadata": {},
   "source": [
    "Выраженная зависимость цены от общей площади: чем больше площадь, тем выше цена. "
   ]
  },
  {
   "cell_type": "markdown",
   "metadata": {},
   "source": [
    "##### Зависимость от жилой площади"
   ]
  },
  {
   "cell_type": "code",
   "execution_count": 61,
   "metadata": {},
   "outputs": [
    {
     "data": {
      "image/png": "[encoded data removed]",
      "text/plain": [
       "<Figure size 360x360 with 1 Axes>"
      ]
     },
     "metadata": {
      "needs_background": "light"
     },
     "output_type": "display_data"
    },
    {
     "name": "stdout",
     "output_type": "stream",
     "text": [
      "Корреляция цены и площади: \n",
      "\n",
      "             last_price  living_area\n",
      "last_price     1.000000     0.437062\n",
      "living_area    0.437062     1.000000 \n",
      "\n"
     ]
    }
   ],
   "source": [
    "(\n",
    "    data.pivot_table(index='living_area', values='last_price')\n",
    "    .plot(grid=True, style='o', figsize=(5, 5))\n",
    ")\n",
    "plt.show()\n",
    "print('Корреляция цены и площади:','\\n')\n",
    "print(data.pivot_table(index='floor', values=['living_area', 'last_price']).corr(),'\\n')"
   ]
  },
  {
   "cell_type": "markdown",
   "metadata": {},
   "source": [
    "Выраженная зависимость цены от жилой площади: чем больше площадь, тем выше цена. "
   ]
  },
  {
   "cell_type": "markdown",
   "metadata": {},
   "source": [
    "##### Зависимость от площади кухни"
   ]
  },
  {
   "cell_type": "code",
   "execution_count": 62,
   "metadata": {},
   "outputs": [
    {
     "data": {
      "image/png": "[encoded data removed]",
      "text/plain": [
       "<Figure size 360x360 with 1 Axes>"
      ]
     },
     "metadata": {
      "needs_background": "light"
     },
     "output_type": "display_data"
    },
    {
     "name": "stdout",
     "output_type": "stream",
     "text": [
      "Корреляция цены и площади: \n",
      "\n",
      "              kitchen_area  last_price\n",
      "kitchen_area      1.000000    0.109654\n",
      "last_price        0.109654    1.000000 \n",
      "\n"
     ]
    }
   ],
   "source": [
    "(\n",
    "    data.pivot_table(index='kitchen_area', values='last_price')\n",
    "    .plot(grid=True, style='o', figsize=(5, 5))\n",
    ")\n",
    "plt.show()\n",
    "print('Корреляция цены и площади:','\\n')\n",
    "print(data.pivot_table(index='floor', values=['kitchen_area', 'last_price']).corr(),'\\n')"
   ]
  },
  {
   "cell_type": "markdown",
   "metadata": {},
   "source": [
    "Зависимость цены от площади кухни слабая. Утверждать о том, что с увелечением площади кухни увеличчивается цена - нельзя.  "
   ]
  },
  {
   "cell_type": "markdown",
   "metadata": {},
   "source": [
    "##### Зависимость от количества комнат"
   ]
  },
  {
   "cell_type": "code",
   "execution_count": 63,
   "metadata": {},
   "outputs": [
    {
     "data": {
      "image/png": "[encoded data removed]",
      "text/plain": [
       "<Figure size 360x360 with 1 Axes>"
      ]
     },
     "metadata": {
      "needs_background": "light"
     },
     "output_type": "display_data"
    },
    {
     "name": "stdout",
     "output_type": "stream",
     "text": [
      "Корреляция цены и числа комнат: \n",
      "\n",
      "            last_price     rooms\n",
      "last_price    1.000000  0.613961\n",
      "rooms         0.613961  1.000000 \n",
      "\n"
     ]
    }
   ],
   "source": [
    "(\n",
    "    data.query('rooms > 0').pivot_table(index='rooms', values='last_price')\n",
    "    .plot(grid=True, style='o-', figsize=(5, 5))\n",
    ")\n",
    "plt.show()\n",
    "print('Корреляция цены и числа комнат:','\\n')\n",
    "print(data.query('rooms > 0').pivot_table(index='floor', values=['rooms', 'last_price']).corr(),'\\n')"
   ]
  },
  {
   "cell_type": "markdown",
   "metadata": {},
   "source": [
    "Зависимость есть: с увеличением числа комнат увеличивается и цена. "
   ]
  },
  {
   "cell_type": "markdown",
   "metadata": {},
   "source": [
    "##### Зависимость от этажа, на котором находится квартира"
   ]
  },
  {
   "cell_type": "code",
   "execution_count": 64,
   "metadata": {},
   "outputs": [
    {
     "data": {
      "image/png": "[encoded data removed]",
      "text/plain": [
       "<Figure size 360x360 with 1 Axes>"
      ]
     },
     "metadata": {
      "needs_background": "light"
     },
     "output_type": "display_data"
    }
   ],
   "source": [
    "(\n",
    "    data.pivot_table(index='floor_status', values='last_price', aggfunc='median')\n",
    "    .plot(grid=True, style='o-', figsize=(5, 5))\n",
    ")\n",
    "plt.show()"
   ]
  },
  {
   "cell_type": "markdown",
   "metadata": {},
   "source": [
    "Цена квартиры падает, если объект находится на первом этаже. Ситуация с последним этажом чуть лучше, но все равно цена ниже, чем у квартир на других этажах. "
   ]
  },
  {
   "cell_type": "markdown",
   "metadata": {},
   "source": [
    "##### Зависимость от даты размещения"
   ]
  },
  {
   "cell_type": "code",
   "execution_count": 65,
   "metadata": {},
   "outputs": [
    {
     "data": {
      "image/png": "[encoded data removed]",
      "text/plain": [
       "<Figure size 360x360 with 1 Axes>"
      ]
     },
     "metadata": {
      "needs_background": "light"
     },
     "output_type": "display_data"
    },
    {
     "data": {
      "image/png": "[encoded data removed]",
      "text/plain": [
       "<Figure size 720x360 with 1 Axes>"
      ]
     },
     "metadata": {
      "needs_background": "light"
     },
     "output_type": "display_data"
    },
    {
     "data": {
      "image/png": "[encoded data removed]",
      "text/plain": [
       "<Figure size 360x360 with 1 Axes>"
      ]
     },
     "metadata": {
      "needs_background": "light"
     },
     "output_type": "display_data"
    }
   ],
   "source": [
    "# Зависимость от дня размещения\n",
    "(\n",
    "    data.pivot_table(index='day_of_week_exposition_number', values='last_price')\n",
    "    .plot(grid=True, style='o-', figsize=(5, 5))\n",
    ")\n",
    "plt.show()\n",
    "# Зависимость от месяца размещения\n",
    "(\n",
    "    data.pivot_table(index='month_exposition_number', values='last_price')\n",
    "    .plot(grid=True, style='o-', xlim=(0,12), figsize=(10, 5))\n",
    ")\n",
    "plt.show()\n",
    "# Зависимость от года размещения\n",
    "(\n",
    "    data.pivot_table(index='year_exposition', values='last_price')\n",
    "    .plot(grid=True, style='o-', figsize=(5, 5))\n",
    ")\n",
    "plt.show()"
   ]
  },
  {
   "cell_type": "markdown",
   "metadata": {},
   "source": [
    "<b>Зависимость от дня:</b> наибольшая цена у объектов, выставленных на продажу в субботу, наименьшая - воскресенье\n",
    "<b>Зависимость от месяца:</b> Наибольшая цена у квартир, выставленных на продажу в декабре, наименьшая - октябрь. \n",
    "<b>Зависимость от года:</b> Квартиры сильно подешевели в период с 2017 по 2018, после наметился небольшой рост. Однако пик цен был в 2014 году. "
   ]
  },
  {
   "cell_type": "markdown",
   "metadata": {},
   "source": [
    "#### Посчитать среднюю цену одного квадратного метра в 10 населённых пунктах"
   ]
  },
  {
   "cell_type": "code",
   "execution_count": 66,
   "metadata": {},
   "outputs": [
    {
     "data": {
      "text/html": [
       "<div>\n",
       "<style scoped>\n",
       "    .dataframe tbody tr th:only-of-type {\n",
       "        vertical-align: middle;\n",
       "    }\n",
       "\n",
       "    .dataframe tbody tr th {\n",
       "        vertical-align: top;\n",
       "    }\n",
       "\n",
       "    .dataframe thead th {\n",
       "        text-align: right;\n",
       "    }\n",
       "</style>\n",
       "<table border=\"1\" class=\"dataframe\">\n",
       "  <thead>\n",
       "    <tr style=\"text-align: right;\">\n",
       "      <th></th>\n",
       "      <th>price_per_meter</th>\n",
       "    </tr>\n",
       "    <tr>\n",
       "      <th>locality_name</th>\n",
       "      <th></th>\n",
       "    </tr>\n",
       "  </thead>\n",
       "  <tbody>\n",
       "    <tr>\n",
       "      <th>Санкт-Петербург</th>\n",
       "      <td>110661</td>\n",
       "    </tr>\n",
       "    <tr>\n",
       "      <th>Пушкин</th>\n",
       "      <td>101960</td>\n",
       "    </tr>\n",
       "    <tr>\n",
       "      <th>деревня Кудрово</th>\n",
       "      <td>92229</td>\n",
       "    </tr>\n",
       "    <tr>\n",
       "      <th>поселок Парголово</th>\n",
       "      <td>90448</td>\n",
       "    </tr>\n",
       "    <tr>\n",
       "      <th>поселок Мурино</th>\n",
       "      <td>85029</td>\n",
       "    </tr>\n",
       "    <tr>\n",
       "      <th>поселок Шушары</th>\n",
       "      <td>78303</td>\n",
       "    </tr>\n",
       "    <tr>\n",
       "      <th>Колпино</th>\n",
       "      <td>75370</td>\n",
       "    </tr>\n",
       "    <tr>\n",
       "      <th>Гатчина</th>\n",
       "      <td>68919</td>\n",
       "    </tr>\n",
       "    <tr>\n",
       "      <th>Всеволожск</th>\n",
       "      <td>68637</td>\n",
       "    </tr>\n",
       "    <tr>\n",
       "      <th>Выборг</th>\n",
       "      <td>58225</td>\n",
       "    </tr>\n",
       "  </tbody>\n",
       "</table>\n",
       "</div>"
      ],
      "text/plain": [
       "                   price_per_meter\n",
       "locality_name                     \n",
       "Санкт-Петербург             110661\n",
       "Пушкин                      101960\n",
       "деревня Кудрово              92229\n",
       "поселок Парголово            90448\n",
       "поселок Мурино               85029\n",
       "поселок Шушары               78303\n",
       "Колпино                      75370\n",
       "Гатчина                      68919\n",
       "Всеволожск                   68637\n",
       "Выборг                       58225"
      ]
     },
     "execution_count": 66,
     "metadata": {},
     "output_type": "execute_result"
    }
   ],
   "source": [
    "# Сравниваем среднюю стоимость квадратного метра в топ-10 городов по числу объявлений\n",
    "city_ten = data['locality_name'].value_counts().head(10)\n",
    "city_sm_price = data.query('locality_name in (@city_ten.index)').pivot_table(values='price_per_meter', index='locality_name')\n",
    "city_sm_price = city_sm_price.astype(int)\n",
    "city_sm_price.sort_values('price_per_meter', ascending=False)"
   ]
  },
  {
   "cell_type": "markdown",
   "metadata": {},
   "source": [
    "<b>Вывод:</b> Наибольшая стоимость квадратного метра, как и ожидалось, в Санкт-Петербурге. Наименьшая - Выборг, что объясняется его небольшой численностью населения и большой удаленностью от Санкт-Петербурга. Учитвая, что также нельшая цена за кв.м. наблюдается в городах Гатчина и Всеволожск (тоже далеко находятся от Питера) можно сделать вывод о том, что цена за кв.м. уменьшается с увеличение отдаленности от Санкт-Петербурга. Проверим это в следующем пункте."
   ]
  },
  {
   "cell_type": "markdown",
   "metadata": {},
   "source": [
    "#### Вычислить среднюю цену каждого километра"
   ]
  },
  {
   "cell_type": "code",
   "execution_count": 68,
   "metadata": {},
   "outputs": [
    {
     "data": {
      "text/plain": [
       "<AxesSubplot:xlabel='city_center_distance_km'>"
      ]
     },
     "execution_count": 68,
     "metadata": {},
     "output_type": "execute_result"
    },
    {
     "data": {
      "image/png": "[encoded data removed]",
      "text/plain": [
       "<Figure size 720x360 with 1 Axes>"
      ]
     },
     "metadata": {
      "needs_background": "light"
     },
     "output_type": "display_data"
    }
   ],
   "source": [
    "depend_price_km = data.query('locality_name == \"Санкт-Петербург\"').pivot_table(index='city_center_distance_km', values='price_per_meter', aggfunc='mean')\n",
    "depend_price_km.head(10)\n",
    "depend_price_km.plot(figsize=(10, 5), grid=True)"
   ]
  },
  {
   "cell_type": "markdown",
   "metadata": {},
   "source": [
    "Чем дальше объект находится от центра, тем дешевле его кв.м."
   ]
  },
  {
   "cell_type": "markdown",
   "metadata": {},
   "source": [
    "### Общий вывод"
   ]
  },
  {
   "cell_type": "markdown",
   "metadata": {},
   "source": [
    "<b>Цель:</b>найти интересные особенности и зависимости, которые существуют на рынке недвижимости.\n",
    "<b>Что было сделано:</b><br>\n",
    "1)Прочитали файл и сохранили его в data. Предварительно ознакомились с данными.<br>\n",
    "2)Произвели предобработку данных:\n",
    "<ul>\n",
    "<li>Заполнили пропуски в данных;</li>  \n",
    "<li>Изменили типы данных;</li>\n",
    "<li>Изабивились от неявных дубликатов;</li>\n",
    "<li>Изабивились от выбивающихся значений;</li>\n",
    "<li>Добавлены столбцы, необходимые для дальнейшего анализа.</li>\n",
    "</ul>\n",
    "3)Изучили и описали параметры, построили для каждого параметра гистограмму и рассчитали корреляцию. <br>\n",
    "4)Изучили то, как быстро продавались квартиры. <br>\n",
    "5)Изучили параметры и определили их влияние на стоимость квартир. <br>\n",
    "6)Посчитали среднюю цену одного квадратного метра в 10 населённых пунктах с наибольшим числом объявлений.<br>\n",
    "7)Вычислили среднюю цену каждого километра.<br>\n",
    "\n",
    "<b>Общий вывод:</b>\n",
    "В основной массе объекты продаются в срок до 100 дней (медиана 85 дней, среднее 183). Есть большое количество объектов, которые продались за несколько дней. Также есть объекты, которые продавались и больше 200 дней. Быстрой продажей можно назвать срок 42 дней и меньше, долгой же - 232 дня и больше. \n",
    "\n",
    "В большей степени (коэфф. корр. 0,6139) цена за квартиру зависит от количество комнат: чем больше комнат, тем выше цена. В меньшей степени цена на квартиру зависит от общей площади (коэфф. корр. 0,4719). \n",
    "\n",
    "Чем ближе населенный пункт находится к Санкт-Петербургу, тем выше цена за объект. \n",
    "Юлиже к центру к"
   ]
  }
 ],
 "metadata": {
  "ExecuteTimeLog": [
   {
    "duration": 699,
    "start_time": "2022-12-26T03:29:10.096Z"
   },
   {
    "duration": 13,
    "start_time": "2022-12-26T03:30:20.976Z"
   },
   {
    "duration": 5,
    "start_time": "2022-12-26T03:32:37.793Z"
   },
   {
    "duration": 91,
    "start_time": "2022-12-26T03:42:00.020Z"
   },
   {
    "duration": 83,
    "start_time": "2022-12-26T03:42:07.626Z"
   },
   {
    "duration": 98,
    "start_time": "2022-12-26T03:42:20.008Z"
   },
   {
    "duration": 103,
    "start_time": "2022-12-26T03:42:32.519Z"
   },
   {
    "duration": 14,
    "start_time": "2022-12-26T03:46:58.443Z"
   },
   {
    "duration": 10,
    "start_time": "2022-12-26T04:22:52.127Z"
   },
   {
    "duration": 92,
    "start_time": "2022-12-26T04:39:10.258Z"
   },
   {
    "duration": 87,
    "start_time": "2022-12-26T04:39:21.754Z"
   },
   {
    "duration": 96,
    "start_time": "2022-12-26T04:39:31.273Z"
   },
   {
    "duration": 941,
    "start_time": "2022-12-26T05:11:59.307Z"
   },
   {
    "duration": 2066,
    "start_time": "2022-12-26T05:12:13.505Z"
   },
   {
    "duration": 1139,
    "start_time": "2022-12-26T05:13:04.052Z"
   },
   {
    "duration": 16,
    "start_time": "2022-12-26T05:13:25.082Z"
   },
   {
    "duration": 977,
    "start_time": "2022-12-26T05:16:56.979Z"
   },
   {
    "duration": 100,
    "start_time": "2022-12-26T05:17:08.210Z"
   },
   {
    "duration": 13,
    "start_time": "2022-12-26T05:17:15.649Z"
   },
   {
    "duration": 9,
    "start_time": "2022-12-26T05:17:17.608Z"
   },
   {
    "duration": 1034,
    "start_time": "2022-12-26T05:17:19.665Z"
   },
   {
    "duration": 235,
    "start_time": "2022-12-26T05:17:32.096Z"
   },
   {
    "duration": 1393,
    "start_time": "2022-12-26T05:17:44.983Z"
   },
   {
    "duration": 201,
    "start_time": "2022-12-26T05:17:57.854Z"
   },
   {
    "duration": 541,
    "start_time": "2022-12-26T05:18:31.196Z"
   },
   {
    "duration": 568,
    "start_time": "2022-12-26T05:18:51.289Z"
   },
   {
    "duration": 11,
    "start_time": "2022-12-26T05:19:31.662Z"
   },
   {
    "duration": 775,
    "start_time": "2022-12-26T05:21:50.803Z"
   },
   {
    "duration": 6,
    "start_time": "2022-12-26T05:22:02.884Z"
   },
   {
    "duration": 7,
    "start_time": "2022-12-26T05:22:26.121Z"
   },
   {
    "duration": 14,
    "start_time": "2022-12-26T05:22:51.222Z"
   },
   {
    "duration": 7,
    "start_time": "2022-12-26T05:30:12.676Z"
   },
   {
    "duration": 5,
    "start_time": "2022-12-26T05:35:12.709Z"
   },
   {
    "duration": 32,
    "start_time": "2022-12-26T05:46:40.313Z"
   },
   {
    "duration": 8,
    "start_time": "2022-12-26T05:48:09.532Z"
   },
   {
    "duration": 8,
    "start_time": "2022-12-26T06:16:35.183Z"
   },
   {
    "duration": 18,
    "start_time": "2022-12-26T06:16:44.895Z"
   },
   {
    "duration": 53,
    "start_time": "2022-12-26T09:43:46.836Z"
   },
   {
    "duration": 548,
    "start_time": "2022-12-26T09:44:06.984Z"
   },
   {
    "duration": 17,
    "start_time": "2022-12-26T09:44:10.111Z"
   },
   {
    "duration": 9,
    "start_time": "2022-12-26T09:44:11.679Z"
   },
   {
    "duration": 975,
    "start_time": "2022-12-26T09:44:14.120Z"
   },
   {
    "duration": 18,
    "start_time": "2022-12-26T09:44:15.249Z"
   },
   {
    "duration": 13,
    "start_time": "2022-12-26T09:44:17.671Z"
   },
   {
    "duration": 22,
    "start_time": "2022-12-26T09:44:18.814Z"
   },
   {
    "duration": 20,
    "start_time": "2022-12-26T09:44:20.695Z"
   },
   {
    "duration": 20,
    "start_time": "2022-12-26T09:44:55.213Z"
   },
   {
    "duration": 75,
    "start_time": "2022-12-26T09:45:27.041Z"
   },
   {
    "duration": 30,
    "start_time": "2022-12-26T10:09:59.915Z"
   },
   {
    "duration": 31,
    "start_time": "2022-12-26T10:10:18.416Z"
   },
   {
    "duration": 20,
    "start_time": "2022-12-26T10:11:00.913Z"
   },
   {
    "duration": 128,
    "start_time": "2022-12-26T10:58:06.729Z"
   },
   {
    "duration": 34,
    "start_time": "2022-12-26T10:58:40.817Z"
   },
   {
    "duration": 23,
    "start_time": "2022-12-26T11:00:02.755Z"
   },
   {
    "duration": 11,
    "start_time": "2022-12-26T11:02:03.193Z"
   },
   {
    "duration": 10,
    "start_time": "2022-12-26T11:02:13.951Z"
   },
   {
    "duration": 13,
    "start_time": "2022-12-26T11:03:34.456Z"
   },
   {
    "duration": 10,
    "start_time": "2022-12-26T11:04:03.270Z"
   },
   {
    "duration": 11,
    "start_time": "2022-12-26T11:04:05.305Z"
   },
   {
    "duration": 12,
    "start_time": "2022-12-26T11:04:07.954Z"
   },
   {
    "duration": 9,
    "start_time": "2022-12-26T11:35:22.922Z"
   },
   {
    "duration": 17,
    "start_time": "2022-12-26T11:37:01.971Z"
   },
   {
    "duration": 106,
    "start_time": "2022-12-26T11:44:46.023Z"
   },
   {
    "duration": 128,
    "start_time": "2022-12-26T11:45:06.661Z"
   },
   {
    "duration": 84,
    "start_time": "2022-12-26T11:45:44.183Z"
   },
   {
    "duration": 544,
    "start_time": "2022-12-26T11:54:14.412Z"
   },
   {
    "duration": 12,
    "start_time": "2022-12-26T11:54:21.061Z"
   },
   {
    "duration": 12,
    "start_time": "2022-12-26T11:55:13.217Z"
   },
   {
    "duration": 27,
    "start_time": "2022-12-26T11:55:27.976Z"
   },
   {
    "duration": 431,
    "start_time": "2022-12-26T11:55:31.262Z"
   },
   {
    "duration": 11,
    "start_time": "2022-12-26T11:55:33.577Z"
   },
   {
    "duration": 19,
    "start_time": "2022-12-26T11:57:54.451Z"
   },
   {
    "duration": 18,
    "start_time": "2022-12-26T11:58:08.358Z"
   },
   {
    "duration": 12,
    "start_time": "2022-12-26T11:59:55.390Z"
   },
   {
    "duration": 23,
    "start_time": "2022-12-26T12:00:16.340Z"
   },
   {
    "duration": 20,
    "start_time": "2022-12-26T12:00:25.465Z"
   },
   {
    "duration": 34,
    "start_time": "2022-12-26T12:00:40.658Z"
   },
   {
    "duration": 17,
    "start_time": "2022-12-26T12:00:43.961Z"
   },
   {
    "duration": 16,
    "start_time": "2022-12-26T12:01:19.163Z"
   },
   {
    "duration": 21,
    "start_time": "2022-12-26T12:01:25.961Z"
   },
   {
    "duration": 17,
    "start_time": "2022-12-26T12:01:30.568Z"
   },
   {
    "duration": 28,
    "start_time": "2022-12-26T12:03:23.620Z"
   },
   {
    "duration": 48,
    "start_time": "2022-12-26T16:46:45.137Z"
   },
   {
    "duration": 755,
    "start_time": "2022-12-26T16:46:50.739Z"
   },
   {
    "duration": 33,
    "start_time": "2022-12-26T16:46:53.979Z"
   },
   {
    "duration": 16,
    "start_time": "2022-12-26T16:46:55.763Z"
   },
   {
    "duration": 26,
    "start_time": "2022-12-26T16:46:57.178Z"
   },
   {
    "duration": 9,
    "start_time": "2022-12-26T16:46:58.563Z"
   },
   {
    "duration": 11,
    "start_time": "2022-12-26T16:47:00.179Z"
   },
   {
    "duration": 17,
    "start_time": "2022-12-26T16:47:01.691Z"
   },
   {
    "duration": 515,
    "start_time": "2022-12-26T16:47:04.154Z"
   },
   {
    "duration": 12,
    "start_time": "2022-12-26T16:47:05.038Z"
   },
   {
    "duration": 20,
    "start_time": "2022-12-26T16:47:07.306Z"
   },
   {
    "duration": 27,
    "start_time": "2022-12-26T16:47:09.090Z"
   },
   {
    "duration": 7,
    "start_time": "2022-12-26T16:47:11.658Z"
   },
   {
    "duration": 194,
    "start_time": "2022-12-26T16:49:24.519Z"
   },
   {
    "duration": 15,
    "start_time": "2022-12-26T16:49:59.262Z"
   },
   {
    "duration": 7,
    "start_time": "2022-12-26T16:57:31.563Z"
   },
   {
    "duration": 8,
    "start_time": "2022-12-26T16:58:00.513Z"
   },
   {
    "duration": 190,
    "start_time": "2022-12-26T17:00:11.776Z"
   },
   {
    "duration": 45,
    "start_time": "2022-12-26T17:07:16.808Z"
   },
   {
    "duration": 14,
    "start_time": "2022-12-26T17:07:28.645Z"
   },
   {
    "duration": 6,
    "start_time": "2022-12-26T17:07:56.577Z"
   },
   {
    "duration": 213,
    "start_time": "2022-12-26T17:09:05.494Z"
   },
   {
    "duration": 256,
    "start_time": "2022-12-26T17:09:33.141Z"
   },
   {
    "duration": 218,
    "start_time": "2022-12-26T17:09:54.585Z"
   },
   {
    "duration": 16,
    "start_time": "2022-12-26T17:10:58.741Z"
   },
   {
    "duration": 7,
    "start_time": "2022-12-26T17:11:22.507Z"
   },
   {
    "duration": 8,
    "start_time": "2022-12-26T17:11:32.137Z"
   },
   {
    "duration": 6,
    "start_time": "2022-12-26T17:11:34.401Z"
   },
   {
    "duration": 207,
    "start_time": "2022-12-26T17:11:36.001Z"
   },
   {
    "duration": 222,
    "start_time": "2022-12-26T17:11:37.416Z"
   },
   {
    "duration": 24,
    "start_time": "2022-12-26T17:11:40.273Z"
   },
   {
    "duration": 149,
    "start_time": "2022-12-26T17:12:44.748Z"
   },
   {
    "duration": 29,
    "start_time": "2022-12-26T17:12:46.748Z"
   },
   {
    "duration": 16,
    "start_time": "2022-12-26T17:12:48.899Z"
   },
   {
    "duration": 23,
    "start_time": "2022-12-26T17:12:51.323Z"
   },
   {
    "duration": 12,
    "start_time": "2022-12-26T17:12:52.603Z"
   },
   {
    "duration": 11,
    "start_time": "2022-12-26T17:12:54.379Z"
   },
   {
    "duration": 18,
    "start_time": "2022-12-26T17:12:58.325Z"
   },
   {
    "duration": 425,
    "start_time": "2022-12-26T17:13:01.690Z"
   },
   {
    "duration": 12,
    "start_time": "2022-12-26T17:13:03.989Z"
   },
   {
    "duration": 21,
    "start_time": "2022-12-26T17:13:06.186Z"
   },
   {
    "duration": 41,
    "start_time": "2022-12-26T17:13:08.228Z"
   },
   {
    "duration": 7,
    "start_time": "2022-12-26T17:13:13.328Z"
   },
   {
    "duration": 6,
    "start_time": "2022-12-26T17:13:18.289Z"
   },
   {
    "duration": 12,
    "start_time": "2022-12-26T17:13:22.313Z"
   },
   {
    "duration": 211,
    "start_time": "2022-12-26T17:13:23.857Z"
   },
   {
    "duration": 26,
    "start_time": "2022-12-26T17:13:30.112Z"
   },
   {
    "duration": 18,
    "start_time": "2022-12-26T17:19:00.143Z"
   },
   {
    "duration": 186,
    "start_time": "2022-12-26T17:19:03.183Z"
   },
   {
    "duration": 17,
    "start_time": "2022-12-26T17:19:06.023Z"
   },
   {
    "duration": 15,
    "start_time": "2022-12-26T17:21:38.564Z"
   },
   {
    "duration": 234,
    "start_time": "2022-12-26T17:22:00.481Z"
   },
   {
    "duration": 16,
    "start_time": "2022-12-26T17:22:04.942Z"
   },
   {
    "duration": 13,
    "start_time": "2022-12-26T17:23:22.268Z"
   },
   {
    "duration": 170,
    "start_time": "2022-12-26T17:23:27.147Z"
   },
   {
    "duration": 26,
    "start_time": "2022-12-26T17:23:31.395Z"
   },
   {
    "duration": 2215,
    "start_time": "2022-12-26T17:25:25.361Z"
   },
   {
    "duration": 26,
    "start_time": "2022-12-26T17:26:10.662Z"
   },
   {
    "duration": 96,
    "start_time": "2022-12-26T17:29:19.147Z"
   },
   {
    "duration": 36,
    "start_time": "2022-12-26T17:30:10.780Z"
   },
   {
    "duration": 10,
    "start_time": "2022-12-26T17:34:40.502Z"
   },
   {
    "duration": 482,
    "start_time": "2022-12-26T17:38:23.032Z"
   },
   {
    "duration": 25,
    "start_time": "2022-12-26T17:43:01.676Z"
   },
   {
    "duration": 102,
    "start_time": "2022-12-26T17:49:52.366Z"
   },
   {
    "duration": 24,
    "start_time": "2022-12-26T17:52:08.731Z"
   },
   {
    "duration": 88,
    "start_time": "2022-12-26T17:52:17.865Z"
   },
   {
    "duration": 33,
    "start_time": "2022-12-26T17:52:19.152Z"
   },
   {
    "duration": 31,
    "start_time": "2022-12-26T17:52:20.961Z"
   },
   {
    "duration": 14,
    "start_time": "2022-12-26T17:52:22.888Z"
   },
   {
    "duration": 2022,
    "start_time": "2022-12-26T17:52:24.649Z"
   },
   {
    "duration": 11,
    "start_time": "2022-12-26T17:52:29.952Z"
   },
   {
    "duration": 25,
    "start_time": "2022-12-26T17:52:32.032Z"
   },
   {
    "duration": 11,
    "start_time": "2022-12-26T17:52:33.480Z"
   },
   {
    "duration": 15,
    "start_time": "2022-12-26T17:52:35.872Z"
   },
   {
    "duration": 422,
    "start_time": "2022-12-26T17:52:37.888Z"
   },
   {
    "duration": 17,
    "start_time": "2022-12-26T17:52:41.561Z"
   },
   {
    "duration": 24,
    "start_time": "2022-12-26T17:52:44.696Z"
   },
   {
    "duration": 354,
    "start_time": "2022-12-26T17:54:19.449Z"
   },
   {
    "duration": 27,
    "start_time": "2022-12-26T17:55:39.491Z"
   },
   {
    "duration": 20,
    "start_time": "2022-12-26T17:56:16.840Z"
   },
   {
    "duration": 20,
    "start_time": "2022-12-26T18:00:10.365Z"
   },
   {
    "duration": 27,
    "start_time": "2022-12-26T18:00:21.821Z"
   },
   {
    "duration": 5,
    "start_time": "2022-12-26T18:02:59.345Z"
   },
   {
    "duration": 5,
    "start_time": "2022-12-26T18:03:18.324Z"
   },
   {
    "duration": 87,
    "start_time": "2022-12-26T18:03:24.450Z"
   },
   {
    "duration": 33,
    "start_time": "2022-12-26T18:03:25.006Z"
   },
   {
    "duration": 29,
    "start_time": "2022-12-26T18:03:26.791Z"
   },
   {
    "duration": 14,
    "start_time": "2022-12-26T18:03:28.262Z"
   },
   {
    "duration": 1835,
    "start_time": "2022-12-26T18:03:33.310Z"
   },
   {
    "duration": 10,
    "start_time": "2022-12-26T18:03:37.461Z"
   },
   {
    "duration": 21,
    "start_time": "2022-12-26T18:03:40.142Z"
   },
   {
    "duration": 12,
    "start_time": "2022-12-26T18:03:41.317Z"
   },
   {
    "duration": 17,
    "start_time": "2022-12-26T18:03:43.933Z"
   },
   {
    "duration": 415,
    "start_time": "2022-12-26T18:03:47.509Z"
   },
   {
    "duration": 6,
    "start_time": "2022-12-26T18:03:51.444Z"
   },
   {
    "duration": 188,
    "start_time": "2022-12-26T18:04:54.169Z"
   },
   {
    "duration": 6,
    "start_time": "2022-12-26T18:04:57.551Z"
   },
   {
    "duration": 90,
    "start_time": "2022-12-26T18:05:01.530Z"
   },
   {
    "duration": 30,
    "start_time": "2022-12-26T18:05:02.511Z"
   },
   {
    "duration": 31,
    "start_time": "2022-12-26T18:05:04.240Z"
   },
   {
    "duration": 15,
    "start_time": "2022-12-26T18:05:06.670Z"
   },
   {
    "duration": 2051,
    "start_time": "2022-12-26T18:05:08.365Z"
   },
   {
    "duration": 11,
    "start_time": "2022-12-26T18:05:13.182Z"
   },
   {
    "duration": 23,
    "start_time": "2022-12-26T18:05:15.110Z"
   },
   {
    "duration": 11,
    "start_time": "2022-12-26T18:05:17.158Z"
   },
   {
    "duration": 18,
    "start_time": "2022-12-26T18:05:18.910Z"
   },
   {
    "duration": 434,
    "start_time": "2022-12-26T18:05:20.550Z"
   },
   {
    "duration": 6,
    "start_time": "2022-12-26T18:05:23.012Z"
   },
   {
    "duration": 182,
    "start_time": "2022-12-26T18:05:24.509Z"
   },
   {
    "duration": 96,
    "start_time": "2022-12-26T18:06:47.030Z"
   },
   {
    "duration": 39,
    "start_time": "2022-12-26T18:06:48.239Z"
   },
   {
    "duration": 53,
    "start_time": "2022-12-26T18:06:49.967Z"
   },
   {
    "duration": 15,
    "start_time": "2022-12-26T18:06:51.582Z"
   },
   {
    "duration": 1911,
    "start_time": "2022-12-26T18:06:53.342Z"
   },
   {
    "duration": 10,
    "start_time": "2022-12-26T18:06:57.423Z"
   },
   {
    "duration": 26,
    "start_time": "2022-12-26T18:06:59.261Z"
   },
   {
    "duration": 14,
    "start_time": "2022-12-26T18:07:01.069Z"
   },
   {
    "duration": 16,
    "start_time": "2022-12-26T18:07:02.941Z"
   },
   {
    "duration": 577,
    "start_time": "2022-12-26T18:07:04.733Z"
   },
   {
    "duration": 17,
    "start_time": "2022-12-26T18:07:08.485Z"
   },
   {
    "duration": 28,
    "start_time": "2022-12-26T18:07:13.573Z"
   },
   {
    "duration": 5,
    "start_time": "2022-12-26T18:07:16.884Z"
   },
   {
    "duration": 218,
    "start_time": "2022-12-26T18:07:20.620Z"
   },
   {
    "duration": 7,
    "start_time": "2022-12-26T18:07:23.348Z"
   },
   {
    "duration": 7,
    "start_time": "2022-12-26T18:10:28.237Z"
   },
   {
    "duration": 9,
    "start_time": "2022-12-26T18:16:18.379Z"
   },
   {
    "duration": 786,
    "start_time": "2022-12-26T18:26:01.638Z"
   },
   {
    "duration": 5,
    "start_time": "2022-12-26T18:28:15.963Z"
   },
   {
    "duration": 92,
    "start_time": "2022-12-26T18:30:45.088Z"
   },
   {
    "duration": 260,
    "start_time": "2022-12-26T18:30:52.095Z"
   },
   {
    "duration": 194,
    "start_time": "2022-12-26T18:30:58.224Z"
   },
   {
    "duration": 94,
    "start_time": "2022-12-26T18:31:01.502Z"
   },
   {
    "duration": 186,
    "start_time": "2022-12-26T18:31:12.647Z"
   },
   {
    "duration": 7,
    "start_time": "2022-12-26T18:31:29.707Z"
   },
   {
    "duration": 90,
    "start_time": "2022-12-26T18:31:36.068Z"
   },
   {
    "duration": 35,
    "start_time": "2022-12-26T18:31:39.290Z"
   },
   {
    "duration": 31,
    "start_time": "2022-12-26T18:31:41.180Z"
   },
   {
    "duration": 16,
    "start_time": "2022-12-26T18:31:42.802Z"
   },
   {
    "duration": 2065,
    "start_time": "2022-12-26T18:31:44.379Z"
   },
   {
    "duration": 9,
    "start_time": "2022-12-26T18:31:46.446Z"
   },
   {
    "duration": 22,
    "start_time": "2022-12-26T18:31:48.322Z"
   },
   {
    "duration": 11,
    "start_time": "2022-12-26T18:31:49.474Z"
   },
   {
    "duration": 17,
    "start_time": "2022-12-26T18:31:51.378Z"
   },
   {
    "duration": 472,
    "start_time": "2022-12-26T18:31:53.258Z"
   },
   {
    "duration": 18,
    "start_time": "2022-12-26T18:31:55.802Z"
   },
   {
    "duration": 32,
    "start_time": "2022-12-26T18:31:57.986Z"
   },
   {
    "duration": 19,
    "start_time": "2022-12-26T18:32:00.274Z"
   },
   {
    "duration": 26,
    "start_time": "2022-12-26T18:32:01.962Z"
   },
   {
    "duration": 7,
    "start_time": "2022-12-26T18:32:03.794Z"
   },
   {
    "duration": 202,
    "start_time": "2022-12-26T18:32:06.650Z"
   },
   {
    "duration": 49,
    "start_time": "2022-12-27T03:43:14.128Z"
   },
   {
    "duration": 815,
    "start_time": "2022-12-27T03:43:23.000Z"
   },
   {
    "duration": 40,
    "start_time": "2022-12-27T03:43:24.298Z"
   },
   {
    "duration": 37,
    "start_time": "2022-12-27T03:43:28.068Z"
   },
   {
    "duration": 17,
    "start_time": "2022-12-27T03:43:30.053Z"
   },
   {
    "duration": 2597,
    "start_time": "2022-12-27T03:43:31.772Z"
   },
   {
    "duration": 11,
    "start_time": "2022-12-27T03:43:34.676Z"
   },
   {
    "duration": 42,
    "start_time": "2022-12-27T03:43:38.203Z"
   },
   {
    "duration": 19,
    "start_time": "2022-12-27T03:43:39.307Z"
   },
   {
    "duration": 25,
    "start_time": "2022-12-27T03:43:40.949Z"
   },
   {
    "duration": 762,
    "start_time": "2022-12-27T03:43:43.473Z"
   },
   {
    "duration": 19,
    "start_time": "2022-12-27T03:46:53.668Z"
   },
   {
    "duration": 28,
    "start_time": "2022-12-27T03:47:16.323Z"
   },
   {
    "duration": 18,
    "start_time": "2022-12-27T03:48:03.359Z"
   },
   {
    "duration": 30,
    "start_time": "2022-12-27T03:48:45.731Z"
   },
   {
    "duration": 29,
    "start_time": "2022-12-27T03:48:49.675Z"
   },
   {
    "duration": 24,
    "start_time": "2022-12-27T03:48:52.344Z"
   },
   {
    "duration": 41,
    "start_time": "2022-12-27T03:54:15.355Z"
   },
   {
    "duration": 57,
    "start_time": "2022-12-27T03:57:21.834Z"
   },
   {
    "duration": 6,
    "start_time": "2022-12-27T03:57:26.313Z"
   },
   {
    "duration": 6,
    "start_time": "2022-12-27T03:59:56.918Z"
   },
   {
    "duration": 34,
    "start_time": "2022-12-27T04:02:22.739Z"
   },
   {
    "duration": 6,
    "start_time": "2022-12-27T04:02:36.164Z"
   },
   {
    "duration": 5,
    "start_time": "2022-12-27T04:02:58.282Z"
   },
   {
    "duration": 6,
    "start_time": "2022-12-27T04:03:51.451Z"
   },
   {
    "duration": 5,
    "start_time": "2022-12-27T04:04:04.780Z"
   },
   {
    "duration": 6,
    "start_time": "2022-12-27T04:04:15.092Z"
   },
   {
    "duration": 6,
    "start_time": "2022-12-27T04:04:20.803Z"
   },
   {
    "duration": 6,
    "start_time": "2022-12-27T04:04:52.055Z"
   },
   {
    "duration": 9,
    "start_time": "2022-12-27T04:05:23.338Z"
   },
   {
    "duration": 9,
    "start_time": "2022-12-27T04:07:30.702Z"
   },
   {
    "duration": 12,
    "start_time": "2022-12-27T04:07:54.929Z"
   },
   {
    "duration": 10,
    "start_time": "2022-12-27T04:10:26.744Z"
   },
   {
    "duration": 7,
    "start_time": "2022-12-27T04:10:42.957Z"
   },
   {
    "duration": 7,
    "start_time": "2022-12-27T04:10:51.607Z"
   },
   {
    "duration": 6,
    "start_time": "2022-12-27T04:11:27.916Z"
   },
   {
    "duration": 7,
    "start_time": "2022-12-27T04:14:01.854Z"
   },
   {
    "duration": 9,
    "start_time": "2022-12-27T04:15:10.123Z"
   },
   {
    "duration": 6,
    "start_time": "2022-12-27T04:16:55.400Z"
   },
   {
    "duration": 846,
    "start_time": "2022-12-27T04:21:44.748Z"
   },
   {
    "duration": 8,
    "start_time": "2022-12-27T04:36:16.065Z"
   },
   {
    "duration": 94,
    "start_time": "2022-12-27T04:36:22.144Z"
   },
   {
    "duration": 104,
    "start_time": "2022-12-27T04:36:40.046Z"
   },
   {
    "duration": 32,
    "start_time": "2022-12-27T04:36:41.221Z"
   },
   {
    "duration": 31,
    "start_time": "2022-12-27T04:36:42.863Z"
   },
   {
    "duration": 16,
    "start_time": "2022-12-27T04:36:45.685Z"
   },
   {
    "duration": 2099,
    "start_time": "2022-12-27T04:36:47.302Z"
   },
   {
    "duration": 12,
    "start_time": "2022-12-27T04:36:52.653Z"
   },
   {
    "duration": 25,
    "start_time": "2022-12-27T04:36:55.189Z"
   },
   {
    "duration": 16,
    "start_time": "2022-12-27T04:36:56.366Z"
   },
   {
    "duration": 25,
    "start_time": "2022-12-27T04:36:58.190Z"
   },
   {
    "duration": 718,
    "start_time": "2022-12-27T04:37:03.181Z"
   },
   {
    "duration": 20,
    "start_time": "2022-12-27T04:37:07.516Z"
   },
   {
    "duration": 29,
    "start_time": "2022-12-27T04:37:09.644Z"
   },
   {
    "duration": 29,
    "start_time": "2022-12-27T04:37:11.740Z"
   },
   {
    "duration": 19,
    "start_time": "2022-12-27T04:37:14.059Z"
   },
   {
    "duration": 18,
    "start_time": "2022-12-27T04:37:17.051Z"
   },
   {
    "duration": 31,
    "start_time": "2022-12-27T04:37:18.260Z"
   },
   {
    "duration": 19,
    "start_time": "2022-12-27T04:37:20.516Z"
   },
   {
    "duration": 45,
    "start_time": "2022-12-27T04:37:22.387Z"
   },
   {
    "duration": 6,
    "start_time": "2022-12-27T04:37:24.475Z"
   },
   {
    "duration": 7,
    "start_time": "2022-12-27T04:37:29.715Z"
   },
   {
    "duration": 9,
    "start_time": "2022-12-27T04:37:31.346Z"
   },
   {
    "duration": 7,
    "start_time": "2022-12-27T04:37:33.571Z"
   },
   {
    "duration": 6,
    "start_time": "2022-12-27T04:37:35.051Z"
   },
   {
    "duration": 8,
    "start_time": "2022-12-27T04:37:37.331Z"
   },
   {
    "duration": 7,
    "start_time": "2022-12-27T04:37:38.529Z"
   },
   {
    "duration": 87,
    "start_time": "2022-12-27T04:37:40.538Z"
   },
   {
    "duration": 10,
    "start_time": "2022-12-27T04:37:53.296Z"
   },
   {
    "duration": 15,
    "start_time": "2022-12-27T04:38:02.064Z"
   },
   {
    "duration": 824,
    "start_time": "2022-12-27T04:39:42.297Z"
   },
   {
    "duration": 889,
    "start_time": "2022-12-27T04:40:15.622Z"
   },
   {
    "duration": 13,
    "start_time": "2022-12-27T04:41:44.496Z"
   },
   {
    "duration": 12,
    "start_time": "2022-12-27T04:42:02.949Z"
   },
   {
    "duration": 12,
    "start_time": "2022-12-27T04:42:05.989Z"
   },
   {
    "duration": 7,
    "start_time": "2022-12-27T04:42:13.540Z"
   },
   {
    "duration": 93,
    "start_time": "2022-12-27T04:42:31.724Z"
   },
   {
    "duration": 36,
    "start_time": "2022-12-27T04:42:32.881Z"
   },
   {
    "duration": 33,
    "start_time": "2022-12-27T04:42:34.875Z"
   },
   {
    "duration": 17,
    "start_time": "2022-12-27T04:42:37.234Z"
   },
   {
    "duration": 2172,
    "start_time": "2022-12-27T04:42:39.954Z"
   },
   {
    "duration": 15,
    "start_time": "2022-12-27T04:42:42.128Z"
   },
   {
    "duration": 26,
    "start_time": "2022-12-27T04:42:45.514Z"
   },
   {
    "duration": 11,
    "start_time": "2022-12-27T04:42:47.306Z"
   },
   {
    "duration": 18,
    "start_time": "2022-12-27T04:42:49.369Z"
   },
   {
    "duration": 738,
    "start_time": "2022-12-27T04:42:51.161Z"
   },
   {
    "duration": 22,
    "start_time": "2022-12-27T04:42:53.584Z"
   },
   {
    "duration": 31,
    "start_time": "2022-12-27T04:42:55.626Z"
   },
   {
    "duration": 30,
    "start_time": "2022-12-27T04:42:58.161Z"
   },
   {
    "duration": 20,
    "start_time": "2022-12-27T04:43:01.505Z"
   },
   {
    "duration": 33,
    "start_time": "2022-12-27T04:43:04.544Z"
   },
   {
    "duration": 20,
    "start_time": "2022-12-27T04:43:05.976Z"
   },
   {
    "duration": 44,
    "start_time": "2022-12-27T04:43:07.736Z"
   },
   {
    "duration": 7,
    "start_time": "2022-12-27T04:43:09.319Z"
   },
   {
    "duration": 6,
    "start_time": "2022-12-27T04:43:11.152Z"
   },
   {
    "duration": 10,
    "start_time": "2022-12-27T04:43:12.952Z"
   },
   {
    "duration": 8,
    "start_time": "2022-12-27T04:43:14.131Z"
   },
   {
    "duration": 8,
    "start_time": "2022-12-27T04:43:15.668Z"
   },
   {
    "duration": 9,
    "start_time": "2022-12-27T04:43:16.632Z"
   },
   {
    "duration": 8,
    "start_time": "2022-12-27T04:43:35.335Z"
   },
   {
    "duration": 14,
    "start_time": "2022-12-27T04:44:16.741Z"
   },
   {
    "duration": 13,
    "start_time": "2022-12-27T04:44:50.073Z"
   },
   {
    "duration": 12,
    "start_time": "2022-12-27T04:45:14.935Z"
   },
   {
    "duration": 96,
    "start_time": "2022-12-27T04:45:31.854Z"
   },
   {
    "duration": 7,
    "start_time": "2022-12-27T04:45:37.869Z"
   },
   {
    "duration": 64,
    "start_time": "2022-12-27T04:47:59.553Z"
   },
   {
    "duration": 7,
    "start_time": "2022-12-27T04:48:55.957Z"
   },
   {
    "duration": 9,
    "start_time": "2022-12-27T04:49:08.109Z"
   },
   {
    "duration": 8,
    "start_time": "2022-12-27T04:49:24.778Z"
   },
   {
    "duration": 10,
    "start_time": "2022-12-27T04:49:40.530Z"
   },
   {
    "duration": 8,
    "start_time": "2022-12-27T04:50:11.352Z"
   },
   {
    "duration": 8,
    "start_time": "2022-12-27T04:50:23.063Z"
   },
   {
    "duration": 8,
    "start_time": "2022-12-27T04:50:35.685Z"
   },
   {
    "duration": 6,
    "start_time": "2022-12-27T04:51:49.904Z"
   },
   {
    "duration": 28,
    "start_time": "2022-12-27T04:52:52.290Z"
   },
   {
    "duration": 22,
    "start_time": "2022-12-27T04:53:00.195Z"
   },
   {
    "duration": 131,
    "start_time": "2022-12-27T04:53:19.897Z"
   },
   {
    "duration": 51,
    "start_time": "2022-12-27T04:53:20.769Z"
   },
   {
    "duration": 54,
    "start_time": "2022-12-27T04:53:22.201Z"
   },
   {
    "duration": 24,
    "start_time": "2022-12-27T04:53:23.744Z"
   },
   {
    "duration": 3196,
    "start_time": "2022-12-27T04:53:25.304Z"
   },
   {
    "duration": 19,
    "start_time": "2022-12-27T04:53:28.503Z"
   },
   {
    "duration": 38,
    "start_time": "2022-12-27T04:53:28.705Z"
   },
   {
    "duration": 14,
    "start_time": "2022-12-27T04:53:29.672Z"
   },
   {
    "duration": 28,
    "start_time": "2022-12-27T04:53:31.384Z"
   },
   {
    "duration": 1148,
    "start_time": "2022-12-27T04:53:33.304Z"
   },
   {
    "duration": 33,
    "start_time": "2022-12-27T04:53:36.751Z"
   },
   {
    "duration": 47,
    "start_time": "2022-12-27T04:53:38.801Z"
   },
   {
    "duration": 8,
    "start_time": "2022-12-27T04:53:50.350Z"
   },
   {
    "duration": 7,
    "start_time": "2022-12-27T04:57:11.232Z"
   },
   {
    "duration": 17,
    "start_time": "2022-12-27T04:58:29.041Z"
   },
   {
    "duration": 49,
    "start_time": "2022-12-27T04:59:07.822Z"
   },
   {
    "duration": 13,
    "start_time": "2022-12-27T04:59:23.949Z"
   },
   {
    "duration": 10,
    "start_time": "2022-12-27T05:00:27.872Z"
   },
   {
    "duration": 16,
    "start_time": "2022-12-27T05:00:37.217Z"
   },
   {
    "duration": 801,
    "start_time": "2022-12-27T05:02:48.694Z"
   },
   {
    "duration": 96,
    "start_time": "2022-12-27T05:02:56.596Z"
   },
   {
    "duration": 1003,
    "start_time": "2022-12-27T05:03:03.060Z"
   },
   {
    "duration": 8,
    "start_time": "2022-12-27T05:03:15.084Z"
   },
   {
    "duration": 58,
    "start_time": "2022-12-27T05:04:14.335Z"
   },
   {
    "duration": 51,
    "start_time": "2022-12-27T05:04:31.966Z"
   },
   {
    "duration": 7,
    "start_time": "2022-12-27T05:45:55.607Z"
   },
   {
    "duration": 13,
    "start_time": "2022-12-27T05:46:21.917Z"
   },
   {
    "duration": 6,
    "start_time": "2022-12-27T05:49:00.998Z"
   },
   {
    "duration": 5,
    "start_time": "2022-12-27T05:52:40.117Z"
   },
   {
    "duration": 8,
    "start_time": "2022-12-27T05:53:14.274Z"
   },
   {
    "duration": 108,
    "start_time": "2022-12-27T06:49:57.774Z"
   },
   {
    "duration": 7,
    "start_time": "2022-12-27T06:50:00.293Z"
   },
   {
    "duration": 1088,
    "start_time": "2022-12-27T06:52:31.286Z"
   },
   {
    "duration": 6,
    "start_time": "2022-12-27T06:52:33.830Z"
   },
   {
    "duration": 2121,
    "start_time": "2022-12-27T06:54:07.815Z"
   },
   {
    "duration": 7,
    "start_time": "2022-12-27T06:54:11.575Z"
   },
   {
    "duration": 7436,
    "start_time": "2022-12-27T06:56:36.260Z"
   },
   {
    "duration": 11,
    "start_time": "2022-12-27T06:56:43.706Z"
   },
   {
    "duration": 8,
    "start_time": "2022-12-27T06:57:08.153Z"
   },
   {
    "duration": 7,
    "start_time": "2022-12-27T06:57:32.047Z"
   },
   {
    "duration": 6,
    "start_time": "2022-12-27T06:58:11.757Z"
   },
   {
    "duration": 7,
    "start_time": "2022-12-27T06:58:19.644Z"
   },
   {
    "duration": 663,
    "start_time": "2022-12-27T06:59:51.598Z"
   },
   {
    "duration": 7422,
    "start_time": "2022-12-27T07:00:06.845Z"
   },
   {
    "duration": 45,
    "start_time": "2022-12-27T07:00:14.277Z"
   },
   {
    "duration": 14,
    "start_time": "2022-12-27T07:01:12.270Z"
   },
   {
    "duration": 31,
    "start_time": "2022-12-27T07:01:22.846Z"
   },
   {
    "duration": 5,
    "start_time": "2022-12-27T07:03:17.398Z"
   },
   {
    "duration": 39,
    "start_time": "2022-12-27T07:03:56.642Z"
   },
   {
    "duration": 153,
    "start_time": "2022-12-27T07:05:15.293Z"
   },
   {
    "duration": 86,
    "start_time": "2022-12-27T07:07:43.938Z"
   },
   {
    "duration": 31,
    "start_time": "2022-12-27T07:07:44.552Z"
   },
   {
    "duration": 31,
    "start_time": "2022-12-27T07:07:46.353Z"
   },
   {
    "duration": 14,
    "start_time": "2022-12-27T07:07:48.873Z"
   },
   {
    "duration": 2118,
    "start_time": "2022-12-27T07:07:50.777Z"
   },
   {
    "duration": 9,
    "start_time": "2022-12-27T07:07:52.897Z"
   },
   {
    "duration": 21,
    "start_time": "2022-12-27T07:07:53.849Z"
   },
   {
    "duration": 11,
    "start_time": "2022-12-27T07:07:54.666Z"
   },
   {
    "duration": 18,
    "start_time": "2022-12-27T07:07:56.281Z"
   },
   {
    "duration": 701,
    "start_time": "2022-12-27T07:07:57.864Z"
   },
   {
    "duration": 18,
    "start_time": "2022-12-27T07:07:59.376Z"
   },
   {
    "duration": 29,
    "start_time": "2022-12-27T07:08:01.632Z"
   },
   {
    "duration": 21,
    "start_time": "2022-12-27T07:08:04.344Z"
   },
   {
    "duration": 22,
    "start_time": "2022-12-27T07:08:06.760Z"
   },
   {
    "duration": 31,
    "start_time": "2022-12-27T07:08:09.327Z"
   },
   {
    "duration": 20,
    "start_time": "2022-12-27T07:08:11.512Z"
   },
   {
    "duration": 42,
    "start_time": "2022-12-27T07:08:12.431Z"
   },
   {
    "duration": 5,
    "start_time": "2022-12-27T07:08:14.255Z"
   },
   {
    "duration": 6,
    "start_time": "2022-12-27T07:08:15.920Z"
   },
   {
    "duration": 10,
    "start_time": "2022-12-27T07:08:16.767Z"
   },
   {
    "duration": 7,
    "start_time": "2022-12-27T07:08:18.998Z"
   },
   {
    "duration": 5,
    "start_time": "2022-12-27T07:08:20.319Z"
   },
   {
    "duration": 7,
    "start_time": "2022-12-27T07:08:21.766Z"
   },
   {
    "duration": 7,
    "start_time": "2022-12-27T07:08:23.054Z"
   },
   {
    "duration": 8751,
    "start_time": "2022-12-27T07:08:25.454Z"
   },
   {
    "duration": 35,
    "start_time": "2022-12-27T07:08:34.215Z"
   },
   {
    "duration": 171,
    "start_time": "2022-12-27T07:08:42.117Z"
   },
   {
    "duration": 174,
    "start_time": "2022-12-27T07:08:43.501Z"
   },
   {
    "duration": 168,
    "start_time": "2022-12-27T07:08:45.309Z"
   },
   {
    "duration": 8,
    "start_time": "2022-12-27T07:08:47.973Z"
   },
   {
    "duration": 9,
    "start_time": "2022-12-27T07:08:49.684Z"
   },
   {
    "duration": 8,
    "start_time": "2022-12-27T07:08:50.653Z"
   },
   {
    "duration": 10,
    "start_time": "2022-12-27T07:08:51.556Z"
   },
   {
    "duration": 11,
    "start_time": "2022-12-27T07:08:52.420Z"
   },
   {
    "duration": 12,
    "start_time": "2022-12-27T07:08:53.388Z"
   },
   {
    "duration": 14,
    "start_time": "2022-12-27T07:08:54.686Z"
   },
   {
    "duration": 10,
    "start_time": "2022-12-27T07:08:55.716Z"
   },
   {
    "duration": 2474,
    "start_time": "2022-12-27T07:09:19.842Z"
   },
   {
    "duration": 2103,
    "start_time": "2022-12-27T07:09:29.466Z"
   },
   {
    "duration": 135,
    "start_time": "2022-12-27T07:09:34.505Z"
   },
   {
    "duration": 7,
    "start_time": "2022-12-27T07:09:45.368Z"
   },
   {
    "duration": 8,
    "start_time": "2022-12-27T07:09:50.184Z"
   },
   {
    "duration": 95,
    "start_time": "2022-12-27T07:10:06.063Z"
   },
   {
    "duration": 32,
    "start_time": "2022-12-27T07:10:06.991Z"
   },
   {
    "duration": 32,
    "start_time": "2022-12-27T07:10:08.423Z"
   },
   {
    "duration": 16,
    "start_time": "2022-12-27T07:10:09.902Z"
   },
   {
    "duration": 2203,
    "start_time": "2022-12-27T07:10:12.022Z"
   },
   {
    "duration": 16,
    "start_time": "2022-12-27T07:10:14.227Z"
   },
   {
    "duration": 22,
    "start_time": "2022-12-27T07:10:15.942Z"
   },
   {
    "duration": 16,
    "start_time": "2022-12-27T07:10:16.741Z"
   },
   {
    "duration": 27,
    "start_time": "2022-12-27T07:10:18.406Z"
   },
   {
    "duration": 682,
    "start_time": "2022-12-27T07:10:20.253Z"
   },
   {
    "duration": 24,
    "start_time": "2022-12-27T07:10:22.037Z"
   },
   {
    "duration": 46,
    "start_time": "2022-12-27T07:10:26.726Z"
   },
   {
    "duration": 29,
    "start_time": "2022-12-27T07:10:32.278Z"
   },
   {
    "duration": 20,
    "start_time": "2022-12-27T07:10:34.109Z"
   },
   {
    "duration": 31,
    "start_time": "2022-12-27T07:10:34.948Z"
   },
   {
    "duration": 18,
    "start_time": "2022-12-27T07:10:36.564Z"
   },
   {
    "duration": 28,
    "start_time": "2022-12-27T07:10:37.572Z"
   },
   {
    "duration": 6,
    "start_time": "2022-12-27T07:10:39.291Z"
   },
   {
    "duration": 5,
    "start_time": "2022-12-27T07:10:40.660Z"
   },
   {
    "duration": 7,
    "start_time": "2022-12-27T07:10:43.148Z"
   },
   {
    "duration": 7,
    "start_time": "2022-12-27T07:10:43.996Z"
   },
   {
    "duration": 6,
    "start_time": "2022-12-27T07:10:45.539Z"
   },
   {
    "duration": 8,
    "start_time": "2022-12-27T07:10:46.667Z"
   },
   {
    "duration": 6,
    "start_time": "2022-12-27T07:10:51.051Z"
   },
   {
    "duration": 6,
    "start_time": "2022-12-27T07:11:02.643Z"
   },
   {
    "duration": 8999,
    "start_time": "2022-12-27T07:11:12.458Z"
   },
   {
    "duration": 182,
    "start_time": "2022-12-27T07:11:44.727Z"
   },
   {
    "duration": 158,
    "start_time": "2022-12-27T07:11:51.023Z"
   },
   {
    "duration": 11,
    "start_time": "2022-12-27T07:12:20.841Z"
   },
   {
    "duration": 10,
    "start_time": "2022-12-27T07:12:24.293Z"
   },
   {
    "duration": 10,
    "start_time": "2022-12-27T07:12:25.308Z"
   },
   {
    "duration": 10,
    "start_time": "2022-12-27T07:12:26.267Z"
   },
   {
    "duration": 9,
    "start_time": "2022-12-27T07:12:27.260Z"
   },
   {
    "duration": 103,
    "start_time": "2022-12-27T07:12:31.548Z"
   },
   {
    "duration": 45,
    "start_time": "2022-12-27T07:12:32.413Z"
   },
   {
    "duration": 35,
    "start_time": "2022-12-27T07:12:33.755Z"
   },
   {
    "duration": 21,
    "start_time": "2022-12-27T07:12:35.123Z"
   },
   {
    "duration": 2103,
    "start_time": "2022-12-27T07:12:37.323Z"
   },
   {
    "duration": 16,
    "start_time": "2022-12-27T07:12:39.428Z"
   },
   {
    "duration": 10,
    "start_time": "2022-12-27T07:12:41.091Z"
   },
   {
    "duration": 21,
    "start_time": "2022-12-27T07:12:42.762Z"
   },
   {
    "duration": 10,
    "start_time": "2022-12-27T07:12:44.459Z"
   },
   {
    "duration": 17,
    "start_time": "2022-12-27T07:12:46.122Z"
   },
   {
    "duration": 613,
    "start_time": "2022-12-27T07:12:47.683Z"
   },
   {
    "duration": 22,
    "start_time": "2022-12-27T07:12:49.722Z"
   },
   {
    "duration": 27,
    "start_time": "2022-12-27T07:12:51.747Z"
   },
   {
    "duration": 21,
    "start_time": "2022-12-27T07:12:54.257Z"
   },
   {
    "duration": 19,
    "start_time": "2022-12-27T07:12:55.898Z"
   },
   {
    "duration": 41,
    "start_time": "2022-12-27T07:12:56.938Z"
   },
   {
    "duration": 20,
    "start_time": "2022-12-27T07:12:59.265Z"
   },
   {
    "duration": 34,
    "start_time": "2022-12-27T07:13:00.393Z"
   },
   {
    "duration": 5,
    "start_time": "2022-12-27T07:13:02.666Z"
   },
   {
    "duration": 7,
    "start_time": "2022-12-27T07:13:04.857Z"
   },
   {
    "duration": 8,
    "start_time": "2022-12-27T07:13:06.442Z"
   },
   {
    "duration": 7,
    "start_time": "2022-12-27T07:13:10.328Z"
   },
   {
    "duration": 5,
    "start_time": "2022-12-27T07:13:11.848Z"
   },
   {
    "duration": 7,
    "start_time": "2022-12-27T07:13:13.193Z"
   },
   {
    "duration": 8,
    "start_time": "2022-12-27T07:13:15.608Z"
   },
   {
    "duration": 8870,
    "start_time": "2022-12-27T07:13:21.569Z"
   },
   {
    "duration": 48,
    "start_time": "2022-12-27T07:16:00.052Z"
   },
   {
    "duration": 21,
    "start_time": "2022-12-27T07:16:30.537Z"
   },
   {
    "duration": 21,
    "start_time": "2022-12-27T07:16:50.825Z"
   },
   {
    "duration": 98,
    "start_time": "2022-12-27T07:17:05.911Z"
   },
   {
    "duration": 35,
    "start_time": "2022-12-27T07:17:15.159Z"
   },
   {
    "duration": 21,
    "start_time": "2022-12-27T07:17:34.668Z"
   },
   {
    "duration": 43,
    "start_time": "2022-12-27T07:17:41.364Z"
   },
   {
    "duration": 47,
    "start_time": "2022-12-27T07:18:05.634Z"
   },
   {
    "duration": 91,
    "start_time": "2022-12-27T07:18:37.240Z"
   },
   {
    "duration": 44,
    "start_time": "2022-12-27T07:18:44.494Z"
   },
   {
    "duration": 7,
    "start_time": "2022-12-27T07:23:43.977Z"
   },
   {
    "duration": 8,
    "start_time": "2022-12-27T07:23:59.112Z"
   },
   {
    "duration": 9,
    "start_time": "2022-12-27T07:29:43.093Z"
   },
   {
    "duration": 9,
    "start_time": "2022-12-27T07:30:04.988Z"
   },
   {
    "duration": 16,
    "start_time": "2022-12-27T07:31:27.246Z"
   },
   {
    "duration": 7,
    "start_time": "2022-12-27T07:36:36.678Z"
   },
   {
    "duration": 10,
    "start_time": "2022-12-27T07:36:51.706Z"
   },
   {
    "duration": 11,
    "start_time": "2022-12-27T07:38:17.646Z"
   },
   {
    "duration": 10,
    "start_time": "2022-12-27T07:41:10.217Z"
   },
   {
    "duration": 103,
    "start_time": "2022-12-27T07:42:09.996Z"
   },
   {
    "duration": 12,
    "start_time": "2022-12-27T07:42:17.587Z"
   },
   {
    "duration": 38,
    "start_time": "2022-12-27T08:38:21.943Z"
   },
   {
    "duration": 12,
    "start_time": "2022-12-27T08:41:26.881Z"
   },
   {
    "duration": 11,
    "start_time": "2022-12-27T08:43:08.184Z"
   },
   {
    "duration": 12,
    "start_time": "2022-12-27T08:43:11.219Z"
   },
   {
    "duration": 101,
    "start_time": "2022-12-27T08:43:50.979Z"
   },
   {
    "duration": 32,
    "start_time": "2022-12-27T08:43:51.794Z"
   },
   {
    "duration": 46,
    "start_time": "2022-12-27T08:43:53.515Z"
   },
   {
    "duration": 16,
    "start_time": "2022-12-27T08:43:55.074Z"
   },
   {
    "duration": 1985,
    "start_time": "2022-12-27T08:43:56.850Z"
   },
   {
    "duration": 10,
    "start_time": "2022-12-27T08:43:58.866Z"
   },
   {
    "duration": 23,
    "start_time": "2022-12-27T08:44:02.228Z"
   },
   {
    "duration": 11,
    "start_time": "2022-12-27T08:44:03.002Z"
   },
   {
    "duration": 19,
    "start_time": "2022-12-27T08:44:04.458Z"
   },
   {
    "duration": 759,
    "start_time": "2022-12-27T08:44:06.361Z"
   },
   {
    "duration": 19,
    "start_time": "2022-12-27T08:44:08.993Z"
   },
   {
    "duration": 37,
    "start_time": "2022-12-27T08:44:18.065Z"
   },
   {
    "duration": 49,
    "start_time": "2022-12-27T08:44:23.385Z"
   },
   {
    "duration": 27,
    "start_time": "2022-12-27T08:48:19.188Z"
   },
   {
    "duration": 20,
    "start_time": "2022-12-27T08:48:33.957Z"
   },
   {
    "duration": 93,
    "start_time": "2022-12-27T08:48:40.077Z"
   },
   {
    "duration": 31,
    "start_time": "2022-12-27T08:48:40.804Z"
   },
   {
    "duration": 35,
    "start_time": "2022-12-27T08:48:42.029Z"
   },
   {
    "duration": 15,
    "start_time": "2022-12-27T08:48:43.493Z"
   },
   {
    "duration": 2202,
    "start_time": "2022-12-27T08:48:45.148Z"
   },
   {
    "duration": 10,
    "start_time": "2022-12-27T08:48:47.352Z"
   },
   {
    "duration": 22,
    "start_time": "2022-12-27T08:48:48.899Z"
   },
   {
    "duration": 13,
    "start_time": "2022-12-27T08:48:50.321Z"
   },
   {
    "duration": 21,
    "start_time": "2022-12-27T08:48:51.651Z"
   },
   {
    "duration": 692,
    "start_time": "2022-12-27T08:48:53.420Z"
   },
   {
    "duration": 20,
    "start_time": "2022-12-27T08:48:56.570Z"
   },
   {
    "duration": 39,
    "start_time": "2022-12-27T08:48:59.483Z"
   },
   {
    "duration": 22,
    "start_time": "2022-12-27T08:49:03.994Z"
   },
   {
    "duration": 50,
    "start_time": "2022-12-27T08:49:09.122Z"
   },
   {
    "duration": 19,
    "start_time": "2022-12-27T09:00:44.141Z"
   },
   {
    "duration": 81,
    "start_time": "2022-12-27T09:04:42.698Z"
   },
   {
    "duration": 375,
    "start_time": "2022-12-27T09:08:05.675Z"
   },
   {
    "duration": 30,
    "start_time": "2022-12-27T09:08:39.808Z"
   },
   {
    "duration": 37,
    "start_time": "2022-12-27T09:08:46.620Z"
   },
   {
    "duration": 31,
    "start_time": "2022-12-27T09:15:19.498Z"
   },
   {
    "duration": 56,
    "start_time": "2022-12-27T11:50:35.254Z"
   },
   {
    "duration": 609,
    "start_time": "2022-12-27T11:50:40.014Z"
   },
   {
    "duration": 34,
    "start_time": "2022-12-27T11:50:44.414Z"
   },
   {
    "duration": 44,
    "start_time": "2022-12-27T11:50:46.007Z"
   },
   {
    "duration": 16,
    "start_time": "2022-12-27T11:50:47.319Z"
   },
   {
    "duration": 2299,
    "start_time": "2022-12-27T11:50:48.894Z"
   },
   {
    "duration": 10,
    "start_time": "2022-12-27T11:50:51.195Z"
   },
   {
    "duration": 22,
    "start_time": "2022-12-27T11:50:52.390Z"
   },
   {
    "duration": 13,
    "start_time": "2022-12-27T11:50:53.277Z"
   },
   {
    "duration": 14,
    "start_time": "2022-12-27T11:50:54.814Z"
   },
   {
    "duration": 536,
    "start_time": "2022-12-27T11:50:56.501Z"
   },
   {
    "duration": 29,
    "start_time": "2022-12-27T11:51:03.839Z"
   },
   {
    "duration": 17,
    "start_time": "2022-12-27T11:51:19.484Z"
   },
   {
    "duration": 12,
    "start_time": "2022-12-27T11:51:53.850Z"
   },
   {
    "duration": 14,
    "start_time": "2022-12-27T11:51:59.942Z"
   },
   {
    "duration": 24,
    "start_time": "2022-12-27T11:52:01.809Z"
   },
   {
    "duration": 17,
    "start_time": "2022-12-27T11:52:04.216Z"
   },
   {
    "duration": 17,
    "start_time": "2022-12-27T11:52:06.049Z"
   },
   {
    "duration": 26,
    "start_time": "2022-12-27T11:52:06.972Z"
   },
   {
    "duration": 14,
    "start_time": "2022-12-27T11:52:10.438Z"
   },
   {
    "duration": 21,
    "start_time": "2022-12-27T11:52:11.840Z"
   },
   {
    "duration": 4,
    "start_time": "2022-12-27T11:52:13.647Z"
   },
   {
    "duration": 6,
    "start_time": "2022-12-27T11:52:15.447Z"
   },
   {
    "duration": 7,
    "start_time": "2022-12-27T11:52:17.080Z"
   },
   {
    "duration": 6,
    "start_time": "2022-12-27T11:52:18.190Z"
   },
   {
    "duration": 4,
    "start_time": "2022-12-27T11:52:19.810Z"
   },
   {
    "duration": 7,
    "start_time": "2022-12-27T11:52:20.711Z"
   },
   {
    "duration": 7,
    "start_time": "2022-12-27T11:52:23.023Z"
   },
   {
    "duration": 462,
    "start_time": "2022-12-27T11:58:26.931Z"
   },
   {
    "duration": 84,
    "start_time": "2022-12-27T11:58:42.844Z"
   },
   {
    "duration": 28,
    "start_time": "2022-12-27T11:58:43.816Z"
   },
   {
    "duration": 28,
    "start_time": "2022-12-27T11:58:45.329Z"
   },
   {
    "duration": 12,
    "start_time": "2022-12-27T11:58:46.841Z"
   },
   {
    "duration": 1864,
    "start_time": "2022-12-27T11:58:48.849Z"
   },
   {
    "duration": 10,
    "start_time": "2022-12-27T11:58:50.715Z"
   },
   {
    "duration": 27,
    "start_time": "2022-12-27T11:58:52.208Z"
   },
   {
    "duration": 14,
    "start_time": "2022-12-27T11:58:53.896Z"
   },
   {
    "duration": 20,
    "start_time": "2022-12-27T11:58:55.584Z"
   },
   {
    "duration": 566,
    "start_time": "2022-12-27T11:58:57.548Z"
   },
   {
    "duration": 16,
    "start_time": "2022-12-27T11:58:59.864Z"
   },
   {
    "duration": 496,
    "start_time": "2022-12-27T11:59:02.656Z"
   },
   {
    "duration": 15,
    "start_time": "2022-12-27T12:00:31.065Z"
   },
   {
    "duration": 37,
    "start_time": "2022-12-27T12:00:53.135Z"
   },
   {
    "duration": 30,
    "start_time": "2022-12-27T12:01:01.614Z"
   },
   {
    "duration": 40,
    "start_time": "2022-12-27T12:01:04.662Z"
   },
   {
    "duration": 33,
    "start_time": "2022-12-27T12:01:07.366Z"
   },
   {
    "duration": 29,
    "start_time": "2022-12-27T12:01:08.701Z"
   },
   {
    "duration": 8,
    "start_time": "2022-12-27T12:01:28.572Z"
   },
   {
    "duration": 4,
    "start_time": "2022-12-27T12:02:30.184Z"
   },
   {
    "duration": 16,
    "start_time": "2022-12-27T12:03:43.497Z"
   },
   {
    "duration": 31,
    "start_time": "2022-12-27T12:03:43.655Z"
   },
   {
    "duration": 6,
    "start_time": "2022-12-27T12:04:01.842Z"
   },
   {
    "duration": 10,
    "start_time": "2022-12-27T12:04:13.295Z"
   },
   {
    "duration": 17,
    "start_time": "2022-12-27T12:08:53.298Z"
   },
   {
    "duration": 11,
    "start_time": "2022-12-27T12:10:04.580Z"
   },
   {
    "duration": 606,
    "start_time": "2022-12-27T16:01:41.654Z"
   },
   {
    "duration": 8,
    "start_time": "2022-12-27T16:05:20.059Z"
   },
   {
    "duration": 23,
    "start_time": "2022-12-27T16:06:12.613Z"
   },
   {
    "duration": 40,
    "start_time": "2022-12-27T16:06:21.029Z"
   },
   {
    "duration": 96,
    "start_time": "2022-12-27T16:06:37.139Z"
   },
   {
    "duration": 38,
    "start_time": "2022-12-27T16:06:38.195Z"
   },
   {
    "duration": 39,
    "start_time": "2022-12-27T16:06:39.451Z"
   },
   {
    "duration": 15,
    "start_time": "2022-12-27T16:06:41.034Z"
   },
   {
    "duration": 2575,
    "start_time": "2022-12-27T16:06:45.145Z"
   },
   {
    "duration": 13,
    "start_time": "2022-12-27T16:06:47.737Z"
   },
   {
    "duration": 38,
    "start_time": "2022-12-27T16:06:50.562Z"
   },
   {
    "duration": 15,
    "start_time": "2022-12-27T16:06:52.202Z"
   },
   {
    "duration": 22,
    "start_time": "2022-12-27T16:06:53.925Z"
   },
   {
    "duration": 890,
    "start_time": "2022-12-27T16:06:55.808Z"
   },
   {
    "duration": 17,
    "start_time": "2022-12-27T16:06:58.145Z"
   },
   {
    "duration": 5,
    "start_time": "2022-12-27T16:06:59.545Z"
   },
   {
    "duration": 28,
    "start_time": "2022-12-27T16:07:01.257Z"
   },
   {
    "duration": 37,
    "start_time": "2022-12-27T16:07:03.225Z"
   },
   {
    "duration": 16,
    "start_time": "2022-12-27T16:07:08.407Z"
   },
   {
    "duration": 38,
    "start_time": "2022-12-27T16:07:12.177Z"
   },
   {
    "duration": 30,
    "start_time": "2022-12-27T16:07:14.264Z"
   },
   {
    "duration": 18,
    "start_time": "2022-12-27T16:07:15.922Z"
   },
   {
    "duration": 24,
    "start_time": "2022-12-27T16:07:18.455Z"
   },
   {
    "duration": 24,
    "start_time": "2022-12-27T16:07:19.359Z"
   },
   {
    "duration": 6,
    "start_time": "2022-12-27T16:07:20.911Z"
   },
   {
    "duration": 7,
    "start_time": "2022-12-27T16:07:22.701Z"
   },
   {
    "duration": 10,
    "start_time": "2022-12-27T16:07:23.920Z"
   },
   {
    "duration": 6,
    "start_time": "2022-12-27T16:07:27.054Z"
   },
   {
    "duration": 6,
    "start_time": "2022-12-27T16:07:28.751Z"
   },
   {
    "duration": 6,
    "start_time": "2022-12-27T16:07:29.823Z"
   },
   {
    "duration": 7,
    "start_time": "2022-12-27T16:07:31.200Z"
   },
   {
    "duration": 15,
    "start_time": "2022-12-27T16:07:33.805Z"
   },
   {
    "duration": 31,
    "start_time": "2022-12-27T16:07:47.902Z"
   },
   {
    "duration": 16,
    "start_time": "2022-12-27T16:08:02.005Z"
   },
   {
    "duration": 15,
    "start_time": "2022-12-27T16:08:45.491Z"
   },
   {
    "duration": 6,
    "start_time": "2022-12-27T16:08:59.903Z"
   },
   {
    "duration": 10,
    "start_time": "2022-12-27T16:09:07.935Z"
   },
   {
    "duration": 27,
    "start_time": "2022-12-27T16:09:11.023Z"
   },
   {
    "duration": 25,
    "start_time": "2022-12-27T16:09:32.896Z"
   },
   {
    "duration": 4,
    "start_time": "2022-12-27T16:09:43.220Z"
   },
   {
    "duration": 5,
    "start_time": "2022-12-27T16:09:44.812Z"
   },
   {
    "duration": 11,
    "start_time": "2022-12-27T16:09:46.660Z"
   },
   {
    "duration": 4,
    "start_time": "2022-12-27T16:09:51.600Z"
   },
   {
    "duration": 5,
    "start_time": "2022-12-27T16:10:08.096Z"
   },
   {
    "duration": 98,
    "start_time": "2022-12-27T16:10:16.842Z"
   },
   {
    "duration": 28,
    "start_time": "2022-12-27T16:10:17.898Z"
   },
   {
    "duration": 37,
    "start_time": "2022-12-27T16:10:19.610Z"
   },
   {
    "duration": 16,
    "start_time": "2022-12-27T16:10:21.899Z"
   },
   {
    "duration": 2040,
    "start_time": "2022-12-27T16:10:24.196Z"
   },
   {
    "duration": 11,
    "start_time": "2022-12-27T16:10:28.500Z"
   },
   {
    "duration": 21,
    "start_time": "2022-12-27T16:10:31.001Z"
   },
   {
    "duration": 11,
    "start_time": "2022-12-27T16:10:32.240Z"
   },
   {
    "duration": 17,
    "start_time": "2022-12-27T16:10:34.664Z"
   },
   {
    "duration": 679,
    "start_time": "2022-12-27T16:10:39.007Z"
   },
   {
    "duration": 17,
    "start_time": "2022-12-27T16:10:41.919Z"
   },
   {
    "duration": 4,
    "start_time": "2022-12-27T16:10:45.623Z"
   },
   {
    "duration": 17,
    "start_time": "2022-12-27T16:10:47.143Z"
   },
   {
    "duration": 39,
    "start_time": "2022-12-27T16:10:52.271Z"
   },
   {
    "duration": 17,
    "start_time": "2022-12-27T16:10:54.910Z"
   },
   {
    "duration": 36,
    "start_time": "2022-12-27T16:10:58.151Z"
   },
   {
    "duration": 16,
    "start_time": "2022-12-27T16:11:06.000Z"
   },
   {
    "duration": 19,
    "start_time": "2022-12-27T16:11:08.787Z"
   },
   {
    "duration": 23,
    "start_time": "2022-12-27T16:11:09.750Z"
   },
   {
    "duration": 16,
    "start_time": "2022-12-27T16:11:12.745Z"
   },
   {
    "duration": 33,
    "start_time": "2022-12-27T16:11:14.061Z"
   },
   {
    "duration": 5,
    "start_time": "2022-12-27T16:11:15.820Z"
   },
   {
    "duration": 6,
    "start_time": "2022-12-27T16:11:18.660Z"
   },
   {
    "duration": 7,
    "start_time": "2022-12-27T16:11:28.192Z"
   },
   {
    "duration": 5,
    "start_time": "2022-12-27T16:11:38.123Z"
   },
   {
    "duration": 7,
    "start_time": "2022-12-27T16:11:45.747Z"
   },
   {
    "duration": 6,
    "start_time": "2022-12-27T16:11:47.962Z"
   },
   {
    "duration": 9,
    "start_time": "2022-12-27T16:11:51.874Z"
   },
   {
    "duration": 7,
    "start_time": "2022-12-27T16:11:54.596Z"
   },
   {
    "duration": 16,
    "start_time": "2022-12-27T16:12:01.275Z"
   },
   {
    "duration": 38,
    "start_time": "2022-12-27T16:12:07.921Z"
   },
   {
    "duration": 5,
    "start_time": "2022-12-27T16:12:12.800Z"
   },
   {
    "duration": 6,
    "start_time": "2022-12-27T16:12:18.657Z"
   },
   {
    "duration": 16,
    "start_time": "2022-12-27T16:12:21.120Z"
   },
   {
    "duration": 7,
    "start_time": "2022-12-27T16:12:24.237Z"
   },
   {
    "duration": 48,
    "start_time": "2022-12-27T16:14:26.936Z"
   },
   {
    "duration": 44,
    "start_time": "2022-12-27T16:14:39.918Z"
   },
   {
    "duration": 129,
    "start_time": "2022-12-27T16:14:51.853Z"
   },
   {
    "duration": 38,
    "start_time": "2022-12-27T16:14:53.063Z"
   },
   {
    "duration": 57,
    "start_time": "2022-12-27T16:14:54.991Z"
   },
   {
    "duration": 23,
    "start_time": "2022-12-27T16:15:14.084Z"
   },
   {
    "duration": 2291,
    "start_time": "2022-12-27T16:15:15.784Z"
   },
   {
    "duration": 26,
    "start_time": "2022-12-27T16:15:18.079Z"
   },
   {
    "duration": 21,
    "start_time": "2022-12-27T16:15:20.408Z"
   },
   {
    "duration": 17,
    "start_time": "2022-12-27T16:15:21.609Z"
   },
   {
    "duration": 22,
    "start_time": "2022-12-27T16:15:23.802Z"
   },
   {
    "duration": 697,
    "start_time": "2022-12-27T16:15:26.354Z"
   },
   {
    "duration": 20,
    "start_time": "2022-12-27T16:15:30.700Z"
   },
   {
    "duration": 5,
    "start_time": "2022-12-27T16:15:32.521Z"
   },
   {
    "duration": 23,
    "start_time": "2022-12-27T16:15:34.300Z"
   },
   {
    "duration": 33,
    "start_time": "2022-12-27T16:15:48.923Z"
   },
   {
    "duration": 89,
    "start_time": "2022-12-27T16:18:00.074Z"
   },
   {
    "duration": 29,
    "start_time": "2022-12-27T16:18:02.798Z"
   },
   {
    "duration": 49,
    "start_time": "2022-12-27T16:18:07.246Z"
   },
   {
    "duration": 17,
    "start_time": "2022-12-27T16:18:10.389Z"
   },
   {
    "duration": 2193,
    "start_time": "2022-12-27T16:18:12.773Z"
   },
   {
    "duration": 11,
    "start_time": "2022-12-27T16:18:19.916Z"
   },
   {
    "duration": 30,
    "start_time": "2022-12-27T16:18:22.582Z"
   },
   {
    "duration": 16,
    "start_time": "2022-12-27T16:18:23.803Z"
   },
   {
    "duration": 19,
    "start_time": "2022-12-27T16:18:27.994Z"
   },
   {
    "duration": 734,
    "start_time": "2022-12-27T16:18:30.411Z"
   },
   {
    "duration": 14,
    "start_time": "2022-12-27T16:18:33.755Z"
   },
   {
    "duration": 4,
    "start_time": "2022-12-27T16:18:36.315Z"
   },
   {
    "duration": 32,
    "start_time": "2022-12-27T16:18:39.466Z"
   },
   {
    "duration": 30,
    "start_time": "2022-12-27T16:18:42.331Z"
   },
   {
    "duration": 382,
    "start_time": "2022-12-27T16:19:12.775Z"
   },
   {
    "duration": 15,
    "start_time": "2022-12-27T16:19:17.657Z"
   },
   {
    "duration": 9,
    "start_time": "2022-12-27T16:19:19.484Z"
   },
   {
    "duration": 17,
    "start_time": "2022-12-27T16:19:21.160Z"
   },
   {
    "duration": 32,
    "start_time": "2022-12-27T16:19:23.042Z"
   },
   {
    "duration": 40,
    "start_time": "2022-12-27T16:19:57.829Z"
   },
   {
    "duration": 98,
    "start_time": "2022-12-27T16:21:57.932Z"
   },
   {
    "duration": 40,
    "start_time": "2022-12-27T16:22:00.162Z"
   },
   {
    "duration": 37,
    "start_time": "2022-12-27T16:22:02.716Z"
   },
   {
    "duration": 14,
    "start_time": "2022-12-27T16:22:04.795Z"
   },
   {
    "duration": 1989,
    "start_time": "2022-12-27T16:22:06.914Z"
   },
   {
    "duration": 10,
    "start_time": "2022-12-27T16:22:11.642Z"
   },
   {
    "duration": 34,
    "start_time": "2022-12-27T16:22:14.443Z"
   },
   {
    "duration": 34,
    "start_time": "2022-12-27T16:22:17.154Z"
   },
   {
    "duration": 10,
    "start_time": "2022-12-27T16:22:18.561Z"
   },
   {
    "duration": 16,
    "start_time": "2022-12-27T16:22:20.596Z"
   },
   {
    "duration": 567,
    "start_time": "2022-12-27T16:22:22.377Z"
   },
   {
    "duration": 21,
    "start_time": "2022-12-27T16:22:25.025Z"
   },
   {
    "duration": 5,
    "start_time": "2022-12-27T16:22:26.761Z"
   },
   {
    "duration": 18,
    "start_time": "2022-12-27T16:22:28.017Z"
   },
   {
    "duration": 35,
    "start_time": "2022-12-27T16:22:31.866Z"
   },
   {
    "duration": 38,
    "start_time": "2022-12-27T16:23:04.878Z"
   },
   {
    "duration": 49,
    "start_time": "2022-12-27T17:40:09.577Z"
   },
   {
    "duration": 537,
    "start_time": "2022-12-27T17:40:12.724Z"
   },
   {
    "duration": 38,
    "start_time": "2022-12-27T17:40:13.263Z"
   },
   {
    "duration": 35,
    "start_time": "2022-12-27T17:40:13.303Z"
   },
   {
    "duration": 15,
    "start_time": "2022-12-27T17:40:13.341Z"
   },
   {
    "duration": 2282,
    "start_time": "2022-12-27T17:40:13.358Z"
   },
   {
    "duration": 10,
    "start_time": "2022-12-27T17:40:15.641Z"
   },
   {
    "duration": 43,
    "start_time": "2022-12-27T17:40:15.654Z"
   },
   {
    "duration": 45,
    "start_time": "2022-12-27T17:40:15.699Z"
   },
   {
    "duration": 12,
    "start_time": "2022-12-27T17:40:15.746Z"
   },
   {
    "duration": 24,
    "start_time": "2022-12-27T17:40:15.761Z"
   },
   {
    "duration": 447,
    "start_time": "2022-12-27T17:40:15.786Z"
   },
   {
    "duration": 13,
    "start_time": "2022-12-27T17:40:16.234Z"
   },
   {
    "duration": 4,
    "start_time": "2022-12-27T17:40:16.248Z"
   },
   {
    "duration": 44,
    "start_time": "2022-12-27T17:40:16.253Z"
   },
   {
    "duration": 30,
    "start_time": "2022-12-27T17:40:16.299Z"
   },
   {
    "duration": 21,
    "start_time": "2022-12-27T17:40:16.331Z"
   },
   {
    "duration": 44,
    "start_time": "2022-12-27T17:40:16.353Z"
   },
   {
    "duration": 25,
    "start_time": "2022-12-27T17:40:16.398Z"
   },
   {
    "duration": 16,
    "start_time": "2022-12-27T17:40:16.424Z"
   },
   {
    "duration": 50,
    "start_time": "2022-12-27T17:40:16.442Z"
   },
   {
    "duration": 16,
    "start_time": "2022-12-27T17:40:16.494Z"
   },
   {
    "duration": 22,
    "start_time": "2022-12-27T17:40:16.511Z"
   },
   {
    "duration": 3,
    "start_time": "2022-12-27T17:40:16.535Z"
   },
   {
    "duration": 16,
    "start_time": "2022-12-27T17:40:16.540Z"
   },
   {
    "duration": 27,
    "start_time": "2022-12-27T17:40:16.557Z"
   },
   {
    "duration": 7,
    "start_time": "2022-12-27T17:40:16.591Z"
   },
   {
    "duration": 6,
    "start_time": "2022-12-27T17:40:16.599Z"
   },
   {
    "duration": 7,
    "start_time": "2022-12-27T17:40:16.609Z"
   },
   {
    "duration": 10,
    "start_time": "2022-12-27T17:40:16.618Z"
   },
   {
    "duration": 13,
    "start_time": "2022-12-27T17:40:16.630Z"
   },
   {
    "duration": 53,
    "start_time": "2022-12-27T17:40:16.644Z"
   },
   {
    "duration": 3,
    "start_time": "2022-12-27T17:40:16.699Z"
   },
   {
    "duration": 9,
    "start_time": "2022-12-27T17:40:16.704Z"
   },
   {
    "duration": 11,
    "start_time": "2022-12-27T17:40:16.715Z"
   },
   {
    "duration": 5,
    "start_time": "2022-12-27T17:40:16.728Z"
   },
   {
    "duration": 6,
    "start_time": "2022-12-27T17:40:16.735Z"
   },
   {
    "duration": 66,
    "start_time": "2022-12-27T17:40:16.742Z"
   },
   {
    "duration": 63,
    "start_time": "2022-12-27T17:40:16.809Z"
   },
   {
    "duration": 346,
    "start_time": "2022-12-27T17:40:16.873Z"
   },
   {
    "duration": 30,
    "start_time": "2022-12-27T17:40:17.220Z"
   },
   {
    "duration": 50,
    "start_time": "2022-12-27T17:40:17.252Z"
   },
   {
    "duration": 368,
    "start_time": "2022-12-27T17:40:17.303Z"
   },
   {
    "duration": 75,
    "start_time": "2022-12-27T17:40:56.914Z"
   },
   {
    "duration": 492,
    "start_time": "2022-12-27T17:41:21.895Z"
   },
   {
    "duration": 408,
    "start_time": "2022-12-27T17:44:47.824Z"
   },
   {
    "duration": 406,
    "start_time": "2022-12-27T17:44:54.388Z"
   },
   {
    "duration": 504,
    "start_time": "2022-12-27T17:45:03.550Z"
   },
   {
    "duration": 376,
    "start_time": "2022-12-27T17:46:50.534Z"
   },
   {
    "duration": 414,
    "start_time": "2022-12-27T17:47:00.724Z"
   },
   {
    "duration": 394,
    "start_time": "2022-12-27T17:48:32.958Z"
   },
   {
    "duration": 923,
    "start_time": "2022-12-27T17:48:41.413Z"
   },
   {
    "duration": 410,
    "start_time": "2022-12-27T17:49:40.729Z"
   },
   {
    "duration": 1754,
    "start_time": "2022-12-27T17:49:57.078Z"
   },
   {
    "duration": 98,
    "start_time": "2022-12-27T17:50:25.500Z"
   },
   {
    "duration": 44,
    "start_time": "2022-12-27T17:50:25.605Z"
   },
   {
    "duration": 61,
    "start_time": "2022-12-27T17:50:25.652Z"
   },
   {
    "duration": 18,
    "start_time": "2022-12-27T17:50:25.716Z"
   },
   {
    "duration": 2282,
    "start_time": "2022-12-27T17:50:25.735Z"
   },
   {
    "duration": 10,
    "start_time": "2022-12-27T17:50:28.021Z"
   },
   {
    "duration": 53,
    "start_time": "2022-12-27T17:50:28.033Z"
   },
   {
    "duration": 24,
    "start_time": "2022-12-27T17:50:28.088Z"
   },
   {
    "duration": 19,
    "start_time": "2022-12-27T17:50:28.114Z"
   },
   {
    "duration": 20,
    "start_time": "2022-12-27T17:50:28.136Z"
   },
   {
    "duration": 452,
    "start_time": "2022-12-27T17:50:28.157Z"
   },
   {
    "duration": 18,
    "start_time": "2022-12-27T17:50:28.611Z"
   },
   {
    "duration": 5,
    "start_time": "2022-12-27T17:50:28.631Z"
   },
   {
    "duration": 42,
    "start_time": "2022-12-27T17:50:28.637Z"
   },
   {
    "duration": 32,
    "start_time": "2022-12-27T17:50:28.683Z"
   },
   {
    "duration": 18,
    "start_time": "2022-12-27T17:50:28.717Z"
   },
   {
    "duration": 59,
    "start_time": "2022-12-27T17:50:28.737Z"
   },
   {
    "duration": 27,
    "start_time": "2022-12-27T17:50:28.800Z"
   },
   {
    "duration": 24,
    "start_time": "2022-12-27T17:50:28.829Z"
   },
   {
    "duration": 52,
    "start_time": "2022-12-27T17:50:28.855Z"
   },
   {
    "duration": 25,
    "start_time": "2022-12-27T17:50:28.909Z"
   },
   {
    "duration": 51,
    "start_time": "2022-12-27T17:50:28.936Z"
   },
   {
    "duration": 9,
    "start_time": "2022-12-27T17:50:28.989Z"
   },
   {
    "duration": 29,
    "start_time": "2022-12-27T17:50:29.000Z"
   },
   {
    "duration": 12,
    "start_time": "2022-12-27T17:50:29.031Z"
   },
   {
    "duration": 13,
    "start_time": "2022-12-27T17:50:29.045Z"
   },
   {
    "duration": 12,
    "start_time": "2022-12-27T17:50:29.060Z"
   },
   {
    "duration": 11,
    "start_time": "2022-12-27T17:50:29.075Z"
   },
   {
    "duration": 24,
    "start_time": "2022-12-27T17:50:29.087Z"
   },
   {
    "duration": 12,
    "start_time": "2022-12-27T17:50:29.112Z"
   },
   {
    "duration": 24,
    "start_time": "2022-12-27T17:50:29.125Z"
   },
   {
    "duration": 4,
    "start_time": "2022-12-27T17:50:29.151Z"
   },
   {
    "duration": 24,
    "start_time": "2022-12-27T17:50:29.157Z"
   },
   {
    "duration": 27,
    "start_time": "2022-12-27T17:50:29.191Z"
   },
   {
    "duration": 5,
    "start_time": "2022-12-27T17:50:29.221Z"
   },
   {
    "duration": 14,
    "start_time": "2022-12-27T17:50:29.227Z"
   },
   {
    "duration": 32,
    "start_time": "2022-12-27T17:50:29.243Z"
   },
   {
    "duration": 51,
    "start_time": "2022-12-27T17:50:29.279Z"
   },
   {
    "duration": 358,
    "start_time": "2022-12-27T17:50:29.331Z"
   },
   {
    "duration": 31,
    "start_time": "2022-12-27T17:50:29.695Z"
   },
   {
    "duration": 30,
    "start_time": "2022-12-27T17:50:29.728Z"
   },
   {
    "duration": 371,
    "start_time": "2022-12-27T17:50:29.760Z"
   },
   {
    "duration": 442,
    "start_time": "2022-12-27T17:50:30.133Z"
   },
   {
    "duration": 633,
    "start_time": "2022-12-27T17:50:30.578Z"
   },
   {
    "duration": 367,
    "start_time": "2022-12-27T17:50:31.212Z"
   },
   {
    "duration": 378,
    "start_time": "2022-12-27T17:50:31.583Z"
   },
   {
    "duration": 390,
    "start_time": "2022-12-27T17:50:31.962Z"
   },
   {
    "duration": 1594,
    "start_time": "2022-12-27T17:50:32.354Z"
   },
   {
    "duration": 483,
    "start_time": "2022-12-27T17:50:33.950Z"
   },
   {
    "duration": 434,
    "start_time": "2022-12-27T17:51:43.961Z"
   },
   {
    "duration": 367,
    "start_time": "2022-12-27T17:52:29.003Z"
   },
   {
    "duration": 698,
    "start_time": "2022-12-27T17:54:00.708Z"
   },
   {
    "duration": 155,
    "start_time": "2022-12-27T17:54:09.404Z"
   },
   {
    "duration": 172,
    "start_time": "2022-12-27T17:54:32.881Z"
   },
   {
    "duration": 138,
    "start_time": "2022-12-27T17:54:49.705Z"
   },
   {
    "duration": 133,
    "start_time": "2022-12-27T17:55:07.532Z"
   },
   {
    "duration": 143,
    "start_time": "2022-12-27T17:55:13.383Z"
   },
   {
    "duration": 411,
    "start_time": "2022-12-27T17:56:45.712Z"
   },
   {
    "duration": 293,
    "start_time": "2022-12-27T17:56:54.108Z"
   },
   {
    "duration": 166,
    "start_time": "2022-12-27T17:57:00.435Z"
   },
   {
    "duration": 159,
    "start_time": "2022-12-27T17:57:11.084Z"
   },
   {
    "duration": 160,
    "start_time": "2022-12-27T17:57:27.164Z"
   },
   {
    "duration": 196,
    "start_time": "2022-12-27T17:57:40.695Z"
   },
   {
    "duration": 242,
    "start_time": "2022-12-27T17:57:51.074Z"
   },
   {
    "duration": 354,
    "start_time": "2022-12-27T17:59:38.554Z"
   },
   {
    "duration": 38,
    "start_time": "2022-12-27T18:01:28.799Z"
   },
   {
    "duration": 2,
    "start_time": "2022-12-27T18:03:47.248Z"
   },
   {
    "duration": 400,
    "start_time": "2022-12-27T18:04:30.096Z"
   },
   {
    "duration": 455,
    "start_time": "2022-12-27T18:04:56.747Z"
   },
   {
    "duration": 374,
    "start_time": "2022-12-27T18:06:29.949Z"
   },
   {
    "duration": 722,
    "start_time": "2022-12-27T18:08:38.730Z"
   },
   {
    "duration": 376,
    "start_time": "2022-12-27T18:11:14.570Z"
   },
   {
    "duration": 401,
    "start_time": "2022-12-27T18:12:11.201Z"
   },
   {
    "duration": 478,
    "start_time": "2022-12-27T18:15:15.097Z"
   },
   {
    "duration": 165,
    "start_time": "2022-12-27T18:15:22.351Z"
   },
   {
    "duration": 160,
    "start_time": "2022-12-27T18:15:38.065Z"
   },
   {
    "duration": 154,
    "start_time": "2022-12-27T18:15:54.999Z"
   },
   {
    "duration": 153,
    "start_time": "2022-12-27T18:16:12.944Z"
   },
   {
    "duration": 193,
    "start_time": "2022-12-27T18:16:24.635Z"
   },
   {
    "duration": 144,
    "start_time": "2022-12-27T18:16:32.453Z"
   },
   {
    "duration": 149,
    "start_time": "2022-12-27T18:16:53.361Z"
   },
   {
    "duration": 729,
    "start_time": "2022-12-28T03:57:33.732Z"
   },
   {
    "duration": 35,
    "start_time": "2022-12-28T03:57:34.462Z"
   },
   {
    "duration": 30,
    "start_time": "2022-12-28T03:57:34.498Z"
   },
   {
    "duration": 16,
    "start_time": "2022-12-28T03:57:34.531Z"
   },
   {
    "duration": 2239,
    "start_time": "2022-12-28T03:57:34.548Z"
   },
   {
    "duration": 10,
    "start_time": "2022-12-28T03:57:36.789Z"
   },
   {
    "duration": 27,
    "start_time": "2022-12-28T03:57:36.801Z"
   },
   {
    "duration": 24,
    "start_time": "2022-12-28T03:57:36.830Z"
   },
   {
    "duration": 12,
    "start_time": "2022-12-28T03:57:36.856Z"
   },
   {
    "duration": 14,
    "start_time": "2022-12-28T03:57:36.871Z"
   },
   {
    "duration": 403,
    "start_time": "2022-12-28T03:57:36.887Z"
   },
   {
    "duration": 25,
    "start_time": "2022-12-28T03:57:37.291Z"
   },
   {
    "duration": 3,
    "start_time": "2022-12-28T03:57:37.318Z"
   },
   {
    "duration": 18,
    "start_time": "2022-12-28T03:57:37.323Z"
   },
   {
    "duration": 28,
    "start_time": "2022-12-28T03:57:37.342Z"
   },
   {
    "duration": 17,
    "start_time": "2022-12-28T03:57:37.371Z"
   },
   {
    "duration": 47,
    "start_time": "2022-12-28T03:57:37.389Z"
   },
   {
    "duration": 17,
    "start_time": "2022-12-28T03:57:37.438Z"
   },
   {
    "duration": 16,
    "start_time": "2022-12-28T03:57:37.457Z"
   },
   {
    "duration": 47,
    "start_time": "2022-12-28T03:57:37.474Z"
   },
   {
    "duration": 16,
    "start_time": "2022-12-28T03:57:37.523Z"
   },
   {
    "duration": 23,
    "start_time": "2022-12-28T03:57:37.541Z"
   },
   {
    "duration": 4,
    "start_time": "2022-12-28T03:57:37.565Z"
   },
   {
    "duration": 7,
    "start_time": "2022-12-28T03:57:37.571Z"
   },
   {
    "duration": 36,
    "start_time": "2022-12-28T03:57:37.580Z"
   },
   {
    "duration": 6,
    "start_time": "2022-12-28T03:57:37.617Z"
   },
   {
    "duration": 11,
    "start_time": "2022-12-28T03:57:37.624Z"
   },
   {
    "duration": 6,
    "start_time": "2022-12-28T03:57:37.639Z"
   },
   {
    "duration": 9,
    "start_time": "2022-12-28T03:57:37.647Z"
   },
   {
    "duration": 11,
    "start_time": "2022-12-28T03:57:37.657Z"
   },
   {
    "duration": 52,
    "start_time": "2022-12-28T03:57:37.669Z"
   },
   {
    "duration": 4,
    "start_time": "2022-12-28T03:57:37.723Z"
   },
   {
    "duration": 6,
    "start_time": "2022-12-28T03:57:37.729Z"
   },
   {
    "duration": 11,
    "start_time": "2022-12-28T03:57:37.737Z"
   },
   {
    "duration": 6,
    "start_time": "2022-12-28T03:57:37.749Z"
   },
   {
    "duration": 8,
    "start_time": "2022-12-28T03:57:37.756Z"
   },
   {
    "duration": 59,
    "start_time": "2022-12-28T03:57:37.766Z"
   },
   {
    "duration": 48,
    "start_time": "2022-12-28T03:57:37.827Z"
   },
   {
    "duration": 351,
    "start_time": "2022-12-28T03:57:37.877Z"
   },
   {
    "duration": 28,
    "start_time": "2022-12-28T03:57:38.230Z"
   },
   {
    "duration": 29,
    "start_time": "2022-12-28T03:57:38.260Z"
   },
   {
    "duration": 401,
    "start_time": "2022-12-28T03:57:38.315Z"
   },
   {
    "duration": 375,
    "start_time": "2022-12-28T03:57:38.718Z"
   },
   {
    "duration": 354,
    "start_time": "2022-12-28T03:57:39.095Z"
   },
   {
    "duration": 340,
    "start_time": "2022-12-28T03:57:39.451Z"
   },
   {
    "duration": 443,
    "start_time": "2022-12-28T03:57:39.792Z"
   },
   {
    "duration": 357,
    "start_time": "2022-12-28T03:57:40.237Z"
   },
   {
    "duration": 345,
    "start_time": "2022-12-28T03:57:40.596Z"
   },
   {
    "duration": 332,
    "start_time": "2022-12-28T03:57:40.943Z"
   },
   {
    "duration": 259,
    "start_time": "2022-12-28T03:57:41.277Z"
   },
   {
    "duration": 235,
    "start_time": "2022-12-28T03:57:41.538Z"
   },
   {
    "duration": 368,
    "start_time": "2022-12-28T03:57:41.775Z"
   },
   {
    "duration": 347,
    "start_time": "2022-12-28T03:57:42.146Z"
   },
   {
    "duration": 2,
    "start_time": "2022-12-28T03:57:42.495Z"
   },
   {
    "duration": 359,
    "start_time": "2022-12-28T03:57:42.499Z"
   },
   {
    "duration": 482,
    "start_time": "2022-12-28T03:57:42.859Z"
   },
   {
    "duration": 337,
    "start_time": "2022-12-28T03:57:43.342Z"
   },
   {
    "duration": 337,
    "start_time": "2022-12-28T03:57:43.681Z"
   },
   {
    "duration": 341,
    "start_time": "2022-12-28T03:57:44.019Z"
   },
   {
    "duration": 144,
    "start_time": "2022-12-28T03:57:44.361Z"
   },
   {
    "duration": 529,
    "start_time": "2022-12-28T03:57:44.506Z"
   },
   {
    "duration": 70,
    "start_time": "2022-12-28T03:59:03.632Z"
   },
   {
    "duration": 97,
    "start_time": "2022-12-28T03:59:51.629Z"
   },
   {
    "duration": 30,
    "start_time": "2022-12-28T03:59:51.728Z"
   },
   {
    "duration": 57,
    "start_time": "2022-12-28T03:59:51.759Z"
   },
   {
    "duration": 16,
    "start_time": "2022-12-28T03:59:51.819Z"
   },
   {
    "duration": 1926,
    "start_time": "2022-12-28T03:59:51.837Z"
   },
   {
    "duration": 9,
    "start_time": "2022-12-28T03:59:53.765Z"
   },
   {
    "duration": 42,
    "start_time": "2022-12-28T03:59:53.776Z"
   },
   {
    "duration": 21,
    "start_time": "2022-12-28T03:59:53.820Z"
   },
   {
    "duration": 12,
    "start_time": "2022-12-28T03:59:53.843Z"
   },
   {
    "duration": 16,
    "start_time": "2022-12-28T03:59:53.859Z"
   },
   {
    "duration": 432,
    "start_time": "2022-12-28T03:59:53.877Z"
   },
   {
    "duration": 14,
    "start_time": "2022-12-28T03:59:54.315Z"
   },
   {
    "duration": 5,
    "start_time": "2022-12-28T03:59:54.331Z"
   },
   {
    "duration": 19,
    "start_time": "2022-12-28T03:59:54.337Z"
   },
   {
    "duration": 28,
    "start_time": "2022-12-28T03:59:54.358Z"
   },
   {
    "duration": 16,
    "start_time": "2022-12-28T03:59:54.416Z"
   },
   {
    "duration": 25,
    "start_time": "2022-12-28T03:59:54.434Z"
   },
   {
    "duration": 18,
    "start_time": "2022-12-28T03:59:54.461Z"
   },
   {
    "duration": 45,
    "start_time": "2022-12-28T03:59:54.480Z"
   },
   {
    "duration": 25,
    "start_time": "2022-12-28T03:59:54.527Z"
   },
   {
    "duration": 16,
    "start_time": "2022-12-28T03:59:54.554Z"
   },
   {
    "duration": 45,
    "start_time": "2022-12-28T03:59:54.572Z"
   },
   {
    "duration": 5,
    "start_time": "2022-12-28T03:59:54.618Z"
   },
   {
    "duration": 7,
    "start_time": "2022-12-28T03:59:54.624Z"
   },
   {
    "duration": 7,
    "start_time": "2022-12-28T03:59:54.632Z"
   },
   {
    "duration": 5,
    "start_time": "2022-12-28T03:59:54.641Z"
   },
   {
    "duration": 5,
    "start_time": "2022-12-28T03:59:54.647Z"
   },
   {
    "duration": 7,
    "start_time": "2022-12-28T03:59:54.655Z"
   },
   {
    "duration": 7,
    "start_time": "2022-12-28T03:59:54.664Z"
   },
   {
    "duration": 54,
    "start_time": "2022-12-28T03:59:54.672Z"
   },
   {
    "duration": 24,
    "start_time": "2022-12-28T03:59:54.727Z"
   },
   {
    "duration": 4,
    "start_time": "2022-12-28T03:59:54.752Z"
   },
   {
    "duration": 15,
    "start_time": "2022-12-28T03:59:54.758Z"
   },
   {
    "duration": 11,
    "start_time": "2022-12-28T03:59:54.774Z"
   },
   {
    "duration": 29,
    "start_time": "2022-12-28T03:59:54.787Z"
   },
   {
    "duration": 7,
    "start_time": "2022-12-28T03:59:54.818Z"
   },
   {
    "duration": 28,
    "start_time": "2022-12-28T03:59:54.826Z"
   },
   {
    "duration": 65,
    "start_time": "2022-12-28T03:59:54.855Z"
   },
   {
    "duration": 320,
    "start_time": "2022-12-28T03:59:54.921Z"
   },
   {
    "duration": 28,
    "start_time": "2022-12-28T03:59:55.243Z"
   },
   {
    "duration": 28,
    "start_time": "2022-12-28T03:59:55.272Z"
   },
   {
    "duration": 170,
    "start_time": "2022-12-28T03:59:55.316Z"
   },
   {
    "duration": 577,
    "start_time": "2022-12-28T03:59:55.488Z"
   },
   {
    "duration": 411,
    "start_time": "2022-12-28T03:59:56.067Z"
   },
   {
    "duration": 353,
    "start_time": "2022-12-28T03:59:56.480Z"
   },
   {
    "duration": 358,
    "start_time": "2022-12-28T03:59:56.835Z"
   },
   {
    "duration": 365,
    "start_time": "2022-12-28T03:59:57.195Z"
   },
   {
    "duration": 355,
    "start_time": "2022-12-28T03:59:57.563Z"
   },
   {
    "duration": 581,
    "start_time": "2022-12-28T03:59:57.919Z"
   },
   {
    "duration": 139,
    "start_time": "2022-12-28T03:59:58.502Z"
   },
   {
    "duration": 234,
    "start_time": "2022-12-28T03:59:58.642Z"
   },
   {
    "duration": 331,
    "start_time": "2022-12-28T03:59:58.878Z"
   },
   {
    "duration": 337,
    "start_time": "2022-12-28T03:59:59.215Z"
   },
   {
    "duration": 3,
    "start_time": "2022-12-28T03:59:59.553Z"
   },
   {
    "duration": 364,
    "start_time": "2022-12-28T03:59:59.558Z"
   },
   {
    "duration": 353,
    "start_time": "2022-12-28T03:59:59.923Z"
   },
   {
    "duration": 341,
    "start_time": "2022-12-28T04:00:00.277Z"
   },
   {
    "duration": 366,
    "start_time": "2022-12-28T04:00:00.620Z"
   },
   {
    "duration": 638,
    "start_time": "2022-12-28T04:00:00.988Z"
   },
   {
    "duration": 156,
    "start_time": "2022-12-28T04:00:01.628Z"
   },
   {
    "duration": 398,
    "start_time": "2022-12-28T04:00:01.785Z"
   },
   {
    "duration": 170,
    "start_time": "2022-12-28T04:01:00.004Z"
   },
   {
    "duration": 162,
    "start_time": "2022-12-28T04:01:51.577Z"
   },
   {
    "duration": 215,
    "start_time": "2022-12-28T04:04:52.603Z"
   },
   {
    "duration": 146,
    "start_time": "2022-12-28T04:06:42.937Z"
   },
   {
    "duration": 137,
    "start_time": "2022-12-28T04:07:33.294Z"
   },
   {
    "duration": 143,
    "start_time": "2022-12-28T04:09:28.988Z"
   },
   {
    "duration": 144,
    "start_time": "2022-12-28T04:09:34.123Z"
   },
   {
    "duration": 334,
    "start_time": "2022-12-28T04:09:47.307Z"
   },
   {
    "duration": 158,
    "start_time": "2022-12-28T04:10:14.017Z"
   },
   {
    "duration": 142,
    "start_time": "2022-12-28T04:10:42.830Z"
   },
   {
    "duration": 169,
    "start_time": "2022-12-28T04:11:08.916Z"
   },
   {
    "duration": 154,
    "start_time": "2022-12-28T04:11:22.139Z"
   },
   {
    "duration": 344,
    "start_time": "2022-12-28T04:11:27.283Z"
   },
   {
    "duration": 2731,
    "start_time": "2022-12-28T04:11:31.475Z"
   },
   {
    "duration": 14015,
    "start_time": "2022-12-28T04:11:41.498Z"
   },
   {
    "duration": 349,
    "start_time": "2022-12-28T04:12:30.975Z"
   },
   {
    "duration": 94,
    "start_time": "2022-12-28T04:12:49.514Z"
   },
   {
    "duration": 30,
    "start_time": "2022-12-28T04:12:49.610Z"
   },
   {
    "duration": 28,
    "start_time": "2022-12-28T04:12:49.641Z"
   },
   {
    "duration": 13,
    "start_time": "2022-12-28T04:12:49.671Z"
   },
   {
    "duration": 3463,
    "start_time": "2022-12-28T04:12:49.685Z"
   },
   {
    "duration": 10,
    "start_time": "2022-12-28T04:12:53.150Z"
   },
   {
    "duration": 31,
    "start_time": "2022-12-28T04:12:53.161Z"
   },
   {
    "duration": 34,
    "start_time": "2022-12-28T04:12:53.193Z"
   },
   {
    "duration": 10,
    "start_time": "2022-12-28T04:12:53.229Z"
   },
   {
    "duration": 15,
    "start_time": "2022-12-28T04:12:53.241Z"
   },
   {
    "duration": 354,
    "start_time": "2022-12-28T04:12:53.257Z"
   },
   {
    "duration": 16,
    "start_time": "2022-12-28T04:12:53.615Z"
   },
   {
    "duration": 5,
    "start_time": "2022-12-28T04:12:53.632Z"
   },
   {
    "duration": 24,
    "start_time": "2022-12-28T04:12:53.639Z"
   },
   {
    "duration": 52,
    "start_time": "2022-12-28T04:12:53.665Z"
   },
   {
    "duration": 26,
    "start_time": "2022-12-28T04:12:53.719Z"
   },
   {
    "duration": 27,
    "start_time": "2022-12-28T04:12:53.746Z"
   },
   {
    "duration": 20,
    "start_time": "2022-12-28T04:12:53.775Z"
   },
   {
    "duration": 35,
    "start_time": "2022-12-28T04:12:53.796Z"
   },
   {
    "duration": 29,
    "start_time": "2022-12-28T04:12:53.832Z"
   },
   {
    "duration": 18,
    "start_time": "2022-12-28T04:12:53.863Z"
   },
   {
    "duration": 49,
    "start_time": "2022-12-28T04:12:53.883Z"
   },
   {
    "duration": 4,
    "start_time": "2022-12-28T04:12:53.934Z"
   },
   {
    "duration": 7,
    "start_time": "2022-12-28T04:12:53.940Z"
   },
   {
    "duration": 8,
    "start_time": "2022-12-28T04:12:53.949Z"
   },
   {
    "duration": 5,
    "start_time": "2022-12-28T04:12:53.959Z"
   },
   {
    "duration": 5,
    "start_time": "2022-12-28T04:12:53.966Z"
   },
   {
    "duration": 43,
    "start_time": "2022-12-28T04:12:53.975Z"
   },
   {
    "duration": 7,
    "start_time": "2022-12-28T04:12:54.019Z"
   },
   {
    "duration": 13,
    "start_time": "2022-12-28T04:12:54.027Z"
   },
   {
    "duration": 28,
    "start_time": "2022-12-28T04:12:54.042Z"
   },
   {
    "duration": 4,
    "start_time": "2022-12-28T04:12:54.071Z"
   },
   {
    "duration": 40,
    "start_time": "2022-12-28T04:12:54.076Z"
   },
   {
    "duration": 11,
    "start_time": "2022-12-28T04:12:54.117Z"
   },
   {
    "duration": 5,
    "start_time": "2022-12-28T04:12:54.129Z"
   },
   {
    "duration": 5,
    "start_time": "2022-12-28T04:12:54.136Z"
   },
   {
    "duration": 28,
    "start_time": "2022-12-28T04:12:54.143Z"
   },
   {
    "duration": 73,
    "start_time": "2022-12-28T04:12:54.172Z"
   },
   {
    "duration": 333,
    "start_time": "2022-12-28T04:12:54.246Z"
   },
   {
    "duration": 36,
    "start_time": "2022-12-28T04:12:54.581Z"
   },
   {
    "duration": 30,
    "start_time": "2022-12-28T04:12:54.619Z"
   },
   {
    "duration": 181,
    "start_time": "2022-12-28T04:12:54.651Z"
   },
   {
    "duration": 228,
    "start_time": "2022-12-28T04:12:54.833Z"
   },
   {
    "duration": 154,
    "start_time": "2022-12-28T04:12:55.063Z"
   },
   {
    "duration": 336,
    "start_time": "2022-12-28T04:12:55.219Z"
   },
   {
    "duration": 331,
    "start_time": "2022-12-28T04:12:55.556Z"
   },
   {
    "duration": 158,
    "start_time": "2022-12-28T04:12:55.889Z"
   },
   {
    "duration": 282,
    "start_time": "2022-12-28T04:12:56.049Z"
   },
   {
    "duration": 360,
    "start_time": "2022-12-28T04:12:56.333Z"
   },
   {
    "duration": 351,
    "start_time": "2022-12-28T04:12:56.695Z"
   },
   {
    "duration": 3,
    "start_time": "2022-12-28T04:12:57.047Z"
   },
   {
    "duration": 370,
    "start_time": "2022-12-28T04:12:57.052Z"
   },
   {
    "duration": 751,
    "start_time": "2022-12-28T04:12:57.423Z"
   },
   {
    "duration": 349,
    "start_time": "2022-12-28T04:12:58.177Z"
   },
   {
    "duration": 350,
    "start_time": "2022-12-28T04:12:58.528Z"
   },
   {
    "duration": 345,
    "start_time": "2022-12-28T04:12:58.879Z"
   },
   {
    "duration": 149,
    "start_time": "2022-12-28T04:12:59.225Z"
   },
   {
    "duration": 359,
    "start_time": "2022-12-28T04:12:59.376Z"
   },
   {
    "duration": 131,
    "start_time": "2022-12-28T04:14:24.870Z"
   },
   {
    "duration": 152,
    "start_time": "2022-12-28T04:16:17.487Z"
   },
   {
    "duration": 114,
    "start_time": "2022-12-28T04:19:08.633Z"
   },
   {
    "duration": 121,
    "start_time": "2022-12-28T04:19:30.552Z"
   },
   {
    "duration": 149,
    "start_time": "2022-12-28T04:19:37.511Z"
   },
   {
    "duration": 165,
    "start_time": "2022-12-28T04:19:52.318Z"
   },
   {
    "duration": 147,
    "start_time": "2022-12-28T04:20:03.357Z"
   },
   {
    "duration": 144,
    "start_time": "2022-12-28T04:21:47.421Z"
   },
   {
    "duration": 153,
    "start_time": "2022-12-28T04:22:00.124Z"
   },
   {
    "duration": 153,
    "start_time": "2022-12-28T04:22:07.405Z"
   },
   {
    "duration": 140,
    "start_time": "2022-12-28T04:22:11.187Z"
   },
   {
    "duration": 324,
    "start_time": "2022-12-28T04:22:15.508Z"
   },
   {
    "duration": 329,
    "start_time": "2022-12-28T04:22:20.954Z"
   },
   {
    "duration": 139,
    "start_time": "2022-12-28T04:22:27.002Z"
   },
   {
    "duration": 207,
    "start_time": "2022-12-28T04:22:30.169Z"
   },
   {
    "duration": 166,
    "start_time": "2022-12-28T04:22:32.945Z"
   },
   {
    "duration": 93,
    "start_time": "2022-12-28T04:22:41.421Z"
   },
   {
    "duration": 29,
    "start_time": "2022-12-28T04:22:41.515Z"
   },
   {
    "duration": 28,
    "start_time": "2022-12-28T04:22:41.546Z"
   },
   {
    "duration": 40,
    "start_time": "2022-12-28T04:22:41.576Z"
   },
   {
    "duration": 2276,
    "start_time": "2022-12-28T04:22:41.618Z"
   },
   {
    "duration": 23,
    "start_time": "2022-12-28T04:22:43.896Z"
   },
   {
    "duration": 30,
    "start_time": "2022-12-28T04:22:43.920Z"
   },
   {
    "duration": 23,
    "start_time": "2022-12-28T04:22:43.952Z"
   },
   {
    "duration": 11,
    "start_time": "2022-12-28T04:22:43.977Z"
   },
   {
    "duration": 14,
    "start_time": "2022-12-28T04:22:44.015Z"
   },
   {
    "duration": 324,
    "start_time": "2022-12-28T04:22:44.030Z"
   },
   {
    "duration": 13,
    "start_time": "2022-12-28T04:22:44.356Z"
   },
   {
    "duration": 4,
    "start_time": "2022-12-28T04:22:44.371Z"
   },
   {
    "duration": 18,
    "start_time": "2022-12-28T04:22:44.376Z"
   },
   {
    "duration": 49,
    "start_time": "2022-12-28T04:22:44.395Z"
   },
   {
    "duration": 17,
    "start_time": "2022-12-28T04:22:44.445Z"
   },
   {
    "duration": 24,
    "start_time": "2022-12-28T04:22:44.463Z"
   },
   {
    "duration": 41,
    "start_time": "2022-12-28T04:22:44.489Z"
   },
   {
    "duration": 15,
    "start_time": "2022-12-28T04:22:44.532Z"
   },
   {
    "duration": 25,
    "start_time": "2022-12-28T04:22:44.549Z"
   },
   {
    "duration": 16,
    "start_time": "2022-12-28T04:22:44.576Z"
   },
   {
    "duration": 22,
    "start_time": "2022-12-28T04:22:44.616Z"
   },
   {
    "duration": 4,
    "start_time": "2022-12-28T04:22:44.640Z"
   },
   {
    "duration": 6,
    "start_time": "2022-12-28T04:22:44.645Z"
   },
   {
    "duration": 6,
    "start_time": "2022-12-28T04:22:44.652Z"
   },
   {
    "duration": 4,
    "start_time": "2022-12-28T04:22:44.660Z"
   },
   {
    "duration": 7,
    "start_time": "2022-12-28T04:22:44.666Z"
   },
   {
    "duration": 40,
    "start_time": "2022-12-28T04:22:44.676Z"
   },
   {
    "duration": 7,
    "start_time": "2022-12-28T04:22:44.718Z"
   },
   {
    "duration": 10,
    "start_time": "2022-12-28T04:22:44.726Z"
   },
   {
    "duration": 23,
    "start_time": "2022-12-28T04:22:44.737Z"
   },
   {
    "duration": 3,
    "start_time": "2022-12-28T04:22:44.762Z"
   },
   {
    "duration": 8,
    "start_time": "2022-12-28T04:22:44.767Z"
   },
   {
    "duration": 43,
    "start_time": "2022-12-28T04:22:44.777Z"
   },
   {
    "duration": 5,
    "start_time": "2022-12-28T04:22:44.821Z"
   },
   {
    "duration": 6,
    "start_time": "2022-12-28T04:22:44.827Z"
   },
   {
    "duration": 27,
    "start_time": "2022-12-28T04:22:44.834Z"
   },
   {
    "duration": 76,
    "start_time": "2022-12-28T04:22:44.863Z"
   },
   {
    "duration": 326,
    "start_time": "2022-12-28T04:22:44.941Z"
   },
   {
    "duration": 30,
    "start_time": "2022-12-28T04:22:45.268Z"
   },
   {
    "duration": 43,
    "start_time": "2022-12-28T04:22:45.299Z"
   },
   {
    "duration": 182,
    "start_time": "2022-12-28T04:22:45.343Z"
   },
   {
    "duration": 215,
    "start_time": "2022-12-28T04:22:45.526Z"
   },
   {
    "duration": 148,
    "start_time": "2022-12-28T04:22:45.743Z"
   },
   {
    "duration": 357,
    "start_time": "2022-12-28T04:22:45.893Z"
   },
   {
    "duration": 181,
    "start_time": "2022-12-28T04:22:46.253Z"
   },
   {
    "duration": 158,
    "start_time": "2022-12-28T04:22:46.436Z"
   },
   {
    "duration": 159,
    "start_time": "2022-12-28T04:22:46.596Z"
   },
   {
    "duration": 332,
    "start_time": "2022-12-28T04:22:46.756Z"
   },
   {
    "duration": 3,
    "start_time": "2022-12-28T04:22:47.089Z"
   },
   {
    "duration": 347,
    "start_time": "2022-12-28T04:22:47.093Z"
   },
   {
    "duration": 358,
    "start_time": "2022-12-28T04:22:47.441Z"
   },
   {
    "duration": 334,
    "start_time": "2022-12-28T04:22:47.800Z"
   },
   {
    "duration": 340,
    "start_time": "2022-12-28T04:22:48.136Z"
   },
   {
    "duration": 358,
    "start_time": "2022-12-28T04:22:48.478Z"
   },
   {
    "duration": 149,
    "start_time": "2022-12-28T04:22:48.838Z"
   },
   {
    "duration": 850,
    "start_time": "2022-12-28T04:22:48.989Z"
   },
   {
    "duration": 231,
    "start_time": "2022-12-28T04:37:59.699Z"
   },
   {
    "duration": 69,
    "start_time": "2022-12-28T04:39:00.198Z"
   },
   {
    "duration": 146,
    "start_time": "2022-12-28T04:39:07.733Z"
   },
   {
    "duration": 148,
    "start_time": "2022-12-28T04:39:14.446Z"
   },
   {
    "duration": 152,
    "start_time": "2022-12-28T04:39:23.052Z"
   },
   {
    "duration": 150,
    "start_time": "2022-12-28T04:39:33.052Z"
   },
   {
    "duration": 149,
    "start_time": "2022-12-28T04:39:42.587Z"
   },
   {
    "duration": 145,
    "start_time": "2022-12-28T04:39:48.287Z"
   },
   {
    "duration": 155,
    "start_time": "2022-12-28T04:40:01.601Z"
   },
   {
    "duration": 182,
    "start_time": "2022-12-28T04:40:07.705Z"
   },
   {
    "duration": 125,
    "start_time": "2022-12-28T04:40:11.144Z"
   },
   {
    "duration": 137,
    "start_time": "2022-12-28T04:40:14.337Z"
   },
   {
    "duration": 157,
    "start_time": "2022-12-28T04:40:17.216Z"
   },
   {
    "duration": 141,
    "start_time": "2022-12-28T04:40:21.503Z"
   },
   {
    "duration": 150,
    "start_time": "2022-12-28T04:40:24.575Z"
   },
   {
    "duration": 153,
    "start_time": "2022-12-28T04:40:29.607Z"
   },
   {
    "duration": 159,
    "start_time": "2022-12-28T04:42:26.118Z"
   },
   {
    "duration": 229,
    "start_time": "2022-12-28T04:45:21.520Z"
   },
   {
    "duration": 184,
    "start_time": "2022-12-28T04:45:25.824Z"
   },
   {
    "duration": 161,
    "start_time": "2022-12-28T04:45:57.701Z"
   },
   {
    "duration": 158,
    "start_time": "2022-12-28T04:46:10.789Z"
   },
   {
    "duration": 134,
    "start_time": "2022-12-28T04:46:19.124Z"
   },
   {
    "duration": 153,
    "start_time": "2022-12-28T04:46:25.460Z"
   },
   {
    "duration": 134,
    "start_time": "2022-12-28T04:46:29.211Z"
   },
   {
    "duration": 137,
    "start_time": "2022-12-28T04:46:33.939Z"
   },
   {
    "duration": 244,
    "start_time": "2022-12-28T04:54:22.232Z"
   },
   {
    "duration": 143,
    "start_time": "2022-12-28T04:55:39.873Z"
   },
   {
    "duration": 146,
    "start_time": "2022-12-28T04:55:51.328Z"
   },
   {
    "duration": 131,
    "start_time": "2022-12-28T04:56:00.344Z"
   },
   {
    "duration": 150,
    "start_time": "2022-12-28T04:56:05.583Z"
   },
   {
    "duration": 140,
    "start_time": "2022-12-28T04:56:14.703Z"
   },
   {
    "duration": 153,
    "start_time": "2022-12-28T04:57:09.979Z"
   },
   {
    "duration": 147,
    "start_time": "2022-12-28T04:57:47.345Z"
   },
   {
    "duration": 134,
    "start_time": "2022-12-28T04:58:11.118Z"
   },
   {
    "duration": 163,
    "start_time": "2022-12-28T04:58:33.323Z"
   },
   {
    "duration": 147,
    "start_time": "2022-12-28T04:59:42.703Z"
   },
   {
    "duration": 146,
    "start_time": "2022-12-28T05:00:00.693Z"
   },
   {
    "duration": 138,
    "start_time": "2022-12-28T05:00:06.589Z"
   },
   {
    "duration": 183,
    "start_time": "2022-12-28T05:00:14.116Z"
   },
   {
    "duration": 145,
    "start_time": "2022-12-28T05:00:17.948Z"
   },
   {
    "duration": 148,
    "start_time": "2022-12-28T05:00:37.139Z"
   },
   {
    "duration": 185,
    "start_time": "2022-12-28T05:00:50.025Z"
   },
   {
    "duration": 178,
    "start_time": "2022-12-28T05:01:36.413Z"
   },
   {
    "duration": 231,
    "start_time": "2022-12-28T05:03:05.919Z"
   },
   {
    "duration": 232,
    "start_time": "2022-12-28T05:03:20.558Z"
   },
   {
    "duration": 219,
    "start_time": "2022-12-28T05:03:23.685Z"
   },
   {
    "duration": 218,
    "start_time": "2022-12-28T05:03:33.061Z"
   },
   {
    "duration": 179,
    "start_time": "2022-12-28T05:03:49.123Z"
   },
   {
    "duration": 217,
    "start_time": "2022-12-28T05:03:55.747Z"
   },
   {
    "duration": 108,
    "start_time": "2022-12-28T05:04:02.356Z"
   },
   {
    "duration": 54,
    "start_time": "2022-12-28T05:04:02.466Z"
   },
   {
    "duration": 31,
    "start_time": "2022-12-28T05:04:02.522Z"
   },
   {
    "duration": 14,
    "start_time": "2022-12-28T05:04:02.555Z"
   },
   {
    "duration": 2510,
    "start_time": "2022-12-28T05:04:02.571Z"
   },
   {
    "duration": 10,
    "start_time": "2022-12-28T05:04:05.083Z"
   },
   {
    "duration": 48,
    "start_time": "2022-12-28T05:04:05.094Z"
   },
   {
    "duration": 32,
    "start_time": "2022-12-28T05:04:05.144Z"
   },
   {
    "duration": 10,
    "start_time": "2022-12-28T05:04:05.177Z"
   },
   {
    "duration": 37,
    "start_time": "2022-12-28T05:04:05.189Z"
   },
   {
    "duration": 324,
    "start_time": "2022-12-28T05:04:05.228Z"
   },
   {
    "duration": 14,
    "start_time": "2022-12-28T05:04:05.554Z"
   },
   {
    "duration": 5,
    "start_time": "2022-12-28T05:04:05.569Z"
   },
   {
    "duration": 40,
    "start_time": "2022-12-28T05:04:05.575Z"
   },
   {
    "duration": 27,
    "start_time": "2022-12-28T05:04:05.617Z"
   },
   {
    "duration": 18,
    "start_time": "2022-12-28T05:04:05.646Z"
   },
   {
    "duration": 28,
    "start_time": "2022-12-28T05:04:05.666Z"
   },
   {
    "duration": 17,
    "start_time": "2022-12-28T05:04:05.716Z"
   },
   {
    "duration": 18,
    "start_time": "2022-12-28T05:04:05.735Z"
   },
   {
    "duration": 27,
    "start_time": "2022-12-28T05:04:05.754Z"
   },
   {
    "duration": 46,
    "start_time": "2022-12-28T05:04:05.782Z"
   },
   {
    "duration": 22,
    "start_time": "2022-12-28T05:04:05.830Z"
   },
   {
    "duration": 4,
    "start_time": "2022-12-28T05:04:05.854Z"
   },
   {
    "duration": 6,
    "start_time": "2022-12-28T05:04:05.860Z"
   },
   {
    "duration": 6,
    "start_time": "2022-12-28T05:04:05.868Z"
   },
   {
    "duration": 6,
    "start_time": "2022-12-28T05:04:05.875Z"
   },
   {
    "duration": 36,
    "start_time": "2022-12-28T05:04:05.882Z"
   },
   {
    "duration": 6,
    "start_time": "2022-12-28T05:04:05.921Z"
   },
   {
    "duration": 6,
    "start_time": "2022-12-28T05:04:05.929Z"
   },
   {
    "duration": 9,
    "start_time": "2022-12-28T05:04:05.937Z"
   },
   {
    "duration": 23,
    "start_time": "2022-12-28T05:04:05.948Z"
   },
   {
    "duration": 5,
    "start_time": "2022-12-28T05:04:05.972Z"
   },
   {
    "duration": 41,
    "start_time": "2022-12-28T05:04:05.978Z"
   },
   {
    "duration": 15,
    "start_time": "2022-12-28T05:04:06.020Z"
   },
   {
    "duration": 5,
    "start_time": "2022-12-28T05:04:06.036Z"
   },
   {
    "duration": 13,
    "start_time": "2022-12-28T05:04:06.043Z"
   },
   {
    "duration": 35,
    "start_time": "2022-12-28T05:04:06.059Z"
   },
   {
    "duration": 46,
    "start_time": "2022-12-28T05:04:06.116Z"
   },
   {
    "duration": 381,
    "start_time": "2022-12-28T05:04:06.163Z"
   },
   {
    "duration": 28,
    "start_time": "2022-12-28T05:04:06.545Z"
   },
   {
    "duration": 48,
    "start_time": "2022-12-28T05:04:06.575Z"
   },
   {
    "duration": 169,
    "start_time": "2022-12-28T05:04:06.624Z"
   },
   {
    "duration": 0,
    "start_time": "2022-12-28T05:04:06.795Z"
   },
   {
    "duration": 0,
    "start_time": "2022-12-28T05:04:06.795Z"
   },
   {
    "duration": 0,
    "start_time": "2022-12-28T05:04:06.797Z"
   },
   {
    "duration": 0,
    "start_time": "2022-12-28T05:04:06.798Z"
   },
   {
    "duration": 0,
    "start_time": "2022-12-28T05:04:06.799Z"
   },
   {
    "duration": 0,
    "start_time": "2022-12-28T05:04:06.815Z"
   },
   {
    "duration": 0,
    "start_time": "2022-12-28T05:04:06.817Z"
   },
   {
    "duration": 0,
    "start_time": "2022-12-28T05:04:06.818Z"
   },
   {
    "duration": 0,
    "start_time": "2022-12-28T05:04:06.819Z"
   },
   {
    "duration": 0,
    "start_time": "2022-12-28T05:04:06.820Z"
   },
   {
    "duration": 0,
    "start_time": "2022-12-28T05:04:06.822Z"
   },
   {
    "duration": 0,
    "start_time": "2022-12-28T05:04:06.823Z"
   },
   {
    "duration": 0,
    "start_time": "2022-12-28T05:04:06.824Z"
   },
   {
    "duration": 0,
    "start_time": "2022-12-28T05:04:06.825Z"
   },
   {
    "duration": 0,
    "start_time": "2022-12-28T05:04:06.826Z"
   },
   {
    "duration": 0,
    "start_time": "2022-12-28T05:04:06.828Z"
   },
   {
    "duration": 234,
    "start_time": "2022-12-28T05:04:42.422Z"
   },
   {
    "duration": 89,
    "start_time": "2022-12-28T05:05:09.663Z"
   },
   {
    "duration": 31,
    "start_time": "2022-12-28T05:05:09.755Z"
   },
   {
    "duration": 54,
    "start_time": "2022-12-28T05:05:09.788Z"
   },
   {
    "duration": 14,
    "start_time": "2022-12-28T05:05:09.844Z"
   },
   {
    "duration": 1790,
    "start_time": "2022-12-28T05:05:09.859Z"
   },
   {
    "duration": 10,
    "start_time": "2022-12-28T05:05:11.651Z"
   },
   {
    "duration": 29,
    "start_time": "2022-12-28T05:05:11.663Z"
   },
   {
    "duration": 38,
    "start_time": "2022-12-28T05:05:11.694Z"
   },
   {
    "duration": 9,
    "start_time": "2022-12-28T05:05:11.734Z"
   },
   {
    "duration": 19,
    "start_time": "2022-12-28T05:05:11.746Z"
   },
   {
    "duration": 428,
    "start_time": "2022-12-28T05:05:11.767Z"
   },
   {
    "duration": 20,
    "start_time": "2022-12-28T05:05:12.196Z"
   },
   {
    "duration": 4,
    "start_time": "2022-12-28T05:05:12.218Z"
   },
   {
    "duration": 21,
    "start_time": "2022-12-28T05:05:12.223Z"
   },
   {
    "duration": 30,
    "start_time": "2022-12-28T05:05:12.245Z"
   },
   {
    "duration": 40,
    "start_time": "2022-12-28T05:05:12.277Z"
   },
   {
    "duration": 27,
    "start_time": "2022-12-28T05:05:12.318Z"
   },
   {
    "duration": 18,
    "start_time": "2022-12-28T05:05:12.346Z"
   },
   {
    "duration": 18,
    "start_time": "2022-12-28T05:05:12.366Z"
   },
   {
    "duration": 54,
    "start_time": "2022-12-28T05:05:12.386Z"
   },
   {
    "duration": 17,
    "start_time": "2022-12-28T05:05:12.443Z"
   },
   {
    "duration": 54,
    "start_time": "2022-12-28T05:05:12.462Z"
   },
   {
    "duration": 5,
    "start_time": "2022-12-28T05:05:12.518Z"
   },
   {
    "duration": 7,
    "start_time": "2022-12-28T05:05:12.524Z"
   },
   {
    "duration": 7,
    "start_time": "2022-12-28T05:05:12.532Z"
   },
   {
    "duration": 5,
    "start_time": "2022-12-28T05:05:12.541Z"
   },
   {
    "duration": 5,
    "start_time": "2022-12-28T05:05:12.549Z"
   },
   {
    "duration": 8,
    "start_time": "2022-12-28T05:05:12.557Z"
   },
   {
    "duration": 7,
    "start_time": "2022-12-28T05:05:12.567Z"
   },
   {
    "duration": 11,
    "start_time": "2022-12-28T05:05:12.616Z"
   },
   {
    "duration": 24,
    "start_time": "2022-12-28T05:05:12.629Z"
   },
   {
    "duration": 4,
    "start_time": "2022-12-28T05:05:12.655Z"
   },
   {
    "duration": 9,
    "start_time": "2022-12-28T05:05:12.661Z"
   },
   {
    "duration": 13,
    "start_time": "2022-12-28T05:05:12.671Z"
   },
   {
    "duration": 34,
    "start_time": "2022-12-28T05:05:12.685Z"
   },
   {
    "duration": 10,
    "start_time": "2022-12-28T05:05:12.721Z"
   },
   {
    "duration": 33,
    "start_time": "2022-12-28T05:05:12.732Z"
   },
   {
    "duration": 66,
    "start_time": "2022-12-28T05:05:12.766Z"
   },
   {
    "duration": 347,
    "start_time": "2022-12-28T05:05:12.834Z"
   },
   {
    "duration": 42,
    "start_time": "2022-12-28T05:05:13.183Z"
   },
   {
    "duration": 37,
    "start_time": "2022-12-28T05:05:13.226Z"
   },
   {
    "duration": 193,
    "start_time": "2022-12-28T05:05:13.265Z"
   },
   {
    "duration": 0,
    "start_time": "2022-12-28T05:05:13.459Z"
   },
   {
    "duration": 0,
    "start_time": "2022-12-28T05:05:13.461Z"
   },
   {
    "duration": 0,
    "start_time": "2022-12-28T05:05:13.462Z"
   },
   {
    "duration": 0,
    "start_time": "2022-12-28T05:05:13.464Z"
   },
   {
    "duration": 0,
    "start_time": "2022-12-28T05:05:13.465Z"
   },
   {
    "duration": 0,
    "start_time": "2022-12-28T05:05:13.466Z"
   },
   {
    "duration": 0,
    "start_time": "2022-12-28T05:05:13.467Z"
   },
   {
    "duration": 0,
    "start_time": "2022-12-28T05:05:13.468Z"
   },
   {
    "duration": 0,
    "start_time": "2022-12-28T05:05:13.469Z"
   },
   {
    "duration": 0,
    "start_time": "2022-12-28T05:05:13.470Z"
   },
   {
    "duration": 0,
    "start_time": "2022-12-28T05:05:13.471Z"
   },
   {
    "duration": 0,
    "start_time": "2022-12-28T05:05:13.472Z"
   },
   {
    "duration": 0,
    "start_time": "2022-12-28T05:05:13.473Z"
   },
   {
    "duration": 0,
    "start_time": "2022-12-28T05:05:13.475Z"
   },
   {
    "duration": 0,
    "start_time": "2022-12-28T05:05:13.476Z"
   },
   {
    "duration": 88,
    "start_time": "2022-12-28T05:06:11.699Z"
   },
   {
    "duration": 41,
    "start_time": "2022-12-28T05:06:11.788Z"
   },
   {
    "duration": 28,
    "start_time": "2022-12-28T05:06:11.831Z"
   },
   {
    "duration": 12,
    "start_time": "2022-12-28T05:06:11.861Z"
   },
   {
    "duration": 1817,
    "start_time": "2022-12-28T05:06:11.875Z"
   },
   {
    "duration": 11,
    "start_time": "2022-12-28T05:06:13.693Z"
   },
   {
    "duration": 30,
    "start_time": "2022-12-28T05:06:13.715Z"
   },
   {
    "duration": 21,
    "start_time": "2022-12-28T05:06:13.746Z"
   },
   {
    "duration": 10,
    "start_time": "2022-12-28T05:06:13.769Z"
   },
   {
    "duration": 51,
    "start_time": "2022-12-28T05:06:13.783Z"
   },
   {
    "duration": 423,
    "start_time": "2022-12-28T05:06:13.836Z"
   },
   {
    "duration": 14,
    "start_time": "2022-12-28T05:06:14.261Z"
   },
   {
    "duration": 5,
    "start_time": "2022-12-28T05:06:14.277Z"
   },
   {
    "duration": 33,
    "start_time": "2022-12-28T05:06:14.283Z"
   },
   {
    "duration": 30,
    "start_time": "2022-12-28T05:06:14.318Z"
   },
   {
    "duration": 16,
    "start_time": "2022-12-28T05:06:14.350Z"
   },
   {
    "duration": 48,
    "start_time": "2022-12-28T05:06:14.368Z"
   },
   {
    "duration": 17,
    "start_time": "2022-12-28T05:06:14.418Z"
   },
   {
    "duration": 17,
    "start_time": "2022-12-28T05:06:14.436Z"
   },
   {
    "duration": 26,
    "start_time": "2022-12-28T05:06:14.455Z"
   },
   {
    "duration": 47,
    "start_time": "2022-12-28T05:06:14.482Z"
   },
   {
    "duration": 24,
    "start_time": "2022-12-28T05:06:14.531Z"
   },
   {
    "duration": 5,
    "start_time": "2022-12-28T05:06:14.557Z"
   },
   {
    "duration": 6,
    "start_time": "2022-12-28T05:06:14.564Z"
   },
   {
    "duration": 6,
    "start_time": "2022-12-28T05:06:14.572Z"
   },
   {
    "duration": 37,
    "start_time": "2022-12-28T05:06:14.580Z"
   },
   {
    "duration": 5,
    "start_time": "2022-12-28T05:06:14.619Z"
   },
   {
    "duration": 6,
    "start_time": "2022-12-28T05:06:14.628Z"
   },
   {
    "duration": 6,
    "start_time": "2022-12-28T05:06:14.636Z"
   },
   {
    "duration": 13,
    "start_time": "2022-12-28T05:06:14.644Z"
   },
   {
    "duration": 63,
    "start_time": "2022-12-28T05:06:14.659Z"
   },
   {
    "duration": 5,
    "start_time": "2022-12-28T05:06:14.724Z"
   },
   {
    "duration": 7,
    "start_time": "2022-12-28T05:06:14.731Z"
   },
   {
    "duration": 13,
    "start_time": "2022-12-28T05:06:14.740Z"
   },
   {
    "duration": 5,
    "start_time": "2022-12-28T05:06:14.754Z"
   },
   {
    "duration": 5,
    "start_time": "2022-12-28T05:06:14.760Z"
   },
   {
    "duration": 63,
    "start_time": "2022-12-28T05:06:14.767Z"
   },
   {
    "duration": 46,
    "start_time": "2022-12-28T05:06:14.832Z"
   },
   {
    "duration": 383,
    "start_time": "2022-12-28T05:06:14.880Z"
   },
   {
    "duration": 27,
    "start_time": "2022-12-28T05:06:15.265Z"
   },
   {
    "duration": 42,
    "start_time": "2022-12-28T05:06:15.294Z"
   },
   {
    "duration": 176,
    "start_time": "2022-12-28T05:06:15.337Z"
   },
   {
    "duration": 113,
    "start_time": "2022-12-28T05:06:15.515Z"
   },
   {
    "duration": 147,
    "start_time": "2022-12-28T05:06:15.629Z"
   },
   {
    "duration": 362,
    "start_time": "2022-12-28T05:06:15.778Z"
   },
   {
    "duration": 767,
    "start_time": "2022-12-28T05:06:16.142Z"
   },
   {
    "duration": 162,
    "start_time": "2022-12-28T05:06:16.910Z"
   },
   {
    "duration": 151,
    "start_time": "2022-12-28T05:06:17.073Z"
   },
   {
    "duration": 232,
    "start_time": "2022-12-28T05:06:17.225Z"
   },
   {
    "duration": 150,
    "start_time": "2022-12-28T05:06:17.459Z"
   },
   {
    "duration": 144,
    "start_time": "2022-12-28T05:06:17.615Z"
   },
   {
    "duration": 148,
    "start_time": "2022-12-28T05:06:17.761Z"
   },
   {
    "duration": 137,
    "start_time": "2022-12-28T05:06:17.915Z"
   },
   {
    "duration": 166,
    "start_time": "2022-12-28T05:06:18.053Z"
   },
   {
    "duration": 141,
    "start_time": "2022-12-28T05:06:18.220Z"
   },
   {
    "duration": 248,
    "start_time": "2022-12-28T05:06:18.363Z"
   },
   {
    "duration": 188,
    "start_time": "2022-12-28T05:06:18.615Z"
   },
   {
    "duration": 222,
    "start_time": "2022-12-28T05:07:37.002Z"
   },
   {
    "duration": 239,
    "start_time": "2022-12-28T05:08:30.893Z"
   },
   {
    "duration": 135,
    "start_time": "2022-12-28T05:15:07.503Z"
   },
   {
    "duration": 149,
    "start_time": "2022-12-28T05:17:10.198Z"
   },
   {
    "duration": 139,
    "start_time": "2022-12-28T05:18:36.376Z"
   },
   {
    "duration": 137,
    "start_time": "2022-12-28T05:23:35.553Z"
   },
   {
    "duration": 154,
    "start_time": "2022-12-28T05:25:21.416Z"
   },
   {
    "duration": 142,
    "start_time": "2022-12-28T05:29:57.227Z"
   },
   {
    "duration": 153,
    "start_time": "2022-12-28T05:30:07.442Z"
   },
   {
    "duration": 93,
    "start_time": "2022-12-28T05:41:42.478Z"
   },
   {
    "duration": 44,
    "start_time": "2022-12-28T05:41:42.573Z"
   },
   {
    "duration": 32,
    "start_time": "2022-12-28T05:41:42.619Z"
   },
   {
    "duration": 15,
    "start_time": "2022-12-28T05:41:42.654Z"
   },
   {
    "duration": 1846,
    "start_time": "2022-12-28T05:41:42.671Z"
   },
   {
    "duration": 9,
    "start_time": "2022-12-28T05:41:44.519Z"
   },
   {
    "duration": 32,
    "start_time": "2022-12-28T05:41:44.530Z"
   },
   {
    "duration": 22,
    "start_time": "2022-12-28T05:41:44.564Z"
   },
   {
    "duration": 35,
    "start_time": "2022-12-28T05:41:44.587Z"
   },
   {
    "duration": 19,
    "start_time": "2022-12-28T05:41:44.625Z"
   },
   {
    "duration": 18,
    "start_time": "2022-12-28T05:41:44.645Z"
   },
   {
    "duration": 13,
    "start_time": "2022-12-28T05:41:44.665Z"
   },
   {
    "duration": 5,
    "start_time": "2022-12-28T05:41:44.680Z"
   },
   {
    "duration": 40,
    "start_time": "2022-12-28T05:41:44.687Z"
   },
   {
    "duration": 29,
    "start_time": "2022-12-28T05:41:44.729Z"
   },
   {
    "duration": 15,
    "start_time": "2022-12-28T05:41:44.759Z"
   },
   {
    "duration": 55,
    "start_time": "2022-12-28T05:41:44.776Z"
   },
   {
    "duration": 17,
    "start_time": "2022-12-28T05:41:44.833Z"
   },
   {
    "duration": 18,
    "start_time": "2022-12-28T05:41:44.851Z"
   },
   {
    "duration": 51,
    "start_time": "2022-12-28T05:41:44.871Z"
   },
   {
    "duration": 17,
    "start_time": "2022-12-28T05:41:44.923Z"
   },
   {
    "duration": 33,
    "start_time": "2022-12-28T05:41:44.942Z"
   },
   {
    "duration": 4,
    "start_time": "2022-12-28T05:41:44.977Z"
   },
   {
    "duration": 9,
    "start_time": "2022-12-28T05:41:44.983Z"
   },
   {
    "duration": 16,
    "start_time": "2022-12-28T05:41:44.994Z"
   },
   {
    "duration": 19,
    "start_time": "2022-12-28T05:41:45.016Z"
   },
   {
    "duration": 11,
    "start_time": "2022-12-28T05:41:45.036Z"
   },
   {
    "duration": 8,
    "start_time": "2022-12-28T05:41:45.050Z"
   },
   {
    "duration": 10,
    "start_time": "2022-12-28T05:41:45.059Z"
   },
   {
    "duration": 11,
    "start_time": "2022-12-28T05:41:45.070Z"
   },
   {
    "duration": 2,
    "start_time": "2022-12-28T05:41:45.082Z"
   },
   {
    "duration": 6,
    "start_time": "2022-12-28T05:41:45.086Z"
   },
   {
    "duration": 5,
    "start_time": "2022-12-28T05:41:45.116Z"
   },
   {
    "duration": 13,
    "start_time": "2022-12-28T05:41:45.123Z"
   },
   {
    "duration": 5,
    "start_time": "2022-12-28T05:41:45.137Z"
   },
   {
    "duration": 13,
    "start_time": "2022-12-28T05:41:45.144Z"
   },
   {
    "duration": 126,
    "start_time": "2022-12-28T05:41:45.159Z"
   },
   {
    "duration": 34,
    "start_time": "2022-12-28T05:41:45.287Z"
   },
   {
    "duration": 46,
    "start_time": "2022-12-28T05:41:45.323Z"
   },
   {
    "duration": 353,
    "start_time": "2022-12-28T05:41:45.371Z"
   },
   {
    "duration": 26,
    "start_time": "2022-12-28T05:41:45.726Z"
   },
   {
    "duration": 29,
    "start_time": "2022-12-28T05:41:45.754Z"
   },
   {
    "duration": 185,
    "start_time": "2022-12-28T05:41:45.784Z"
   },
   {
    "duration": 182,
    "start_time": "2022-12-28T05:41:45.971Z"
   },
   {
    "duration": 194,
    "start_time": "2022-12-28T05:41:46.154Z"
   },
   {
    "duration": 359,
    "start_time": "2022-12-28T05:41:46.350Z"
   },
   {
    "duration": 137,
    "start_time": "2022-12-28T05:41:46.710Z"
   },
   {
    "duration": 175,
    "start_time": "2022-12-28T05:41:46.849Z"
   },
   {
    "duration": 187,
    "start_time": "2022-12-28T05:41:47.026Z"
   },
   {
    "duration": 257,
    "start_time": "2022-12-28T05:41:47.215Z"
   },
   {
    "duration": 154,
    "start_time": "2022-12-28T05:41:47.474Z"
   },
   {
    "duration": 148,
    "start_time": "2022-12-28T05:41:47.629Z"
   },
   {
    "duration": 148,
    "start_time": "2022-12-28T05:41:47.779Z"
   },
   {
    "duration": 144,
    "start_time": "2022-12-28T05:41:47.929Z"
   },
   {
    "duration": 161,
    "start_time": "2022-12-28T05:41:48.075Z"
   },
   {
    "duration": 142,
    "start_time": "2022-12-28T05:41:48.238Z"
   },
   {
    "duration": 248,
    "start_time": "2022-12-28T05:41:48.381Z"
   },
   {
    "duration": 174,
    "start_time": "2022-12-28T05:41:48.631Z"
   },
   {
    "duration": 246,
    "start_time": "2022-12-28T05:41:48.807Z"
   },
   {
    "duration": 172,
    "start_time": "2022-12-28T05:41:49.055Z"
   },
   {
    "duration": 166,
    "start_time": "2022-12-28T05:41:49.229Z"
   },
   {
    "duration": 165,
    "start_time": "2022-12-28T05:41:49.397Z"
   },
   {
    "duration": 200,
    "start_time": "2022-12-28T05:41:49.564Z"
   },
   {
    "duration": 117,
    "start_time": "2022-12-28T05:42:18.674Z"
   },
   {
    "duration": 90,
    "start_time": "2022-12-28T05:44:48.511Z"
   },
   {
    "duration": 32,
    "start_time": "2022-12-28T05:44:48.603Z"
   },
   {
    "duration": 33,
    "start_time": "2022-12-28T05:44:48.637Z"
   },
   {
    "duration": 14,
    "start_time": "2022-12-28T05:44:48.673Z"
   },
   {
    "duration": 2692,
    "start_time": "2022-12-28T05:44:48.716Z"
   },
   {
    "duration": 14,
    "start_time": "2022-12-28T05:44:51.409Z"
   },
   {
    "duration": 33,
    "start_time": "2022-12-28T05:44:51.424Z"
   },
   {
    "duration": 26,
    "start_time": "2022-12-28T05:44:51.459Z"
   },
   {
    "duration": 38,
    "start_time": "2022-12-28T05:44:51.487Z"
   },
   {
    "duration": 33,
    "start_time": "2022-12-28T05:44:51.528Z"
   },
   {
    "duration": 63,
    "start_time": "2022-12-28T05:44:51.565Z"
   },
   {
    "duration": 14,
    "start_time": "2022-12-28T05:44:51.630Z"
   },
   {
    "duration": 14,
    "start_time": "2022-12-28T05:44:51.646Z"
   },
   {
    "duration": 40,
    "start_time": "2022-12-28T05:44:51.662Z"
   },
   {
    "duration": 30,
    "start_time": "2022-12-28T05:44:51.704Z"
   },
   {
    "duration": 17,
    "start_time": "2022-12-28T05:44:51.736Z"
   },
   {
    "duration": 25,
    "start_time": "2022-12-28T05:44:51.755Z"
   },
   {
    "duration": 39,
    "start_time": "2022-12-28T05:44:51.782Z"
   },
   {
    "duration": 19,
    "start_time": "2022-12-28T05:44:51.823Z"
   },
   {
    "duration": 28,
    "start_time": "2022-12-28T05:44:51.843Z"
   },
   {
    "duration": 46,
    "start_time": "2022-12-28T05:44:51.873Z"
   },
   {
    "duration": 23,
    "start_time": "2022-12-28T05:44:51.921Z"
   },
   {
    "duration": 5,
    "start_time": "2022-12-28T05:44:51.945Z"
   },
   {
    "duration": 7,
    "start_time": "2022-12-28T05:44:51.951Z"
   },
   {
    "duration": 11,
    "start_time": "2022-12-28T05:44:51.959Z"
   },
   {
    "duration": 9,
    "start_time": "2022-12-28T05:44:51.971Z"
   },
   {
    "duration": 36,
    "start_time": "2022-12-28T05:44:51.981Z"
   },
   {
    "duration": 8,
    "start_time": "2022-12-28T05:44:52.021Z"
   },
   {
    "duration": 13,
    "start_time": "2022-12-28T05:44:52.030Z"
   },
   {
    "duration": 6,
    "start_time": "2022-12-28T05:44:52.045Z"
   },
   {
    "duration": 8,
    "start_time": "2022-12-28T05:44:52.053Z"
   },
   {
    "duration": 13,
    "start_time": "2022-12-28T05:44:52.063Z"
   },
   {
    "duration": 25,
    "start_time": "2022-12-28T05:44:52.078Z"
   },
   {
    "duration": 15,
    "start_time": "2022-12-28T05:44:52.116Z"
   },
   {
    "duration": 8,
    "start_time": "2022-12-28T05:44:52.133Z"
   },
   {
    "duration": 8,
    "start_time": "2022-12-28T05:44:52.143Z"
   },
   {
    "duration": 130,
    "start_time": "2022-12-28T05:44:52.153Z"
   },
   {
    "duration": 41,
    "start_time": "2022-12-28T05:44:52.284Z"
   },
   {
    "duration": 51,
    "start_time": "2022-12-28T05:44:52.327Z"
   },
   {
    "duration": 385,
    "start_time": "2022-12-28T05:44:52.380Z"
   },
   {
    "duration": 29,
    "start_time": "2022-12-28T05:44:52.767Z"
   },
   {
    "duration": 45,
    "start_time": "2022-12-28T05:44:52.798Z"
   },
   {
    "duration": 179,
    "start_time": "2022-12-28T05:44:52.845Z"
   },
   {
    "duration": 163,
    "start_time": "2022-12-28T05:44:53.026Z"
   },
   {
    "duration": 152,
    "start_time": "2022-12-28T05:44:53.191Z"
   },
   {
    "duration": 338,
    "start_time": "2022-12-28T05:44:53.345Z"
   },
   {
    "duration": 144,
    "start_time": "2022-12-28T05:44:53.685Z"
   },
   {
    "duration": 165,
    "start_time": "2022-12-28T05:44:53.831Z"
   },
   {
    "duration": 167,
    "start_time": "2022-12-28T05:44:53.998Z"
   },
   {
    "duration": 247,
    "start_time": "2022-12-28T05:44:54.167Z"
   },
   {
    "duration": 162,
    "start_time": "2022-12-28T05:44:54.416Z"
   },
   {
    "duration": 153,
    "start_time": "2022-12-28T05:44:54.580Z"
   },
   {
    "duration": 150,
    "start_time": "2022-12-28T05:44:54.735Z"
   },
   {
    "duration": 142,
    "start_time": "2022-12-28T05:44:54.886Z"
   },
   {
    "duration": 164,
    "start_time": "2022-12-28T05:44:55.029Z"
   },
   {
    "duration": 150,
    "start_time": "2022-12-28T05:44:55.195Z"
   },
   {
    "duration": 265,
    "start_time": "2022-12-28T05:44:55.346Z"
   },
   {
    "duration": 195,
    "start_time": "2022-12-28T05:44:55.615Z"
   },
   {
    "duration": 268,
    "start_time": "2022-12-28T05:44:55.812Z"
   },
   {
    "duration": 171,
    "start_time": "2022-12-28T05:44:56.082Z"
   },
   {
    "duration": 211,
    "start_time": "2022-12-28T05:44:56.255Z"
   },
   {
    "duration": 159,
    "start_time": "2022-12-28T05:44:56.468Z"
   },
   {
    "duration": 187,
    "start_time": "2022-12-28T05:44:56.629Z"
   },
   {
    "duration": 1115,
    "start_time": "2022-12-28T08:20:36.694Z"
   },
   {
    "duration": 35,
    "start_time": "2022-12-28T08:20:37.811Z"
   },
   {
    "duration": 29,
    "start_time": "2022-12-28T08:20:37.847Z"
   },
   {
    "duration": 13,
    "start_time": "2022-12-28T08:20:37.877Z"
   },
   {
    "duration": 1922,
    "start_time": "2022-12-28T08:20:37.893Z"
   },
   {
    "duration": 11,
    "start_time": "2022-12-28T08:20:39.818Z"
   },
   {
    "duration": 29,
    "start_time": "2022-12-28T08:20:39.831Z"
   },
   {
    "duration": 26,
    "start_time": "2022-12-28T08:20:39.862Z"
   },
   {
    "duration": 12,
    "start_time": "2022-12-28T08:20:39.916Z"
   },
   {
    "duration": 17,
    "start_time": "2022-12-28T08:20:39.930Z"
   },
   {
    "duration": 20,
    "start_time": "2022-12-28T08:20:39.949Z"
   },
   {
    "duration": 48,
    "start_time": "2022-12-28T08:20:39.971Z"
   },
   {
    "duration": 5,
    "start_time": "2022-12-28T08:20:40.020Z"
   },
   {
    "duration": 41,
    "start_time": "2022-12-28T08:20:40.028Z"
   },
   {
    "duration": 42,
    "start_time": "2022-12-28T08:20:40.071Z"
   },
   {
    "duration": 14,
    "start_time": "2022-12-28T08:20:40.114Z"
   },
   {
    "duration": 23,
    "start_time": "2022-12-28T08:20:40.130Z"
   },
   {
    "duration": 17,
    "start_time": "2022-12-28T08:20:40.155Z"
   },
   {
    "duration": 16,
    "start_time": "2022-12-28T08:20:40.173Z"
   },
   {
    "duration": 27,
    "start_time": "2022-12-28T08:20:40.216Z"
   },
   {
    "duration": 17,
    "start_time": "2022-12-28T08:20:40.244Z"
   },
   {
    "duration": 31,
    "start_time": "2022-12-28T08:20:40.262Z"
   },
   {
    "duration": 22,
    "start_time": "2022-12-28T08:20:40.295Z"
   },
   {
    "duration": 6,
    "start_time": "2022-12-28T08:20:40.319Z"
   },
   {
    "duration": 8,
    "start_time": "2022-12-28T08:20:40.326Z"
   },
   {
    "duration": 10,
    "start_time": "2022-12-28T08:20:40.335Z"
   },
   {
    "duration": 6,
    "start_time": "2022-12-28T08:20:40.347Z"
   },
   {
    "duration": 10,
    "start_time": "2022-12-28T08:20:40.355Z"
   },
   {
    "duration": 6,
    "start_time": "2022-12-28T08:20:40.367Z"
   },
   {
    "duration": 3,
    "start_time": "2022-12-28T08:20:40.374Z"
   },
   {
    "duration": 37,
    "start_time": "2022-12-28T08:20:40.379Z"
   },
   {
    "duration": 10,
    "start_time": "2022-12-28T08:20:40.418Z"
   },
   {
    "duration": 5,
    "start_time": "2022-12-28T08:20:40.430Z"
   },
   {
    "duration": 11,
    "start_time": "2022-12-28T08:20:40.437Z"
   },
   {
    "duration": 4,
    "start_time": "2022-12-28T08:20:40.449Z"
   },
   {
    "duration": 12,
    "start_time": "2022-12-28T08:20:40.454Z"
   },
   {
    "duration": 107,
    "start_time": "2022-12-28T08:20:40.468Z"
   },
   {
    "duration": 28,
    "start_time": "2022-12-28T08:20:40.576Z"
   },
   {
    "duration": 54,
    "start_time": "2022-12-28T08:20:40.605Z"
   },
   {
    "duration": 360,
    "start_time": "2022-12-28T08:20:40.661Z"
   },
   {
    "duration": 30,
    "start_time": "2022-12-28T08:20:41.025Z"
   },
   {
    "duration": 29,
    "start_time": "2022-12-28T08:20:41.057Z"
   },
   {
    "duration": 181,
    "start_time": "2022-12-28T08:20:41.087Z"
   },
   {
    "duration": 170,
    "start_time": "2022-12-28T08:20:41.270Z"
   },
   {
    "duration": 217,
    "start_time": "2022-12-28T08:20:41.442Z"
   },
   {
    "duration": 351,
    "start_time": "2022-12-28T08:20:41.661Z"
   },
   {
    "duration": 158,
    "start_time": "2022-12-28T08:20:42.014Z"
   },
   {
    "duration": 157,
    "start_time": "2022-12-28T08:20:42.173Z"
   },
   {
    "duration": 197,
    "start_time": "2022-12-28T08:20:42.332Z"
   },
   {
    "duration": 259,
    "start_time": "2022-12-28T08:20:42.531Z"
   },
   {
    "duration": 150,
    "start_time": "2022-12-28T08:20:42.792Z"
   },
   {
    "duration": 231,
    "start_time": "2022-12-28T08:20:42.944Z"
   },
   {
    "duration": 143,
    "start_time": "2022-12-28T08:20:43.177Z"
   },
   {
    "duration": 141,
    "start_time": "2022-12-28T08:20:43.322Z"
   },
   {
    "duration": 165,
    "start_time": "2022-12-28T08:20:43.465Z"
   },
   {
    "duration": 149,
    "start_time": "2022-12-28T08:20:43.632Z"
   },
   {
    "duration": 256,
    "start_time": "2022-12-28T08:20:43.783Z"
   },
   {
    "duration": 181,
    "start_time": "2022-12-28T08:20:44.040Z"
   },
   {
    "duration": 245,
    "start_time": "2022-12-28T08:20:44.223Z"
   },
   {
    "duration": 241,
    "start_time": "2022-12-28T08:20:44.470Z"
   },
   {
    "duration": 172,
    "start_time": "2022-12-28T08:20:44.715Z"
   },
   {
    "duration": 159,
    "start_time": "2022-12-28T08:20:44.889Z"
   },
   {
    "duration": 187,
    "start_time": "2022-12-28T08:20:45.049Z"
   },
   {
    "duration": 130,
    "start_time": "2022-12-28T08:23:34.602Z"
   },
   {
    "duration": 425,
    "start_time": "2022-12-28T08:29:01.244Z"
   },
   {
    "duration": 445,
    "start_time": "2022-12-28T08:33:27.512Z"
   },
   {
    "duration": 24,
    "start_time": "2022-12-28T08:38:05.799Z"
   },
   {
    "duration": 7,
    "start_time": "2022-12-28T09:00:47.428Z"
   },
   {
    "duration": 71,
    "start_time": "2022-12-28T09:17:51.615Z"
   },
   {
    "duration": 216,
    "start_time": "2022-12-28T09:18:02.110Z"
   },
   {
    "duration": 98,
    "start_time": "2022-12-28T09:18:30.407Z"
   },
   {
    "duration": 231,
    "start_time": "2022-12-28T09:18:36.251Z"
   },
   {
    "duration": 288,
    "start_time": "2022-12-28T09:21:02.536Z"
   },
   {
    "duration": 185,
    "start_time": "2022-12-28T09:21:38.595Z"
   },
   {
    "duration": 22,
    "start_time": "2022-12-28T09:24:36.671Z"
   },
   {
    "duration": 29,
    "start_time": "2022-12-28T09:30:28.532Z"
   },
   {
    "duration": 25,
    "start_time": "2022-12-28T09:30:42.435Z"
   },
   {
    "duration": 39,
    "start_time": "2022-12-28T09:32:56.874Z"
   },
   {
    "duration": 53,
    "start_time": "2022-12-28T09:34:27.426Z"
   },
   {
    "duration": 53,
    "start_time": "2022-12-28T09:34:47.868Z"
   },
   {
    "duration": 52,
    "start_time": "2022-12-28T09:35:04.692Z"
   },
   {
    "duration": 4,
    "start_time": "2022-12-28T09:35:51.475Z"
   },
   {
    "duration": 26,
    "start_time": "2022-12-28T09:36:03.795Z"
   },
   {
    "duration": 29,
    "start_time": "2022-12-28T09:36:31.128Z"
   },
   {
    "duration": 27,
    "start_time": "2022-12-28T09:41:43.241Z"
   },
   {
    "duration": 22,
    "start_time": "2022-12-28T09:42:58.644Z"
   },
   {
    "duration": 839,
    "start_time": "2022-12-28T09:43:51.313Z"
   },
   {
    "duration": 28,
    "start_time": "2022-12-28T09:44:07.810Z"
   },
   {
    "duration": 31,
    "start_time": "2022-12-28T09:44:29.971Z"
   },
   {
    "duration": 31,
    "start_time": "2022-12-28T09:44:56.265Z"
   },
   {
    "duration": 15,
    "start_time": "2022-12-28T09:50:32.544Z"
   },
   {
    "duration": 21,
    "start_time": "2022-12-28T09:50:45.081Z"
   },
   {
    "duration": 23,
    "start_time": "2022-12-28T09:51:07.118Z"
   },
   {
    "duration": 23,
    "start_time": "2022-12-28T09:51:39.266Z"
   },
   {
    "duration": 24,
    "start_time": "2022-12-28T09:53:09.556Z"
   },
   {
    "duration": 1084,
    "start_time": "2022-12-28T09:54:47.202Z"
   },
   {
    "duration": 189,
    "start_time": "2022-12-28T09:55:41.961Z"
   },
   {
    "duration": 28,
    "start_time": "2022-12-28T09:56:08.293Z"
   },
   {
    "duration": 193,
    "start_time": "2022-12-28T09:56:19.207Z"
   },
   {
    "duration": 96,
    "start_time": "2022-12-28T10:14:50.499Z"
   },
   {
    "duration": 42,
    "start_time": "2022-12-28T10:14:50.597Z"
   },
   {
    "duration": 36,
    "start_time": "2022-12-28T10:14:50.640Z"
   },
   {
    "duration": 12,
    "start_time": "2022-12-28T10:14:50.677Z"
   },
   {
    "duration": 2148,
    "start_time": "2022-12-28T10:14:50.715Z"
   },
   {
    "duration": 11,
    "start_time": "2022-12-28T10:14:52.865Z"
   },
   {
    "duration": 50,
    "start_time": "2022-12-28T10:14:52.878Z"
   },
   {
    "duration": 34,
    "start_time": "2022-12-28T10:14:52.930Z"
   },
   {
    "duration": 27,
    "start_time": "2022-12-28T10:14:52.966Z"
   },
   {
    "duration": 29,
    "start_time": "2022-12-28T10:14:52.994Z"
   },
   {
    "duration": 26,
    "start_time": "2022-12-28T10:14:53.026Z"
   },
   {
    "duration": 27,
    "start_time": "2022-12-28T10:14:53.053Z"
   },
   {
    "duration": 7,
    "start_time": "2022-12-28T10:14:53.082Z"
   },
   {
    "duration": 47,
    "start_time": "2022-12-28T10:14:53.092Z"
   },
   {
    "duration": 49,
    "start_time": "2022-12-28T10:14:53.141Z"
   },
   {
    "duration": 53,
    "start_time": "2022-12-28T10:14:53.191Z"
   },
   {
    "duration": 39,
    "start_time": "2022-12-28T10:14:53.246Z"
   },
   {
    "duration": 30,
    "start_time": "2022-12-28T10:14:53.286Z"
   },
   {
    "duration": 37,
    "start_time": "2022-12-28T10:14:53.319Z"
   },
   {
    "duration": 81,
    "start_time": "2022-12-28T10:14:53.358Z"
   },
   {
    "duration": 19,
    "start_time": "2022-12-28T10:14:53.441Z"
   },
   {
    "duration": 22,
    "start_time": "2022-12-28T10:14:53.463Z"
   },
   {
    "duration": 36,
    "start_time": "2022-12-28T10:14:53.487Z"
   },
   {
    "duration": 13,
    "start_time": "2022-12-28T10:14:53.526Z"
   },
   {
    "duration": 34,
    "start_time": "2022-12-28T10:14:53.540Z"
   },
   {
    "duration": 56,
    "start_time": "2022-12-28T10:14:53.576Z"
   },
   {
    "duration": 24,
    "start_time": "2022-12-28T10:14:53.635Z"
   },
   {
    "duration": 10,
    "start_time": "2022-12-28T10:14:53.660Z"
   },
   {
    "duration": 12,
    "start_time": "2022-12-28T10:14:53.672Z"
   },
   {
    "duration": 14,
    "start_time": "2022-12-28T10:14:53.686Z"
   },
   {
    "duration": 20,
    "start_time": "2022-12-28T10:14:53.702Z"
   },
   {
    "duration": 25,
    "start_time": "2022-12-28T10:14:53.724Z"
   },
   {
    "duration": 14,
    "start_time": "2022-12-28T10:14:53.751Z"
   },
   {
    "duration": 15,
    "start_time": "2022-12-28T10:14:53.767Z"
   },
   {
    "duration": 4,
    "start_time": "2022-12-28T10:14:53.784Z"
   },
   {
    "duration": 24,
    "start_time": "2022-12-28T10:14:53.789Z"
   },
   {
    "duration": 104,
    "start_time": "2022-12-28T10:14:53.816Z"
   },
   {
    "duration": 32,
    "start_time": "2022-12-28T10:14:53.922Z"
   },
   {
    "duration": 68,
    "start_time": "2022-12-28T10:14:53.955Z"
   },
   {
    "duration": 421,
    "start_time": "2022-12-28T10:14:54.025Z"
   },
   {
    "duration": 30,
    "start_time": "2022-12-28T10:14:54.450Z"
   },
   {
    "duration": 60,
    "start_time": "2022-12-28T10:14:54.482Z"
   },
   {
    "duration": 195,
    "start_time": "2022-12-28T10:14:54.544Z"
   },
   {
    "duration": 169,
    "start_time": "2022-12-28T10:14:54.742Z"
   },
   {
    "duration": 176,
    "start_time": "2022-12-28T10:14:54.915Z"
   },
   {
    "duration": 513,
    "start_time": "2022-12-28T10:14:55.092Z"
   },
   {
    "duration": 172,
    "start_time": "2022-12-28T10:14:55.606Z"
   },
   {
    "duration": 190,
    "start_time": "2022-12-28T10:14:55.780Z"
   },
   {
    "duration": 210,
    "start_time": "2022-12-28T10:14:55.971Z"
   },
   {
    "duration": 341,
    "start_time": "2022-12-28T10:14:56.183Z"
   },
   {
    "duration": 182,
    "start_time": "2022-12-28T10:14:56.526Z"
   },
   {
    "duration": 164,
    "start_time": "2022-12-28T10:14:56.709Z"
   },
   {
    "duration": 181,
    "start_time": "2022-12-28T10:14:56.875Z"
   },
   {
    "duration": 163,
    "start_time": "2022-12-28T10:14:57.057Z"
   },
   {
    "duration": 197,
    "start_time": "2022-12-28T10:14:57.224Z"
   },
   {
    "duration": 174,
    "start_time": "2022-12-28T10:14:57.423Z"
   },
   {
    "duration": 433,
    "start_time": "2022-12-28T10:14:57.599Z"
   },
   {
    "duration": 215,
    "start_time": "2022-12-28T10:14:58.034Z"
   },
   {
    "duration": 299,
    "start_time": "2022-12-28T10:14:58.251Z"
   },
   {
    "duration": 164,
    "start_time": "2022-12-28T10:14:58.552Z"
   },
   {
    "duration": 199,
    "start_time": "2022-12-28T10:14:58.717Z"
   },
   {
    "duration": 178,
    "start_time": "2022-12-28T10:14:58.919Z"
   },
   {
    "duration": 219,
    "start_time": "2022-12-28T10:14:59.098Z"
   },
   {
    "duration": 137,
    "start_time": "2022-12-28T10:14:59.319Z"
   },
   {
    "duration": 453,
    "start_time": "2022-12-28T10:14:59.458Z"
   },
   {
    "duration": 26,
    "start_time": "2022-12-28T10:14:59.913Z"
   },
   {
    "duration": 3,
    "start_time": "2022-12-28T10:14:59.942Z"
   },
   {
    "duration": 210,
    "start_time": "2022-12-28T10:14:59.948Z"
   },
   {
    "duration": 1374,
    "start_time": "2022-12-28T10:52:31.757Z"
   },
   {
    "duration": 53,
    "start_time": "2022-12-28T10:52:33.133Z"
   },
   {
    "duration": 50,
    "start_time": "2022-12-28T10:52:33.189Z"
   },
   {
    "duration": 27,
    "start_time": "2022-12-28T10:52:33.242Z"
   },
   {
    "duration": 2202,
    "start_time": "2022-12-28T10:52:33.271Z"
   },
   {
    "duration": 12,
    "start_time": "2022-12-28T10:52:35.475Z"
   },
   {
    "duration": 70,
    "start_time": "2022-12-28T10:52:35.489Z"
   },
   {
    "duration": 56,
    "start_time": "2022-12-28T10:52:35.562Z"
   },
   {
    "duration": 14,
    "start_time": "2022-12-28T10:52:35.621Z"
   },
   {
    "duration": 50,
    "start_time": "2022-12-28T10:52:35.639Z"
   },
   {
    "duration": 59,
    "start_time": "2022-12-28T10:52:35.691Z"
   },
   {
    "duration": 36,
    "start_time": "2022-12-28T10:52:35.753Z"
   },
   {
    "duration": 36,
    "start_time": "2022-12-28T10:52:35.791Z"
   },
   {
    "duration": 40,
    "start_time": "2022-12-28T10:52:35.829Z"
   },
   {
    "duration": 41,
    "start_time": "2022-12-28T10:52:35.871Z"
   },
   {
    "duration": 32,
    "start_time": "2022-12-28T10:52:35.914Z"
   },
   {
    "duration": 34,
    "start_time": "2022-12-28T10:52:35.948Z"
   },
   {
    "duration": 27,
    "start_time": "2022-12-28T10:52:35.984Z"
   },
   {
    "duration": 29,
    "start_time": "2022-12-28T10:52:36.036Z"
   },
   {
    "duration": 31,
    "start_time": "2022-12-28T10:52:36.067Z"
   },
   {
    "duration": 43,
    "start_time": "2022-12-28T10:52:36.101Z"
   },
   {
    "duration": 27,
    "start_time": "2022-12-28T10:52:36.146Z"
   },
   {
    "duration": 4,
    "start_time": "2022-12-28T10:52:36.175Z"
   },
   {
    "duration": 26,
    "start_time": "2022-12-28T10:52:36.181Z"
   },
   {
    "duration": 28,
    "start_time": "2022-12-28T10:52:36.210Z"
   },
   {
    "duration": 30,
    "start_time": "2022-12-28T10:52:36.241Z"
   },
   {
    "duration": 22,
    "start_time": "2022-12-28T10:52:36.273Z"
   },
   {
    "duration": 16,
    "start_time": "2022-12-28T10:52:36.300Z"
   },
   {
    "duration": 20,
    "start_time": "2022-12-28T10:52:36.318Z"
   },
   {
    "duration": 6,
    "start_time": "2022-12-28T10:52:36.341Z"
   },
   {
    "duration": 11,
    "start_time": "2022-12-28T10:52:36.348Z"
   },
   {
    "duration": 22,
    "start_time": "2022-12-28T10:52:36.361Z"
   },
   {
    "duration": 21,
    "start_time": "2022-12-28T10:52:36.386Z"
   },
   {
    "duration": 46,
    "start_time": "2022-12-28T10:52:36.409Z"
   },
   {
    "duration": 16,
    "start_time": "2022-12-28T10:52:36.458Z"
   },
   {
    "duration": 36,
    "start_time": "2022-12-28T10:52:36.476Z"
   },
   {
    "duration": 160,
    "start_time": "2022-12-28T10:52:36.514Z"
   },
   {
    "duration": 38,
    "start_time": "2022-12-28T10:52:36.678Z"
   },
   {
    "duration": 88,
    "start_time": "2022-12-28T10:52:36.718Z"
   },
   {
    "duration": 499,
    "start_time": "2022-12-28T10:52:36.809Z"
   },
   {
    "duration": 42,
    "start_time": "2022-12-28T10:52:37.310Z"
   },
   {
    "duration": 34,
    "start_time": "2022-12-28T10:52:37.354Z"
   },
   {
    "duration": 201,
    "start_time": "2022-12-28T10:52:37.390Z"
   },
   {
    "duration": 184,
    "start_time": "2022-12-28T10:52:37.593Z"
   },
   {
    "duration": 246,
    "start_time": "2022-12-28T10:52:37.778Z"
   },
   {
    "duration": 444,
    "start_time": "2022-12-28T10:52:38.026Z"
   },
   {
    "duration": 165,
    "start_time": "2022-12-28T10:52:38.473Z"
   },
   {
    "duration": 184,
    "start_time": "2022-12-28T10:52:38.640Z"
   },
   {
    "duration": 186,
    "start_time": "2022-12-28T10:52:38.827Z"
   },
   {
    "duration": 304,
    "start_time": "2022-12-28T10:52:39.016Z"
   },
   {
    "duration": 174,
    "start_time": "2022-12-28T10:52:39.323Z"
   },
   {
    "duration": 273,
    "start_time": "2022-12-28T10:52:39.500Z"
   },
   {
    "duration": 199,
    "start_time": "2022-12-28T10:52:39.775Z"
   },
   {
    "duration": 179,
    "start_time": "2022-12-28T10:52:39.976Z"
   },
   {
    "duration": 214,
    "start_time": "2022-12-28T10:52:40.158Z"
   },
   {
    "duration": 175,
    "start_time": "2022-12-28T10:52:40.375Z"
   },
   {
    "duration": 268,
    "start_time": "2022-12-28T10:52:40.553Z"
   },
   {
    "duration": 200,
    "start_time": "2022-12-28T10:52:40.823Z"
   },
   {
    "duration": 295,
    "start_time": "2022-12-28T10:52:41.026Z"
   },
   {
    "duration": 261,
    "start_time": "2022-12-28T10:52:41.323Z"
   },
   {
    "duration": 205,
    "start_time": "2022-12-28T10:52:41.586Z"
   },
   {
    "duration": 181,
    "start_time": "2022-12-28T10:52:41.793Z"
   },
   {
    "duration": 224,
    "start_time": "2022-12-28T10:52:41.978Z"
   },
   {
    "duration": 171,
    "start_time": "2022-12-28T10:52:42.204Z"
   },
   {
    "duration": 658,
    "start_time": "2022-12-28T10:52:42.378Z"
   },
   {
    "duration": 25,
    "start_time": "2022-12-28T10:52:43.038Z"
   },
   {
    "duration": 3,
    "start_time": "2022-12-28T10:52:43.065Z"
   },
   {
    "duration": 229,
    "start_time": "2022-12-28T10:52:43.071Z"
   },
   {
    "duration": 839,
    "start_time": "2022-12-28T16:05:59.176Z"
   },
   {
    "duration": 46,
    "start_time": "2022-12-28T16:06:00.018Z"
   },
   {
    "duration": 34,
    "start_time": "2022-12-28T16:06:00.067Z"
   },
   {
    "duration": 36,
    "start_time": "2022-12-28T16:06:00.104Z"
   },
   {
    "duration": 2167,
    "start_time": "2022-12-28T16:06:00.142Z"
   },
   {
    "duration": 15,
    "start_time": "2022-12-28T16:06:02.311Z"
   },
   {
    "duration": 43,
    "start_time": "2022-12-28T16:06:02.327Z"
   },
   {
    "duration": 43,
    "start_time": "2022-12-28T16:06:02.372Z"
   },
   {
    "duration": 22,
    "start_time": "2022-12-28T16:06:02.417Z"
   },
   {
    "duration": 55,
    "start_time": "2022-12-28T16:06:02.442Z"
   },
   {
    "duration": 32,
    "start_time": "2022-12-28T16:06:02.498Z"
   },
   {
    "duration": 16,
    "start_time": "2022-12-28T16:06:02.538Z"
   },
   {
    "duration": 42,
    "start_time": "2022-12-28T16:06:02.555Z"
   },
   {
    "duration": 68,
    "start_time": "2022-12-28T16:06:02.599Z"
   },
   {
    "duration": 40,
    "start_time": "2022-12-28T16:06:02.668Z"
   },
   {
    "duration": 51,
    "start_time": "2022-12-28T16:06:02.710Z"
   },
   {
    "duration": 44,
    "start_time": "2022-12-28T16:06:02.762Z"
   },
   {
    "duration": 39,
    "start_time": "2022-12-28T16:06:02.807Z"
   },
   {
    "duration": 20,
    "start_time": "2022-12-28T16:06:02.848Z"
   },
   {
    "duration": 49,
    "start_time": "2022-12-28T16:06:02.870Z"
   },
   {
    "duration": 35,
    "start_time": "2022-12-28T16:06:02.921Z"
   },
   {
    "duration": 55,
    "start_time": "2022-12-28T16:06:02.958Z"
   },
   {
    "duration": 4,
    "start_time": "2022-12-28T16:06:03.015Z"
   },
   {
    "duration": 26,
    "start_time": "2022-12-28T16:06:03.021Z"
   },
   {
    "duration": 31,
    "start_time": "2022-12-28T16:06:03.049Z"
   },
   {
    "duration": 40,
    "start_time": "2022-12-28T16:06:03.082Z"
   },
   {
    "duration": 44,
    "start_time": "2022-12-28T16:06:03.124Z"
   },
   {
    "duration": 30,
    "start_time": "2022-12-28T16:06:03.172Z"
   },
   {
    "duration": 48,
    "start_time": "2022-12-28T16:06:03.204Z"
   },
   {
    "duration": 30,
    "start_time": "2022-12-28T16:06:03.253Z"
   },
   {
    "duration": 18,
    "start_time": "2022-12-28T16:06:03.284Z"
   },
   {
    "duration": 17,
    "start_time": "2022-12-28T16:06:03.304Z"
   },
   {
    "duration": 21,
    "start_time": "2022-12-28T16:06:03.323Z"
   },
   {
    "duration": 56,
    "start_time": "2022-12-28T16:06:03.345Z"
   },
   {
    "duration": 63,
    "start_time": "2022-12-28T16:06:03.403Z"
   },
   {
    "duration": 66,
    "start_time": "2022-12-28T16:06:03.468Z"
   },
   {
    "duration": 139,
    "start_time": "2022-12-28T16:06:03.536Z"
   },
   {
    "duration": 32,
    "start_time": "2022-12-28T16:06:03.676Z"
   },
   {
    "duration": 85,
    "start_time": "2022-12-28T16:06:03.710Z"
   },
   {
    "duration": 423,
    "start_time": "2022-12-28T16:06:03.797Z"
   },
   {
    "duration": 40,
    "start_time": "2022-12-28T16:06:04.221Z"
   },
   {
    "duration": 39,
    "start_time": "2022-12-28T16:06:04.263Z"
   },
   {
    "duration": 200,
    "start_time": "2022-12-28T16:06:04.304Z"
   },
   {
    "duration": 178,
    "start_time": "2022-12-28T16:06:04.505Z"
   },
   {
    "duration": 240,
    "start_time": "2022-12-28T16:06:04.685Z"
   },
   {
    "duration": 385,
    "start_time": "2022-12-28T16:06:04.927Z"
   },
   {
    "duration": 162,
    "start_time": "2022-12-28T16:06:05.314Z"
   },
   {
    "duration": 197,
    "start_time": "2022-12-28T16:06:05.478Z"
   },
   {
    "duration": 217,
    "start_time": "2022-12-28T16:06:05.677Z"
   },
   {
    "duration": 306,
    "start_time": "2022-12-28T16:06:05.896Z"
   },
   {
    "duration": 169,
    "start_time": "2022-12-28T16:06:06.204Z"
   },
   {
    "duration": 272,
    "start_time": "2022-12-28T16:06:06.375Z"
   },
   {
    "duration": 153,
    "start_time": "2022-12-28T16:06:06.649Z"
   },
   {
    "duration": 172,
    "start_time": "2022-12-28T16:06:06.804Z"
   },
   {
    "duration": 183,
    "start_time": "2022-12-28T16:06:06.979Z"
   },
   {
    "duration": 159,
    "start_time": "2022-12-28T16:06:07.164Z"
   },
   {
    "duration": 270,
    "start_time": "2022-12-28T16:06:07.326Z"
   },
   {
    "duration": 204,
    "start_time": "2022-12-28T16:06:07.598Z"
   },
   {
    "duration": 294,
    "start_time": "2022-12-28T16:06:07.804Z"
   },
   {
    "duration": 264,
    "start_time": "2022-12-28T16:06:08.101Z"
   },
   {
    "duration": 179,
    "start_time": "2022-12-28T16:06:08.367Z"
   },
   {
    "duration": 169,
    "start_time": "2022-12-28T16:06:08.548Z"
   },
   {
    "duration": 200,
    "start_time": "2022-12-28T16:06:08.731Z"
   },
   {
    "duration": 138,
    "start_time": "2022-12-28T16:06:08.933Z"
   },
   {
    "duration": 473,
    "start_time": "2022-12-28T16:06:09.073Z"
   },
   {
    "duration": 22,
    "start_time": "2022-12-28T16:06:09.548Z"
   },
   {
    "duration": 3,
    "start_time": "2022-12-28T16:06:09.572Z"
   },
   {
    "duration": 211,
    "start_time": "2022-12-28T16:06:09.576Z"
   },
   {
    "duration": 17,
    "start_time": "2022-12-28T16:17:26.005Z"
   },
   {
    "duration": 16,
    "start_time": "2022-12-28T16:18:14.989Z"
   },
   {
    "duration": 153,
    "start_time": "2022-12-28T16:18:25.646Z"
   },
   {
    "duration": 7,
    "start_time": "2022-12-28T16:19:02.714Z"
   },
   {
    "duration": 58,
    "start_time": "2022-12-28T16:29:23.248Z"
   },
   {
    "duration": 1022,
    "start_time": "2022-12-28T16:29:27.840Z"
   },
   {
    "duration": 4,
    "start_time": "2022-12-28T16:29:30.416Z"
   },
   {
    "duration": 2,
    "start_time": "2022-12-28T16:29:39.056Z"
   },
   {
    "duration": 100,
    "start_time": "2022-12-28T16:29:54.063Z"
   },
   {
    "duration": 5,
    "start_time": "2022-12-28T16:29:54.167Z"
   },
   {
    "duration": 89,
    "start_time": "2022-12-28T16:29:54.174Z"
   },
   {
    "duration": 27,
    "start_time": "2022-12-28T16:29:54.267Z"
   },
   {
    "duration": 2297,
    "start_time": "2022-12-28T16:29:54.296Z"
   },
   {
    "duration": 11,
    "start_time": "2022-12-28T16:29:56.594Z"
   },
   {
    "duration": 49,
    "start_time": "2022-12-28T16:29:56.607Z"
   },
   {
    "duration": 39,
    "start_time": "2022-12-28T16:29:56.658Z"
   },
   {
    "duration": 17,
    "start_time": "2022-12-28T16:29:56.699Z"
   },
   {
    "duration": 43,
    "start_time": "2022-12-28T16:29:56.719Z"
   },
   {
    "duration": 24,
    "start_time": "2022-12-28T16:29:56.764Z"
   },
   {
    "duration": 16,
    "start_time": "2022-12-28T16:29:56.790Z"
   },
   {
    "duration": 11,
    "start_time": "2022-12-28T16:29:56.808Z"
   },
   {
    "duration": 48,
    "start_time": "2022-12-28T16:29:56.821Z"
   },
   {
    "duration": 39,
    "start_time": "2022-12-28T16:29:56.871Z"
   },
   {
    "duration": 40,
    "start_time": "2022-12-28T16:29:56.912Z"
   },
   {
    "duration": 42,
    "start_time": "2022-12-28T16:29:56.954Z"
   },
   {
    "duration": 29,
    "start_time": "2022-12-28T16:29:56.998Z"
   },
   {
    "duration": 28,
    "start_time": "2022-12-28T16:29:57.029Z"
   },
   {
    "duration": 42,
    "start_time": "2022-12-28T16:29:57.059Z"
   },
   {
    "duration": 20,
    "start_time": "2022-12-28T16:29:57.103Z"
   },
   {
    "duration": 61,
    "start_time": "2022-12-28T16:29:57.125Z"
   },
   {
    "duration": 9,
    "start_time": "2022-12-28T16:29:57.188Z"
   },
   {
    "duration": 19,
    "start_time": "2022-12-28T16:29:57.199Z"
   },
   {
    "duration": 32,
    "start_time": "2022-12-28T16:29:57.220Z"
   },
   {
    "duration": 18,
    "start_time": "2022-12-28T16:29:57.254Z"
   },
   {
    "duration": 19,
    "start_time": "2022-12-28T16:29:57.273Z"
   },
   {
    "duration": 12,
    "start_time": "2022-12-28T16:29:57.296Z"
   },
   {
    "duration": 18,
    "start_time": "2022-12-28T16:29:57.310Z"
   },
   {
    "duration": 7,
    "start_time": "2022-12-28T16:29:57.330Z"
   },
   {
    "duration": 13,
    "start_time": "2022-12-28T16:29:57.338Z"
   },
   {
    "duration": 13,
    "start_time": "2022-12-28T16:29:57.353Z"
   },
   {
    "duration": 16,
    "start_time": "2022-12-28T16:29:57.367Z"
   },
   {
    "duration": 29,
    "start_time": "2022-12-28T16:29:57.384Z"
   },
   {
    "duration": 18,
    "start_time": "2022-12-28T16:29:57.415Z"
   },
   {
    "duration": 27,
    "start_time": "2022-12-28T16:29:57.434Z"
   },
   {
    "duration": 105,
    "start_time": "2022-12-28T16:29:57.463Z"
   },
   {
    "duration": 29,
    "start_time": "2022-12-28T16:29:57.571Z"
   },
   {
    "duration": 71,
    "start_time": "2022-12-28T16:29:57.602Z"
   },
   {
    "duration": 387,
    "start_time": "2022-12-28T16:29:57.675Z"
   },
   {
    "duration": 30,
    "start_time": "2022-12-28T16:29:58.064Z"
   },
   {
    "duration": 58,
    "start_time": "2022-12-28T16:29:58.095Z"
   },
   {
    "duration": 209,
    "start_time": "2022-12-28T16:29:58.155Z"
   },
   {
    "duration": 205,
    "start_time": "2022-12-28T16:29:58.365Z"
   },
   {
    "duration": 252,
    "start_time": "2022-12-28T16:29:58.572Z"
   },
   {
    "duration": 413,
    "start_time": "2022-12-28T16:29:58.826Z"
   },
   {
    "duration": 165,
    "start_time": "2022-12-28T16:29:59.241Z"
   },
   {
    "duration": 199,
    "start_time": "2022-12-28T16:29:59.408Z"
   },
   {
    "duration": 222,
    "start_time": "2022-12-28T16:29:59.609Z"
   },
   {
    "duration": 326,
    "start_time": "2022-12-28T16:29:59.834Z"
   },
   {
    "duration": 182,
    "start_time": "2022-12-28T16:30:00.161Z"
   },
   {
    "duration": 277,
    "start_time": "2022-12-28T16:30:00.345Z"
   },
   {
    "duration": 194,
    "start_time": "2022-12-28T16:30:00.625Z"
   },
   {
    "duration": 171,
    "start_time": "2022-12-28T16:30:00.821Z"
   },
   {
    "duration": 187,
    "start_time": "2022-12-28T16:30:00.997Z"
   },
   {
    "duration": 167,
    "start_time": "2022-12-28T16:30:01.186Z"
   },
   {
    "duration": 284,
    "start_time": "2022-12-28T16:30:01.355Z"
   },
   {
    "duration": 216,
    "start_time": "2022-12-28T16:30:01.641Z"
   },
   {
    "duration": 279,
    "start_time": "2022-12-28T16:30:01.858Z"
   },
   {
    "duration": 286,
    "start_time": "2022-12-28T16:30:02.139Z"
   },
   {
    "duration": 197,
    "start_time": "2022-12-28T16:30:02.427Z"
   },
   {
    "duration": 204,
    "start_time": "2022-12-28T16:30:02.626Z"
   },
   {
    "duration": 229,
    "start_time": "2022-12-28T16:30:02.832Z"
   },
   {
    "duration": 162,
    "start_time": "2022-12-28T16:30:03.063Z"
   },
   {
    "duration": 514,
    "start_time": "2022-12-28T16:30:03.227Z"
   },
   {
    "duration": 27,
    "start_time": "2022-12-28T16:30:03.743Z"
   },
   {
    "duration": 7,
    "start_time": "2022-12-28T16:30:03.772Z"
   },
   {
    "duration": 226,
    "start_time": "2022-12-28T16:30:03.781Z"
   },
   {
    "duration": 50,
    "start_time": "2022-12-28T16:30:15.545Z"
   },
   {
    "duration": 106,
    "start_time": "2022-12-28T16:30:18.612Z"
   },
   {
    "duration": 98,
    "start_time": "2022-12-28T16:30:35.426Z"
   },
   {
    "duration": 53,
    "start_time": "2022-12-28T16:30:35.526Z"
   },
   {
    "duration": 76,
    "start_time": "2022-12-28T16:30:35.581Z"
   },
   {
    "duration": 43,
    "start_time": "2022-12-28T16:30:35.660Z"
   },
   {
    "duration": 2145,
    "start_time": "2022-12-28T16:30:35.705Z"
   },
   {
    "duration": 12,
    "start_time": "2022-12-28T16:30:37.852Z"
   },
   {
    "duration": 46,
    "start_time": "2022-12-28T16:30:37.866Z"
   },
   {
    "duration": 46,
    "start_time": "2022-12-28T16:30:37.914Z"
   },
   {
    "duration": 19,
    "start_time": "2022-12-28T16:30:37.962Z"
   },
   {
    "duration": 18,
    "start_time": "2022-12-28T16:30:37.985Z"
   },
   {
    "duration": 51,
    "start_time": "2022-12-28T16:30:38.005Z"
   },
   {
    "duration": 16,
    "start_time": "2022-12-28T16:30:38.059Z"
   },
   {
    "duration": 23,
    "start_time": "2022-12-28T16:30:38.077Z"
   },
   {
    "duration": 27,
    "start_time": "2022-12-28T16:30:38.102Z"
   },
   {
    "duration": 62,
    "start_time": "2022-12-28T16:30:38.131Z"
   },
   {
    "duration": 54,
    "start_time": "2022-12-28T16:30:38.195Z"
   },
   {
    "duration": 59,
    "start_time": "2022-12-28T16:30:38.251Z"
   },
   {
    "duration": 21,
    "start_time": "2022-12-28T16:30:38.313Z"
   },
   {
    "duration": 28,
    "start_time": "2022-12-28T16:30:38.336Z"
   },
   {
    "duration": 37,
    "start_time": "2022-12-28T16:30:38.366Z"
   },
   {
    "duration": 31,
    "start_time": "2022-12-28T16:30:38.405Z"
   },
   {
    "duration": 39,
    "start_time": "2022-12-28T16:30:38.438Z"
   },
   {
    "duration": 6,
    "start_time": "2022-12-28T16:30:38.479Z"
   },
   {
    "duration": 8,
    "start_time": "2022-12-28T16:30:38.487Z"
   },
   {
    "duration": 10,
    "start_time": "2022-12-28T16:30:38.497Z"
   },
   {
    "duration": 11,
    "start_time": "2022-12-28T16:30:38.509Z"
   },
   {
    "duration": 30,
    "start_time": "2022-12-28T16:30:38.523Z"
   },
   {
    "duration": 8,
    "start_time": "2022-12-28T16:30:38.557Z"
   },
   {
    "duration": 8,
    "start_time": "2022-12-28T16:30:38.567Z"
   },
   {
    "duration": 3,
    "start_time": "2022-12-28T16:30:38.577Z"
   },
   {
    "duration": 6,
    "start_time": "2022-12-28T16:30:38.581Z"
   },
   {
    "duration": 8,
    "start_time": "2022-12-28T16:30:38.589Z"
   },
   {
    "duration": 9,
    "start_time": "2022-12-28T16:30:38.599Z"
   },
   {
    "duration": 46,
    "start_time": "2022-12-28T16:30:38.610Z"
   },
   {
    "duration": 6,
    "start_time": "2022-12-28T16:30:38.657Z"
   },
   {
    "duration": 23,
    "start_time": "2022-12-28T16:30:38.665Z"
   },
   {
    "duration": 114,
    "start_time": "2022-12-28T16:30:38.690Z"
   },
   {
    "duration": 45,
    "start_time": "2022-12-28T16:30:38.806Z"
   },
   {
    "duration": 50,
    "start_time": "2022-12-28T16:30:38.853Z"
   },
   {
    "duration": 407,
    "start_time": "2022-12-28T16:30:38.904Z"
   },
   {
    "duration": 39,
    "start_time": "2022-12-28T16:30:39.313Z"
   },
   {
    "duration": 45,
    "start_time": "2022-12-28T16:30:39.354Z"
   },
   {
    "duration": 256,
    "start_time": "2022-12-28T16:30:39.401Z"
   },
   {
    "duration": 377,
    "start_time": "2022-12-28T16:30:39.660Z"
   },
   {
    "duration": 196,
    "start_time": "2022-12-28T16:30:40.041Z"
   },
   {
    "duration": 413,
    "start_time": "2022-12-28T16:30:40.239Z"
   },
   {
    "duration": 172,
    "start_time": "2022-12-28T16:30:40.654Z"
   },
   {
    "duration": 186,
    "start_time": "2022-12-28T16:30:40.828Z"
   },
   {
    "duration": 195,
    "start_time": "2022-12-28T16:30:41.016Z"
   },
   {
    "duration": 283,
    "start_time": "2022-12-28T16:30:41.213Z"
   },
   {
    "duration": 309,
    "start_time": "2022-12-28T16:30:41.497Z"
   },
   {
    "duration": 183,
    "start_time": "2022-12-28T16:30:41.808Z"
   },
   {
    "duration": 173,
    "start_time": "2022-12-28T16:30:41.993Z"
   },
   {
    "duration": 174,
    "start_time": "2022-12-28T16:30:42.169Z"
   },
   {
    "duration": 185,
    "start_time": "2022-12-28T16:30:42.345Z"
   },
   {
    "duration": 166,
    "start_time": "2022-12-28T16:30:42.532Z"
   },
   {
    "duration": 276,
    "start_time": "2022-12-28T16:30:42.700Z"
   },
   {
    "duration": 200,
    "start_time": "2022-12-28T16:30:42.978Z"
   },
   {
    "duration": 280,
    "start_time": "2022-12-28T16:30:43.179Z"
   },
   {
    "duration": 303,
    "start_time": "2022-12-28T16:30:43.461Z"
   },
   {
    "duration": 191,
    "start_time": "2022-12-28T16:30:43.766Z"
   },
   {
    "duration": 181,
    "start_time": "2022-12-28T16:30:43.959Z"
   },
   {
    "duration": 260,
    "start_time": "2022-12-28T16:30:44.142Z"
   },
   {
    "duration": 211,
    "start_time": "2022-12-28T16:30:44.404Z"
   },
   {
    "duration": 507,
    "start_time": "2022-12-28T16:30:44.617Z"
   },
   {
    "duration": 34,
    "start_time": "2022-12-28T16:30:45.126Z"
   },
   {
    "duration": 14,
    "start_time": "2022-12-28T16:30:45.162Z"
   },
   {
    "duration": 252,
    "start_time": "2022-12-28T16:30:45.178Z"
   },
   {
    "duration": 3014,
    "start_time": "2022-12-28T16:32:40.601Z"
   },
   {
    "duration": 74,
    "start_time": "2022-12-28T16:40:22.581Z"
   },
   {
    "duration": 189,
    "start_time": "2022-12-28T16:40:27.630Z"
   },
   {
    "duration": 57,
    "start_time": "2022-12-28T16:41:09.154Z"
   },
   {
    "duration": 50,
    "start_time": "2022-12-28T16:41:34.161Z"
   },
   {
    "duration": 758,
    "start_time": "2022-12-28T17:37:13.364Z"
   },
   {
    "duration": 115,
    "start_time": "2022-12-28T17:37:14.124Z"
   },
   {
    "duration": 40,
    "start_time": "2022-12-28T17:37:14.240Z"
   },
   {
    "duration": 33,
    "start_time": "2022-12-28T17:37:14.282Z"
   },
   {
    "duration": 37,
    "start_time": "2022-12-28T17:37:14.317Z"
   },
   {
    "duration": 2296,
    "start_time": "2022-12-28T17:37:14.356Z"
   },
   {
    "duration": 11,
    "start_time": "2022-12-28T17:37:16.654Z"
   },
   {
    "duration": 34,
    "start_time": "2022-12-28T17:37:16.667Z"
   },
   {
    "duration": 29,
    "start_time": "2022-12-28T17:37:16.704Z"
   },
   {
    "duration": 17,
    "start_time": "2022-12-28T17:37:16.752Z"
   },
   {
    "duration": 26,
    "start_time": "2022-12-28T17:37:16.771Z"
   },
   {
    "duration": 23,
    "start_time": "2022-12-28T17:37:16.798Z"
   },
   {
    "duration": 47,
    "start_time": "2022-12-28T17:37:16.823Z"
   },
   {
    "duration": 11,
    "start_time": "2022-12-28T17:37:16.872Z"
   },
   {
    "duration": 31,
    "start_time": "2022-12-28T17:37:16.886Z"
   },
   {
    "duration": 43,
    "start_time": "2022-12-28T17:37:16.919Z"
   },
   {
    "duration": 37,
    "start_time": "2022-12-28T17:37:16.965Z"
   },
   {
    "duration": 33,
    "start_time": "2022-12-28T17:37:17.004Z"
   },
   {
    "duration": 29,
    "start_time": "2022-12-28T17:37:17.039Z"
   },
   {
    "duration": 18,
    "start_time": "2022-12-28T17:37:17.070Z"
   },
   {
    "duration": 31,
    "start_time": "2022-12-28T17:37:17.090Z"
   },
   {
    "duration": 19,
    "start_time": "2022-12-28T17:37:17.152Z"
   },
   {
    "duration": 27,
    "start_time": "2022-12-28T17:37:17.173Z"
   },
   {
    "duration": 5,
    "start_time": "2022-12-28T17:37:17.202Z"
   },
   {
    "duration": 15,
    "start_time": "2022-12-28T17:37:17.209Z"
   },
   {
    "duration": 31,
    "start_time": "2022-12-28T17:37:17.225Z"
   },
   {
    "duration": 6,
    "start_time": "2022-12-28T17:37:17.258Z"
   },
   {
    "duration": 5,
    "start_time": "2022-12-28T17:37:17.269Z"
   },
   {
    "duration": 9,
    "start_time": "2022-12-28T17:37:17.276Z"
   },
   {
    "duration": 7,
    "start_time": "2022-12-28T17:37:17.287Z"
   },
   {
    "duration": 3,
    "start_time": "2022-12-28T17:37:17.295Z"
   },
   {
    "duration": 5,
    "start_time": "2022-12-28T17:37:17.300Z"
   },
   {
    "duration": 45,
    "start_time": "2022-12-28T17:37:17.307Z"
   },
   {
    "duration": 6,
    "start_time": "2022-12-28T17:37:17.354Z"
   },
   {
    "duration": 21,
    "start_time": "2022-12-28T17:37:17.362Z"
   },
   {
    "duration": 7,
    "start_time": "2022-12-28T17:37:17.385Z"
   },
   {
    "duration": 11,
    "start_time": "2022-12-28T17:37:17.394Z"
   },
   {
    "duration": 131,
    "start_time": "2022-12-28T17:37:17.407Z"
   },
   {
    "duration": 40,
    "start_time": "2022-12-28T17:37:17.539Z"
   },
   {
    "duration": 73,
    "start_time": "2022-12-28T17:37:17.582Z"
   },
   {
    "duration": 396,
    "start_time": "2022-12-28T17:37:17.657Z"
   },
   {
    "duration": 38,
    "start_time": "2022-12-28T17:37:18.055Z"
   },
   {
    "duration": 75,
    "start_time": "2022-12-28T17:37:18.095Z"
   },
   {
    "duration": 198,
    "start_time": "2022-12-28T17:37:18.172Z"
   },
   {
    "duration": 182,
    "start_time": "2022-12-28T17:37:18.372Z"
   },
   {
    "duration": 265,
    "start_time": "2022-12-28T17:37:18.556Z"
   },
   {
    "duration": 406,
    "start_time": "2022-12-28T17:37:18.823Z"
   },
   {
    "duration": 158,
    "start_time": "2022-12-28T17:37:19.232Z"
   },
   {
    "duration": 194,
    "start_time": "2022-12-28T17:37:19.391Z"
   },
   {
    "duration": 249,
    "start_time": "2022-12-28T17:37:19.587Z"
   },
   {
    "duration": 292,
    "start_time": "2022-12-28T17:37:19.838Z"
   },
   {
    "duration": 171,
    "start_time": "2022-12-28T17:37:20.132Z"
   },
   {
    "duration": 248,
    "start_time": "2022-12-28T17:37:20.305Z"
   },
   {
    "duration": 196,
    "start_time": "2022-12-28T17:37:20.555Z"
   },
   {
    "duration": 174,
    "start_time": "2022-12-28T17:37:20.753Z"
   },
   {
    "duration": 188,
    "start_time": "2022-12-28T17:37:20.930Z"
   },
   {
    "duration": 168,
    "start_time": "2022-12-28T17:37:21.121Z"
   },
   {
    "duration": 292,
    "start_time": "2022-12-28T17:37:21.291Z"
   },
   {
    "duration": 199,
    "start_time": "2022-12-28T17:37:21.585Z"
   },
   {
    "duration": 277,
    "start_time": "2022-12-28T17:37:21.787Z"
   },
   {
    "duration": 254,
    "start_time": "2022-12-28T17:37:22.065Z"
   },
   {
    "duration": 194,
    "start_time": "2022-12-28T17:37:22.321Z"
   },
   {
    "duration": 179,
    "start_time": "2022-12-28T17:37:22.517Z"
   },
   {
    "duration": 226,
    "start_time": "2022-12-28T17:37:22.698Z"
   },
   {
    "duration": 148,
    "start_time": "2022-12-28T17:37:22.926Z"
   },
   {
    "duration": 469,
    "start_time": "2022-12-28T17:37:23.077Z"
   },
   {
    "duration": 26,
    "start_time": "2022-12-28T17:37:23.550Z"
   },
   {
    "duration": 3,
    "start_time": "2022-12-28T17:37:23.578Z"
   },
   {
    "duration": 216,
    "start_time": "2022-12-28T17:37:23.583Z"
   },
   {
    "duration": 694,
    "start_time": "2022-12-28T19:20:02.418Z"
   },
   {
    "duration": 95,
    "start_time": "2022-12-28T19:20:03.114Z"
   },
   {
    "duration": 42,
    "start_time": "2022-12-28T19:20:03.210Z"
   },
   {
    "duration": 50,
    "start_time": "2022-12-28T19:20:03.254Z"
   },
   {
    "duration": 16,
    "start_time": "2022-12-28T19:20:03.305Z"
   },
   {
    "duration": 2009,
    "start_time": "2022-12-28T19:20:03.322Z"
   },
   {
    "duration": 14,
    "start_time": "2022-12-28T19:20:05.333Z"
   },
   {
    "duration": 45,
    "start_time": "2022-12-28T19:20:05.349Z"
   },
   {
    "duration": 24,
    "start_time": "2022-12-28T19:20:05.395Z"
   },
   {
    "duration": 17,
    "start_time": "2022-12-28T19:20:05.421Z"
   },
   {
    "duration": 31,
    "start_time": "2022-12-28T19:20:05.441Z"
   },
   {
    "duration": 21,
    "start_time": "2022-12-28T19:20:05.474Z"
   },
   {
    "duration": 14,
    "start_time": "2022-12-28T19:20:05.497Z"
   },
   {
    "duration": 14,
    "start_time": "2022-12-28T19:20:05.513Z"
   },
   {
    "duration": 55,
    "start_time": "2022-12-28T19:20:05.531Z"
   },
   {
    "duration": 29,
    "start_time": "2022-12-28T19:20:05.588Z"
   },
   {
    "duration": 40,
    "start_time": "2022-12-28T19:20:05.619Z"
   },
   {
    "duration": 51,
    "start_time": "2022-12-28T19:20:05.662Z"
   },
   {
    "duration": 29,
    "start_time": "2022-12-28T19:20:05.714Z"
   },
   {
    "duration": 38,
    "start_time": "2022-12-28T19:20:05.745Z"
   },
   {
    "duration": 30,
    "start_time": "2022-12-28T19:20:05.785Z"
   },
   {
    "duration": 21,
    "start_time": "2022-12-28T19:20:05.817Z"
   },
   {
    "duration": 65,
    "start_time": "2022-12-28T19:20:05.840Z"
   },
   {
    "duration": 4,
    "start_time": "2022-12-28T19:20:05.907Z"
   },
   {
    "duration": 11,
    "start_time": "2022-12-28T19:20:05.913Z"
   },
   {
    "duration": 26,
    "start_time": "2022-12-28T19:20:05.931Z"
   },
   {
    "duration": 12,
    "start_time": "2022-12-28T19:20:05.961Z"
   },
   {
    "duration": 5,
    "start_time": "2022-12-28T19:20:05.976Z"
   },
   {
    "duration": 9,
    "start_time": "2022-12-28T19:20:05.982Z"
   },
   {
    "duration": 7,
    "start_time": "2022-12-28T19:20:05.993Z"
   },
   {
    "duration": 2,
    "start_time": "2022-12-28T19:20:06.001Z"
   },
   {
    "duration": 5,
    "start_time": "2022-12-28T19:20:06.004Z"
   },
   {
    "duration": 13,
    "start_time": "2022-12-28T19:20:06.011Z"
   },
   {
    "duration": 27,
    "start_time": "2022-12-28T19:20:06.025Z"
   },
   {
    "duration": 15,
    "start_time": "2022-12-28T19:20:06.053Z"
   },
   {
    "duration": 5,
    "start_time": "2022-12-28T19:20:06.069Z"
   },
   {
    "duration": 11,
    "start_time": "2022-12-28T19:20:06.076Z"
   },
   {
    "duration": 84,
    "start_time": "2022-12-28T19:20:06.088Z"
   },
   {
    "duration": 26,
    "start_time": "2022-12-28T19:20:06.174Z"
   },
   {
    "duration": 76,
    "start_time": "2022-12-28T19:20:06.202Z"
   },
   {
    "duration": 365,
    "start_time": "2022-12-28T19:20:06.279Z"
   },
   {
    "duration": 30,
    "start_time": "2022-12-28T19:20:06.652Z"
   },
   {
    "duration": 34,
    "start_time": "2022-12-28T19:20:06.684Z"
   },
   {
    "duration": 182,
    "start_time": "2022-12-28T19:20:06.719Z"
   },
   {
    "duration": 167,
    "start_time": "2022-12-28T19:20:06.902Z"
   },
   {
    "duration": 241,
    "start_time": "2022-12-28T19:20:07.071Z"
   },
   {
    "duration": 350,
    "start_time": "2022-12-28T19:20:07.314Z"
   },
   {
    "duration": 137,
    "start_time": "2022-12-28T19:20:07.665Z"
   },
   {
    "duration": 168,
    "start_time": "2022-12-28T19:20:07.804Z"
   },
   {
    "duration": 178,
    "start_time": "2022-12-28T19:20:07.973Z"
   },
   {
    "duration": 270,
    "start_time": "2022-12-28T19:20:08.154Z"
   },
   {
    "duration": 166,
    "start_time": "2022-12-28T19:20:08.426Z"
   },
   {
    "duration": 250,
    "start_time": "2022-12-28T19:20:08.593Z"
   },
   {
    "duration": 146,
    "start_time": "2022-12-28T19:20:08.848Z"
   },
   {
    "duration": 147,
    "start_time": "2022-12-28T19:20:08.996Z"
   },
   {
    "duration": 163,
    "start_time": "2022-12-28T19:20:09.145Z"
   },
   {
    "duration": 155,
    "start_time": "2022-12-28T19:20:09.310Z"
   },
   {
    "duration": 289,
    "start_time": "2022-12-28T19:20:09.468Z"
   },
   {
    "duration": 208,
    "start_time": "2022-12-28T19:20:09.759Z"
   },
   {
    "duration": 254,
    "start_time": "2022-12-28T19:20:09.968Z"
   },
   {
    "duration": 242,
    "start_time": "2022-12-28T19:20:10.225Z"
   },
   {
    "duration": 187,
    "start_time": "2022-12-28T19:20:10.468Z"
   },
   {
    "duration": 160,
    "start_time": "2022-12-28T19:20:10.657Z"
   },
   {
    "duration": 185,
    "start_time": "2022-12-28T19:20:10.836Z"
   },
   {
    "duration": 146,
    "start_time": "2022-12-28T19:20:11.022Z"
   },
   {
    "duration": 481,
    "start_time": "2022-12-28T19:20:11.170Z"
   },
   {
    "duration": 28,
    "start_time": "2022-12-28T19:20:11.654Z"
   },
   {
    "duration": 2,
    "start_time": "2022-12-28T19:20:11.684Z"
   },
   {
    "duration": 201,
    "start_time": "2022-12-28T19:20:11.687Z"
   },
   {
    "duration": 48,
    "start_time": "2023-01-24T17:25:22.296Z"
   },
   {
    "duration": 582,
    "start_time": "2023-01-24T17:25:25.764Z"
   },
   {
    "duration": 139,
    "start_time": "2023-01-24T17:25:27.784Z"
   },
   {
    "duration": 124,
    "start_time": "2023-01-24T17:26:58.780Z"
   },
   {
    "duration": 89,
    "start_time": "2023-01-24T17:27:04.189Z"
   },
   {
    "duration": 637,
    "start_time": "2023-03-03T04:50:30.291Z"
   },
   {
    "duration": 303,
    "start_time": "2023-03-03T04:50:30.930Z"
   },
   {
    "duration": 29,
    "start_time": "2023-03-03T04:50:31.234Z"
   },
   {
    "duration": 44,
    "start_time": "2023-03-03T04:50:31.265Z"
   },
   {
    "duration": 24,
    "start_time": "2023-03-03T04:50:31.312Z"
   },
   {
    "duration": 1739,
    "start_time": "2023-03-03T04:50:31.339Z"
   },
   {
    "duration": 11,
    "start_time": "2023-03-03T04:50:33.080Z"
   },
   {
    "duration": 35,
    "start_time": "2023-03-03T04:50:33.092Z"
   },
   {
    "duration": 81,
    "start_time": "2023-03-03T04:50:33.129Z"
   },
   {
    "duration": 0,
    "start_time": "2023-03-03T04:50:33.214Z"
   },
   {
    "duration": 0,
    "start_time": "2023-03-03T04:50:33.216Z"
   },
   {
    "duration": 0,
    "start_time": "2023-03-03T04:50:33.217Z"
   },
   {
    "duration": 0,
    "start_time": "2023-03-03T04:50:33.218Z"
   },
   {
    "duration": 0,
    "start_time": "2023-03-03T04:50:33.219Z"
   },
   {
    "duration": 0,
    "start_time": "2023-03-03T04:50:33.221Z"
   },
   {
    "duration": 0,
    "start_time": "2023-03-03T04:50:33.222Z"
   },
   {
    "duration": 0,
    "start_time": "2023-03-03T04:50:33.224Z"
   },
   {
    "duration": 0,
    "start_time": "2023-03-03T04:50:33.225Z"
   },
   {
    "duration": 0,
    "start_time": "2023-03-03T04:50:33.226Z"
   },
   {
    "duration": 0,
    "start_time": "2023-03-03T04:50:33.228Z"
   },
   {
    "duration": 0,
    "start_time": "2023-03-03T04:50:33.248Z"
   },
   {
    "duration": 0,
    "start_time": "2023-03-03T04:50:33.250Z"
   },
   {
    "duration": 0,
    "start_time": "2023-03-03T04:50:33.251Z"
   },
   {
    "duration": 0,
    "start_time": "2023-03-03T04:50:33.252Z"
   },
   {
    "duration": 0,
    "start_time": "2023-03-03T04:50:33.254Z"
   },
   {
    "duration": 0,
    "start_time": "2023-03-03T04:50:33.255Z"
   },
   {
    "duration": 0,
    "start_time": "2023-03-03T04:50:33.257Z"
   },
   {
    "duration": 0,
    "start_time": "2023-03-03T04:50:33.258Z"
   },
   {
    "duration": 0,
    "start_time": "2023-03-03T04:50:33.259Z"
   },
   {
    "duration": 0,
    "start_time": "2023-03-03T04:50:33.260Z"
   },
   {
    "duration": 0,
    "start_time": "2023-03-03T04:50:33.261Z"
   },
   {
    "duration": 0,
    "start_time": "2023-03-03T04:50:33.263Z"
   },
   {
    "duration": 0,
    "start_time": "2023-03-03T04:50:33.265Z"
   },
   {
    "duration": 0,
    "start_time": "2023-03-03T04:50:33.268Z"
   },
   {
    "duration": 0,
    "start_time": "2023-03-03T04:50:33.270Z"
   },
   {
    "duration": 0,
    "start_time": "2023-03-03T04:50:33.271Z"
   },
   {
    "duration": 0,
    "start_time": "2023-03-03T04:50:33.272Z"
   },
   {
    "duration": 0,
    "start_time": "2023-03-03T04:50:33.274Z"
   },
   {
    "duration": 0,
    "start_time": "2023-03-03T04:50:33.275Z"
   },
   {
    "duration": 0,
    "start_time": "2023-03-03T04:50:33.277Z"
   },
   {
    "duration": 0,
    "start_time": "2023-03-03T04:50:33.278Z"
   },
   {
    "duration": 0,
    "start_time": "2023-03-03T04:50:33.279Z"
   },
   {
    "duration": 0,
    "start_time": "2023-03-03T04:50:33.281Z"
   },
   {
    "duration": 0,
    "start_time": "2023-03-03T04:50:33.282Z"
   },
   {
    "duration": 0,
    "start_time": "2023-03-03T04:50:33.284Z"
   },
   {
    "duration": 0,
    "start_time": "2023-03-03T04:50:33.285Z"
   },
   {
    "duration": 0,
    "start_time": "2023-03-03T04:50:33.286Z"
   },
   {
    "duration": 0,
    "start_time": "2023-03-03T04:50:33.288Z"
   },
   {
    "duration": 0,
    "start_time": "2023-03-03T04:50:33.289Z"
   },
   {
    "duration": 0,
    "start_time": "2023-03-03T04:50:33.290Z"
   },
   {
    "duration": 0,
    "start_time": "2023-03-03T04:50:33.291Z"
   },
   {
    "duration": 1,
    "start_time": "2023-03-03T04:50:33.291Z"
   },
   {
    "duration": 0,
    "start_time": "2023-03-03T04:50:33.292Z"
   },
   {
    "duration": 0,
    "start_time": "2023-03-03T04:50:33.350Z"
   },
   {
    "duration": 0,
    "start_time": "2023-03-03T04:50:33.351Z"
   },
   {
    "duration": 0,
    "start_time": "2023-03-03T04:50:33.352Z"
   },
   {
    "duration": 0,
    "start_time": "2023-03-03T04:50:33.353Z"
   },
   {
    "duration": 0,
    "start_time": "2023-03-03T04:50:33.354Z"
   },
   {
    "duration": 0,
    "start_time": "2023-03-03T04:50:33.355Z"
   },
   {
    "duration": 0,
    "start_time": "2023-03-03T04:50:33.356Z"
   },
   {
    "duration": 0,
    "start_time": "2023-03-03T04:50:33.357Z"
   },
   {
    "duration": 0,
    "start_time": "2023-03-03T04:50:33.358Z"
   },
   {
    "duration": 0,
    "start_time": "2023-03-03T04:50:33.359Z"
   },
   {
    "duration": 0,
    "start_time": "2023-03-03T04:50:33.360Z"
   },
   {
    "duration": 0,
    "start_time": "2023-03-03T04:50:33.361Z"
   },
   {
    "duration": 0,
    "start_time": "2023-03-03T04:50:33.361Z"
   },
   {
    "duration": 0,
    "start_time": "2023-03-03T04:50:33.362Z"
   },
   {
    "duration": 0,
    "start_time": "2023-03-03T04:50:33.363Z"
   },
   {
    "duration": 0,
    "start_time": "2023-03-03T04:50:33.364Z"
   },
   {
    "duration": 16,
    "start_time": "2023-03-03T04:51:17.833Z"
   },
   {
    "duration": 51,
    "start_time": "2023-04-26T17:35:33.366Z"
   },
   {
    "duration": 650,
    "start_time": "2023-04-26T17:35:38.659Z"
   },
   {
    "duration": 154,
    "start_time": "2023-04-26T17:35:39.310Z"
   },
   {
    "duration": 30,
    "start_time": "2023-04-26T17:35:39.465Z"
   },
   {
    "duration": 28,
    "start_time": "2023-04-26T17:35:39.497Z"
   },
   {
    "duration": 16,
    "start_time": "2023-04-26T17:35:39.527Z"
   },
   {
    "duration": 2076,
    "start_time": "2023-04-26T17:35:39.545Z"
   },
   {
    "duration": 10,
    "start_time": "2023-04-26T17:35:41.623Z"
   },
   {
    "duration": 27,
    "start_time": "2023-04-26T17:35:41.635Z"
   },
   {
    "duration": 80,
    "start_time": "2023-04-26T17:35:41.664Z"
   },
   {
    "duration": 0,
    "start_time": "2023-04-26T17:35:41.747Z"
   },
   {
    "duration": 0,
    "start_time": "2023-04-26T17:35:41.749Z"
   },
   {
    "duration": 0,
    "start_time": "2023-04-26T17:35:41.750Z"
   },
   {
    "duration": 0,
    "start_time": "2023-04-26T17:35:41.751Z"
   },
   {
    "duration": 0,
    "start_time": "2023-04-26T17:35:41.752Z"
   },
   {
    "duration": 0,
    "start_time": "2023-04-26T17:35:41.758Z"
   },
   {
    "duration": 0,
    "start_time": "2023-04-26T17:35:41.759Z"
   },
   {
    "duration": 0,
    "start_time": "2023-04-26T17:35:41.761Z"
   },
   {
    "duration": 0,
    "start_time": "2023-04-26T17:35:41.762Z"
   },
   {
    "duration": 0,
    "start_time": "2023-04-26T17:35:41.763Z"
   },
   {
    "duration": 0,
    "start_time": "2023-04-26T17:35:41.764Z"
   },
   {
    "duration": 0,
    "start_time": "2023-04-26T17:35:41.766Z"
   },
   {
    "duration": 0,
    "start_time": "2023-04-26T17:35:41.768Z"
   },
   {
    "duration": 0,
    "start_time": "2023-04-26T17:35:41.769Z"
   },
   {
    "duration": 0,
    "start_time": "2023-04-26T17:35:41.770Z"
   },
   {
    "duration": 0,
    "start_time": "2023-04-26T17:35:41.770Z"
   },
   {
    "duration": 0,
    "start_time": "2023-04-26T17:35:41.772Z"
   },
   {
    "duration": 0,
    "start_time": "2023-04-26T17:35:41.774Z"
   },
   {
    "duration": 0,
    "start_time": "2023-04-26T17:35:41.776Z"
   },
   {
    "duration": 0,
    "start_time": "2023-04-26T17:35:41.777Z"
   },
   {
    "duration": 0,
    "start_time": "2023-04-26T17:35:41.778Z"
   },
   {
    "duration": 0,
    "start_time": "2023-04-26T17:35:41.779Z"
   },
   {
    "duration": 0,
    "start_time": "2023-04-26T17:35:41.781Z"
   },
   {
    "duration": 0,
    "start_time": "2023-04-26T17:35:41.782Z"
   },
   {
    "duration": 0,
    "start_time": "2023-04-26T17:35:41.784Z"
   },
   {
    "duration": 0,
    "start_time": "2023-04-26T17:35:41.785Z"
   },
   {
    "duration": 0,
    "start_time": "2023-04-26T17:35:41.787Z"
   },
   {
    "duration": 0,
    "start_time": "2023-04-26T17:35:41.788Z"
   },
   {
    "duration": 0,
    "start_time": "2023-04-26T17:35:41.789Z"
   },
   {
    "duration": 0,
    "start_time": "2023-04-26T17:35:41.790Z"
   },
   {
    "duration": 0,
    "start_time": "2023-04-26T17:35:41.792Z"
   },
   {
    "duration": 0,
    "start_time": "2023-04-26T17:35:41.793Z"
   },
   {
    "duration": 0,
    "start_time": "2023-04-26T17:35:41.794Z"
   },
   {
    "duration": 0,
    "start_time": "2023-04-26T17:35:41.795Z"
   },
   {
    "duration": 0,
    "start_time": "2023-04-26T17:35:41.796Z"
   },
   {
    "duration": 0,
    "start_time": "2023-04-26T17:35:41.797Z"
   },
   {
    "duration": 0,
    "start_time": "2023-04-26T17:35:41.859Z"
   },
   {
    "duration": 0,
    "start_time": "2023-04-26T17:35:41.860Z"
   },
   {
    "duration": 0,
    "start_time": "2023-04-26T17:35:41.862Z"
   },
   {
    "duration": 0,
    "start_time": "2023-04-26T17:35:41.862Z"
   },
   {
    "duration": 1,
    "start_time": "2023-04-26T17:35:41.863Z"
   },
   {
    "duration": 0,
    "start_time": "2023-04-26T17:35:41.864Z"
   },
   {
    "duration": 0,
    "start_time": "2023-04-26T17:35:41.865Z"
   },
   {
    "duration": 0,
    "start_time": "2023-04-26T17:35:41.866Z"
   },
   {
    "duration": 0,
    "start_time": "2023-04-26T17:35:41.867Z"
   },
   {
    "duration": 0,
    "start_time": "2023-04-26T17:35:41.868Z"
   },
   {
    "duration": 0,
    "start_time": "2023-04-26T17:35:41.869Z"
   },
   {
    "duration": 0,
    "start_time": "2023-04-26T17:35:41.870Z"
   },
   {
    "duration": 0,
    "start_time": "2023-04-26T17:35:41.871Z"
   },
   {
    "duration": 0,
    "start_time": "2023-04-26T17:35:41.872Z"
   },
   {
    "duration": 0,
    "start_time": "2023-04-26T17:35:41.873Z"
   },
   {
    "duration": 0,
    "start_time": "2023-04-26T17:35:41.874Z"
   },
   {
    "duration": 0,
    "start_time": "2023-04-26T17:35:41.875Z"
   },
   {
    "duration": 0,
    "start_time": "2023-04-26T17:35:41.876Z"
   },
   {
    "duration": 0,
    "start_time": "2023-04-26T17:35:41.877Z"
   },
   {
    "duration": 0,
    "start_time": "2023-04-26T17:35:41.878Z"
   },
   {
    "duration": 0,
    "start_time": "2023-04-26T17:35:41.879Z"
   },
   {
    "duration": 0,
    "start_time": "2023-04-26T17:35:41.880Z"
   },
   {
    "duration": 0,
    "start_time": "2023-04-26T17:35:41.881Z"
   },
   {
    "duration": 0,
    "start_time": "2023-04-26T17:35:41.881Z"
   },
   {
    "duration": 625,
    "start_time": "2023-04-26T17:36:12.922Z"
   },
   {
    "duration": 97,
    "start_time": "2023-04-26T17:36:13.549Z"
   },
   {
    "duration": 31,
    "start_time": "2023-04-26T17:36:13.648Z"
   },
   {
    "duration": 35,
    "start_time": "2023-04-26T17:36:13.681Z"
   },
   {
    "duration": 19,
    "start_time": "2023-04-26T17:36:13.718Z"
   },
   {
    "duration": 2007,
    "start_time": "2023-04-26T17:36:13.738Z"
   },
   {
    "duration": 10,
    "start_time": "2023-04-26T17:36:15.746Z"
   },
   {
    "duration": 37,
    "start_time": "2023-04-26T17:36:15.758Z"
   },
   {
    "duration": 12,
    "start_time": "2023-04-26T17:36:15.797Z"
   },
   {
    "duration": 22,
    "start_time": "2023-04-26T17:36:15.812Z"
   },
   {
    "duration": 28,
    "start_time": "2023-04-26T17:36:15.860Z"
   },
   {
    "duration": 16,
    "start_time": "2023-04-26T17:36:15.890Z"
   },
   {
    "duration": 5,
    "start_time": "2023-04-26T17:36:15.908Z"
   },
   {
    "duration": 49,
    "start_time": "2023-04-26T17:36:15.915Z"
   },
   {
    "duration": 28,
    "start_time": "2023-04-26T17:36:15.966Z"
   },
   {
    "duration": 17,
    "start_time": "2023-04-26T17:36:15.997Z"
   },
   {
    "duration": 59,
    "start_time": "2023-04-26T17:36:16.016Z"
   },
   {
    "duration": 20,
    "start_time": "2023-04-26T17:36:16.076Z"
   },
   {
    "duration": 27,
    "start_time": "2023-04-26T17:36:16.097Z"
   },
   {
    "duration": 40,
    "start_time": "2023-04-26T17:36:16.126Z"
   },
   {
    "duration": 20,
    "start_time": "2023-04-26T17:36:16.167Z"
   },
   {
    "duration": 32,
    "start_time": "2023-04-26T17:36:16.188Z"
   },
   {
    "duration": 6,
    "start_time": "2023-04-26T17:36:16.222Z"
   },
   {
    "duration": 31,
    "start_time": "2023-04-26T17:36:16.230Z"
   },
   {
    "duration": 10,
    "start_time": "2023-04-26T17:36:16.263Z"
   },
   {
    "duration": 7,
    "start_time": "2023-04-26T17:36:16.275Z"
   },
   {
    "duration": 5,
    "start_time": "2023-04-26T17:36:16.284Z"
   },
   {
    "duration": 10,
    "start_time": "2023-04-26T17:36:16.293Z"
   },
   {
    "duration": 25,
    "start_time": "2023-04-26T17:36:16.304Z"
   },
   {
    "duration": 3,
    "start_time": "2023-04-26T17:36:16.330Z"
   },
   {
    "duration": 4,
    "start_time": "2023-04-26T17:36:16.359Z"
   },
   {
    "duration": 10,
    "start_time": "2023-04-26T17:36:16.364Z"
   },
   {
    "duration": 5,
    "start_time": "2023-04-26T17:36:16.376Z"
   },
   {
    "duration": 13,
    "start_time": "2023-04-26T17:36:16.382Z"
   },
   {
    "duration": 5,
    "start_time": "2023-04-26T17:36:16.396Z"
   },
   {
    "duration": 10,
    "start_time": "2023-04-26T17:36:16.403Z"
   },
   {
    "duration": 130,
    "start_time": "2023-04-26T17:36:16.414Z"
   },
   {
    "duration": 37,
    "start_time": "2023-04-26T17:36:16.546Z"
   },
   {
    "duration": 53,
    "start_time": "2023-04-26T17:36:16.584Z"
   },
   {
    "duration": 368,
    "start_time": "2023-04-26T17:36:16.639Z"
   },
   {
    "duration": 31,
    "start_time": "2023-04-26T17:36:17.008Z"
   },
   {
    "duration": 50,
    "start_time": "2023-04-26T17:36:17.041Z"
   },
   {
    "duration": 174,
    "start_time": "2023-04-26T17:36:17.093Z"
   },
   {
    "duration": 168,
    "start_time": "2023-04-26T17:36:17.269Z"
   },
   {
    "duration": 237,
    "start_time": "2023-04-26T17:36:17.438Z"
   },
   {
    "duration": 366,
    "start_time": "2023-04-26T17:36:17.676Z"
   },
   {
    "duration": 151,
    "start_time": "2023-04-26T17:36:18.044Z"
   },
   {
    "duration": 179,
    "start_time": "2023-04-26T17:36:18.197Z"
   },
   {
    "duration": 172,
    "start_time": "2023-04-26T17:36:18.378Z"
   },
   {
    "duration": 260,
    "start_time": "2023-04-26T17:36:18.552Z"
   },
   {
    "duration": 204,
    "start_time": "2023-04-26T17:36:18.814Z"
   },
   {
    "duration": 242,
    "start_time": "2023-04-26T17:36:19.019Z"
   },
   {
    "duration": 147,
    "start_time": "2023-04-26T17:36:19.262Z"
   },
   {
    "duration": 271,
    "start_time": "2023-04-26T17:36:19.411Z"
   },
   {
    "duration": 277,
    "start_time": "2023-04-26T17:36:19.685Z"
   },
   {
    "duration": 190,
    "start_time": "2023-04-26T17:36:19.964Z"
   },
   {
    "duration": 261,
    "start_time": "2023-04-26T17:36:20.159Z"
   },
   {
    "duration": 195,
    "start_time": "2023-04-26T17:36:20.421Z"
   },
   {
    "duration": 262,
    "start_time": "2023-04-26T17:36:20.618Z"
   },
   {
    "duration": 253,
    "start_time": "2023-04-26T17:36:20.882Z"
   },
   {
    "duration": 184,
    "start_time": "2023-04-26T17:36:21.136Z"
   },
   {
    "duration": 171,
    "start_time": "2023-04-26T17:36:21.322Z"
   },
   {
    "duration": 206,
    "start_time": "2023-04-26T17:36:21.495Z"
   },
   {
    "duration": 152,
    "start_time": "2023-04-26T17:36:21.703Z"
   },
   {
    "duration": 452,
    "start_time": "2023-04-26T17:36:21.860Z"
   },
   {
    "duration": 23,
    "start_time": "2023-04-26T17:36:22.314Z"
   },
   {
    "duration": 2,
    "start_time": "2023-04-26T17:36:22.339Z"
   },
   {
    "duration": 213,
    "start_time": "2023-04-26T17:36:22.342Z"
   }
  ],
  "kernelspec": {
   "display_name": "Python 3 (ipykernel)",
   "language": "python",
   "name": "python3"
  },
  "language_info": {
   "codemirror_mode": {
    "name": "ipython",
    "version": 3
   },
   "file_extension": ".py",
   "mimetype": "text/x-python",
   "name": "python",
   "nbconvert_exporter": "python",
   "pygments_lexer": "ipython3",
   "version": "3.9.5"
  },
  "toc": {
   "base_numbering": 1,
   "nav_menu": {},
   "number_sections": true,
   "sideBar": true,
   "skip_h1_title": true,
   "title_cell": "Table of Contents",
   "title_sidebar": "Contents",
   "toc_cell": false,
   "toc_position": {},
   "toc_section_display": true,
   "toc_window_display": false
  }
 },
 "nbformat": 4,
 "nbformat_minor": 2
}
